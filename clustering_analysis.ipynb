{
 "cells": [
  {
   "cell_type": "code",
   "execution_count": 1,
   "metadata": {
    "id": "Pvz7zRQfsPIC"
   },
   "outputs": [],
   "source": [
    "import pandas as pd\n",
    "import random\n",
    "import numpy as np\n",
    "\n",
    "import seaborn as sns\n",
    "\n",
    "from tqdm import tqdm"
   ]
  },
  {
   "cell_type": "code",
   "execution_count": 2,
   "metadata": {},
   "outputs": [],
   "source": [
    "pd.set_option('display.max_columns', None)"
   ]
  },
  {
   "cell_type": "markdown",
   "metadata": {
    "id": "ZTDh3QamsPI2"
   },
   "source": [
    "## Upload data\n",
    "### tickets data"
   ]
  },
  {
   "cell_type": "code",
   "execution_count": 3,
   "metadata": {
    "id": "KNRbC5IOsPI3"
   },
   "outputs": [],
   "source": [
    "df_tickets = pd.read_csv('data.nosync/cfdb.csv')\n",
    "df_tickets = df_tickets.iloc[:,1:]"
   ]
  },
  {
   "cell_type": "code",
   "execution_count": 4,
   "metadata": {
    "colab": {
     "base_uri": "https://localhost:8080/"
    },
    "id": "HFl4hHTzsPI8",
    "outputId": "60c92b9b-df25-45e5-bfc9-65b9efb732d9"
   },
   "outputs": [
    {
     "data": {
      "text/plain": [
       "(6848976, 7)"
      ]
     },
     "execution_count": 4,
     "metadata": {},
     "output_type": "execute_result"
    }
   ],
   "source": [
    "# Total tickets: 6.8M\n",
    "\n",
    "df_tickets.shape"
   ]
  },
  {
   "cell_type": "code",
   "execution_count": 5,
   "metadata": {
    "colab": {
     "base_uri": "https://localhost:8080/",
     "height": 1000
    },
    "id": "pAYXVgHmsPJI",
    "outputId": "9c2de6be-da9e-4c9c-d943-88c441397a15"
   },
   "outputs": [
    {
     "data": {
      "text/html": [
       "<div>\n",
       "<style scoped>\n",
       "    .dataframe tbody tr th:only-of-type {\n",
       "        vertical-align: middle;\n",
       "    }\n",
       "\n",
       "    .dataframe tbody tr th {\n",
       "        vertical-align: top;\n",
       "    }\n",
       "\n",
       "    .dataframe thead th {\n",
       "        text-align: right;\n",
       "    }\n",
       "</style>\n",
       "<table border=\"1\" class=\"dataframe\">\n",
       "  <thead>\n",
       "    <tr style=\"text-align: right;\">\n",
       "      <th></th>\n",
       "      <th>_id</th>\n",
       "      <th>mall</th>\n",
       "      <th>date</th>\n",
       "      <th>customer</th>\n",
       "      <th>desc</th>\n",
       "      <th>net_am</th>\n",
       "      <th>n_unit</th>\n",
       "    </tr>\n",
       "  </thead>\n",
       "  <tbody>\n",
       "    <tr>\n",
       "      <th>0</th>\n",
       "      <td>1001</td>\n",
       "      <td>2</td>\n",
       "      <td>2016-01-14T20:07:00.000+0000</td>\n",
       "      <td>77021708271</td>\n",
       "      <td>caramelos s/azucar</td>\n",
       "      <td>1.00</td>\n",
       "      <td>1</td>\n",
       "    </tr>\n",
       "    <tr>\n",
       "      <th>1</th>\n",
       "      <td>1002</td>\n",
       "      <td>1</td>\n",
       "      <td>2016-01-14T15:25:00.000+0000</td>\n",
       "      <td>77021708271</td>\n",
       "      <td>tosta variada</td>\n",
       "      <td>3.00</td>\n",
       "      <td>1</td>\n",
       "    </tr>\n",
       "    <tr>\n",
       "      <th>2</th>\n",
       "      <td>1002</td>\n",
       "      <td>1</td>\n",
       "      <td>2016-01-14T15:25:00.000+0000</td>\n",
       "      <td>77021708271</td>\n",
       "      <td>baguette tortilla</td>\n",
       "      <td>1.00</td>\n",
       "      <td>1</td>\n",
       "    </tr>\n",
       "    <tr>\n",
       "      <th>3</th>\n",
       "      <td>1003</td>\n",
       "      <td>2</td>\n",
       "      <td>2016-01-14T20:07:00.000+0000</td>\n",
       "      <td>77021708271</td>\n",
       "      <td>queso tierno mezcl</td>\n",
       "      <td>2.83</td>\n",
       "      <td>1</td>\n",
       "    </tr>\n",
       "    <tr>\n",
       "      <th>4</th>\n",
       "      <td>1003</td>\n",
       "      <td>2</td>\n",
       "      <td>2016-01-14T20:07:00.000+0000</td>\n",
       "      <td>77021708271</td>\n",
       "      <td>guisantes muy fino</td>\n",
       "      <td>1.65</td>\n",
       "      <td>1</td>\n",
       "    </tr>\n",
       "    <tr>\n",
       "      <th>5</th>\n",
       "      <td>1003</td>\n",
       "      <td>2</td>\n",
       "      <td>2016-01-14T20:07:00.000+0000</td>\n",
       "      <td>77021708271</td>\n",
       "      <td>bifidus con frutas</td>\n",
       "      <td>1.77</td>\n",
       "      <td>1</td>\n",
       "    </tr>\n",
       "    <tr>\n",
       "      <th>6</th>\n",
       "      <td>1003</td>\n",
       "      <td>2</td>\n",
       "      <td>2016-01-14T20:07:00.000+0000</td>\n",
       "      <td>77021708271</td>\n",
       "      <td>maiz dulce pack3x140</td>\n",
       "      <td>1.16</td>\n",
       "      <td>1</td>\n",
       "    </tr>\n",
       "    <tr>\n",
       "      <th>7</th>\n",
       "      <td>1003</td>\n",
       "      <td>2</td>\n",
       "      <td>2016-01-14T20:07:00.000+0000</td>\n",
       "      <td>77021708271</td>\n",
       "      <td>sanus fresa l. casei</td>\n",
       "      <td>2.50</td>\n",
       "      <td>1</td>\n",
       "    </tr>\n",
       "    <tr>\n",
       "      <th>8</th>\n",
       "      <td>1003</td>\n",
       "      <td>2</td>\n",
       "      <td>2016-01-14T20:07:00.000+0000</td>\n",
       "      <td>77021708271</td>\n",
       "      <td>fanta limon s/burb</td>\n",
       "      <td>1.00</td>\n",
       "      <td>1</td>\n",
       "    </tr>\n",
       "    <tr>\n",
       "      <th>9</th>\n",
       "      <td>1003</td>\n",
       "      <td>2</td>\n",
       "      <td>2016-01-14T20:07:00.000+0000</td>\n",
       "      <td>77021708271</td>\n",
       "      <td>cereales estrellitas</td>\n",
       "      <td>1.85</td>\n",
       "      <td>1</td>\n",
       "    </tr>\n",
       "    <tr>\n",
       "      <th>10</th>\n",
       "      <td>1003</td>\n",
       "      <td>2</td>\n",
       "      <td>2016-01-14T20:07:00.000+0000</td>\n",
       "      <td>77021708271</td>\n",
       "      <td>salvaslip evax</td>\n",
       "      <td>2.15</td>\n",
       "      <td>1</td>\n",
       "    </tr>\n",
       "    <tr>\n",
       "      <th>11</th>\n",
       "      <td>1003</td>\n",
       "      <td>2</td>\n",
       "      <td>2016-01-14T20:07:00.000+0000</td>\n",
       "      <td>77021708271</td>\n",
       "      <td>yogur natural dano</td>\n",
       "      <td>1.09</td>\n",
       "      <td>1</td>\n",
       "    </tr>\n",
       "    <tr>\n",
       "      <th>12</th>\n",
       "      <td>1003</td>\n",
       "      <td>2</td>\n",
       "      <td>2016-01-14T20:07:00.000+0000</td>\n",
       "      <td>77021708271</td>\n",
       "      <td>arroz largo sos 1 ki</td>\n",
       "      <td>1.15</td>\n",
       "      <td>1</td>\n",
       "    </tr>\n",
       "    <tr>\n",
       "      <th>13</th>\n",
       "      <td>1003</td>\n",
       "      <td>2</td>\n",
       "      <td>2016-01-14T20:07:00.000+0000</td>\n",
       "      <td>77021708271</td>\n",
       "      <td>york sandwich elpo</td>\n",
       "      <td>1.50</td>\n",
       "      <td>1</td>\n",
       "    </tr>\n",
       "    <tr>\n",
       "      <th>14</th>\n",
       "      <td>1003</td>\n",
       "      <td>2</td>\n",
       "      <td>2016-01-14T20:07:00.000+0000</td>\n",
       "      <td>77021708271</td>\n",
       "      <td>barquillo nata covy</td>\n",
       "      <td>0.75</td>\n",
       "      <td>1</td>\n",
       "    </tr>\n",
       "    <tr>\n",
       "      <th>15</th>\n",
       "      <td>1003</td>\n",
       "      <td>2</td>\n",
       "      <td>2016-01-14T20:07:00.000+0000</td>\n",
       "      <td>77021708271</td>\n",
       "      <td>trina limon 1,5litro</td>\n",
       "      <td>1.39</td>\n",
       "      <td>1</td>\n",
       "    </tr>\n",
       "    <tr>\n",
       "      <th>16</th>\n",
       "      <td>1003</td>\n",
       "      <td>2</td>\n",
       "      <td>2016-01-14T20:07:00.000+0000</td>\n",
       "      <td>77021708271</td>\n",
       "      <td>chorizo dulce carr</td>\n",
       "      <td>1.85</td>\n",
       "      <td>1</td>\n",
       "    </tr>\n",
       "    <tr>\n",
       "      <th>17</th>\n",
       "      <td>1003</td>\n",
       "      <td>2</td>\n",
       "      <td>2016-01-14T20:07:00.000+0000</td>\n",
       "      <td>77021708271</td>\n",
       "      <td>pimiento piquillo</td>\n",
       "      <td>1.00</td>\n",
       "      <td>1</td>\n",
       "    </tr>\n",
       "    <tr>\n",
       "      <th>18</th>\n",
       "      <td>1003</td>\n",
       "      <td>2</td>\n",
       "      <td>2016-01-14T20:07:00.000+0000</td>\n",
       "      <td>77021708271</td>\n",
       "      <td>cerveza holandesa</td>\n",
       "      <td>6.00</td>\n",
       "      <td>24</td>\n",
       "    </tr>\n",
       "    <tr>\n",
       "      <th>19</th>\n",
       "      <td>1003</td>\n",
       "      <td>2</td>\n",
       "      <td>2016-01-14T20:07:00.000+0000</td>\n",
       "      <td>77021708271</td>\n",
       "      <td>pechuga pavo lonch</td>\n",
       "      <td>1.34</td>\n",
       "      <td>1</td>\n",
       "    </tr>\n",
       "    <tr>\n",
       "      <th>20</th>\n",
       "      <td>1003</td>\n",
       "      <td>2</td>\n",
       "      <td>2016-01-14T20:07:00.000+0000</td>\n",
       "      <td>77021708271</td>\n",
       "      <td>agua carrefour 2 l</td>\n",
       "      <td>1.52</td>\n",
       "      <td>6</td>\n",
       "    </tr>\n",
       "    <tr>\n",
       "      <th>21</th>\n",
       "      <td>1003</td>\n",
       "      <td>2</td>\n",
       "      <td>2016-01-14T20:07:00.000+0000</td>\n",
       "      <td>77021708271</td>\n",
       "      <td>fiambre jamon pavo</td>\n",
       "      <td>1.69</td>\n",
       "      <td>1</td>\n",
       "    </tr>\n",
       "    <tr>\n",
       "      <th>22</th>\n",
       "      <td>1003</td>\n",
       "      <td>2</td>\n",
       "      <td>2016-01-14T20:07:00.000+0000</td>\n",
       "      <td>77021708271</td>\n",
       "      <td>bifidus coco 0%</td>\n",
       "      <td>0.66</td>\n",
       "      <td>1</td>\n",
       "    </tr>\n",
       "    <tr>\n",
       "      <th>23</th>\n",
       "      <td>1003</td>\n",
       "      <td>2</td>\n",
       "      <td>2016-01-14T20:07:00.000+0000</td>\n",
       "      <td>77021708271</td>\n",
       "      <td>duplo colgate trip</td>\n",
       "      <td>2.74</td>\n",
       "      <td>1</td>\n",
       "    </tr>\n",
       "    <tr>\n",
       "      <th>24</th>\n",
       "      <td>1004</td>\n",
       "      <td>2</td>\n",
       "      <td>2016-01-14T16:25:00.000+0000</td>\n",
       "      <td>77021708271</td>\n",
       "      <td>agua solan cabras</td>\n",
       "      <td>0.64</td>\n",
       "      <td>1</td>\n",
       "    </tr>\n",
       "    <tr>\n",
       "      <th>25</th>\n",
       "      <td>1005</td>\n",
       "      <td>1</td>\n",
       "      <td>2016-01-14T14:25:00.000+0000</td>\n",
       "      <td>77021708271</td>\n",
       "      <td>paquete 500 hojas a4</td>\n",
       "      <td>3.90</td>\n",
       "      <td>1</td>\n",
       "    </tr>\n",
       "    <tr>\n",
       "      <th>26</th>\n",
       "      <td>1005</td>\n",
       "      <td>1</td>\n",
       "      <td>2016-01-14T14:25:00.000+0000</td>\n",
       "      <td>77021708271</td>\n",
       "      <td>legging nina 3/14</td>\n",
       "      <td>4.99</td>\n",
       "      <td>1</td>\n",
       "    </tr>\n",
       "    <tr>\n",
       "      <th>27</th>\n",
       "      <td>1005</td>\n",
       "      <td>1</td>\n",
       "      <td>2016-01-14T14:25:00.000+0000</td>\n",
       "      <td>77021708271</td>\n",
       "      <td>jersey unisex 3/14</td>\n",
       "      <td>9.99</td>\n",
       "      <td>1</td>\n",
       "    </tr>\n",
       "    <tr>\n",
       "      <th>28</th>\n",
       "      <td>1005</td>\n",
       "      <td>1</td>\n",
       "      <td>2016-01-14T14:25:00.000+0000</td>\n",
       "      <td>77021708271</td>\n",
       "      <td>huesitos leche 12</td>\n",
       "      <td>4.60</td>\n",
       "      <td>3</td>\n",
       "    </tr>\n",
       "    <tr>\n",
       "      <th>29</th>\n",
       "      <td>1005</td>\n",
       "      <td>1</td>\n",
       "      <td>2016-01-14T14:25:00.000+0000</td>\n",
       "      <td>77021708271</td>\n",
       "      <td>mini fuet campofrio</td>\n",
       "      <td>2.65</td>\n",
       "      <td>1</td>\n",
       "    </tr>\n",
       "    <tr>\n",
       "      <th>30</th>\n",
       "      <td>1005</td>\n",
       "      <td>1</td>\n",
       "      <td>2016-01-14T14:25:00.000+0000</td>\n",
       "      <td>77021708271</td>\n",
       "      <td>regana aceite oliv</td>\n",
       "      <td>2.78</td>\n",
       "      <td>2</td>\n",
       "    </tr>\n",
       "    <tr>\n",
       "      <th>31</th>\n",
       "      <td>1005</td>\n",
       "      <td>1</td>\n",
       "      <td>2016-01-14T14:25:00.000+0000</td>\n",
       "      <td>77021708271</td>\n",
       "      <td>mega maki</td>\n",
       "      <td>15.95</td>\n",
       "      <td>1</td>\n",
       "    </tr>\n",
       "    <tr>\n",
       "      <th>32</th>\n",
       "      <td>1006</td>\n",
       "      <td>2</td>\n",
       "      <td>2016-01-14T12:25:00.000+0000</td>\n",
       "      <td>77021708271</td>\n",
       "      <td>bolsa rafia carrefou</td>\n",
       "      <td>0.60</td>\n",
       "      <td>1</td>\n",
       "    </tr>\n",
       "    <tr>\n",
       "      <th>33</th>\n",
       "      <td>1006</td>\n",
       "      <td>2</td>\n",
       "      <td>2016-01-14T12:25:00.000+0000</td>\n",
       "      <td>77021708271</td>\n",
       "      <td>libro d infantil</td>\n",
       "      <td>59.25</td>\n",
       "      <td>15</td>\n",
       "    </tr>\n",
       "    <tr>\n",
       "      <th>34</th>\n",
       "      <td>1007</td>\n",
       "      <td>1</td>\n",
       "      <td>2016-01-14T23:07:00.000+0000</td>\n",
       "      <td>77021708271</td>\n",
       "      <td>jamonero columna</td>\n",
       "      <td>9.99</td>\n",
       "      <td>1</td>\n",
       "    </tr>\n",
       "    <tr>\n",
       "      <th>35</th>\n",
       "      <td>1008</td>\n",
       "      <td>1</td>\n",
       "      <td>2016-01-14T12:24:00.000+0000</td>\n",
       "      <td>77021708271</td>\n",
       "      <td>antiarrugas hydrea</td>\n",
       "      <td>12.75</td>\n",
       "      <td>1</td>\n",
       "    </tr>\n",
       "    <tr>\n",
       "      <th>36</th>\n",
       "      <td>1009</td>\n",
       "      <td>2</td>\n",
       "      <td>2016-01-14T22:06:00.000+0000</td>\n",
       "      <td>77021708271</td>\n",
       "      <td>chuleta lomo extrati</td>\n",
       "      <td>2.65</td>\n",
       "      <td>1</td>\n",
       "    </tr>\n",
       "    <tr>\n",
       "      <th>37</th>\n",
       "      <td>1009</td>\n",
       "      <td>2</td>\n",
       "      <td>2016-01-14T22:06:00.000+0000</td>\n",
       "      <td>77021708271</td>\n",
       "      <td>desodorante heno</td>\n",
       "      <td>5.40</td>\n",
       "      <td>2</td>\n",
       "    </tr>\n",
       "    <tr>\n",
       "      <th>38</th>\n",
       "      <td>1009</td>\n",
       "      <td>2</td>\n",
       "      <td>2016-01-14T22:06:00.000+0000</td>\n",
       "      <td>77021708271</td>\n",
       "      <td>7 ajax estropajo jab</td>\n",
       "      <td>1.50</td>\n",
       "      <td>1</td>\n",
       "    </tr>\n",
       "    <tr>\n",
       "      <th>39</th>\n",
       "      <td>1009</td>\n",
       "      <td>2</td>\n",
       "      <td>2016-01-14T22:06:00.000+0000</td>\n",
       "      <td>77021708271</td>\n",
       "      <td>locion corporal</td>\n",
       "      <td>0.00</td>\n",
       "      <td>1</td>\n",
       "    </tr>\n",
       "    <tr>\n",
       "      <th>40</th>\n",
       "      <td>1009</td>\n",
       "      <td>2</td>\n",
       "      <td>2016-01-14T22:06:00.000+0000</td>\n",
       "      <td>77021708271</td>\n",
       "      <td>locion intensiva</td>\n",
       "      <td>7.40</td>\n",
       "      <td>2</td>\n",
       "    </tr>\n",
       "    <tr>\n",
       "      <th>41</th>\n",
       "      <td>1010</td>\n",
       "      <td>1</td>\n",
       "      <td>2016-01-14T22:06:00.000+0000</td>\n",
       "      <td>77051306567</td>\n",
       "      <td>salsa pesto genove</td>\n",
       "      <td>2.70</td>\n",
       "      <td>1</td>\n",
       "    </tr>\n",
       "    <tr>\n",
       "      <th>42</th>\n",
       "      <td>1010</td>\n",
       "      <td>1</td>\n",
       "      <td>2016-01-14T22:06:00.000+0000</td>\n",
       "      <td>77051306567</td>\n",
       "      <td>tomate pera</td>\n",
       "      <td>0.62</td>\n",
       "      <td>1</td>\n",
       "    </tr>\n",
       "    <tr>\n",
       "      <th>43</th>\n",
       "      <td>1010</td>\n",
       "      <td>1</td>\n",
       "      <td>2016-01-14T22:06:00.000+0000</td>\n",
       "      <td>77051306567</td>\n",
       "      <td>manzana golden</td>\n",
       "      <td>1.27</td>\n",
       "      <td>1</td>\n",
       "    </tr>\n",
       "    <tr>\n",
       "      <th>44</th>\n",
       "      <td>1010</td>\n",
       "      <td>1</td>\n",
       "      <td>2016-01-14T22:06:00.000+0000</td>\n",
       "      <td>77051306567</td>\n",
       "      <td>limon</td>\n",
       "      <td>1.40</td>\n",
       "      <td>1</td>\n",
       "    </tr>\n",
       "    <tr>\n",
       "      <th>45</th>\n",
       "      <td>1010</td>\n",
       "      <td>1</td>\n",
       "      <td>2016-01-14T22:06:00.000+0000</td>\n",
       "      <td>77051306567</td>\n",
       "      <td>calabaza sepallo</td>\n",
       "      <td>1.69</td>\n",
       "      <td>1</td>\n",
       "    </tr>\n",
       "    <tr>\n",
       "      <th>46</th>\n",
       "      <td>1010</td>\n",
       "      <td>1</td>\n",
       "      <td>2016-01-14T22:06:00.000+0000</td>\n",
       "      <td>77051306567</td>\n",
       "      <td>jamon cocido s/fos</td>\n",
       "      <td>2.60</td>\n",
       "      <td>1</td>\n",
       "    </tr>\n",
       "    <tr>\n",
       "      <th>47</th>\n",
       "      <td>1010</td>\n",
       "      <td>1</td>\n",
       "      <td>2016-01-14T22:06:00.000+0000</td>\n",
       "      <td>77051306567</td>\n",
       "      <td>lomo salmon</td>\n",
       "      <td>4.77</td>\n",
       "      <td>1</td>\n",
       "    </tr>\n",
       "    <tr>\n",
       "      <th>48</th>\n",
       "      <td>1010</td>\n",
       "      <td>1</td>\n",
       "      <td>2016-01-14T22:06:00.000+0000</td>\n",
       "      <td>77051306567</td>\n",
       "      <td>pechuga entera corra</td>\n",
       "      <td>4.38</td>\n",
       "      <td>1</td>\n",
       "    </tr>\n",
       "    <tr>\n",
       "      <th>49</th>\n",
       "      <td>1010</td>\n",
       "      <td>1</td>\n",
       "      <td>2016-01-14T22:06:00.000+0000</td>\n",
       "      <td>77051306567</td>\n",
       "      <td>masa brisa la coci</td>\n",
       "      <td>1.85</td>\n",
       "      <td>1</td>\n",
       "    </tr>\n",
       "  </tbody>\n",
       "</table>\n",
       "</div>"
      ],
      "text/plain": [
       "     _id  mall                          date     customer  \\\n",
       "0   1001     2  2016-01-14T20:07:00.000+0000  77021708271   \n",
       "1   1002     1  2016-01-14T15:25:00.000+0000  77021708271   \n",
       "2   1002     1  2016-01-14T15:25:00.000+0000  77021708271   \n",
       "3   1003     2  2016-01-14T20:07:00.000+0000  77021708271   \n",
       "4   1003     2  2016-01-14T20:07:00.000+0000  77021708271   \n",
       "5   1003     2  2016-01-14T20:07:00.000+0000  77021708271   \n",
       "6   1003     2  2016-01-14T20:07:00.000+0000  77021708271   \n",
       "7   1003     2  2016-01-14T20:07:00.000+0000  77021708271   \n",
       "8   1003     2  2016-01-14T20:07:00.000+0000  77021708271   \n",
       "9   1003     2  2016-01-14T20:07:00.000+0000  77021708271   \n",
       "10  1003     2  2016-01-14T20:07:00.000+0000  77021708271   \n",
       "11  1003     2  2016-01-14T20:07:00.000+0000  77021708271   \n",
       "12  1003     2  2016-01-14T20:07:00.000+0000  77021708271   \n",
       "13  1003     2  2016-01-14T20:07:00.000+0000  77021708271   \n",
       "14  1003     2  2016-01-14T20:07:00.000+0000  77021708271   \n",
       "15  1003     2  2016-01-14T20:07:00.000+0000  77021708271   \n",
       "16  1003     2  2016-01-14T20:07:00.000+0000  77021708271   \n",
       "17  1003     2  2016-01-14T20:07:00.000+0000  77021708271   \n",
       "18  1003     2  2016-01-14T20:07:00.000+0000  77021708271   \n",
       "19  1003     2  2016-01-14T20:07:00.000+0000  77021708271   \n",
       "20  1003     2  2016-01-14T20:07:00.000+0000  77021708271   \n",
       "21  1003     2  2016-01-14T20:07:00.000+0000  77021708271   \n",
       "22  1003     2  2016-01-14T20:07:00.000+0000  77021708271   \n",
       "23  1003     2  2016-01-14T20:07:00.000+0000  77021708271   \n",
       "24  1004     2  2016-01-14T16:25:00.000+0000  77021708271   \n",
       "25  1005     1  2016-01-14T14:25:00.000+0000  77021708271   \n",
       "26  1005     1  2016-01-14T14:25:00.000+0000  77021708271   \n",
       "27  1005     1  2016-01-14T14:25:00.000+0000  77021708271   \n",
       "28  1005     1  2016-01-14T14:25:00.000+0000  77021708271   \n",
       "29  1005     1  2016-01-14T14:25:00.000+0000  77021708271   \n",
       "30  1005     1  2016-01-14T14:25:00.000+0000  77021708271   \n",
       "31  1005     1  2016-01-14T14:25:00.000+0000  77021708271   \n",
       "32  1006     2  2016-01-14T12:25:00.000+0000  77021708271   \n",
       "33  1006     2  2016-01-14T12:25:00.000+0000  77021708271   \n",
       "34  1007     1  2016-01-14T23:07:00.000+0000  77021708271   \n",
       "35  1008     1  2016-01-14T12:24:00.000+0000  77021708271   \n",
       "36  1009     2  2016-01-14T22:06:00.000+0000  77021708271   \n",
       "37  1009     2  2016-01-14T22:06:00.000+0000  77021708271   \n",
       "38  1009     2  2016-01-14T22:06:00.000+0000  77021708271   \n",
       "39  1009     2  2016-01-14T22:06:00.000+0000  77021708271   \n",
       "40  1009     2  2016-01-14T22:06:00.000+0000  77021708271   \n",
       "41  1010     1  2016-01-14T22:06:00.000+0000  77051306567   \n",
       "42  1010     1  2016-01-14T22:06:00.000+0000  77051306567   \n",
       "43  1010     1  2016-01-14T22:06:00.000+0000  77051306567   \n",
       "44  1010     1  2016-01-14T22:06:00.000+0000  77051306567   \n",
       "45  1010     1  2016-01-14T22:06:00.000+0000  77051306567   \n",
       "46  1010     1  2016-01-14T22:06:00.000+0000  77051306567   \n",
       "47  1010     1  2016-01-14T22:06:00.000+0000  77051306567   \n",
       "48  1010     1  2016-01-14T22:06:00.000+0000  77051306567   \n",
       "49  1010     1  2016-01-14T22:06:00.000+0000  77051306567   \n",
       "\n",
       "                    desc  net_am  n_unit  \n",
       "0     caramelos s/azucar    1.00       1  \n",
       "1          tosta variada    3.00       1  \n",
       "2      baguette tortilla    1.00       1  \n",
       "3     queso tierno mezcl    2.83       1  \n",
       "4     guisantes muy fino    1.65       1  \n",
       "5     bifidus con frutas    1.77       1  \n",
       "6   maiz dulce pack3x140    1.16       1  \n",
       "7   sanus fresa l. casei    2.50       1  \n",
       "8     fanta limon s/burb    1.00       1  \n",
       "9   cereales estrellitas    1.85       1  \n",
       "10        salvaslip evax    2.15       1  \n",
       "11    yogur natural dano    1.09       1  \n",
       "12  arroz largo sos 1 ki    1.15       1  \n",
       "13    york sandwich elpo    1.50       1  \n",
       "14   barquillo nata covy    0.75       1  \n",
       "15  trina limon 1,5litro    1.39       1  \n",
       "16    chorizo dulce carr    1.85       1  \n",
       "17     pimiento piquillo    1.00       1  \n",
       "18     cerveza holandesa    6.00      24  \n",
       "19    pechuga pavo lonch    1.34       1  \n",
       "20    agua carrefour 2 l    1.52       6  \n",
       "21    fiambre jamon pavo    1.69       1  \n",
       "22       bifidus coco 0%    0.66       1  \n",
       "23    duplo colgate trip    2.74       1  \n",
       "24     agua solan cabras    0.64       1  \n",
       "25  paquete 500 hojas a4    3.90       1  \n",
       "26     legging nina 3/14    4.99       1  \n",
       "27    jersey unisex 3/14    9.99       1  \n",
       "28     huesitos leche 12    4.60       3  \n",
       "29   mini fuet campofrio    2.65       1  \n",
       "30    regana aceite oliv    2.78       2  \n",
       "31             mega maki   15.95       1  \n",
       "32  bolsa rafia carrefou    0.60       1  \n",
       "33      libro d infantil   59.25      15  \n",
       "34      jamonero columna    9.99       1  \n",
       "35    antiarrugas hydrea   12.75       1  \n",
       "36  chuleta lomo extrati    2.65       1  \n",
       "37      desodorante heno    5.40       2  \n",
       "38  7 ajax estropajo jab    1.50       1  \n",
       "39       locion corporal    0.00       1  \n",
       "40      locion intensiva    7.40       2  \n",
       "41    salsa pesto genove    2.70       1  \n",
       "42           tomate pera    0.62       1  \n",
       "43        manzana golden    1.27       1  \n",
       "44                 limon    1.40       1  \n",
       "45      calabaza sepallo    1.69       1  \n",
       "46    jamon cocido s/fos    2.60       1  \n",
       "47           lomo salmon    4.77       1  \n",
       "48  pechuga entera corra    4.38       1  \n",
       "49    masa brisa la coci    1.85       1  "
      ]
     },
     "execution_count": 5,
     "metadata": {},
     "output_type": "execute_result"
    }
   ],
   "source": [
    "df_tickets.head(50)"
   ]
  },
  {
   "cell_type": "code",
   "execution_count": 6,
   "metadata": {},
   "outputs": [
    {
     "data": {
      "text/plain": [
       "66058"
      ]
     },
     "execution_count": 6,
     "metadata": {},
     "output_type": "execute_result"
    }
   ],
   "source": [
    "# Total unique customers: 66K\n",
    "\n",
    "len(df_tickets['customer'].unique())"
   ]
  },
  {
   "cell_type": "code",
   "execution_count": 7,
   "metadata": {},
   "outputs": [
    {
     "data": {
      "text/plain": [
       "53403"
      ]
     },
     "execution_count": 7,
     "metadata": {},
     "output_type": "execute_result"
    }
   ],
   "source": [
    "# Total unique products: 51K\n",
    "\n",
    "len(df_tickets['desc'].unique())"
   ]
  },
  {
   "cell_type": "markdown",
   "metadata": {
    "id": "CqBt1q2-sPKf"
   },
   "source": [
    "### IMPORTANT: \n",
    "1M rows have no customer associated with it \n",
    "\n",
    "\n",
    "Other missing values that are not actually missing?"
   ]
  },
  {
   "cell_type": "code",
   "execution_count": 8,
   "metadata": {},
   "outputs": [
    {
     "data": {
      "text/plain": [
       "_id         0\n",
       "mall        0\n",
       "date        0\n",
       "customer    0\n",
       "desc        0\n",
       "net_am      0\n",
       "n_unit      0\n",
       "dtype: int64"
      ]
     },
     "execution_count": 8,
     "metadata": {},
     "output_type": "execute_result"
    }
   ],
   "source": [
    "df_tickets.isnull().apply(lambda x: sum(x), axis=0)"
   ]
  },
  {
   "cell_type": "code",
   "execution_count": 9,
   "metadata": {
    "colab": {
     "base_uri": "https://localhost:8080/"
    },
    "id": "ITEaNm16sPKf",
    "outputId": "a1049f0a-9d20-491c-88b9-1a5cb1872a89"
   },
   "outputs": [
    {
     "data": {
      "text/plain": [
       "(1047818, 7)"
      ]
     },
     "execution_count": 9,
     "metadata": {},
     "output_type": "execute_result"
    }
   ],
   "source": [
    "# There are no missing values, but some customers have value 'Unknown'\n",
    "\n",
    "df_tickets[df_tickets['customer']=='Unknown'].shape"
   ]
  },
  {
   "cell_type": "code",
   "execution_count": 10,
   "metadata": {
    "id": "2wptW5f1KbQg"
   },
   "outputs": [],
   "source": [
    "# Clean dataset from 'Unknown' customer ID\n",
    "\n",
    "df_tickets = df_tickets[df_tickets['customer'] !='Unknown']"
   ]
  },
  {
   "cell_type": "code",
   "execution_count": 11,
   "metadata": {
    "colab": {
     "base_uri": "https://localhost:8080/"
    },
    "id": "dslUKJ3FKeCf",
    "outputId": "4ad05037-d7ab-428d-ffd7-b548407480e3"
   },
   "outputs": [
    {
     "data": {
      "text/plain": [
       "(5801158, 7)"
      ]
     },
     "execution_count": 11,
     "metadata": {},
     "output_type": "execute_result"
    }
   ],
   "source": [
    "df_tickets.shape"
   ]
  },
  {
   "cell_type": "markdown",
   "metadata": {
    "id": "xId7rWE1Ko4w"
   },
   "source": [
    "### Low/High prices data\n",
    "\n",
    "This dataset constains the result of the scraping process on carrefour.es website.\n",
    "\n",
    "\n",
    "Furthermore, the prices have been manipulated in order to compute, for each category defined by the path, a distribution of the prices. \n",
    "Therefore, the products whose prices falls in the top 80% for each category as labelled as high, while the products that fall in the bottom 20% are labelled as low."
   ]
  },
  {
   "cell_type": "code",
   "execution_count": 12,
   "metadata": {
    "id": "NEGSY-U7KmH3"
   },
   "outputs": [],
   "source": [
    "df_premium = pd.read_csv('data.nosync/premium_price_products_percentiles.csv')\n",
    "df_premium = df_premium.iloc[:,1:]"
   ]
  },
  {
   "cell_type": "code",
   "execution_count": 13,
   "metadata": {
    "colab": {
     "base_uri": "https://localhost:8080/"
    },
    "id": "OxdP3C7YKmgb",
    "outputId": "80703fed-8a40-4147-a4ca-b003694704f5"
   },
   "outputs": [
    {
     "data": {
      "text/plain": [
       "(30979, 6)"
      ]
     },
     "execution_count": 13,
     "metadata": {},
     "output_type": "execute_result"
    }
   ],
   "source": [
    "# We scraped almost 31K products out of 51K total.\n",
    "# The products that are scraped are in the categories that we deemed as most interesting.\n",
    "\n",
    "df_premium.shape"
   ]
  },
  {
   "cell_type": "code",
   "execution_count": 14,
   "metadata": {
    "colab": {
     "base_uri": "https://localhost:8080/"
    },
    "id": "sj7pc0snLjZn",
    "outputId": "eba4954c-0eb5-4506-bc03-75818f57d332"
   },
   "outputs": [
    {
     "data": {
      "text/plain": [
       "ProductName                    object\n",
       "FullPath                       object\n",
       "BuyboxPricedf_cost_product    float64\n",
       "premium                        object\n",
       "low                             int64\n",
       "high                            int64\n",
       "dtype: object"
      ]
     },
     "execution_count": 14,
     "metadata": {},
     "output_type": "execute_result"
    }
   ],
   "source": [
    "df_premium.dtypes"
   ]
  },
  {
   "cell_type": "code",
   "execution_count": 15,
   "metadata": {},
   "outputs": [
    {
     "data": {
      "text/plain": [
       "ProductName                       0\n",
       "FullPath                          0\n",
       "BuyboxPricedf_cost_product        0\n",
       "premium                       17043\n",
       "low                               0\n",
       "high                              0\n",
       "dtype: int64"
      ]
     },
     "execution_count": 15,
     "metadata": {},
     "output_type": "execute_result"
    }
   ],
   "source": [
    "# The column premium has missing values for all the products whose price is neither high nor low.\n",
    "\n",
    "df_premium.isnull().apply(lambda x: sum(x), axis=0)"
   ]
  },
  {
   "cell_type": "code",
   "execution_count": 16,
   "metadata": {
    "colab": {
     "base_uri": "https://localhost:8080/",
     "height": 289
    },
    "id": "QkRpTgFgLjnb",
    "outputId": "77fdf578-d1b4-4bcc-b787-7071e622a8f4"
   },
   "outputs": [
    {
     "data": {
      "text/html": [
       "<div>\n",
       "<style scoped>\n",
       "    .dataframe tbody tr th:only-of-type {\n",
       "        vertical-align: middle;\n",
       "    }\n",
       "\n",
       "    .dataframe tbody tr th {\n",
       "        vertical-align: top;\n",
       "    }\n",
       "\n",
       "    .dataframe thead th {\n",
       "        text-align: right;\n",
       "    }\n",
       "</style>\n",
       "<table border=\"1\" class=\"dataframe\">\n",
       "  <thead>\n",
       "    <tr style=\"text-align: right;\">\n",
       "      <th></th>\n",
       "      <th>ProductName</th>\n",
       "      <th>FullPath</th>\n",
       "      <th>BuyboxPricedf_cost_product</th>\n",
       "      <th>premium</th>\n",
       "      <th>low</th>\n",
       "      <th>high</th>\n",
       "    </tr>\n",
       "  </thead>\n",
       "  <tbody>\n",
       "    <tr>\n",
       "      <th>0</th>\n",
       "      <td>torreznos de cerdo carrefour 250 g</td>\n",
       "      <td>Inicio/Supermercado/El Mercado/Carnicería/Otra...</td>\n",
       "      <td>2.30</td>\n",
       "      <td>Low</td>\n",
       "      <td>1</td>\n",
       "      <td>0</td>\n",
       "    </tr>\n",
       "    <tr>\n",
       "      <th>1</th>\n",
       "      <td>magro de cerdo marinado adobado carrefour 500 g</td>\n",
       "      <td>Inicio/Supermercado/El Mercado/Carnicería/Otra...</td>\n",
       "      <td>3.50</td>\n",
       "      <td>NaN</td>\n",
       "      <td>0</td>\n",
       "      <td>0</td>\n",
       "    </tr>\n",
       "    <tr>\n",
       "      <th>2</th>\n",
       "      <td>filete de lomo de cerdo adobado extra 400 g aprox</td>\n",
       "      <td>Inicio/Supermercado/El Mercado/Carnicería/Otra...</td>\n",
       "      <td>3.90</td>\n",
       "      <td>NaN</td>\n",
       "      <td>0</td>\n",
       "      <td>0</td>\n",
       "    </tr>\n",
       "    <tr>\n",
       "      <th>3</th>\n",
       "      <td>chuletas mixtas de cordero 1 kg aprox</td>\n",
       "      <td>Inicio/Supermercado/El Mercado/Carnicería/Cordero</td>\n",
       "      <td>10.50</td>\n",
       "      <td>NaN</td>\n",
       "      <td>0</td>\n",
       "      <td>0</td>\n",
       "    </tr>\n",
       "    <tr>\n",
       "      <th>4</th>\n",
       "      <td>chuleta de sajonia 500 g aprox</td>\n",
       "      <td>Inicio/Supermercado/El Mercado/Carnicería/Otra...</td>\n",
       "      <td>4.62</td>\n",
       "      <td>High</td>\n",
       "      <td>0</td>\n",
       "      <td>1</td>\n",
       "    </tr>\n",
       "  </tbody>\n",
       "</table>\n",
       "</div>"
      ],
      "text/plain": [
       "                                         ProductName  \\\n",
       "0                 torreznos de cerdo carrefour 250 g   \n",
       "1    magro de cerdo marinado adobado carrefour 500 g   \n",
       "2  filete de lomo de cerdo adobado extra 400 g aprox   \n",
       "3              chuletas mixtas de cordero 1 kg aprox   \n",
       "4                     chuleta de sajonia 500 g aprox   \n",
       "\n",
       "                                            FullPath  \\\n",
       "0  Inicio/Supermercado/El Mercado/Carnicería/Otra...   \n",
       "1  Inicio/Supermercado/El Mercado/Carnicería/Otra...   \n",
       "2  Inicio/Supermercado/El Mercado/Carnicería/Otra...   \n",
       "3  Inicio/Supermercado/El Mercado/Carnicería/Cordero   \n",
       "4  Inicio/Supermercado/El Mercado/Carnicería/Otra...   \n",
       "\n",
       "   BuyboxPricedf_cost_product premium  low  high  \n",
       "0                        2.30     Low    1     0  \n",
       "1                        3.50     NaN    0     0  \n",
       "2                        3.90     NaN    0     0  \n",
       "3                       10.50     NaN    0     0  \n",
       "4                        4.62    High    0     1  "
      ]
     },
     "execution_count": 16,
     "metadata": {},
     "output_type": "execute_result"
    }
   ],
   "source": [
    "df_premium.head()"
   ]
  },
  {
   "cell_type": "code",
   "execution_count": 17,
   "metadata": {
    "id": "nNa1j-VmLj1O"
   },
   "outputs": [],
   "source": [
    "df_premium['ProductName'] = df_premium['ProductName'].str.normalize('NFKD').str.encode('ascii', errors='ignore').str.decode('utf-8')\n",
    "df_premium['ProductName'] = df_premium['ProductName'].str.lower()"
   ]
  },
  {
   "cell_type": "markdown",
   "metadata": {
    "id": "bvOa9QF9LuhY"
   },
   "source": [
    "### Name pairing data\n",
    "\n",
    "This dataset contain the pairing between the name of the products reported in the tickets and the name on the products scraped.\n",
    "\n",
    "In fact, the name of the products that are in the original Carrefour dataset are shorter and more synthetic that the name of the products as present on the website. Our goal is to use an algorithm to match the two names.\n",
    "\n",
    "To be complitely clear, the goal for our purposes is not to link perfectly the names in the description with the names scraped. What we want to be able to do is to make a linking good enough so that, even if the products is not linkedin to its exact correspondent from the scraping, it falls in the same category, as defined by the path.\n",
    "\n",
    "Using an example, if in the Carrefour dataset we have a product named 'chicken hamburger 200g', we will try to link it to the same exact product in the scraping file, even though maybe it has a slightly longer/different name, but our goal is really to classify the product as meat, possibly as chicken in particular as well.\n",
    "\n",
    "How was this matching tested? We used a random number generator to sample 100 matching and computed an accuracy score above 75% which we find good."
   ]
  },
  {
   "cell_type": "code",
   "execution_count": 18,
   "metadata": {
    "id": "DrBvWgUhLs3w"
   },
   "outputs": [],
   "source": [
    "df_pairing = pd.read_csv('data.nosync/name_pairing_exact.csv')\n",
    "df_pairing = df_pairing.iloc[:,1:]"
   ]
  },
  {
   "cell_type": "code",
   "execution_count": 19,
   "metadata": {
    "id": "2OhxyYhULq56"
   },
   "outputs": [],
   "source": [
    "df_pairing['name_scraped'] = df_pairing['name_scraped'].str.normalize('NFKD').str.encode('ascii', errors='ignore').str.decode('utf-8')\n",
    "df_pairing['name_scraped'] = df_pairing['name_scraped'].str.lower()"
   ]
  },
  {
   "cell_type": "code",
   "execution_count": 20,
   "metadata": {
    "colab": {
     "base_uri": "https://localhost:8080/"
    },
    "id": "rOYPIg9zLrcS",
    "outputId": "471a7ed9-2af9-42fe-a602-f4f29336c259"
   },
   "outputs": [
    {
     "data": {
      "text/plain": [
       "(53403, 5)"
      ]
     },
     "execution_count": 20,
     "metadata": {},
     "output_type": "execute_result"
    }
   ],
   "source": [
    "df_pairing.shape"
   ]
  },
  {
   "cell_type": "code",
   "execution_count": 21,
   "metadata": {
    "colab": {
     "base_uri": "https://localhost:8080/"
    },
    "id": "TZu9euajLkEL",
    "outputId": "2db2c06f-d3e9-4f42-f0cf-43cb97403c80"
   },
   "outputs": [
    {
     "data": {
      "text/plain": [
       "Unique_desc          object\n",
       "scraped               int64\n",
       "name_scraped         object\n",
       "path_scraped         object\n",
       "match_percentage    float64\n",
       "dtype: object"
      ]
     },
     "execution_count": 21,
     "metadata": {},
     "output_type": "execute_result"
    }
   ],
   "source": [
    "df_pairing.dtypes"
   ]
  },
  {
   "cell_type": "code",
   "execution_count": 22,
   "metadata": {},
   "outputs": [
    {
     "data": {
      "text/plain": [
       "Unique_desc             0\n",
       "scraped                 0\n",
       "name_scraped        15677\n",
       "path_scraped        15677\n",
       "match_percentage        0\n",
       "dtype: int64"
      ]
     },
     "execution_count": 22,
     "metadata": {},
     "output_type": "execute_result"
    }
   ],
   "source": [
    "df_pairing.isnull().apply(lambda x: sum(x), axis=0)"
   ]
  },
  {
   "cell_type": "code",
   "execution_count": 23,
   "metadata": {},
   "outputs": [
    {
     "data": {
      "text/html": [
       "<div>\n",
       "<style scoped>\n",
       "    .dataframe tbody tr th:only-of-type {\n",
       "        vertical-align: middle;\n",
       "    }\n",
       "\n",
       "    .dataframe tbody tr th {\n",
       "        vertical-align: top;\n",
       "    }\n",
       "\n",
       "    .dataframe thead th {\n",
       "        text-align: right;\n",
       "    }\n",
       "</style>\n",
       "<table border=\"1\" class=\"dataframe\">\n",
       "  <thead>\n",
       "    <tr style=\"text-align: right;\">\n",
       "      <th></th>\n",
       "      <th>Unique_desc</th>\n",
       "      <th>scraped</th>\n",
       "      <th>name_scraped</th>\n",
       "      <th>path_scraped</th>\n",
       "      <th>match_percentage</th>\n",
       "    </tr>\n",
       "  </thead>\n",
       "  <tbody>\n",
       "    <tr>\n",
       "      <th>26</th>\n",
       "      <td>legging nina 3/14</td>\n",
       "      <td>0</td>\n",
       "      <td>NaN</td>\n",
       "      <td>NaN</td>\n",
       "      <td>0.0</td>\n",
       "    </tr>\n",
       "    <tr>\n",
       "      <th>27</th>\n",
       "      <td>jersey unisex 3/14</td>\n",
       "      <td>0</td>\n",
       "      <td>NaN</td>\n",
       "      <td>NaN</td>\n",
       "      <td>0.0</td>\n",
       "    </tr>\n",
       "    <tr>\n",
       "      <th>55</th>\n",
       "      <td>ristorante formaggi</td>\n",
       "      <td>0</td>\n",
       "      <td>NaN</td>\n",
       "      <td>NaN</td>\n",
       "      <td>0.0</td>\n",
       "    </tr>\n",
       "    <tr>\n",
       "      <th>77</th>\n",
       "      <td>vol au vent 6 und</td>\n",
       "      <td>0</td>\n",
       "      <td>NaN</td>\n",
       "      <td>NaN</td>\n",
       "      <td>0.0</td>\n",
       "    </tr>\n",
       "    <tr>\n",
       "      <th>88</th>\n",
       "      <td>cam mc strass wp</td>\n",
       "      <td>0</td>\n",
       "      <td>NaN</td>\n",
       "      <td>NaN</td>\n",
       "      <td>0.0</td>\n",
       "    </tr>\n",
       "    <tr>\n",
       "      <th>...</th>\n",
       "      <td>...</td>\n",
       "      <td>...</td>\n",
       "      <td>...</td>\n",
       "      <td>...</td>\n",
       "      <td>...</td>\n",
       "    </tr>\n",
       "    <tr>\n",
       "      <th>53397</th>\n",
       "      <td>dra juguetes dvd</td>\n",
       "      <td>0</td>\n",
       "      <td>NaN</td>\n",
       "      <td>NaN</td>\n",
       "      <td>0.0</td>\n",
       "    </tr>\n",
       "    <tr>\n",
       "      <th>53398</th>\n",
       "      <td>citypack venecia</td>\n",
       "      <td>0</td>\n",
       "      <td>NaN</td>\n",
       "      <td>NaN</td>\n",
       "      <td>0.0</td>\n",
       "    </tr>\n",
       "    <tr>\n",
       "      <th>53399</th>\n",
       "      <td>bandolera isotermica</td>\n",
       "      <td>0</td>\n",
       "      <td>NaN</td>\n",
       "      <td>NaN</td>\n",
       "      <td>0.0</td>\n",
       "    </tr>\n",
       "    <tr>\n",
       "      <th>53401</th>\n",
       "      <td>matacarcomas 400ml</td>\n",
       "      <td>0</td>\n",
       "      <td>NaN</td>\n",
       "      <td>NaN</td>\n",
       "      <td>0.0</td>\n",
       "    </tr>\n",
       "    <tr>\n",
       "      <th>53402</th>\n",
       "      <td>azada bellota 232-a</td>\n",
       "      <td>0</td>\n",
       "      <td>NaN</td>\n",
       "      <td>NaN</td>\n",
       "      <td>0.0</td>\n",
       "    </tr>\n",
       "  </tbody>\n",
       "</table>\n",
       "<p>15677 rows × 5 columns</p>\n",
       "</div>"
      ],
      "text/plain": [
       "                Unique_desc  scraped name_scraped path_scraped  \\\n",
       "26        legging nina 3/14        0          NaN          NaN   \n",
       "27       jersey unisex 3/14        0          NaN          NaN   \n",
       "55      ristorante formaggi        0          NaN          NaN   \n",
       "77        vol au vent 6 und        0          NaN          NaN   \n",
       "88         cam mc strass wp        0          NaN          NaN   \n",
       "...                     ...      ...          ...          ...   \n",
       "53397      dra juguetes dvd        0          NaN          NaN   \n",
       "53398      citypack venecia        0          NaN          NaN   \n",
       "53399  bandolera isotermica        0          NaN          NaN   \n",
       "53401    matacarcomas 400ml        0          NaN          NaN   \n",
       "53402   azada bellota 232-a        0          NaN          NaN   \n",
       "\n",
       "       match_percentage  \n",
       "26                  0.0  \n",
       "27                  0.0  \n",
       "55                  0.0  \n",
       "77                  0.0  \n",
       "88                  0.0  \n",
       "...                 ...  \n",
       "53397               0.0  \n",
       "53398               0.0  \n",
       "53399               0.0  \n",
       "53401               0.0  \n",
       "53402               0.0  \n",
       "\n",
       "[15677 rows x 5 columns]"
      ]
     },
     "execution_count": 23,
     "metadata": {},
     "output_type": "execute_result"
    }
   ],
   "source": [
    "df_pairing[df_pairing['name_scraped'].isnull()]"
   ]
  },
  {
   "cell_type": "code",
   "execution_count": 25,
   "metadata": {},
   "outputs": [
    {
     "data": {
      "text/html": [
       "<div>\n",
       "<style scoped>\n",
       "    .dataframe tbody tr th:only-of-type {\n",
       "        vertical-align: middle;\n",
       "    }\n",
       "\n",
       "    .dataframe tbody tr th {\n",
       "        vertical-align: top;\n",
       "    }\n",
       "\n",
       "    .dataframe thead th {\n",
       "        text-align: right;\n",
       "    }\n",
       "</style>\n",
       "<table border=\"1\" class=\"dataframe\">\n",
       "  <thead>\n",
       "    <tr style=\"text-align: right;\">\n",
       "      <th></th>\n",
       "      <th>Unique_desc</th>\n",
       "      <th>scraped</th>\n",
       "      <th>name_scraped</th>\n",
       "      <th>path_scraped</th>\n",
       "      <th>match_percentage</th>\n",
       "    </tr>\n",
       "  </thead>\n",
       "  <tbody>\n",
       "    <tr>\n",
       "      <th>26</th>\n",
       "      <td>legging nina 3/14</td>\n",
       "      <td>0</td>\n",
       "      <td>NaN</td>\n",
       "      <td>NaN</td>\n",
       "      <td>0.0</td>\n",
       "    </tr>\n",
       "    <tr>\n",
       "      <th>27</th>\n",
       "      <td>jersey unisex 3/14</td>\n",
       "      <td>0</td>\n",
       "      <td>NaN</td>\n",
       "      <td>NaN</td>\n",
       "      <td>0.0</td>\n",
       "    </tr>\n",
       "    <tr>\n",
       "      <th>55</th>\n",
       "      <td>ristorante formaggi</td>\n",
       "      <td>0</td>\n",
       "      <td>NaN</td>\n",
       "      <td>NaN</td>\n",
       "      <td>0.0</td>\n",
       "    </tr>\n",
       "    <tr>\n",
       "      <th>77</th>\n",
       "      <td>vol au vent 6 und</td>\n",
       "      <td>0</td>\n",
       "      <td>NaN</td>\n",
       "      <td>NaN</td>\n",
       "      <td>0.0</td>\n",
       "    </tr>\n",
       "    <tr>\n",
       "      <th>88</th>\n",
       "      <td>cam mc strass wp</td>\n",
       "      <td>0</td>\n",
       "      <td>NaN</td>\n",
       "      <td>NaN</td>\n",
       "      <td>0.0</td>\n",
       "    </tr>\n",
       "  </tbody>\n",
       "</table>\n",
       "</div>"
      ],
      "text/plain": [
       "            Unique_desc  scraped name_scraped path_scraped  match_percentage\n",
       "26    legging nina 3/14        0          NaN          NaN               0.0\n",
       "27   jersey unisex 3/14        0          NaN          NaN               0.0\n",
       "55  ristorante formaggi        0          NaN          NaN               0.0\n",
       "77    vol au vent 6 und        0          NaN          NaN               0.0\n",
       "88     cam mc strass wp        0          NaN          NaN               0.0"
      ]
     },
     "execution_count": 25,
     "metadata": {},
     "output_type": "execute_result"
    }
   ],
   "source": [
    "# The reason why there is a row constaining NaNs is because the product was not scraped.\n",
    "\n",
    "df_pairing[df_pairing['scraped']==0].head()"
   ]
  },
  {
   "cell_type": "code",
   "execution_count": 26,
   "metadata": {
    "colab": {
     "base_uri": "https://localhost:8080/",
     "height": 238
    },
    "id": "St4SmalDMAB8",
    "outputId": "db9b14cb-e94e-4687-ffe6-9ce0ca70669d"
   },
   "outputs": [
    {
     "data": {
      "text/html": [
       "<div>\n",
       "<style scoped>\n",
       "    .dataframe tbody tr th:only-of-type {\n",
       "        vertical-align: middle;\n",
       "    }\n",
       "\n",
       "    .dataframe tbody tr th {\n",
       "        vertical-align: top;\n",
       "    }\n",
       "\n",
       "    .dataframe thead th {\n",
       "        text-align: right;\n",
       "    }\n",
       "</style>\n",
       "<table border=\"1\" class=\"dataframe\">\n",
       "  <thead>\n",
       "    <tr style=\"text-align: right;\">\n",
       "      <th></th>\n",
       "      <th>Unique_desc</th>\n",
       "      <th>scraped</th>\n",
       "      <th>name_scraped</th>\n",
       "      <th>path_scraped</th>\n",
       "      <th>match_percentage</th>\n",
       "    </tr>\n",
       "  </thead>\n",
       "  <tbody>\n",
       "    <tr>\n",
       "      <th>0</th>\n",
       "      <td>caramelos s/azucar</td>\n",
       "      <td>1</td>\n",
       "      <td>caramelos sabor fresa tic tac 18 g.</td>\n",
       "      <td>Inicio/Supermercado/La Despensa/Dulce y Desayu...</td>\n",
       "      <td>0.500000</td>\n",
       "    </tr>\n",
       "    <tr>\n",
       "      <th>1</th>\n",
       "      <td>tosta variada</td>\n",
       "      <td>1</td>\n",
       "      <td>galletas con chocolate blanco y leche tosta ri...</td>\n",
       "      <td>Inicio/Supermercado/La Despensa/Dulce y Desayu...</td>\n",
       "      <td>0.500000</td>\n",
       "    </tr>\n",
       "    <tr>\n",
       "      <th>2</th>\n",
       "      <td>baguette tortilla</td>\n",
       "      <td>1</td>\n",
       "      <td>baguette miniviena 4 ud. la boulangere 220 g.</td>\n",
       "      <td>Inicio/Supermercado/El Mercado/Panadería, Boll...</td>\n",
       "      <td>0.500000</td>\n",
       "    </tr>\n",
       "    <tr>\n",
       "      <th>3</th>\n",
       "      <td>queso tierno mezcl</td>\n",
       "      <td>1</td>\n",
       "      <td>queso tierno mini el ventero 550 g</td>\n",
       "      <td>Inicio/Supermercado/El Mercado/Quesos/Todos lo...</td>\n",
       "      <td>0.333333</td>\n",
       "    </tr>\n",
       "    <tr>\n",
       "      <th>4</th>\n",
       "      <td>guisantes muy fino</td>\n",
       "      <td>1</td>\n",
       "      <td>guisantes muy tiernos carrefour 300 g.</td>\n",
       "      <td>Inicio/Supermercado/El Mercado/Verduras y hort...</td>\n",
       "      <td>0.333333</td>\n",
       "    </tr>\n",
       "  </tbody>\n",
       "</table>\n",
       "</div>"
      ],
      "text/plain": [
       "          Unique_desc  scraped  \\\n",
       "0  caramelos s/azucar        1   \n",
       "1       tosta variada        1   \n",
       "2   baguette tortilla        1   \n",
       "3  queso tierno mezcl        1   \n",
       "4  guisantes muy fino        1   \n",
       "\n",
       "                                        name_scraped  \\\n",
       "0                caramelos sabor fresa tic tac 18 g.   \n",
       "1  galletas con chocolate blanco y leche tosta ri...   \n",
       "2      baguette miniviena 4 ud. la boulangere 220 g.   \n",
       "3                 queso tierno mini el ventero 550 g   \n",
       "4             guisantes muy tiernos carrefour 300 g.   \n",
       "\n",
       "                                        path_scraped  match_percentage  \n",
       "0  Inicio/Supermercado/La Despensa/Dulce y Desayu...          0.500000  \n",
       "1  Inicio/Supermercado/La Despensa/Dulce y Desayu...          0.500000  \n",
       "2  Inicio/Supermercado/El Mercado/Panadería, Boll...          0.500000  \n",
       "3  Inicio/Supermercado/El Mercado/Quesos/Todos lo...          0.333333  \n",
       "4  Inicio/Supermercado/El Mercado/Verduras y hort...          0.333333  "
      ]
     },
     "execution_count": 26,
     "metadata": {},
     "output_type": "execute_result"
    }
   ],
   "source": [
    "df_pairing.head()"
   ]
  },
  {
   "cell_type": "markdown",
   "metadata": {
    "id": "npcSwY2QMI10"
   },
   "source": [
    "### Merge"
   ]
  },
  {
   "cell_type": "code",
   "execution_count": 27,
   "metadata": {
    "colab": {
     "base_uri": "https://localhost:8080/"
    },
    "id": "1gkhbyJAMQ0Z",
    "outputId": "1dda23d1-1cde-4de6-d302-b810446e35bc"
   },
   "outputs": [
    {
     "data": {
      "text/plain": [
       "True"
      ]
     },
     "execution_count": 27,
     "metadata": {},
     "output_type": "execute_result"
    }
   ],
   "source": [
    "df_premium['ProductName'].duplicated().any()"
   ]
  },
  {
   "cell_type": "code",
   "execution_count": 28,
   "metadata": {
    "colab": {
     "base_uri": "https://localhost:8080/"
    },
    "id": "mvNhLVcPMAP-",
    "outputId": "ffccad25-10a2-48dd-d5e8-2f9dfaa0e4ae"
   },
   "outputs": [
    {
     "data": {
      "text/plain": [
       "True"
      ]
     },
     "execution_count": 28,
     "metadata": {},
     "output_type": "execute_result"
    }
   ],
   "source": [
    "df_pairing['name_scraped'].duplicated().any()"
   ]
  },
  {
   "cell_type": "code",
   "execution_count": 29,
   "metadata": {
    "colab": {
     "base_uri": "https://localhost:8080/"
    },
    "id": "jgXfCS4tMAho",
    "outputId": "9f606cbb-0a33-4ae3-d77e-61b7d49d1d50"
   },
   "outputs": [
    {
     "data": {
      "text/plain": [
       "(22128, 6)"
      ]
     },
     "execution_count": 29,
     "metadata": {},
     "output_type": "execute_result"
    }
   ],
   "source": [
    "df_premium.drop_duplicates(subset=['ProductName'], inplace=True)\n",
    "df_premium.shape"
   ]
  },
  {
   "cell_type": "code",
   "execution_count": 30,
   "metadata": {
    "colab": {
     "base_uri": "https://localhost:8080/"
    },
    "id": "Qcd7PPFwMAew",
    "outputId": "61b23b00-646b-4e42-fd5b-d7042d71b445"
   },
   "outputs": [
    {
     "data": {
      "text/plain": [
       "(15008, 5)"
      ]
     },
     "execution_count": 30,
     "metadata": {},
     "output_type": "execute_result"
    }
   ],
   "source": [
    "df_pairing.drop_duplicates(subset=['name_scraped'], inplace=True)\n",
    "df_pairing.shape"
   ]
  },
  {
   "cell_type": "code",
   "execution_count": 31,
   "metadata": {
    "id": "QDF-xhiuMcl9"
   },
   "outputs": [],
   "source": [
    "# First Merge\n",
    "\n",
    "pairing_cols = ['name_scraped', 'Unique_desc']\n",
    "df_premium_paired = df_premium.merge(df_pairing[pairing_cols], how='left', left_on='ProductName', right_on='name_scraped')"
   ]
  },
  {
   "cell_type": "code",
   "execution_count": 32,
   "metadata": {
    "colab": {
     "base_uri": "https://localhost:8080/",
     "height": 408
    },
    "id": "Fy0t1W0zMc1C",
    "outputId": "a957ac7a-7571-4dcd-c261-b5095ab1429c"
   },
   "outputs": [
    {
     "data": {
      "text/html": [
       "<div>\n",
       "<style scoped>\n",
       "    .dataframe tbody tr th:only-of-type {\n",
       "        vertical-align: middle;\n",
       "    }\n",
       "\n",
       "    .dataframe tbody tr th {\n",
       "        vertical-align: top;\n",
       "    }\n",
       "\n",
       "    .dataframe thead th {\n",
       "        text-align: right;\n",
       "    }\n",
       "</style>\n",
       "<table border=\"1\" class=\"dataframe\">\n",
       "  <thead>\n",
       "    <tr style=\"text-align: right;\">\n",
       "      <th></th>\n",
       "      <th>ProductName</th>\n",
       "      <th>FullPath</th>\n",
       "      <th>BuyboxPricedf_cost_product</th>\n",
       "      <th>premium</th>\n",
       "      <th>low</th>\n",
       "      <th>high</th>\n",
       "      <th>name_scraped</th>\n",
       "      <th>Unique_desc</th>\n",
       "    </tr>\n",
       "  </thead>\n",
       "  <tbody>\n",
       "    <tr>\n",
       "      <th>0</th>\n",
       "      <td>torreznos de cerdo carrefour 250 g</td>\n",
       "      <td>Inicio/Supermercado/El Mercado/Carnicería/Otra...</td>\n",
       "      <td>2.30</td>\n",
       "      <td>Low</td>\n",
       "      <td>1</td>\n",
       "      <td>0</td>\n",
       "      <td>torreznos de cerdo carrefour 250 g</td>\n",
       "      <td>torreznos 250 grs</td>\n",
       "    </tr>\n",
       "    <tr>\n",
       "      <th>1</th>\n",
       "      <td>magro de cerdo marinado adobado carrefour 500 g</td>\n",
       "      <td>Inicio/Supermercado/El Mercado/Carnicería/Otra...</td>\n",
       "      <td>3.50</td>\n",
       "      <td>NaN</td>\n",
       "      <td>0</td>\n",
       "      <td>0</td>\n",
       "      <td>magro de cerdo marinado adobado carrefour 500 g</td>\n",
       "      <td>fiambre de magro</td>\n",
       "    </tr>\n",
       "    <tr>\n",
       "      <th>2</th>\n",
       "      <td>filete de lomo de cerdo adobado extra 400 g aprox</td>\n",
       "      <td>Inicio/Supermercado/El Mercado/Carnicería/Otra...</td>\n",
       "      <td>3.90</td>\n",
       "      <td>NaN</td>\n",
       "      <td>0</td>\n",
       "      <td>0</td>\n",
       "      <td>filete de lomo de cerdo adobado extra 400 g aprox</td>\n",
       "      <td>lomo adobado iberi</td>\n",
       "    </tr>\n",
       "    <tr>\n",
       "      <th>3</th>\n",
       "      <td>chuletas mixtas de cordero 1 kg aprox</td>\n",
       "      <td>Inicio/Supermercado/El Mercado/Carnicería/Cordero</td>\n",
       "      <td>10.50</td>\n",
       "      <td>NaN</td>\n",
       "      <td>0</td>\n",
       "      <td>0</td>\n",
       "      <td>chuletas mixtas de cordero 1 kg aprox</td>\n",
       "      <td>chuletas mixtas lomo</td>\n",
       "    </tr>\n",
       "    <tr>\n",
       "      <th>4</th>\n",
       "      <td>chuleta de sajonia 500 g aprox</td>\n",
       "      <td>Inicio/Supermercado/El Mercado/Carnicería/Otra...</td>\n",
       "      <td>4.62</td>\n",
       "      <td>High</td>\n",
       "      <td>0</td>\n",
       "      <td>1</td>\n",
       "      <td>chuleta de sajonia 500 g aprox</td>\n",
       "      <td>chuleta lomo extrati</td>\n",
       "    </tr>\n",
       "  </tbody>\n",
       "</table>\n",
       "</div>"
      ],
      "text/plain": [
       "                                         ProductName  \\\n",
       "0                 torreznos de cerdo carrefour 250 g   \n",
       "1    magro de cerdo marinado adobado carrefour 500 g   \n",
       "2  filete de lomo de cerdo adobado extra 400 g aprox   \n",
       "3              chuletas mixtas de cordero 1 kg aprox   \n",
       "4                     chuleta de sajonia 500 g aprox   \n",
       "\n",
       "                                            FullPath  \\\n",
       "0  Inicio/Supermercado/El Mercado/Carnicería/Otra...   \n",
       "1  Inicio/Supermercado/El Mercado/Carnicería/Otra...   \n",
       "2  Inicio/Supermercado/El Mercado/Carnicería/Otra...   \n",
       "3  Inicio/Supermercado/El Mercado/Carnicería/Cordero   \n",
       "4  Inicio/Supermercado/El Mercado/Carnicería/Otra...   \n",
       "\n",
       "   BuyboxPricedf_cost_product premium  low  high  \\\n",
       "0                        2.30     Low    1     0   \n",
       "1                        3.50     NaN    0     0   \n",
       "2                        3.90     NaN    0     0   \n",
       "3                       10.50     NaN    0     0   \n",
       "4                        4.62    High    0     1   \n",
       "\n",
       "                                        name_scraped           Unique_desc  \n",
       "0                 torreznos de cerdo carrefour 250 g     torreznos 250 grs  \n",
       "1    magro de cerdo marinado adobado carrefour 500 g      fiambre de magro  \n",
       "2  filete de lomo de cerdo adobado extra 400 g aprox    lomo adobado iberi  \n",
       "3              chuletas mixtas de cordero 1 kg aprox  chuletas mixtas lomo  \n",
       "4                     chuleta de sajonia 500 g aprox  chuleta lomo extrati  "
      ]
     },
     "execution_count": 32,
     "metadata": {},
     "output_type": "execute_result"
    }
   ],
   "source": [
    "df_premium_paired.head()"
   ]
  },
  {
   "cell_type": "code",
   "execution_count": 33,
   "metadata": {
    "colab": {
     "base_uri": "https://localhost:8080/"
    },
    "id": "1WtpZOBBMdaM",
    "outputId": "24d9d12c-42e5-4461-b6a0-18aad4a5dc39"
   },
   "outputs": [
    {
     "data": {
      "text/plain": [
       "(22128, 8)"
      ]
     },
     "execution_count": 33,
     "metadata": {},
     "output_type": "execute_result"
    }
   ],
   "source": [
    "df_premium_paired.shape"
   ]
  },
  {
   "cell_type": "code",
   "execution_count": 35,
   "metadata": {},
   "outputs": [
    {
     "data": {
      "text/plain": [
       "ProductName                       0\n",
       "FullPath                          0\n",
       "BuyboxPricedf_cost_product        0\n",
       "premium                       11948\n",
       "low                               0\n",
       "high                              0\n",
       "name_scraped                   7121\n",
       "Unique_desc                    7121\n",
       "dtype: int64"
      ]
     },
     "execution_count": 35,
     "metadata": {},
     "output_type": "execute_result"
    }
   ],
   "source": [
    "# These values are missing because not all products scraped have been linked to tickets.\n",
    "\n",
    "df_premium_paired.isnull().apply(lambda x: sum(x), axis=0)"
   ]
  },
  {
   "cell_type": "code",
   "execution_count": 37,
   "metadata": {},
   "outputs": [
    {
     "data": {
      "text/html": [
       "<div>\n",
       "<style scoped>\n",
       "    .dataframe tbody tr th:only-of-type {\n",
       "        vertical-align: middle;\n",
       "    }\n",
       "\n",
       "    .dataframe tbody tr th {\n",
       "        vertical-align: top;\n",
       "    }\n",
       "\n",
       "    .dataframe thead th {\n",
       "        text-align: right;\n",
       "    }\n",
       "</style>\n",
       "<table border=\"1\" class=\"dataframe\">\n",
       "  <thead>\n",
       "    <tr style=\"text-align: right;\">\n",
       "      <th></th>\n",
       "      <th>ProductName</th>\n",
       "      <th>FullPath</th>\n",
       "      <th>BuyboxPricedf_cost_product</th>\n",
       "      <th>premium</th>\n",
       "      <th>low</th>\n",
       "      <th>high</th>\n",
       "      <th>name_scraped</th>\n",
       "      <th>Unique_desc</th>\n",
       "    </tr>\n",
       "  </thead>\n",
       "  <tbody>\n",
       "    <tr>\n",
       "      <th>11</th>\n",
       "      <td>solomillo de cerdo adobado extratiernos elpozo...</td>\n",
       "      <td>Inicio/Supermercado/El Mercado/Carnicería/Cerdo</td>\n",
       "      <td>4.80</td>\n",
       "      <td>NaN</td>\n",
       "      <td>0</td>\n",
       "      <td>0</td>\n",
       "      <td>NaN</td>\n",
       "      <td>NaN</td>\n",
       "    </tr>\n",
       "    <tr>\n",
       "      <th>12</th>\n",
       "      <td>callos de cerdo icarben 500 g</td>\n",
       "      <td>Inicio/Supermercado/El Mercado/Carnicería/Otra...</td>\n",
       "      <td>4.90</td>\n",
       "      <td>High</td>\n",
       "      <td>0</td>\n",
       "      <td>1</td>\n",
       "      <td>NaN</td>\n",
       "      <td>NaN</td>\n",
       "    </tr>\n",
       "    <tr>\n",
       "      <th>16</th>\n",
       "      <td>costillar de cordero 400 g aprox</td>\n",
       "      <td>Inicio/Supermercado/El Mercado/Carnicería/Cordero</td>\n",
       "      <td>6.64</td>\n",
       "      <td>NaN</td>\n",
       "      <td>0</td>\n",
       "      <td>0</td>\n",
       "      <td>NaN</td>\n",
       "      <td>NaN</td>\n",
       "    </tr>\n",
       "    <tr>\n",
       "      <th>25</th>\n",
       "      <td>chuletas de cordero para barbacoa moralejo 400...</td>\n",
       "      <td>Inicio/Supermercado/El Mercado/Carnicería/Cordero</td>\n",
       "      <td>7.16</td>\n",
       "      <td>NaN</td>\n",
       "      <td>0</td>\n",
       "      <td>0</td>\n",
       "      <td>NaN</td>\n",
       "      <td>NaN</td>\n",
       "    </tr>\n",
       "    <tr>\n",
       "      <th>26</th>\n",
       "      <td>cordero 10-13 garron</td>\n",
       "      <td>Inicio/Supermercado/El Mercado/Carnicería/Cordero</td>\n",
       "      <td>2.41</td>\n",
       "      <td>Low</td>\n",
       "      <td>1</td>\n",
       "      <td>0</td>\n",
       "      <td>NaN</td>\n",
       "      <td>NaN</td>\n",
       "    </tr>\n",
       "    <tr>\n",
       "      <th>...</th>\n",
       "      <td>...</td>\n",
       "      <td>...</td>\n",
       "      <td>...</td>\n",
       "      <td>...</td>\n",
       "      <td>...</td>\n",
       "      <td>...</td>\n",
       "      <td>...</td>\n",
       "      <td>...</td>\n",
       "    </tr>\n",
       "    <tr>\n",
       "      <th>22117</th>\n",
       "      <td>calorilight turboslim 120 ud.</td>\n",
       "      <td>Inicio/Supermercado/Parafarmacia/Nutrición y D...</td>\n",
       "      <td>25.70</td>\n",
       "      <td>NaN</td>\n",
       "      <td>0</td>\n",
       "      <td>0</td>\n",
       "      <td>NaN</td>\n",
       "      <td>NaN</td>\n",
       "    </tr>\n",
       "    <tr>\n",
       "      <th>22122</th>\n",
       "      <td>complemento alimenticio para perdida de peso m...</td>\n",
       "      <td>Inicio/Supermercado/Parafarmacia/Nutrición y D...</td>\n",
       "      <td>76.35</td>\n",
       "      <td>High</td>\n",
       "      <td>0</td>\n",
       "      <td>1</td>\n",
       "      <td>NaN</td>\n",
       "      <td>NaN</td>\n",
       "    </tr>\n",
       "    <tr>\n",
       "      <th>22123</th>\n",
       "      <td>apositos ampollas stick anti-friccion compeed ...</td>\n",
       "      <td>Inicio/Supermercado/Parafarmacia/Cuidado de ma...</td>\n",
       "      <td>7.30</td>\n",
       "      <td>NaN</td>\n",
       "      <td>0</td>\n",
       "      <td>0</td>\n",
       "      <td>NaN</td>\n",
       "      <td>NaN</td>\n",
       "    </tr>\n",
       "    <tr>\n",
       "      <th>22126</th>\n",
       "      <td>langostinos cocidos 330 g</td>\n",
       "      <td>Inicio/Supermercado/El Mercado/Pescadería/Mari...</td>\n",
       "      <td>7.50</td>\n",
       "      <td>NaN</td>\n",
       "      <td>0</td>\n",
       "      <td>0</td>\n",
       "      <td>NaN</td>\n",
       "      <td>NaN</td>\n",
       "    </tr>\n",
       "    <tr>\n",
       "      <th>22127</th>\n",
       "      <td>mascarilla facial higienica no reutilizable co...</td>\n",
       "      <td>Inicio/Supermercado/Parafarmacia/Botiquín/Masc...</td>\n",
       "      <td>5.99</td>\n",
       "      <td>NaN</td>\n",
       "      <td>0</td>\n",
       "      <td>0</td>\n",
       "      <td>NaN</td>\n",
       "      <td>NaN</td>\n",
       "    </tr>\n",
       "  </tbody>\n",
       "</table>\n",
       "<p>7121 rows × 8 columns</p>\n",
       "</div>"
      ],
      "text/plain": [
       "                                             ProductName  \\\n",
       "11     solomillo de cerdo adobado extratiernos elpozo...   \n",
       "12                         callos de cerdo icarben 500 g   \n",
       "16                      costillar de cordero 400 g aprox   \n",
       "25     chuletas de cordero para barbacoa moralejo 400...   \n",
       "26                                  cordero 10-13 garron   \n",
       "...                                                  ...   \n",
       "22117                      calorilight turboslim 120 ud.   \n",
       "22122  complemento alimenticio para perdida de peso m...   \n",
       "22123  apositos ampollas stick anti-friccion compeed ...   \n",
       "22126                          langostinos cocidos 330 g   \n",
       "22127  mascarilla facial higienica no reutilizable co...   \n",
       "\n",
       "                                                FullPath  \\\n",
       "11       Inicio/Supermercado/El Mercado/Carnicería/Cerdo   \n",
       "12     Inicio/Supermercado/El Mercado/Carnicería/Otra...   \n",
       "16     Inicio/Supermercado/El Mercado/Carnicería/Cordero   \n",
       "25     Inicio/Supermercado/El Mercado/Carnicería/Cordero   \n",
       "26     Inicio/Supermercado/El Mercado/Carnicería/Cordero   \n",
       "...                                                  ...   \n",
       "22117  Inicio/Supermercado/Parafarmacia/Nutrición y D...   \n",
       "22122  Inicio/Supermercado/Parafarmacia/Nutrición y D...   \n",
       "22123  Inicio/Supermercado/Parafarmacia/Cuidado de ma...   \n",
       "22126  Inicio/Supermercado/El Mercado/Pescadería/Mari...   \n",
       "22127  Inicio/Supermercado/Parafarmacia/Botiquín/Masc...   \n",
       "\n",
       "       BuyboxPricedf_cost_product premium  low  high name_scraped Unique_desc  \n",
       "11                           4.80     NaN    0     0          NaN         NaN  \n",
       "12                           4.90    High    0     1          NaN         NaN  \n",
       "16                           6.64     NaN    0     0          NaN         NaN  \n",
       "25                           7.16     NaN    0     0          NaN         NaN  \n",
       "26                           2.41     Low    1     0          NaN         NaN  \n",
       "...                           ...     ...  ...   ...          ...         ...  \n",
       "22117                       25.70     NaN    0     0          NaN         NaN  \n",
       "22122                       76.35    High    0     1          NaN         NaN  \n",
       "22123                        7.30     NaN    0     0          NaN         NaN  \n",
       "22126                        7.50     NaN    0     0          NaN         NaN  \n",
       "22127                        5.99     NaN    0     0          NaN         NaN  \n",
       "\n",
       "[7121 rows x 8 columns]"
      ]
     },
     "execution_count": 37,
     "metadata": {},
     "output_type": "execute_result"
    }
   ],
   "source": [
    "df_premium_paired[df_premium_paired['name_scraped'].isnull()]"
   ]
  },
  {
   "cell_type": "code",
   "execution_count": 38,
   "metadata": {
    "id": "ZoUS_6jPMdXt"
   },
   "outputs": [],
   "source": [
    "# Second Merge\n",
    "\n",
    "df = df_tickets.merge(df_premium_paired, how='left', left_on='desc', right_on='Unique_desc')"
   ]
  },
  {
   "cell_type": "code",
   "execution_count": 39,
   "metadata": {
    "colab": {
     "base_uri": "https://localhost:8080/"
    },
    "id": "Nup1Pq6BMdHx",
    "outputId": "55e9cf76-9466-46ab-b37e-54317272258d"
   },
   "outputs": [
    {
     "data": {
      "text/plain": [
       "Index(['_id', 'mall', 'date', 'customer', 'desc', 'net_am', 'n_unit',\n",
       "       'ProductName', 'FullPath', 'BuyboxPricedf_cost_product', 'premium',\n",
       "       'low', 'high', 'name_scraped', 'Unique_desc'],\n",
       "      dtype='object')"
      ]
     },
     "execution_count": 39,
     "metadata": {},
     "output_type": "execute_result"
    }
   ],
   "source": [
    "df.columns"
   ]
  },
  {
   "cell_type": "code",
   "execution_count": 40,
   "metadata": {
    "colab": {
     "base_uri": "https://localhost:8080/",
     "height": 462
    },
    "id": "ytOebElmMdE5",
    "outputId": "eff12e5b-3c4e-46dc-ab58-f1a35efe2880"
   },
   "outputs": [
    {
     "data": {
      "text/html": [
       "<div>\n",
       "<style scoped>\n",
       "    .dataframe tbody tr th:only-of-type {\n",
       "        vertical-align: middle;\n",
       "    }\n",
       "\n",
       "    .dataframe tbody tr th {\n",
       "        vertical-align: top;\n",
       "    }\n",
       "\n",
       "    .dataframe thead th {\n",
       "        text-align: right;\n",
       "    }\n",
       "</style>\n",
       "<table border=\"1\" class=\"dataframe\">\n",
       "  <thead>\n",
       "    <tr style=\"text-align: right;\">\n",
       "      <th></th>\n",
       "      <th>_id</th>\n",
       "      <th>mall</th>\n",
       "      <th>date</th>\n",
       "      <th>customer</th>\n",
       "      <th>desc</th>\n",
       "      <th>net_am</th>\n",
       "      <th>n_unit</th>\n",
       "      <th>ProductName</th>\n",
       "      <th>FullPath</th>\n",
       "      <th>BuyboxPricedf_cost_product</th>\n",
       "      <th>low</th>\n",
       "      <th>high</th>\n",
       "    </tr>\n",
       "  </thead>\n",
       "  <tbody>\n",
       "    <tr>\n",
       "      <th>0</th>\n",
       "      <td>1001</td>\n",
       "      <td>2</td>\n",
       "      <td>2016-01-14T20:07:00.000+0000</td>\n",
       "      <td>77021708271</td>\n",
       "      <td>caramelos s/azucar</td>\n",
       "      <td>1.00</td>\n",
       "      <td>1</td>\n",
       "      <td>caramelos sabor fresa tic tac 18 g.</td>\n",
       "      <td>Inicio/Supermercado/La Despensa/Dulce y Desayu...</td>\n",
       "      <td>1.06</td>\n",
       "      <td>0.0</td>\n",
       "      <td>0.0</td>\n",
       "    </tr>\n",
       "    <tr>\n",
       "      <th>1</th>\n",
       "      <td>1002</td>\n",
       "      <td>1</td>\n",
       "      <td>2016-01-14T15:25:00.000+0000</td>\n",
       "      <td>77021708271</td>\n",
       "      <td>tosta variada</td>\n",
       "      <td>3.00</td>\n",
       "      <td>1</td>\n",
       "      <td>galletas con chocolate blanco y leche tosta ri...</td>\n",
       "      <td>Inicio/Supermercado/La Despensa/Dulce y Desayu...</td>\n",
       "      <td>2.20</td>\n",
       "      <td>0.0</td>\n",
       "      <td>0.0</td>\n",
       "    </tr>\n",
       "    <tr>\n",
       "      <th>2</th>\n",
       "      <td>1002</td>\n",
       "      <td>1</td>\n",
       "      <td>2016-01-14T15:25:00.000+0000</td>\n",
       "      <td>77021708271</td>\n",
       "      <td>baguette tortilla</td>\n",
       "      <td>1.00</td>\n",
       "      <td>1</td>\n",
       "      <td>baguette miniviena 4 ud. la boulangere 220 g.</td>\n",
       "      <td>Inicio/Supermercado/El Mercado/Panadería, Boll...</td>\n",
       "      <td>1.79</td>\n",
       "      <td>0.0</td>\n",
       "      <td>0.0</td>\n",
       "    </tr>\n",
       "    <tr>\n",
       "      <th>3</th>\n",
       "      <td>1003</td>\n",
       "      <td>2</td>\n",
       "      <td>2016-01-14T20:07:00.000+0000</td>\n",
       "      <td>77021708271</td>\n",
       "      <td>queso tierno mezcl</td>\n",
       "      <td>2.83</td>\n",
       "      <td>1</td>\n",
       "      <td>queso tierno mini el ventero 550 g</td>\n",
       "      <td>Inicio/Supermercado/El Mercado/Quesos/Todos lo...</td>\n",
       "      <td>7.45</td>\n",
       "      <td>0.0</td>\n",
       "      <td>1.0</td>\n",
       "    </tr>\n",
       "    <tr>\n",
       "      <th>4</th>\n",
       "      <td>1003</td>\n",
       "      <td>2</td>\n",
       "      <td>2016-01-14T20:07:00.000+0000</td>\n",
       "      <td>77021708271</td>\n",
       "      <td>guisantes muy fino</td>\n",
       "      <td>1.65</td>\n",
       "      <td>1</td>\n",
       "      <td>guisantes muy tiernos carrefour 300 g.</td>\n",
       "      <td>Inicio/Supermercado/El Mercado/Verduras y hort...</td>\n",
       "      <td>0.80</td>\n",
       "      <td>1.0</td>\n",
       "      <td>0.0</td>\n",
       "    </tr>\n",
       "  </tbody>\n",
       "</table>\n",
       "</div>"
      ],
      "text/plain": [
       "    _id  mall                          date     customer                desc  \\\n",
       "0  1001     2  2016-01-14T20:07:00.000+0000  77021708271  caramelos s/azucar   \n",
       "1  1002     1  2016-01-14T15:25:00.000+0000  77021708271       tosta variada   \n",
       "2  1002     1  2016-01-14T15:25:00.000+0000  77021708271   baguette tortilla   \n",
       "3  1003     2  2016-01-14T20:07:00.000+0000  77021708271  queso tierno mezcl   \n",
       "4  1003     2  2016-01-14T20:07:00.000+0000  77021708271  guisantes muy fino   \n",
       "\n",
       "   net_am  n_unit                                        ProductName  \\\n",
       "0    1.00       1                caramelos sabor fresa tic tac 18 g.   \n",
       "1    3.00       1  galletas con chocolate blanco y leche tosta ri...   \n",
       "2    1.00       1      baguette miniviena 4 ud. la boulangere 220 g.   \n",
       "3    2.83       1                 queso tierno mini el ventero 550 g   \n",
       "4    1.65       1             guisantes muy tiernos carrefour 300 g.   \n",
       "\n",
       "                                            FullPath  \\\n",
       "0  Inicio/Supermercado/La Despensa/Dulce y Desayu...   \n",
       "1  Inicio/Supermercado/La Despensa/Dulce y Desayu...   \n",
       "2  Inicio/Supermercado/El Mercado/Panadería, Boll...   \n",
       "3  Inicio/Supermercado/El Mercado/Quesos/Todos lo...   \n",
       "4  Inicio/Supermercado/El Mercado/Verduras y hort...   \n",
       "\n",
       "   BuyboxPricedf_cost_product  low  high  \n",
       "0                        1.06  0.0   0.0  \n",
       "1                        2.20  0.0   0.0  \n",
       "2                        1.79  0.0   0.0  \n",
       "3                        7.45  0.0   1.0  \n",
       "4                        0.80  1.0   0.0  "
      ]
     },
     "execution_count": 40,
     "metadata": {},
     "output_type": "execute_result"
    }
   ],
   "source": [
    "# Drop useless columns\n",
    "\n",
    "cols_to_drop = ['name_scraped', 'Unique_desc', 'premium']\n",
    "df.drop(cols_to_drop, axis=1, inplace=True)\n",
    "df.head()"
   ]
  },
  {
   "cell_type": "code",
   "execution_count": 41,
   "metadata": {
    "colab": {
     "base_uri": "https://localhost:8080/"
    },
    "id": "zLabND2_NNdF",
    "outputId": "2714d06e-977b-463a-dc91-3f9a0a67ae22"
   },
   "outputs": [
    {
     "data": {
      "text/plain": [
       "(5801158, 12)"
      ]
     },
     "execution_count": 41,
     "metadata": {},
     "output_type": "execute_result"
    }
   ],
   "source": [
    "df.shape"
   ]
  },
  {
   "cell_type": "code",
   "execution_count": 42,
   "metadata": {},
   "outputs": [
    {
     "data": {
      "text/plain": [
       "_id                                 0\n",
       "mall                                0\n",
       "date                                0\n",
       "customer                            0\n",
       "desc                                0\n",
       "net_am                              0\n",
       "n_unit                              0\n",
       "ProductName                   1835655\n",
       "FullPath                      1835655\n",
       "BuyboxPricedf_cost_product    1835655\n",
       "low                           1835655\n",
       "high                          1835655\n",
       "dtype: int64"
      ]
     },
     "execution_count": 42,
     "metadata": {},
     "output_type": "execute_result"
    }
   ],
   "source": [
    "# These values are missing because not all tickets have been scraped.\n",
    "# TODO: check it\n",
    "\n",
    "df.isnull().apply(lambda x: sum(x), axis=0)"
   ]
  },
  {
   "cell_type": "code",
   "execution_count": 43,
   "metadata": {},
   "outputs": [],
   "source": [
    "df.fillna(value={'FullPath':''}, inplace=True)"
   ]
  },
  {
   "cell_type": "markdown",
   "metadata": {
    "id": "v1jeOWDAsPKh"
   },
   "source": [
    "# Labelling"
   ]
  },
  {
   "cell_type": "markdown",
   "metadata": {
    "id": "i65pO_issPKh"
   },
   "source": [
    "### 'sex' of the product\n",
    "\n",
    "If a product contains the word 'hombre' it will be labelled M, otherwise F if it contains the word 'mujer'.\n",
    "\n",
    "Another way to assign the sex is using the paths from the scraping that are characteristically male or female"
   ]
  },
  {
   "cell_type": "code",
   "execution_count": 44,
   "metadata": {
    "id": "0mKmSPnmsPKi"
   },
   "outputs": [],
   "source": [
    "def sex_desc(x):\n",
    "    \n",
    "    if 'hombre' in x and 'mujer' in x:\n",
    "        return 'B'\n",
    "    elif 'hombre' in x:\n",
    "        return 'M'\n",
    "    elif 'mujer' in x:\n",
    "        return 'F'\n",
    "    else:\n",
    "        return 'N'\n",
    "    \n",
    "male_product_paths = ['Afeitado', 'After Shave']\n",
    "female_product_paths = ['Ojos', 'Uñas', 'Rostro', 'Accesorios de Maquillaje', 'Labios','Compresas', 'Tampones', 'Protege Slip', 'Depilación']\n",
    "    \n",
    "def sex_path(x):\n",
    "    x = x.split('/')\n",
    "    \n",
    "    for i in x:\n",
    "        if i in male_product_paths:\n",
    "            return 'M'\n",
    "        if i in female_product_paths:\n",
    "            return 'F'\n",
    "    return 'N'"
   ]
  },
  {
   "cell_type": "code",
   "execution_count": 45,
   "metadata": {
    "id": "RSVbHepvsPKk"
   },
   "outputs": [
    {
     "data": {
      "text/plain": [
       "(13112, 13)"
      ]
     },
     "execution_count": 45,
     "metadata": {},
     "output_type": "execute_result"
    }
   ],
   "source": [
    "df['sex_desc'] = df['desc'].apply(lambda x: sex_desc(x))\n",
    "df[df['sex_desc']!='N'].shape"
   ]
  },
  {
   "cell_type": "code",
   "execution_count": 46,
   "metadata": {},
   "outputs": [
    {
     "data": {
      "text/plain": [
       "(42059, 14)"
      ]
     },
     "execution_count": 46,
     "metadata": {},
     "output_type": "execute_result"
    }
   ],
   "source": [
    "df['sex_path'] = df['FullPath'].apply(lambda x: sex_path(x))\n",
    "df[df['sex_path']!='N'].shape"
   ]
  },
  {
   "cell_type": "code",
   "execution_count": 47,
   "metadata": {},
   "outputs": [],
   "source": [
    "# We give priority to sex_desc and sex_path is used to fill when sex_desc does not help\n",
    "\n",
    "df.loc[df['sex_desc']=='M', 'sex_path'] = 'M'\n",
    "df.loc[df['sex_desc']=='F', 'sex_path'] = 'F'\n",
    "df['sex'] = df['sex_path'].copy()\n",
    "df.drop(['sex_desc', 'sex_path'], axis=1, inplace=True)"
   ]
  },
  {
   "cell_type": "code",
   "execution_count": 48,
   "metadata": {},
   "outputs": [
    {
     "data": {
      "text/plain": [
       "(55171, 13)"
      ]
     },
     "execution_count": 48,
     "metadata": {},
     "output_type": "execute_result"
    }
   ],
   "source": [
    "df[df['sex']!='N'].shape"
   ]
  },
  {
   "cell_type": "code",
   "execution_count": 49,
   "metadata": {
    "colab": {
     "base_uri": "https://localhost:8080/",
     "height": 394
    },
    "id": "enMDVqRSsPKo",
    "outputId": "3d13f896-c2f3-4817-d548-d5f46d21290f"
   },
   "outputs": [
    {
     "data": {
      "text/html": [
       "<div>\n",
       "<style scoped>\n",
       "    .dataframe tbody tr th:only-of-type {\n",
       "        vertical-align: middle;\n",
       "    }\n",
       "\n",
       "    .dataframe tbody tr th {\n",
       "        vertical-align: top;\n",
       "    }\n",
       "\n",
       "    .dataframe thead th {\n",
       "        text-align: right;\n",
       "    }\n",
       "</style>\n",
       "<table border=\"1\" class=\"dataframe\">\n",
       "  <thead>\n",
       "    <tr style=\"text-align: right;\">\n",
       "      <th></th>\n",
       "      <th>_id</th>\n",
       "      <th>mall</th>\n",
       "      <th>date</th>\n",
       "      <th>customer</th>\n",
       "      <th>desc</th>\n",
       "      <th>net_am</th>\n",
       "      <th>n_unit</th>\n",
       "      <th>ProductName</th>\n",
       "      <th>FullPath</th>\n",
       "      <th>BuyboxPricedf_cost_product</th>\n",
       "      <th>low</th>\n",
       "      <th>high</th>\n",
       "      <th>sex</th>\n",
       "    </tr>\n",
       "  </thead>\n",
       "  <tbody>\n",
       "    <tr>\n",
       "      <th>2023</th>\n",
       "      <td>65</td>\n",
       "      <td>2</td>\n",
       "      <td>2016-01-14T18:02:00.000+0000</td>\n",
       "      <td>77053280208</td>\n",
       "      <td>gel afeitar gillet</td>\n",
       "      <td>3.1</td>\n",
       "      <td>1</td>\n",
       "      <td>gel de afeitar para pieles sensibles gillette ...</td>\n",
       "      <td>Inicio/Supermercado/Perfumería e Higiene/Depil...</td>\n",
       "      <td>4.75</td>\n",
       "      <td>0.0</td>\n",
       "      <td>0.0</td>\n",
       "      <td>M</td>\n",
       "    </tr>\n",
       "    <tr>\n",
       "      <th>2287</th>\n",
       "      <td>1142</td>\n",
       "      <td>1</td>\n",
       "      <td>2016-01-14T21:38:00.000+0000</td>\n",
       "      <td>77050210046</td>\n",
       "      <td>brocha afeitar</td>\n",
       "      <td>6.1</td>\n",
       "      <td>1</td>\n",
       "      <td>brocha de afeitar wilkinson 1 ud.</td>\n",
       "      <td>Inicio/Supermercado/Perfumería e Higiene/Depil...</td>\n",
       "      <td>6.75</td>\n",
       "      <td>0.0</td>\n",
       "      <td>1.0</td>\n",
       "      <td>M</td>\n",
       "    </tr>\n",
       "    <tr>\n",
       "      <th>2313</th>\n",
       "      <td>1146</td>\n",
       "      <td>2</td>\n",
       "      <td>2016-01-14T19:37:00.000+0000</td>\n",
       "      <td>77050210046</td>\n",
       "      <td>gel afeitar gillet</td>\n",
       "      <td>3.1</td>\n",
       "      <td>1</td>\n",
       "      <td>gel de afeitar para pieles sensibles gillette ...</td>\n",
       "      <td>Inicio/Supermercado/Perfumería e Higiene/Depil...</td>\n",
       "      <td>4.75</td>\n",
       "      <td>0.0</td>\n",
       "      <td>0.0</td>\n",
       "      <td>M</td>\n",
       "    </tr>\n",
       "    <tr>\n",
       "      <th>2462</th>\n",
       "      <td>89</td>\n",
       "      <td>2</td>\n",
       "      <td>2016-01-14T15:57:00.000+0000</td>\n",
       "      <td>77053280208</td>\n",
       "      <td>malla sky hombre</td>\n",
       "      <td>0.0</td>\n",
       "      <td>1</td>\n",
       "      <td>NaN</td>\n",
       "      <td></td>\n",
       "      <td>NaN</td>\n",
       "      <td>NaN</td>\n",
       "      <td>NaN</td>\n",
       "      <td>M</td>\n",
       "    </tr>\n",
       "    <tr>\n",
       "      <th>2589</th>\n",
       "      <td>1160</td>\n",
       "      <td>2</td>\n",
       "      <td>2016-01-14T18:35:00.000+0000</td>\n",
       "      <td>77031428274</td>\n",
       "      <td>gel afeitar gillet</td>\n",
       "      <td>3.1</td>\n",
       "      <td>1</td>\n",
       "      <td>gel de afeitar para pieles sensibles gillette ...</td>\n",
       "      <td>Inicio/Supermercado/Perfumería e Higiene/Depil...</td>\n",
       "      <td>4.75</td>\n",
       "      <td>0.0</td>\n",
       "      <td>0.0</td>\n",
       "      <td>M</td>\n",
       "    </tr>\n",
       "  </tbody>\n",
       "</table>\n",
       "</div>"
      ],
      "text/plain": [
       "       _id  mall                          date     customer  \\\n",
       "2023    65     2  2016-01-14T18:02:00.000+0000  77053280208   \n",
       "2287  1142     1  2016-01-14T21:38:00.000+0000  77050210046   \n",
       "2313  1146     2  2016-01-14T19:37:00.000+0000  77050210046   \n",
       "2462    89     2  2016-01-14T15:57:00.000+0000  77053280208   \n",
       "2589  1160     2  2016-01-14T18:35:00.000+0000  77031428274   \n",
       "\n",
       "                    desc  net_am  n_unit  \\\n",
       "2023  gel afeitar gillet     3.1       1   \n",
       "2287      brocha afeitar     6.1       1   \n",
       "2313  gel afeitar gillet     3.1       1   \n",
       "2462    malla sky hombre     0.0       1   \n",
       "2589  gel afeitar gillet     3.1       1   \n",
       "\n",
       "                                            ProductName  \\\n",
       "2023  gel de afeitar para pieles sensibles gillette ...   \n",
       "2287                  brocha de afeitar wilkinson 1 ud.   \n",
       "2313  gel de afeitar para pieles sensibles gillette ...   \n",
       "2462                                                NaN   \n",
       "2589  gel de afeitar para pieles sensibles gillette ...   \n",
       "\n",
       "                                               FullPath  \\\n",
       "2023  Inicio/Supermercado/Perfumería e Higiene/Depil...   \n",
       "2287  Inicio/Supermercado/Perfumería e Higiene/Depil...   \n",
       "2313  Inicio/Supermercado/Perfumería e Higiene/Depil...   \n",
       "2462                                                      \n",
       "2589  Inicio/Supermercado/Perfumería e Higiene/Depil...   \n",
       "\n",
       "      BuyboxPricedf_cost_product  low  high sex  \n",
       "2023                        4.75  0.0   0.0   M  \n",
       "2287                        6.75  0.0   1.0   M  \n",
       "2313                        4.75  0.0   0.0   M  \n",
       "2462                         NaN  NaN   NaN   M  \n",
       "2589                        4.75  0.0   0.0   M  "
      ]
     },
     "execution_count": 49,
     "metadata": {},
     "output_type": "execute_result"
    }
   ],
   "source": [
    "df[df['sex']=='M'].head()"
   ]
  },
  {
   "cell_type": "markdown",
   "metadata": {
    "id": "vZjTVXF4sPK3"
   },
   "source": [
    "### 'bebe'\n",
    "\n",
    "If there are problem with the label we can make another one that looks for the word 'bebe' (or similar) in the product like we did for M/F"
   ]
  },
  {
   "cell_type": "code",
   "execution_count": 50,
   "metadata": {
    "id": "K4qHqafisPK9"
   },
   "outputs": [],
   "source": [
    "df['bebe'] = False\n",
    "df_mask = df.copy()\n",
    "mask = df_mask['FullPath'].fillna('').str.contains('Bebé')\n",
    "df.loc[mask, 'bebe'] = True"
   ]
  },
  {
   "cell_type": "code",
   "execution_count": 51,
   "metadata": {
    "colab": {
     "base_uri": "https://localhost:8080/",
     "height": 479
    },
    "id": "y0uc-Ak3sPLA",
    "outputId": "6bb2c94a-b30f-4178-e168-8eea14faffef"
   },
   "outputs": [
    {
     "data": {
      "text/html": [
       "<div>\n",
       "<style scoped>\n",
       "    .dataframe tbody tr th:only-of-type {\n",
       "        vertical-align: middle;\n",
       "    }\n",
       "\n",
       "    .dataframe tbody tr th {\n",
       "        vertical-align: top;\n",
       "    }\n",
       "\n",
       "    .dataframe thead th {\n",
       "        text-align: right;\n",
       "    }\n",
       "</style>\n",
       "<table border=\"1\" class=\"dataframe\">\n",
       "  <thead>\n",
       "    <tr style=\"text-align: right;\">\n",
       "      <th></th>\n",
       "      <th>_id</th>\n",
       "      <th>mall</th>\n",
       "      <th>date</th>\n",
       "      <th>customer</th>\n",
       "      <th>desc</th>\n",
       "      <th>net_am</th>\n",
       "      <th>n_unit</th>\n",
       "      <th>ProductName</th>\n",
       "      <th>FullPath</th>\n",
       "      <th>BuyboxPricedf_cost_product</th>\n",
       "      <th>low</th>\n",
       "      <th>high</th>\n",
       "      <th>sex</th>\n",
       "      <th>bebe</th>\n",
       "    </tr>\n",
       "  </thead>\n",
       "  <tbody>\n",
       "    <tr>\n",
       "      <th>57</th>\n",
       "      <td>1010</td>\n",
       "      <td>1</td>\n",
       "      <td>2016-01-14T22:06:00.000+0000</td>\n",
       "      <td>77051306567</td>\n",
       "      <td>panal dodot azul t4</td>\n",
       "      <td>8.73</td>\n",
       "      <td>1</td>\n",
       "      <td>panal dodot sensitive recien nacido t2 (4-8 kg...</td>\n",
       "      <td>Inicio/Supermercado/Bebé/Pañales y Toallitas/P...</td>\n",
       "      <td>39.95</td>\n",
       "      <td>0.0</td>\n",
       "      <td>1.0</td>\n",
       "      <td>N</td>\n",
       "      <td>True</td>\n",
       "    </tr>\n",
       "    <tr>\n",
       "      <th>65</th>\n",
       "      <td>1010</td>\n",
       "      <td>1</td>\n",
       "      <td>2016-01-14T22:06:00.000+0000</td>\n",
       "      <td>77051306567</td>\n",
       "      <td>toallitas dodot</td>\n",
       "      <td>9.50</td>\n",
       "      <td>1</td>\n",
       "      <td>toallitas para bebe basico dodot 54 ud.</td>\n",
       "      <td>Inicio/Supermercado/Bebé/Pañales y Toallitas/T...</td>\n",
       "      <td>0.98</td>\n",
       "      <td>1.0</td>\n",
       "      <td>0.0</td>\n",
       "      <td>N</td>\n",
       "      <td>True</td>\n",
       "    </tr>\n",
       "    <tr>\n",
       "      <th>79</th>\n",
       "      <td>1010</td>\n",
       "      <td>1</td>\n",
       "      <td>2016-01-14T22:06:00.000+0000</td>\n",
       "      <td>77051306567</td>\n",
       "      <td>baby bol 300ml</td>\n",
       "      <td>5.00</td>\n",
       "      <td>2</td>\n",
       "      <td>pants optima adsorption my carrefour baby t6 (...</td>\n",
       "      <td>Inicio/Supermercado/Bebé/Pañales y Toallitas/P...</td>\n",
       "      <td>6.20</td>\n",
       "      <td>0.0</td>\n",
       "      <td>0.0</td>\n",
       "      <td>N</td>\n",
       "      <td>True</td>\n",
       "    </tr>\n",
       "    <tr>\n",
       "      <th>91</th>\n",
       "      <td>1011</td>\n",
       "      <td>2</td>\n",
       "      <td>2016-01-14T23:06:00.000+0000</td>\n",
       "      <td>77051306567</td>\n",
       "      <td>pijama pto ml sra</td>\n",
       "      <td>13.00</td>\n",
       "      <td>1</td>\n",
       "      <td>leche infantil de continuacion con cereales pi...</td>\n",
       "      <td>Inicio/Supermercado/Bebé/Alimentación infantil...</td>\n",
       "      <td>2.00</td>\n",
       "      <td>0.0</td>\n",
       "      <td>0.0</td>\n",
       "      <td>N</td>\n",
       "      <td>True</td>\n",
       "    </tr>\n",
       "    <tr>\n",
       "      <th>231</th>\n",
       "      <td>1029</td>\n",
       "      <td>2</td>\n",
       "      <td>2016-01-14T22:00:00.000+0000</td>\n",
       "      <td>77055638528</td>\n",
       "      <td>platano canario</td>\n",
       "      <td>2.53</td>\n",
       "      <td>1</td>\n",
       "      <td>preparado de pera, platano y kiwi desde 6 mese...</td>\n",
       "      <td>Inicio/Supermercado/Bebé/Alimentación infantil...</td>\n",
       "      <td>1.65</td>\n",
       "      <td>0.0</td>\n",
       "      <td>0.0</td>\n",
       "      <td>N</td>\n",
       "      <td>True</td>\n",
       "    </tr>\n",
       "  </tbody>\n",
       "</table>\n",
       "</div>"
      ],
      "text/plain": [
       "      _id  mall                          date     customer  \\\n",
       "57   1010     1  2016-01-14T22:06:00.000+0000  77051306567   \n",
       "65   1010     1  2016-01-14T22:06:00.000+0000  77051306567   \n",
       "79   1010     1  2016-01-14T22:06:00.000+0000  77051306567   \n",
       "91   1011     2  2016-01-14T23:06:00.000+0000  77051306567   \n",
       "231  1029     2  2016-01-14T22:00:00.000+0000  77055638528   \n",
       "\n",
       "                    desc  net_am  n_unit  \\\n",
       "57   panal dodot azul t4    8.73       1   \n",
       "65       toallitas dodot    9.50       1   \n",
       "79        baby bol 300ml    5.00       2   \n",
       "91     pijama pto ml sra   13.00       1   \n",
       "231      platano canario    2.53       1   \n",
       "\n",
       "                                           ProductName  \\\n",
       "57   panal dodot sensitive recien nacido t2 (4-8 kg...   \n",
       "65             toallitas para bebe basico dodot 54 ud.   \n",
       "79   pants optima adsorption my carrefour baby t6 (...   \n",
       "91   leche infantil de continuacion con cereales pi...   \n",
       "231  preparado de pera, platano y kiwi desde 6 mese...   \n",
       "\n",
       "                                              FullPath  \\\n",
       "57   Inicio/Supermercado/Bebé/Pañales y Toallitas/P...   \n",
       "65   Inicio/Supermercado/Bebé/Pañales y Toallitas/T...   \n",
       "79   Inicio/Supermercado/Bebé/Pañales y Toallitas/P...   \n",
       "91   Inicio/Supermercado/Bebé/Alimentación infantil...   \n",
       "231  Inicio/Supermercado/Bebé/Alimentación infantil...   \n",
       "\n",
       "     BuyboxPricedf_cost_product  low  high sex  bebe  \n",
       "57                        39.95  0.0   1.0   N  True  \n",
       "65                         0.98  1.0   0.0   N  True  \n",
       "79                         6.20  0.0   0.0   N  True  \n",
       "91                         2.00  0.0   0.0   N  True  \n",
       "231                        1.65  0.0   0.0   N  True  "
      ]
     },
     "execution_count": 51,
     "metadata": {},
     "output_type": "execute_result"
    }
   ],
   "source": [
    "df[df['bebe']].head()"
   ]
  },
  {
   "cell_type": "markdown",
   "metadata": {
    "id": "MZZCxAmfsPLt"
   },
   "source": [
    "### 'animal'\n",
    "\n",
    "If there are problem with the label we can make another one that looks for the words like dog/cat/etc... in the product like we did for M/F"
   ]
  },
  {
   "cell_type": "code",
   "execution_count": 52,
   "metadata": {
    "id": "JPa-CNyasPLv"
   },
   "outputs": [],
   "source": [
    "df['animal'] = False\n",
    "df_mask = df.copy()\n",
    "mask = df['FullPath'].fillna('').str.contains('Mascotas')\n",
    "df.loc[mask, 'animal'] = True"
   ]
  },
  {
   "cell_type": "code",
   "execution_count": 53,
   "metadata": {
    "colab": {
     "base_uri": "https://localhost:8080/",
     "height": 513
    },
    "id": "uXfNPpThsPLy",
    "outputId": "63cfc1e7-c7c1-4a32-cf80-85859c3fa83f"
   },
   "outputs": [
    {
     "data": {
      "text/html": [
       "<div>\n",
       "<style scoped>\n",
       "    .dataframe tbody tr th:only-of-type {\n",
       "        vertical-align: middle;\n",
       "    }\n",
       "\n",
       "    .dataframe tbody tr th {\n",
       "        vertical-align: top;\n",
       "    }\n",
       "\n",
       "    .dataframe thead th {\n",
       "        text-align: right;\n",
       "    }\n",
       "</style>\n",
       "<table border=\"1\" class=\"dataframe\">\n",
       "  <thead>\n",
       "    <tr style=\"text-align: right;\">\n",
       "      <th></th>\n",
       "      <th>_id</th>\n",
       "      <th>mall</th>\n",
       "      <th>date</th>\n",
       "      <th>customer</th>\n",
       "      <th>desc</th>\n",
       "      <th>net_am</th>\n",
       "      <th>n_unit</th>\n",
       "      <th>ProductName</th>\n",
       "      <th>FullPath</th>\n",
       "      <th>BuyboxPricedf_cost_product</th>\n",
       "      <th>low</th>\n",
       "      <th>high</th>\n",
       "      <th>sex</th>\n",
       "      <th>bebe</th>\n",
       "      <th>animal</th>\n",
       "    </tr>\n",
       "  </thead>\n",
       "  <tbody>\n",
       "    <tr>\n",
       "      <th>9</th>\n",
       "      <td>1003</td>\n",
       "      <td>2</td>\n",
       "      <td>2016-01-14T20:07:00.000+0000</td>\n",
       "      <td>77021708271</td>\n",
       "      <td>cereales estrellitas</td>\n",
       "      <td>1.85</td>\n",
       "      <td>1</td>\n",
       "      <td>pienso de buey, verduras y cereales para perro...</td>\n",
       "      <td>Inicio/Supermercado/Mascotas/Perros/Pienso par...</td>\n",
       "      <td>3.99</td>\n",
       "      <td>0.0</td>\n",
       "      <td>0.0</td>\n",
       "      <td>N</td>\n",
       "      <td>False</td>\n",
       "      <td>True</td>\n",
       "    </tr>\n",
       "    <tr>\n",
       "      <th>161</th>\n",
       "      <td>1015</td>\n",
       "      <td>2</td>\n",
       "      <td>2016-01-14T21:05:00.000+0000</td>\n",
       "      <td>77051306567</td>\n",
       "      <td>brekkies excel 15kg</td>\n",
       "      <td>22.95</td>\n",
       "      <td>1</td>\n",
       "      <td>snack dental para perros total dent excel brek...</td>\n",
       "      <td>Inicio/Supermercado/Mascotas/Perros/Premios, S...</td>\n",
       "      <td>2.50</td>\n",
       "      <td>0.0</td>\n",
       "      <td>0.0</td>\n",
       "      <td>N</td>\n",
       "      <td>False</td>\n",
       "      <td>True</td>\n",
       "    </tr>\n",
       "    <tr>\n",
       "      <th>391</th>\n",
       "      <td>1046</td>\n",
       "      <td>1</td>\n",
       "      <td>2016-01-14T21:54:00.000+0000</td>\n",
       "      <td>77018235873</td>\n",
       "      <td>sheba 4x85gr</td>\n",
       "      <td>2.30</td>\n",
       "      <td>1</td>\n",
       "      <td>sheba multipack de 6 bolsitas delices du jour ...</td>\n",
       "      <td>Inicio/Supermercado/Mascotas/Gatos/Pienso para...</td>\n",
       "      <td>2.50</td>\n",
       "      <td>0.0</td>\n",
       "      <td>0.0</td>\n",
       "      <td>N</td>\n",
       "      <td>False</td>\n",
       "      <td>True</td>\n",
       "    </tr>\n",
       "    <tr>\n",
       "      <th>392</th>\n",
       "      <td>1046</td>\n",
       "      <td>1</td>\n",
       "      <td>2016-01-14T21:54:00.000+0000</td>\n",
       "      <td>77018235873</td>\n",
       "      <td>sheba 4x85gr</td>\n",
       "      <td>2.30</td>\n",
       "      <td>2</td>\n",
       "      <td>sheba multipack de 6 bolsitas delices du jour ...</td>\n",
       "      <td>Inicio/Supermercado/Mascotas/Gatos/Pienso para...</td>\n",
       "      <td>2.50</td>\n",
       "      <td>0.0</td>\n",
       "      <td>0.0</td>\n",
       "      <td>N</td>\n",
       "      <td>False</td>\n",
       "      <td>True</td>\n",
       "    </tr>\n",
       "    <tr>\n",
       "      <th>395</th>\n",
       "      <td>1046</td>\n",
       "      <td>1</td>\n",
       "      <td>2016-01-14T21:54:00.000+0000</td>\n",
       "      <td>77018235873</td>\n",
       "      <td>gato humedo 12x100gr</td>\n",
       "      <td>3.95</td>\n",
       "      <td>1</td>\n",
       "      <td>alimento humedo para gato con buey y zanahoria...</td>\n",
       "      <td>Inicio/Supermercado/Mascotas/Gatos/Pienso para...</td>\n",
       "      <td>0.35</td>\n",
       "      <td>1.0</td>\n",
       "      <td>0.0</td>\n",
       "      <td>N</td>\n",
       "      <td>False</td>\n",
       "      <td>True</td>\n",
       "    </tr>\n",
       "  </tbody>\n",
       "</table>\n",
       "</div>"
      ],
      "text/plain": [
       "      _id  mall                          date     customer  \\\n",
       "9    1003     2  2016-01-14T20:07:00.000+0000  77021708271   \n",
       "161  1015     2  2016-01-14T21:05:00.000+0000  77051306567   \n",
       "391  1046     1  2016-01-14T21:54:00.000+0000  77018235873   \n",
       "392  1046     1  2016-01-14T21:54:00.000+0000  77018235873   \n",
       "395  1046     1  2016-01-14T21:54:00.000+0000  77018235873   \n",
       "\n",
       "                     desc  net_am  n_unit  \\\n",
       "9    cereales estrellitas    1.85       1   \n",
       "161   brekkies excel 15kg   22.95       1   \n",
       "391          sheba 4x85gr    2.30       1   \n",
       "392          sheba 4x85gr    2.30       2   \n",
       "395  gato humedo 12x100gr    3.95       1   \n",
       "\n",
       "                                           ProductName  \\\n",
       "9    pienso de buey, verduras y cereales para perro...   \n",
       "161  snack dental para perros total dent excel brek...   \n",
       "391  sheba multipack de 6 bolsitas delices du jour ...   \n",
       "392  sheba multipack de 6 bolsitas delices du jour ...   \n",
       "395  alimento humedo para gato con buey y zanahoria...   \n",
       "\n",
       "                                              FullPath  \\\n",
       "9    Inicio/Supermercado/Mascotas/Perros/Pienso par...   \n",
       "161  Inicio/Supermercado/Mascotas/Perros/Premios, S...   \n",
       "391  Inicio/Supermercado/Mascotas/Gatos/Pienso para...   \n",
       "392  Inicio/Supermercado/Mascotas/Gatos/Pienso para...   \n",
       "395  Inicio/Supermercado/Mascotas/Gatos/Pienso para...   \n",
       "\n",
       "     BuyboxPricedf_cost_product  low  high sex   bebe  animal  \n",
       "9                          3.99  0.0   0.0   N  False    True  \n",
       "161                        2.50  0.0   0.0   N  False    True  \n",
       "391                        2.50  0.0   0.0   N  False    True  \n",
       "392                        2.50  0.0   0.0   N  False    True  \n",
       "395                        0.35  1.0   0.0   N  False    True  "
      ]
     },
     "execution_count": 53,
     "metadata": {},
     "output_type": "execute_result"
    }
   ],
   "source": [
    "df[df['animal']].head()"
   ]
  },
  {
   "cell_type": "markdown",
   "metadata": {
    "id": "Zkq6-P4TsPL4"
   },
   "source": [
    "# Group by customer ID\n",
    "\n",
    "Now we group all the individual tickets in one single shopping per customer id.\n",
    "\n",
    "In doing the group by, we aggregate different metrics both at the shopping level (ex. date and time of shopping) and at the product level (ex. M/F)"
   ]
  },
  {
   "cell_type": "code",
   "execution_count": 54,
   "metadata": {
    "id": "rtl8BWtromr1"
   },
   "outputs": [],
   "source": [
    "# Initially we though that the _id column indicated the different shopping\n",
    "# After the EDA, we discovered that there are many cases of different _id shopping that happened at the same time\n",
    "# In general, we observed that for every shopping time, there are multiple shopping _id, therefore we decided to grouyp by the different timestamps.\n",
    "\n",
    "# TODO: what is the role of _id? Each _id associated with only one timestamp?\n",
    "\n",
    "df_id = df.groupby(by=['customer']).nunique()['date']"
   ]
  },
  {
   "cell_type": "code",
   "execution_count": 55,
   "metadata": {},
   "outputs": [
    {
     "data": {
      "text/plain": [
       "(66057,)"
      ]
     },
     "execution_count": 55,
     "metadata": {},
     "output_type": "execute_result"
    }
   ],
   "source": [
    "# The shape is the same as the unique number of customers, less the Unknown customer that was removed at the beginning of the notebook.\n",
    "\n",
    "df_id.shape"
   ]
  },
  {
   "cell_type": "code",
   "execution_count": 56,
   "metadata": {
    "colab": {
     "base_uri": "https://localhost:8080/",
     "height": 282
    },
    "id": "RCkhSmXw27ur",
    "outputId": "b88aa4de-77d9-4a89-f144-a9ba6fc4d554"
   },
   "outputs": [
    {
     "data": {
      "text/plain": [
       "<matplotlib.axes._subplots.AxesSubplot at 0x7fc98ed6f490>"
      ]
     },
     "execution_count": 56,
     "metadata": {},
     "output_type": "execute_result"
    },
    {
     "data": {
      "image/png": "[encoded data removed]",
      "text/plain": [
       "<Figure size 432x288 with 1 Axes>"
      ]
     },
     "metadata": {
      "needs_background": "light"
     },
     "output_type": "display_data"
    }
   ],
   "source": [
    "df_id.hist(bins=30)"
   ]
  },
  {
   "cell_type": "code",
   "execution_count": 57,
   "metadata": {},
   "outputs": [
    {
     "data": {
      "text/plain": [
       "1     35426\n",
       "2      1852\n",
       "3      1887\n",
       "4      1998\n",
       "5      2108\n",
       "6      2114\n",
       "7      2145\n",
       "8      2247\n",
       "9      2197\n",
       "10     2099\n",
       "11     2206\n",
       "12     2024\n",
       "13     1815\n",
       "14     1529\n",
       "15     1131\n",
       "16      815\n",
       "17      539\n",
       "18      378\n",
       "19      256\n",
       "20      190\n",
       "21      139\n",
       "22      129\n",
       "23      106\n",
       "24       91\n",
       "25       67\n",
       "26       61\n",
       "27       70\n",
       "28       53\n",
       "29       42\n",
       "30       40\n",
       "31       42\n",
       "32       39\n",
       "33       29\n",
       "34       16\n",
       "35       15\n",
       "36       15\n",
       "37       16\n",
       "38       15\n",
       "39       10\n",
       "40       14\n",
       "41        5\n",
       "42        7\n",
       "43        4\n",
       "44        3\n",
       "45        6\n",
       "46        4\n",
       "47        3\n",
       "48        6\n",
       "49        5\n",
       "50        4\n",
       "Name: date, dtype: int64"
      ]
     },
     "execution_count": 57,
     "metadata": {},
     "output_type": "execute_result"
    }
   ],
   "source": [
    "# What to do about the big peak?\n",
    "# What is the most common value of the count?\n",
    "# Should we take out from our analysis all the one-time purchases?\n",
    "\n",
    "df_id.value_counts().sort_index().head(50)"
   ]
  },
  {
   "cell_type": "code",
   "execution_count": 58,
   "metadata": {},
   "outputs": [
    {
     "data": {
      "text/plain": [
       "<matplotlib.axes._subplots.AxesSubplot at 0x7fc98eb5cf70>"
      ]
     },
     "execution_count": 58,
     "metadata": {},
     "output_type": "execute_result"
    },
    {
     "data": {
      "image/png": "[encoded data removed]",
      "text/plain": [
       "<Figure size 432x288 with 1 Axes>"
      ]
     },
     "metadata": {
      "needs_background": "light"
     },
     "output_type": "display_data"
    }
   ],
   "source": [
    "# Would it make sense to delete all the consumers that go just for one shopping?\n",
    "# On the other hand, if they are easy to cluster, they will end up in their own cluster anyway?\n",
    "# But including them maybe will lead to worst clustering for the observations we are really interested in?\n",
    "\n",
    "df_id[df_id != 1].hist(bins=30)"
   ]
  },
  {
   "cell_type": "code",
   "execution_count": 59,
   "metadata": {},
   "outputs": [
    {
     "data": {
      "text/plain": [
       "(30631,)"
      ]
     },
     "execution_count": 59,
     "metadata": {},
     "output_type": "execute_result"
    }
   ],
   "source": [
    "# Number of unique customers after removing one-time purchasers: 30K\n",
    "# This means that more than half of all the purchases are one-time.\n",
    "\n",
    "df_id[df_id != 1].shape"
   ]
  },
  {
   "cell_type": "code",
   "execution_count": 60,
   "metadata": {},
   "outputs": [],
   "source": [
    "# To check if it would be better to remove the one-time-purchesers, I create a new df without them.\n",
    "# In this way, I can check how this other dataset perform in all the analysis below.\n",
    "\n",
    "def remove_one_time_purchasers(df_id):\n",
    "    df_id_multiple = df_id.copy()\n",
    "    return df_id_multiple[df_id_multiple['count'] != 1]\n",
    "\n",
    "def remove_k_time_purchasers(df_id, k):\n",
    "    df_id_multiple = df_id.copy()\n",
    "    return df_id_multiple[df_id_multiple['count'] > k]"
   ]
  },
  {
   "cell_type": "markdown",
   "metadata": {
    "id": "BkhUXN2FsPMA"
   },
   "source": [
    "## Statistics on datetime"
   ]
  },
  {
   "cell_type": "code",
   "execution_count": 61,
   "metadata": {
    "id": "NSLeGiH1sPMF"
   },
   "outputs": [],
   "source": [
    "df['datetime'] = pd.to_datetime(df['date'])"
   ]
  },
  {
   "cell_type": "code",
   "execution_count": 62,
   "metadata": {
    "id": "AfImLiUfsPMJ"
   },
   "outputs": [],
   "source": [
    "df['hour'] = df['datetime'].dt.hour"
   ]
  },
  {
   "cell_type": "code",
   "execution_count": 63,
   "metadata": {},
   "outputs": [
    {
     "data": {
      "text/plain": [
       "<matplotlib.axes._subplots.AxesSubplot at 0x7fc98b37cb20>"
      ]
     },
     "execution_count": 63,
     "metadata": {},
     "output_type": "execute_result"
    },
    {
     "data": {
      "image/png": "[encoded data removed]",
      "text/plain": [
       "<Figure size 432x288 with 1 Axes>"
      ]
     },
     "metadata": {
      "needs_background": "light"
     },
     "output_type": "display_data"
    }
   ],
   "source": [
    "# Weird hour distribution\n",
    "\n",
    "df['hour'].hist(bins=30)"
   ]
  },
  {
   "cell_type": "code",
   "execution_count": 64,
   "metadata": {
    "id": "V0pUykslsPMK"
   },
   "outputs": [],
   "source": [
    "hour_mean = df.groupby(by=[\"customer\"]).mean()['hour']"
   ]
  },
  {
   "cell_type": "code",
   "execution_count": 65,
   "metadata": {
    "id": "puypqvgqsPMR"
   },
   "outputs": [],
   "source": [
    "hour_variance = df.groupby(by=[\"customer\"]).var()['hour']"
   ]
  },
  {
   "cell_type": "code",
   "execution_count": 66,
   "metadata": {
    "id": "PiM213JOsPMT"
   },
   "outputs": [],
   "source": [
    "df_id = pd.DataFrame([df_id, hour_mean, hour_variance]).T\n",
    "df_id.columns = ['count', 'hour_mean', 'hour_var']"
   ]
  },
  {
   "cell_type": "code",
   "execution_count": 67,
   "metadata": {},
   "outputs": [
    {
     "data": {
      "text/plain": [
       "<matplotlib.axes._subplots.AxesSubplot at 0x7fc98b4aff10>"
      ]
     },
     "execution_count": 67,
     "metadata": {},
     "output_type": "execute_result"
    },
    {
     "data": {
      "image/png": "[encoded data removed]",
      "text/plain": [
       "<Figure size 432x288 with 1 Axes>"
      ]
     },
     "metadata": {
      "needs_background": "light"
     },
     "output_type": "display_data"
    }
   ],
   "source": [
    "df_id['hour_mean'].hist(bins=30)"
   ]
  },
  {
   "cell_type": "code",
   "execution_count": 68,
   "metadata": {},
   "outputs": [
    {
     "data": {
      "text/plain": [
       "<matplotlib.axes._subplots.AxesSubplot at 0x7fc98bc93df0>"
      ]
     },
     "execution_count": 68,
     "metadata": {},
     "output_type": "execute_result"
    },
    {
     "data": {
      "image/png": "[encoded data removed]",
      "text/plain": [
       "<Figure size 432x288 with 1 Axes>"
      ]
     },
     "metadata": {
      "needs_background": "light"
     },
     "output_type": "display_data"
    }
   ],
   "source": [
    "# Nothing much change removing one-time purchasers\n",
    "\n",
    "df_id_multiple = remove_one_time_purchasers(df_id)\n",
    "df_id_multiple['hour_mean'].hist(bins=30)"
   ]
  },
  {
   "cell_type": "code",
   "execution_count": 69,
   "metadata": {},
   "outputs": [
    {
     "data": {
      "text/plain": [
       "<matplotlib.axes._subplots.AxesSubplot at 0x7fc8f2197820>"
      ]
     },
     "execution_count": 69,
     "metadata": {},
     "output_type": "execute_result"
    },
    {
     "data": {
      "image/png": "[encoded data removed]",
      "text/plain": [
       "<Figure size 432x288 with 1 Axes>"
      ]
     },
     "metadata": {
      "needs_background": "light"
     },
     "output_type": "display_data"
    }
   ],
   "source": [
    "# Same result removing k-and-less-time-purchasers\n",
    "\n",
    "df_id_multiple_k = remove_k_time_purchasers(df_id, 10)\n",
    "df_id_multiple_k['hour_mean'].hist(bins=30)"
   ]
  },
  {
   "cell_type": "code",
   "execution_count": 70,
   "metadata": {
    "colab": {
     "base_uri": "https://localhost:8080/",
     "height": 235
    },
    "id": "1VtgDng8sPMU",
    "outputId": "b8106bf9-7aa8-478d-9ded-a9a63e8e0bec"
   },
   "outputs": [
    {
     "data": {
      "text/html": [
       "<div>\n",
       "<style scoped>\n",
       "    .dataframe tbody tr th:only-of-type {\n",
       "        vertical-align: middle;\n",
       "    }\n",
       "\n",
       "    .dataframe tbody tr th {\n",
       "        vertical-align: top;\n",
       "    }\n",
       "\n",
       "    .dataframe thead th {\n",
       "        text-align: right;\n",
       "    }\n",
       "</style>\n",
       "<table border=\"1\" class=\"dataframe\">\n",
       "  <thead>\n",
       "    <tr style=\"text-align: right;\">\n",
       "      <th></th>\n",
       "      <th>count</th>\n",
       "      <th>hour_mean</th>\n",
       "      <th>hour_var</th>\n",
       "    </tr>\n",
       "    <tr>\n",
       "      <th>customer</th>\n",
       "      <th></th>\n",
       "      <th></th>\n",
       "      <th></th>\n",
       "    </tr>\n",
       "  </thead>\n",
       "  <tbody>\n",
       "    <tr>\n",
       "      <th>77000001548</th>\n",
       "      <td>12.0</td>\n",
       "      <td>21.086667</td>\n",
       "      <td>2.240761</td>\n",
       "    </tr>\n",
       "    <tr>\n",
       "      <th>77000001680</th>\n",
       "      <td>15.0</td>\n",
       "      <td>16.844156</td>\n",
       "      <td>2.281822</td>\n",
       "    </tr>\n",
       "    <tr>\n",
       "      <th>77000002166</th>\n",
       "      <td>16.0</td>\n",
       "      <td>19.004329</td>\n",
       "      <td>2.752155</td>\n",
       "    </tr>\n",
       "    <tr>\n",
       "      <th>77000004744</th>\n",
       "      <td>7.0</td>\n",
       "      <td>11.636364</td>\n",
       "      <td>1.707013</td>\n",
       "    </tr>\n",
       "    <tr>\n",
       "      <th>77000005496</th>\n",
       "      <td>1.0</td>\n",
       "      <td>23.000000</td>\n",
       "      <td>0.000000</td>\n",
       "    </tr>\n",
       "  </tbody>\n",
       "</table>\n",
       "</div>"
      ],
      "text/plain": [
       "             count  hour_mean  hour_var\n",
       "customer                               \n",
       "77000001548   12.0  21.086667  2.240761\n",
       "77000001680   15.0  16.844156  2.281822\n",
       "77000002166   16.0  19.004329  2.752155\n",
       "77000004744    7.0  11.636364  1.707013\n",
       "77000005496    1.0  23.000000  0.000000"
      ]
     },
     "execution_count": 70,
     "metadata": {},
     "output_type": "execute_result"
    }
   ],
   "source": [
    "df_id.head()"
   ]
  },
  {
   "cell_type": "markdown",
   "metadata": {
    "id": "SbOQcS63pnlu"
   },
   "source": [
    "## Total items bought"
   ]
  },
  {
   "cell_type": "code",
   "execution_count": 71,
   "metadata": {
    "id": "0vIsa30Splrp"
   },
   "outputs": [],
   "source": [
    "df_id['unit_tot'] = df.groupby(by=['customer']).sum()['n_unit']"
   ]
  },
  {
   "cell_type": "code",
   "execution_count": 72,
   "metadata": {
    "colab": {
     "base_uri": "https://localhost:8080/",
     "height": 282
    },
    "id": "RFhTXxh_o4GU",
    "outputId": "bdf2d43e-d0bc-46de-d35d-b97869b6f40b"
   },
   "outputs": [
    {
     "data": {
      "text/plain": [
       "<matplotlib.axes._subplots.AxesSubplot at 0x7fc8f22e5f70>"
      ]
     },
     "execution_count": 72,
     "metadata": {},
     "output_type": "execute_result"
    },
    {
     "data": {
      "image/png": "[encoded data removed]",
      "text/plain": [
       "<Figure size 432x288 with 1 Axes>"
      ]
     },
     "metadata": {
      "needs_background": "light"
     },
     "output_type": "display_data"
    }
   ],
   "source": [
    "df_id['unit_tot'].hist(bins=30)"
   ]
  },
  {
   "cell_type": "code",
   "execution_count": 73,
   "metadata": {},
   "outputs": [
    {
     "data": {
      "text/plain": [
       "<matplotlib.axes._subplots.AxesSubplot at 0x7fc8f2327760>"
      ]
     },
     "execution_count": 73,
     "metadata": {},
     "output_type": "execute_result"
    },
    {
     "data": {
      "image/png": "[encoded data removed]",
      "text/plain": [
       "<Figure size 432x288 with 1 Axes>"
      ]
     },
     "metadata": {
      "needs_background": "light"
     },
     "output_type": "display_data"
    }
   ],
   "source": [
    "# Let's zoom in\n",
    "\n",
    "df_id[df_id['unit_tot']<50]['unit_tot'].hist(bins=30)"
   ]
  },
  {
   "cell_type": "code",
   "execution_count": 74,
   "metadata": {},
   "outputs": [
    {
     "data": {
      "text/plain": [
       "<matplotlib.axes._subplots.AxesSubplot at 0x7fc8f27545e0>"
      ]
     },
     "execution_count": 74,
     "metadata": {},
     "output_type": "execute_result"
    },
    {
     "data": {
      "image/png": "[encoded data removed]",
      "text/plain": [
       "<Figure size 432x288 with 1 Axes>"
      ]
     },
     "metadata": {
      "needs_background": "light"
     },
     "output_type": "display_data"
    }
   ],
   "source": [
    "# Let's check without the one-time-shoppers\n",
    "\n",
    "df_id[df_id['count'] != 1]['unit_tot'].hist(bins=30)"
   ]
  },
  {
   "cell_type": "code",
   "execution_count": 75,
   "metadata": {
    "colab": {
     "base_uri": "https://localhost:8080/",
     "height": 235
    },
    "id": "U82TJmWUpmw3",
    "outputId": "d1d3de03-7b4e-49c5-d795-bb25e53c3689"
   },
   "outputs": [
    {
     "data": {
      "text/html": [
       "<div>\n",
       "<style scoped>\n",
       "    .dataframe tbody tr th:only-of-type {\n",
       "        vertical-align: middle;\n",
       "    }\n",
       "\n",
       "    .dataframe tbody tr th {\n",
       "        vertical-align: top;\n",
       "    }\n",
       "\n",
       "    .dataframe thead th {\n",
       "        text-align: right;\n",
       "    }\n",
       "</style>\n",
       "<table border=\"1\" class=\"dataframe\">\n",
       "  <thead>\n",
       "    <tr style=\"text-align: right;\">\n",
       "      <th></th>\n",
       "      <th>count</th>\n",
       "      <th>hour_mean</th>\n",
       "      <th>hour_var</th>\n",
       "      <th>unit_tot</th>\n",
       "    </tr>\n",
       "    <tr>\n",
       "      <th>customer</th>\n",
       "      <th></th>\n",
       "      <th></th>\n",
       "      <th></th>\n",
       "      <th></th>\n",
       "    </tr>\n",
       "  </thead>\n",
       "  <tbody>\n",
       "    <tr>\n",
       "      <th>77000001548</th>\n",
       "      <td>12.0</td>\n",
       "      <td>21.086667</td>\n",
       "      <td>2.240761</td>\n",
       "      <td>222</td>\n",
       "    </tr>\n",
       "    <tr>\n",
       "      <th>77000001680</th>\n",
       "      <td>15.0</td>\n",
       "      <td>16.844156</td>\n",
       "      <td>2.281822</td>\n",
       "      <td>403</td>\n",
       "    </tr>\n",
       "    <tr>\n",
       "      <th>77000002166</th>\n",
       "      <td>16.0</td>\n",
       "      <td>19.004329</td>\n",
       "      <td>2.752155</td>\n",
       "      <td>324</td>\n",
       "    </tr>\n",
       "    <tr>\n",
       "      <th>77000004744</th>\n",
       "      <td>7.0</td>\n",
       "      <td>11.636364</td>\n",
       "      <td>1.707013</td>\n",
       "      <td>259</td>\n",
       "    </tr>\n",
       "    <tr>\n",
       "      <th>77000005496</th>\n",
       "      <td>1.0</td>\n",
       "      <td>23.000000</td>\n",
       "      <td>0.000000</td>\n",
       "      <td>5</td>\n",
       "    </tr>\n",
       "  </tbody>\n",
       "</table>\n",
       "</div>"
      ],
      "text/plain": [
       "             count  hour_mean  hour_var  unit_tot\n",
       "customer                                         \n",
       "77000001548   12.0  21.086667  2.240761       222\n",
       "77000001680   15.0  16.844156  2.281822       403\n",
       "77000002166   16.0  19.004329  2.752155       324\n",
       "77000004744    7.0  11.636364  1.707013       259\n",
       "77000005496    1.0  23.000000  0.000000         5"
      ]
     },
     "execution_count": 75,
     "metadata": {},
     "output_type": "execute_result"
    }
   ],
   "source": [
    "df_id.head()"
   ]
  },
  {
   "cell_type": "markdown",
   "metadata": {
    "id": "GbR_plP1fMPN"
   },
   "source": [
    "## Animal/Bebe in shopping\n",
    "\n",
    "Find the number of shoppings in which a customer purchased at least one item related to animal or bebe."
   ]
  },
  {
   "cell_type": "code",
   "execution_count": 76,
   "metadata": {
    "id": "WQY6gcUEhnka"
   },
   "outputs": [],
   "source": [
    "df['animal'] = df['animal'].astype(bool)\n",
    "df['bebe'] = df['bebe'].astype(bool)"
   ]
  },
  {
   "cell_type": "code",
   "execution_count": 77,
   "metadata": {
    "id": "sgy8liyFk_TQ"
   },
   "outputs": [],
   "source": [
    "df_id['animal_tot'] = df.groupby(by=['customer']).sum()['animal']\n",
    "df_id['bebe_tot'] = df.groupby(by=['customer']).sum()['bebe']"
   ]
  },
  {
   "cell_type": "code",
   "execution_count": 78,
   "metadata": {},
   "outputs": [
    {
     "data": {
      "text/plain": [
       "0.0     45962\n",
       "1.0      9954\n",
       "2.0      4799\n",
       "3.0      2445\n",
       "4.0      1353\n",
       "5.0       718\n",
       "6.0       372\n",
       "7.0       197\n",
       "8.0       114\n",
       "9.0        70\n",
       "10.0       30\n",
       "11.0       20\n",
       "13.0        9\n",
       "12.0        6\n",
       "14.0        5\n",
       "19.0        1\n",
       "16.0        1\n",
       "27.0        1\n",
       "Name: animal_tot, dtype: int64"
      ]
     },
     "execution_count": 78,
     "metadata": {},
     "output_type": "execute_result"
    }
   ],
   "source": [
    "# Total animal products bought by customer\n",
    "\n",
    "df_id['animal_tot'].value_counts()"
   ]
  },
  {
   "cell_type": "code",
   "execution_count": 79,
   "metadata": {},
   "outputs": [
    {
     "data": {
      "text/plain": [
       "0.0     34840\n",
       "1.0     10900\n",
       "2.0      6089\n",
       "3.0      4398\n",
       "4.0      3111\n",
       "5.0      2251\n",
       "6.0      1513\n",
       "7.0       998\n",
       "8.0       700\n",
       "9.0       465\n",
       "10.0      274\n",
       "11.0      187\n",
       "12.0      102\n",
       "13.0       77\n",
       "14.0       46\n",
       "15.0       32\n",
       "16.0       22\n",
       "17.0       14\n",
       "18.0        9\n",
       "20.0        6\n",
       "19.0        6\n",
       "22.0        5\n",
       "24.0        3\n",
       "21.0        2\n",
       "23.0        2\n",
       "25.0        2\n",
       "35.0        1\n",
       "29.0        1\n",
       "31.0        1\n",
       "Name: bebe_tot, dtype: int64"
      ]
     },
     "execution_count": 79,
     "metadata": {},
     "output_type": "execute_result"
    }
   ],
   "source": [
    "# Total bebe products bought by customer\n",
    "\n",
    "df_id['bebe_tot'].value_counts()"
   ]
  },
  {
   "cell_type": "code",
   "execution_count": 80,
   "metadata": {
    "id": "_0MVNL_ZlTIs"
   },
   "outputs": [],
   "source": [
    "# Percentage animal/bebe products over total products\n",
    "\n",
    "df_id['animal_perc'] = df_id['animal_tot']*100/df_id['unit_tot']\n",
    "df_id['bebe_perc'] = df_id['bebe_tot']*100/df_id['unit_tot']"
   ]
  },
  {
   "cell_type": "code",
   "execution_count": 81,
   "metadata": {},
   "outputs": [
    {
     "data": {
      "text/html": [
       "<div>\n",
       "<style scoped>\n",
       "    .dataframe tbody tr th:only-of-type {\n",
       "        vertical-align: middle;\n",
       "    }\n",
       "\n",
       "    .dataframe tbody tr th {\n",
       "        vertical-align: top;\n",
       "    }\n",
       "\n",
       "    .dataframe thead th {\n",
       "        text-align: right;\n",
       "    }\n",
       "</style>\n",
       "<table border=\"1\" class=\"dataframe\">\n",
       "  <thead>\n",
       "    <tr style=\"text-align: right;\">\n",
       "      <th></th>\n",
       "      <th>count</th>\n",
       "      <th>hour_mean</th>\n",
       "      <th>hour_var</th>\n",
       "      <th>unit_tot</th>\n",
       "      <th>animal_tot</th>\n",
       "      <th>bebe_tot</th>\n",
       "      <th>animal_perc</th>\n",
       "      <th>bebe_perc</th>\n",
       "    </tr>\n",
       "  </thead>\n",
       "  <tbody>\n",
       "    <tr>\n",
       "      <th>count</th>\n",
       "      <td>66057.000000</td>\n",
       "      <td>66057.000000</td>\n",
       "      <td>62763.000000</td>\n",
       "      <td>66057.000000</td>\n",
       "      <td>66057.000000</td>\n",
       "      <td>66057.000000</td>\n",
       "      <td>65933.000000</td>\n",
       "      <td>65933.000000</td>\n",
       "    </tr>\n",
       "    <tr>\n",
       "      <th>mean</th>\n",
       "      <td>4.992007</td>\n",
       "      <td>15.341567</td>\n",
       "      <td>1.446204</td>\n",
       "      <td>129.156335</td>\n",
       "      <td>0.634043</td>\n",
       "      <td>1.443708</td>\n",
       "      <td>0.557961</td>\n",
       "      <td>1.224783</td>\n",
       "    </tr>\n",
       "    <tr>\n",
       "      <th>std</th>\n",
       "      <td>5.930931</td>\n",
       "      <td>3.682471</td>\n",
       "      <td>5.154081</td>\n",
       "      <td>172.350741</td>\n",
       "      <td>1.292436</td>\n",
       "      <td>2.303534</td>\n",
       "      <td>2.874812</td>\n",
       "      <td>3.970132</td>\n",
       "    </tr>\n",
       "    <tr>\n",
       "      <th>min</th>\n",
       "      <td>1.000000</td>\n",
       "      <td>0.000000</td>\n",
       "      <td>0.000000</td>\n",
       "      <td>0.000000</td>\n",
       "      <td>0.000000</td>\n",
       "      <td>0.000000</td>\n",
       "      <td>0.000000</td>\n",
       "      <td>0.000000</td>\n",
       "    </tr>\n",
       "    <tr>\n",
       "      <th>25%</th>\n",
       "      <td>1.000000</td>\n",
       "      <td>12.197044</td>\n",
       "      <td>0.000000</td>\n",
       "      <td>11.000000</td>\n",
       "      <td>0.000000</td>\n",
       "      <td>0.000000</td>\n",
       "      <td>0.000000</td>\n",
       "      <td>0.000000</td>\n",
       "    </tr>\n",
       "    <tr>\n",
       "      <th>50%</th>\n",
       "      <td>1.000000</td>\n",
       "      <td>15.000000</td>\n",
       "      <td>0.000000</td>\n",
       "      <td>45.000000</td>\n",
       "      <td>0.000000</td>\n",
       "      <td>0.000000</td>\n",
       "      <td>0.000000</td>\n",
       "      <td>0.000000</td>\n",
       "    </tr>\n",
       "    <tr>\n",
       "      <th>75%</th>\n",
       "      <td>8.000000</td>\n",
       "      <td>18.562500</td>\n",
       "      <td>1.696312</td>\n",
       "      <td>203.000000</td>\n",
       "      <td>1.000000</td>\n",
       "      <td>2.000000</td>\n",
       "      <td>0.373134</td>\n",
       "      <td>1.330377</td>\n",
       "    </tr>\n",
       "    <tr>\n",
       "      <th>max</th>\n",
       "      <td>120.000000</td>\n",
       "      <td>23.000000</td>\n",
       "      <td>130.354591</td>\n",
       "      <td>2818.000000</td>\n",
       "      <td>27.000000</td>\n",
       "      <td>35.000000</td>\n",
       "      <td>100.000000</td>\n",
       "      <td>100.000000</td>\n",
       "    </tr>\n",
       "  </tbody>\n",
       "</table>\n",
       "</div>"
      ],
      "text/plain": [
       "              count     hour_mean      hour_var      unit_tot    animal_tot  \\\n",
       "count  66057.000000  66057.000000  62763.000000  66057.000000  66057.000000   \n",
       "mean       4.992007     15.341567      1.446204    129.156335      0.634043   \n",
       "std        5.930931      3.682471      5.154081    172.350741      1.292436   \n",
       "min        1.000000      0.000000      0.000000      0.000000      0.000000   \n",
       "25%        1.000000     12.197044      0.000000     11.000000      0.000000   \n",
       "50%        1.000000     15.000000      0.000000     45.000000      0.000000   \n",
       "75%        8.000000     18.562500      1.696312    203.000000      1.000000   \n",
       "max      120.000000     23.000000    130.354591   2818.000000     27.000000   \n",
       "\n",
       "           bebe_tot   animal_perc     bebe_perc  \n",
       "count  66057.000000  65933.000000  65933.000000  \n",
       "mean       1.443708      0.557961      1.224783  \n",
       "std        2.303534      2.874812      3.970132  \n",
       "min        0.000000      0.000000      0.000000  \n",
       "25%        0.000000      0.000000      0.000000  \n",
       "50%        0.000000      0.000000      0.000000  \n",
       "75%        2.000000      0.373134      1.330377  \n",
       "max       35.000000    100.000000    100.000000  "
      ]
     },
     "execution_count": 81,
     "metadata": {},
     "output_type": "execute_result"
    }
   ],
   "source": [
    "df_id.describe()"
   ]
  },
  {
   "cell_type": "code",
   "execution_count": 82,
   "metadata": {
    "colab": {
     "base_uri": "https://localhost:8080/",
     "height": 337
    },
    "id": "dwsV7brnr4cd",
    "outputId": "b52cd248-386d-467d-9ca1-ee94d5bb4cf7"
   },
   "outputs": [
    {
     "data": {
      "text/plain": [
       "<matplotlib.axes._subplots.AxesSubplot at 0x7fc8f21563d0>"
      ]
     },
     "execution_count": 82,
     "metadata": {},
     "output_type": "execute_result"
    },
    {
     "data": {
      "image/png": "[encoded data removed]",
      "text/plain": [
       "<Figure size 432x288 with 1 Axes>"
      ]
     },
     "metadata": {
      "needs_background": "light"
     },
     "output_type": "display_data"
    }
   ],
   "source": [
    "# Distribution of animal products bought in percentage term with total products, for those who bought at least one animal products\n",
    "\n",
    "df_id[df_id['animal_perc']>0]['animal_perc'].hist(bins=50)"
   ]
  },
  {
   "cell_type": "code",
   "execution_count": 83,
   "metadata": {},
   "outputs": [
    {
     "data": {
      "text/plain": [
       "<matplotlib.axes._subplots.AxesSubplot at 0x7fc8f39cad00>"
      ]
     },
     "execution_count": 83,
     "metadata": {},
     "output_type": "execute_result"
    },
    {
     "data": {
      "image/png": "[encoded data removed]",
      "text/plain": [
       "<Figure size 432x288 with 1 Axes>"
      ]
     },
     "metadata": {
      "needs_background": "light"
     },
     "output_type": "display_data"
    }
   ],
   "source": [
    "# Let's zoom in\n",
    "\n",
    "df_id[(df_id['animal_perc']>0) & (df_id['animal_perc']<10)]['animal_perc'].hist(bins=50)"
   ]
  },
  {
   "cell_type": "code",
   "execution_count": 84,
   "metadata": {},
   "outputs": [
    {
     "data": {
      "text/plain": [
       "<matplotlib.axes._subplots.AxesSubplot at 0x7fc8f3aa8370>"
      ]
     },
     "execution_count": 84,
     "metadata": {},
     "output_type": "execute_result"
    },
    {
     "data": {
      "image/png": "[encoded data removed]",
      "text/plain": [
       "<Figure size 432x288 with 1 Axes>"
      ]
     },
     "metadata": {
      "needs_background": "light"
     },
     "output_type": "display_data"
    }
   ],
   "source": [
    "# Distribution of bebe products bought in percentage term with total products, for those who bought at least one bebe products\n",
    "\n",
    "df_id[df_id['bebe_perc']>0]['bebe_perc'].hist(bins=50)"
   ]
  },
  {
   "cell_type": "code",
   "execution_count": 85,
   "metadata": {},
   "outputs": [
    {
     "data": {
      "text/plain": [
       "<matplotlib.axes._subplots.AxesSubplot at 0x7fc8f3ae8640>"
      ]
     },
     "execution_count": 85,
     "metadata": {},
     "output_type": "execute_result"
    },
    {
     "data": {
      "image/png": "[encoded data removed]",
      "text/plain": [
       "<Figure size 432x288 with 1 Axes>"
      ]
     },
     "metadata": {
      "needs_background": "light"
     },
     "output_type": "display_data"
    }
   ],
   "source": [
    "# Let's zoom in\n",
    "\n",
    "df_id[(df_id['bebe_perc']>0) & (df_id['bebe_perc']<10)]['bebe_perc'].hist(bins=50)"
   ]
  },
  {
   "cell_type": "code",
   "execution_count": 86,
   "metadata": {},
   "outputs": [],
   "source": [
    "def is_present(x, thresh=0):\n",
    "    if x>thresh:\n",
    "        return 1\n",
    "    return 0"
   ]
  },
  {
   "cell_type": "code",
   "execution_count": 87,
   "metadata": {},
   "outputs": [],
   "source": [
    "df_id['animal'] = df_id['animal_tot'].apply(lambda x: is_present(x))\n",
    "df_id['bebe'] = df_id['bebe_tot'].apply(lambda x: is_present(x))"
   ]
  },
  {
   "cell_type": "code",
   "execution_count": 88,
   "metadata": {},
   "outputs": [
    {
     "data": {
      "text/html": [
       "<div>\n",
       "<style scoped>\n",
       "    .dataframe tbody tr th:only-of-type {\n",
       "        vertical-align: middle;\n",
       "    }\n",
       "\n",
       "    .dataframe tbody tr th {\n",
       "        vertical-align: top;\n",
       "    }\n",
       "\n",
       "    .dataframe thead th {\n",
       "        text-align: right;\n",
       "    }\n",
       "</style>\n",
       "<table border=\"1\" class=\"dataframe\">\n",
       "  <thead>\n",
       "    <tr style=\"text-align: right;\">\n",
       "      <th></th>\n",
       "      <th>count</th>\n",
       "      <th>hour_mean</th>\n",
       "      <th>hour_var</th>\n",
       "      <th>unit_tot</th>\n",
       "      <th>animal_tot</th>\n",
       "      <th>bebe_tot</th>\n",
       "      <th>animal_perc</th>\n",
       "      <th>bebe_perc</th>\n",
       "      <th>animal</th>\n",
       "      <th>bebe</th>\n",
       "    </tr>\n",
       "    <tr>\n",
       "      <th>customer</th>\n",
       "      <th></th>\n",
       "      <th></th>\n",
       "      <th></th>\n",
       "      <th></th>\n",
       "      <th></th>\n",
       "      <th></th>\n",
       "      <th></th>\n",
       "      <th></th>\n",
       "      <th></th>\n",
       "      <th></th>\n",
       "    </tr>\n",
       "  </thead>\n",
       "  <tbody>\n",
       "    <tr>\n",
       "      <th>77000001548</th>\n",
       "      <td>12.0</td>\n",
       "      <td>21.086667</td>\n",
       "      <td>2.240761</td>\n",
       "      <td>222</td>\n",
       "      <td>2.0</td>\n",
       "      <td>0.0</td>\n",
       "      <td>0.900901</td>\n",
       "      <td>0.000000</td>\n",
       "      <td>1</td>\n",
       "      <td>0</td>\n",
       "    </tr>\n",
       "    <tr>\n",
       "      <th>77000001680</th>\n",
       "      <td>15.0</td>\n",
       "      <td>16.844156</td>\n",
       "      <td>2.281822</td>\n",
       "      <td>403</td>\n",
       "      <td>1.0</td>\n",
       "      <td>4.0</td>\n",
       "      <td>0.248139</td>\n",
       "      <td>0.992556</td>\n",
       "      <td>1</td>\n",
       "      <td>1</td>\n",
       "    </tr>\n",
       "    <tr>\n",
       "      <th>77000002166</th>\n",
       "      <td>16.0</td>\n",
       "      <td>19.004329</td>\n",
       "      <td>2.752155</td>\n",
       "      <td>324</td>\n",
       "      <td>3.0</td>\n",
       "      <td>2.0</td>\n",
       "      <td>0.925926</td>\n",
       "      <td>0.617284</td>\n",
       "      <td>1</td>\n",
       "      <td>1</td>\n",
       "    </tr>\n",
       "    <tr>\n",
       "      <th>77000004744</th>\n",
       "      <td>7.0</td>\n",
       "      <td>11.636364</td>\n",
       "      <td>1.707013</td>\n",
       "      <td>259</td>\n",
       "      <td>1.0</td>\n",
       "      <td>2.0</td>\n",
       "      <td>0.386100</td>\n",
       "      <td>0.772201</td>\n",
       "      <td>1</td>\n",
       "      <td>1</td>\n",
       "    </tr>\n",
       "    <tr>\n",
       "      <th>77000005496</th>\n",
       "      <td>1.0</td>\n",
       "      <td>23.000000</td>\n",
       "      <td>0.000000</td>\n",
       "      <td>5</td>\n",
       "      <td>0.0</td>\n",
       "      <td>0.0</td>\n",
       "      <td>0.000000</td>\n",
       "      <td>0.000000</td>\n",
       "      <td>0</td>\n",
       "      <td>0</td>\n",
       "    </tr>\n",
       "  </tbody>\n",
       "</table>\n",
       "</div>"
      ],
      "text/plain": [
       "             count  hour_mean  hour_var  unit_tot  animal_tot  bebe_tot  \\\n",
       "customer                                                                  \n",
       "77000001548   12.0  21.086667  2.240761       222         2.0       0.0   \n",
       "77000001680   15.0  16.844156  2.281822       403         1.0       4.0   \n",
       "77000002166   16.0  19.004329  2.752155       324         3.0       2.0   \n",
       "77000004744    7.0  11.636364  1.707013       259         1.0       2.0   \n",
       "77000005496    1.0  23.000000  0.000000         5         0.0       0.0   \n",
       "\n",
       "             animal_perc  bebe_perc  animal  bebe  \n",
       "customer                                           \n",
       "77000001548     0.900901   0.000000       1     0  \n",
       "77000001680     0.248139   0.992556       1     1  \n",
       "77000002166     0.925926   0.617284       1     1  \n",
       "77000004744     0.386100   0.772201       1     1  \n",
       "77000005496     0.000000   0.000000       0     0  "
      ]
     },
     "execution_count": 88,
     "metadata": {},
     "output_type": "execute_result"
    }
   ],
   "source": [
    "df_id.head()"
   ]
  },
  {
   "cell_type": "markdown",
   "metadata": {
    "id": "qNkpPXj1SWyX"
   },
   "source": [
    "### Premium and cheap products\n",
    "\n",
    "\n"
   ]
  },
  {
   "cell_type": "markdown",
   "metadata": {
    "id": "swOqcxl8k66D"
   },
   "source": [
    "1. Consider all the products"
   ]
  },
  {
   "cell_type": "code",
   "execution_count": 89,
   "metadata": {},
   "outputs": [],
   "source": [
    "df_id['high_tot'] = df.groupby(by=['customer']).sum()['high']\n",
    "df_id['low_tot'] = df.groupby(by=['customer']).sum()['low']"
   ]
  },
  {
   "cell_type": "code",
   "execution_count": 90,
   "metadata": {
    "colab": {
     "base_uri": "https://localhost:8080/",
     "height": 299
    },
    "id": "0nRXv2vbsqI7",
    "outputId": "f28d2e4e-1401-46dd-835a-56450451d051"
   },
   "outputs": [
    {
     "data": {
      "text/plain": [
       "<matplotlib.axes._subplots.AxesSubplot at 0x7fc8f3e8ec70>"
      ]
     },
     "execution_count": 90,
     "metadata": {},
     "output_type": "execute_result"
    },
    {
     "data": {
      "image/png": "[encoded data removed]",
      "text/plain": [
       "<Figure size 432x288 with 1 Axes>"
      ]
     },
     "metadata": {
      "needs_background": "light"
     },
     "output_type": "display_data"
    }
   ],
   "source": [
    "# As we can see from the graph, our measure of high/low used this was is not able to separate high vs low income people\n",
    "# The reason is that both labels increase at the same relative pace\n",
    "\n",
    "sns.scatterplot(data=df_id, x='high_tot', y='low_tot')"
   ]
  },
  {
   "cell_type": "code",
   "execution_count": 91,
   "metadata": {},
   "outputs": [
    {
     "data": {
      "text/plain": [
       "<matplotlib.axes._subplots.AxesSubplot at 0x7fc8f40b0310>"
      ]
     },
     "execution_count": 91,
     "metadata": {},
     "output_type": "execute_result"
    },
    {
     "data": {
      "image/png": "[encoded data removed]",
      "text/plain": [
       "<Figure size 432x288 with 1 Axes>"
      ]
     },
     "metadata": {
      "needs_background": "light"
     },
     "output_type": "display_data"
    }
   ],
   "source": [
    "# What about removing one-time purchasers?\n",
    "\n",
    "df_id_multiple = remove_one_time_purchasers(df_id)\n",
    "sns.scatterplot(data=df_id_multiple, x='high_tot', y='low_tot')"
   ]
  },
  {
   "cell_type": "code",
   "execution_count": 92,
   "metadata": {},
   "outputs": [
    {
     "data": {
      "text/plain": [
       "<matplotlib.axes._subplots.AxesSubplot at 0x7fc8f2778430>"
      ]
     },
     "execution_count": 92,
     "metadata": {},
     "output_type": "execute_result"
    },
    {
     "data": {
      "image/png": "[encoded data removed]",
      "text/plain": [
       "<Figure size 432x288 with 1 Axes>"
      ]
     },
     "metadata": {
      "needs_background": "light"
     },
     "output_type": "display_data"
    }
   ],
   "source": [
    "# What about removing k=5 purchasers?\n",
    "\n",
    "df_id_multiple_k = remove_k_time_purchasers(df_id, k=5)\n",
    "sns.scatterplot(data=df_id_multiple_k, x='high_tot', y='low_tot')"
   ]
  },
  {
   "cell_type": "code",
   "execution_count": 93,
   "metadata": {},
   "outputs": [
    {
     "data": {
      "text/plain": [
       "<matplotlib.axes._subplots.AxesSubplot at 0x7fc8f3471d90>"
      ]
     },
     "execution_count": 93,
     "metadata": {},
     "output_type": "execute_result"
    },
    {
     "data": {
      "image/png": "[encoded data removed]",
      "text/plain": [
       "<Figure size 432x288 with 1 Axes>"
      ]
     },
     "metadata": {
      "needs_background": "light"
     },
     "output_type": "display_data"
    }
   ],
   "source": [
    "# In particular, both features are linear functions of the total number of products bought\n",
    "\n",
    "sns.scatterplot(data=df_id, x='unit_tot', y='high_tot')"
   ]
  },
  {
   "cell_type": "code",
   "execution_count": 94,
   "metadata": {},
   "outputs": [
    {
     "data": {
      "text/plain": [
       "<matplotlib.axes._subplots.AxesSubplot at 0x7fc8f605f7f0>"
      ]
     },
     "execution_count": 94,
     "metadata": {},
     "output_type": "execute_result"
    },
    {
     "data": {
      "image/png": "[encoded data removed]",
      "text/plain": [
       "<Figure size 432x288 with 1 Axes>"
      ]
     },
     "metadata": {
      "needs_background": "light"
     },
     "output_type": "display_data"
    }
   ],
   "source": [
    "sns.scatterplot(data=df_id, x='unit_tot', y='low_tot')"
   ]
  },
  {
   "cell_type": "markdown",
   "metadata": {
    "id": "RBFrUjQZlJUV"
   },
   "source": [
    "2. Consider only some sub-categories\n",
    "\n",
    "The problem with considering all the products is that, because many of them are not standardised, e.x. meat comes in different size packages and we cannot just compare the price to understand which one is more expensive. We should standardize it first.\n",
    "\n",
    "Because we cannot standardize, we can use products that by nature tend to be so. This was of course checked for the specific case of Carrefour. In particular we are considering 3 categories of products:\n",
    "1. Milk\n",
    "2. Pasta\n",
    "3. Oil\n",
    "\n",
    "Furthermore, because we want to use the premium measure as an indicator of the income of a customer, we also tested with a survey that the relationship holds for the products above"
   ]
  },
  {
   "cell_type": "code",
   "execution_count": 95,
   "metadata": {},
   "outputs": [
    {
     "data": {
      "text/plain": [
       "(5801158, 17)"
      ]
     },
     "execution_count": 95,
     "metadata": {},
     "output_type": "execute_result"
    }
   ],
   "source": [
    "df.shape"
   ]
  },
  {
   "cell_type": "code",
   "execution_count": 96,
   "metadata": {},
   "outputs": [],
   "source": [
    "def test_path_list(df, df_id, path_list, min_shop=0, thresh=0.50, min_count=1, return_df=False, verbose=True):\n",
    "    df['high_spec'] = 0\n",
    "    df['low_spec'] = 0\n",
    "    \n",
    "    df.low_spec = df.low.where(sum([df.FullPath.str.contains(path) for path in path_list]) > 0, df.low_spec)\n",
    "    df.high_spec = df.high.where(sum([df.FullPath.str.contains(path) for path in path_list]) > 0, df.high_spec)\n",
    "    \n",
    "    df_id['high_spec'] = df.groupby(by=['customer']).sum()['high_spec']\n",
    "    df_id['low_spec'] = df.groupby(by=['customer']).sum()['low_spec']\n",
    "    \n",
    "    df_id = remove_k_time_purchasers(df_id, min_shop)\n",
    "    \n",
    "    n_customers = df_id[df_id['high_spec'] + df_id['low_spec']>0].shape[0]\n",
    "    ratio_customers = n_customers*100/df_id.shape[0]\n",
    "    \n",
    "    if verbose:\n",
    "        print('Considering only customers with more that {} shoppings'.format(min_shop))\n",
    "        print('Number of customers that bought products is the list: {}'.format(n_customers))\n",
    "        print('Ratio of customers that bought products is the list: {:.2f}%\\n'.format(ratio_customers))\n",
    "    \n",
    "    df_id['premium'] = 0\n",
    "    df_id.loc[(df_id.high_spec/(df_id.high_spec+df_id.low_spec)>thresh) & (df_id.high_spec+df_id.low_spec>min_count), 'premium'] = 1\n",
    "    \n",
    "    df_id['cheap'] = 0\n",
    "    df_id.loc[(df_id.low_spec/(df_id.high_spec+df_id.low_spec)>thresh) & (df_id.high_spec+df_id.low_spec>min_count), 'cheap'] = 1\n",
    "    \n",
    "    n_non_neutral = df_id[df_id['premium']+df_id['cheap']>0].shape[0]\n",
    "    ratio_non_neutral = n_non_neutral*100/df_id.shape[0]\n",
    "    \n",
    "    if verbose:\n",
    "        print('Threshold: {}%'.format(thresh*100))\n",
    "        print('Number of customers that are either premium or cheap: {}'.format(n_non_neutral))\n",
    "        print('Ratio of customers that are either premium or cheap: {:.2f}%'.format(ratio_non_neutral))\n",
    "    \n",
    "    if return_df:\n",
    "        return df_id"
   ]
  },
  {
   "cell_type": "code",
   "execution_count": 97,
   "metadata": {},
   "outputs": [
    {
     "data": {
      "text/plain": [
       "['Inicio/Supermercado/La Despensa/Lácteos/Leche Condensada, Evaporada y en Polvo',\n",
       " 'Inicio/Supermercado/La Despensa/Lácteos/Leche',\n",
       " 'Inicio/Supermercado/Parafarmacia/Bebé/Leche infantil',\n",
       " 'Inicio/Supermercado/Bebé/Alimentación infantil/Leches Infantiles']"
      ]
     },
     "execution_count": 97,
     "metadata": {},
     "output_type": "execute_result"
    }
   ],
   "source": [
    "milk = list(set(df[df.FullPath.str.contains('Leche')]['FullPath']))\n",
    "milk"
   ]
  },
  {
   "cell_type": "code",
   "execution_count": 98,
   "metadata": {},
   "outputs": [
    {
     "data": {
      "text/plain": [
       "['Inicio/Supermercado/La Despensa/Alimentación/Pastas']"
      ]
     },
     "execution_count": 98,
     "metadata": {},
     "output_type": "execute_result"
    }
   ],
   "source": [
    "pasta = list(set(df[df.FullPath.str.contains('Pastas')]['FullPath']))\n",
    "pasta"
   ]
  },
  {
   "cell_type": "code",
   "execution_count": 99,
   "metadata": {},
   "outputs": [
    {
     "data": {
      "text/plain": [
       "['Inicio/Supermercado/La Despensa/Alimentación/Aceites y vinagres']"
      ]
     },
     "execution_count": 99,
     "metadata": {},
     "output_type": "execute_result"
    }
   ],
   "source": [
    "oil = list(set(df[df.FullPath.str.contains('Aceites y vinagres')]['FullPath']))\n",
    "oil"
   ]
  },
  {
   "cell_type": "code",
   "execution_count": 100,
   "metadata": {},
   "outputs": [
    {
     "data": {
      "text/plain": [
       "['Inicio/Supermercado/La Despensa/Lácteos/Leche',\n",
       " 'Inicio/Supermercado/La Despensa/Alimentación/Pastas',\n",
       " 'Inicio/Supermercado/La Despensa/Alimentación/Aceites y vinagres']"
      ]
     },
     "execution_count": 100,
     "metadata": {},
     "output_type": "execute_result"
    }
   ],
   "source": [
    "base_path_list = [milk[1]] + pasta + oil\n",
    "base_path_list"
   ]
  },
  {
   "cell_type": "markdown",
   "metadata": {},
   "source": [
    "Experiments"
   ]
  },
  {
   "cell_type": "code",
   "execution_count": 101,
   "metadata": {},
   "outputs": [
    {
     "name": "stdout",
     "output_type": "stream",
     "text": [
      "Considering only customers with more that 0 shoppings\n",
      "Number of customers that bought products is the list: 28643\n",
      "Ratio of customers that bought products is the list: 43.36%\n",
      "\n",
      "Threshold: 80.0%\n",
      "Number of customers that are either premium or cheap: 5622\n",
      "Ratio of customers that are either premium or cheap: 8.51%\n"
     ]
    }
   ],
   "source": [
    "test_path_list(df.copy(), df_id.copy(), base_path_list, min_shop=0, thresh=0.80, min_count=1)"
   ]
  },
  {
   "cell_type": "code",
   "execution_count": 102,
   "metadata": {},
   "outputs": [
    {
     "name": "stdout",
     "output_type": "stream",
     "text": [
      "Considering only customers with more that 0 shoppings\n",
      "Number of customers that bought products is the list: 28643\n",
      "Ratio of customers that bought products is the list: 43.36%\n",
      "\n",
      "Threshold: 65.0%\n",
      "Number of customers that are either premium or cheap: 3960\n",
      "Ratio of customers that are either premium or cheap: 5.99%\n"
     ]
    }
   ],
   "source": [
    "test_path_list(df.copy(), df_id.copy(), base_path_list, min_shop=0, thresh=0.65, min_count=3)"
   ]
  },
  {
   "cell_type": "code",
   "execution_count": 103,
   "metadata": {},
   "outputs": [
    {
     "name": "stdout",
     "output_type": "stream",
     "text": [
      "Considering only customers with more that 1 shoppings\n",
      "Number of customers that bought products is the list: 23109\n",
      "Ratio of customers that bought products is the list: 75.44%\n",
      "\n",
      "Threshold: 65.0%\n",
      "Number of customers that are either premium or cheap: 3937\n",
      "Ratio of customers that are either premium or cheap: 12.85%\n"
     ]
    }
   ],
   "source": [
    "test_path_list(df.copy(), df_id.copy(), base_path_list, min_shop=1, thresh=0.65, min_count=3)"
   ]
  },
  {
   "cell_type": "code",
   "execution_count": 104,
   "metadata": {},
   "outputs": [],
   "source": [
    "# As of now, we are still keeping all the customers, even those with just one shop\n",
    "\n",
    "df_temp = test_path_list(df.copy(), df_id.copy(), base_path_list, min_shop=0, thresh=0.65, min_count=3, return_df=True, verbose=False)"
   ]
  },
  {
   "cell_type": "code",
   "execution_count": 105,
   "metadata": {},
   "outputs": [
    {
     "data": {
      "text/plain": [
       "<matplotlib.axes._subplots.AxesSubplot at 0x7fc8f24fe460>"
      ]
     },
     "execution_count": 105,
     "metadata": {},
     "output_type": "execute_result"
    },
    {
     "data": {
      "image/png": "[encoded data removed]",
      "text/plain": [
       "<Figure size 432x288 with 1 Axes>"
      ]
     },
     "metadata": {
      "needs_background": "light"
     },
     "output_type": "display_data"
    }
   ],
   "source": [
    "sns.scatterplot(data=df_temp, x='high_spec', y='low_spec')"
   ]
  },
  {
   "cell_type": "code",
   "execution_count": 106,
   "metadata": {},
   "outputs": [
    {
     "data": {
      "text/html": [
       "<div>\n",
       "<style scoped>\n",
       "    .dataframe tbody tr th:only-of-type {\n",
       "        vertical-align: middle;\n",
       "    }\n",
       "\n",
       "    .dataframe tbody tr th {\n",
       "        vertical-align: top;\n",
       "    }\n",
       "\n",
       "    .dataframe thead th {\n",
       "        text-align: right;\n",
       "    }\n",
       "</style>\n",
       "<table border=\"1\" class=\"dataframe\">\n",
       "  <thead>\n",
       "    <tr style=\"text-align: right;\">\n",
       "      <th></th>\n",
       "      <th>high_spec</th>\n",
       "      <th>low_spec</th>\n",
       "    </tr>\n",
       "  </thead>\n",
       "  <tbody>\n",
       "    <tr>\n",
       "      <th>high_spec</th>\n",
       "      <td>1.000000</td>\n",
       "      <td>0.469659</td>\n",
       "    </tr>\n",
       "    <tr>\n",
       "      <th>low_spec</th>\n",
       "      <td>0.469659</td>\n",
       "      <td>1.000000</td>\n",
       "    </tr>\n",
       "  </tbody>\n",
       "</table>\n",
       "</div>"
      ],
      "text/plain": [
       "           high_spec  low_spec\n",
       "high_spec   1.000000  0.469659\n",
       "low_spec    0.469659  1.000000"
      ]
     },
     "execution_count": 106,
     "metadata": {},
     "output_type": "execute_result"
    }
   ],
   "source": [
    "df_temp[['high_spec', 'low_spec']].corr()"
   ]
  },
  {
   "cell_type": "code",
   "execution_count": 107,
   "metadata": {},
   "outputs": [],
   "source": [
    "df_temp['high_spec_perc'] = df_temp['high_spec']/df_temp['unit_tot']\n",
    "df_temp['low_spec_perc'] = df_temp['low_spec']/df_temp['unit_tot']"
   ]
  },
  {
   "cell_type": "code",
   "execution_count": 108,
   "metadata": {},
   "outputs": [
    {
     "data": {
      "text/html": [
       "<div>\n",
       "<style scoped>\n",
       "    .dataframe tbody tr th:only-of-type {\n",
       "        vertical-align: middle;\n",
       "    }\n",
       "\n",
       "    .dataframe tbody tr th {\n",
       "        vertical-align: top;\n",
       "    }\n",
       "\n",
       "    .dataframe thead th {\n",
       "        text-align: right;\n",
       "    }\n",
       "</style>\n",
       "<table border=\"1\" class=\"dataframe\">\n",
       "  <thead>\n",
       "    <tr style=\"text-align: right;\">\n",
       "      <th></th>\n",
       "      <th>high_spec_perc</th>\n",
       "      <th>low_spec_perc</th>\n",
       "    </tr>\n",
       "  </thead>\n",
       "  <tbody>\n",
       "    <tr>\n",
       "      <th>high_spec_perc</th>\n",
       "      <td>1.000000</td>\n",
       "      <td>-0.006763</td>\n",
       "    </tr>\n",
       "    <tr>\n",
       "      <th>low_spec_perc</th>\n",
       "      <td>-0.006763</td>\n",
       "      <td>1.000000</td>\n",
       "    </tr>\n",
       "  </tbody>\n",
       "</table>\n",
       "</div>"
      ],
      "text/plain": [
       "                high_spec_perc  low_spec_perc\n",
       "high_spec_perc        1.000000      -0.006763\n",
       "low_spec_perc        -0.006763       1.000000"
      ]
     },
     "execution_count": 108,
     "metadata": {},
     "output_type": "execute_result"
    }
   ],
   "source": [
    "df_temp[['high_spec_perc', 'low_spec_perc']].corr()"
   ]
  },
  {
   "cell_type": "code",
   "execution_count": 109,
   "metadata": {},
   "outputs": [],
   "source": [
    "df_temp['high_spec_perc2'] = df_temp['high_spec']/(df_temp['high_spec']+df_temp['low_spec'])\n",
    "df_temp['low_spec_perc2'] = df_temp['low_spec']/(df_temp['high_spec']+df_temp['low_spec'])"
   ]
  },
  {
   "cell_type": "code",
   "execution_count": 110,
   "metadata": {},
   "outputs": [
    {
     "data": {
      "text/html": [
       "<div>\n",
       "<style scoped>\n",
       "    .dataframe tbody tr th:only-of-type {\n",
       "        vertical-align: middle;\n",
       "    }\n",
       "\n",
       "    .dataframe tbody tr th {\n",
       "        vertical-align: top;\n",
       "    }\n",
       "\n",
       "    .dataframe thead th {\n",
       "        text-align: right;\n",
       "    }\n",
       "</style>\n",
       "<table border=\"1\" class=\"dataframe\">\n",
       "  <thead>\n",
       "    <tr style=\"text-align: right;\">\n",
       "      <th></th>\n",
       "      <th>high_spec_perc2</th>\n",
       "      <th>low_spec_perc2</th>\n",
       "    </tr>\n",
       "  </thead>\n",
       "  <tbody>\n",
       "    <tr>\n",
       "      <th>high_spec_perc2</th>\n",
       "      <td>1.0</td>\n",
       "      <td>-1.0</td>\n",
       "    </tr>\n",
       "    <tr>\n",
       "      <th>low_spec_perc2</th>\n",
       "      <td>-1.0</td>\n",
       "      <td>1.0</td>\n",
       "    </tr>\n",
       "  </tbody>\n",
       "</table>\n",
       "</div>"
      ],
      "text/plain": [
       "                 high_spec_perc2  low_spec_perc2\n",
       "high_spec_perc2              1.0            -1.0\n",
       "low_spec_perc2              -1.0             1.0"
      ]
     },
     "execution_count": 110,
     "metadata": {},
     "output_type": "execute_result"
    }
   ],
   "source": [
    "df_temp[['high_spec_perc2', 'low_spec_perc2']].corr()"
   ]
  },
  {
   "cell_type": "code",
   "execution_count": 111,
   "metadata": {},
   "outputs": [
    {
     "data": {
      "text/plain": [
       "<matplotlib.axes._subplots.AxesSubplot at 0x7fc8f32c15b0>"
      ]
     },
     "execution_count": 111,
     "metadata": {},
     "output_type": "execute_result"
    },
    {
     "data": {
      "image/png": "[encoded data removed]",
      "text/plain": [
       "<Figure size 432x288 with 1 Axes>"
      ]
     },
     "metadata": {
      "needs_background": "light"
     },
     "output_type": "display_data"
    }
   ],
   "source": [
    "# This is not a surprise because the percentages sum up to 1\n",
    "\n",
    "sns.scatterplot(data=df_temp, x='high_spec_perc2', y='low_spec_perc2')"
   ]
  },
  {
   "cell_type": "code",
   "execution_count": 113,
   "metadata": {},
   "outputs": [
    {
     "data": {
      "text/html": [
       "<div>\n",
       "<style scoped>\n",
       "    .dataframe tbody tr th:only-of-type {\n",
       "        vertical-align: middle;\n",
       "    }\n",
       "\n",
       "    .dataframe tbody tr th {\n",
       "        vertical-align: top;\n",
       "    }\n",
       "\n",
       "    .dataframe thead th {\n",
       "        text-align: right;\n",
       "    }\n",
       "</style>\n",
       "<table border=\"1\" class=\"dataframe\">\n",
       "  <thead>\n",
       "    <tr style=\"text-align: right;\">\n",
       "      <th></th>\n",
       "      <th>count</th>\n",
       "      <th>hour_mean</th>\n",
       "      <th>hour_var</th>\n",
       "      <th>unit_tot</th>\n",
       "      <th>animal_tot</th>\n",
       "      <th>bebe_tot</th>\n",
       "      <th>animal_perc</th>\n",
       "      <th>bebe_perc</th>\n",
       "      <th>animal</th>\n",
       "      <th>bebe</th>\n",
       "      <th>high_tot</th>\n",
       "      <th>low_tot</th>\n",
       "      <th>high_spec</th>\n",
       "      <th>low_spec</th>\n",
       "      <th>premium</th>\n",
       "      <th>cheap</th>\n",
       "      <th>high_spec_perc</th>\n",
       "      <th>low_spec_perc</th>\n",
       "      <th>high_spec_perc2</th>\n",
       "      <th>low_spec_perc2</th>\n",
       "    </tr>\n",
       "    <tr>\n",
       "      <th>customer</th>\n",
       "      <th></th>\n",
       "      <th></th>\n",
       "      <th></th>\n",
       "      <th></th>\n",
       "      <th></th>\n",
       "      <th></th>\n",
       "      <th></th>\n",
       "      <th></th>\n",
       "      <th></th>\n",
       "      <th></th>\n",
       "      <th></th>\n",
       "      <th></th>\n",
       "      <th></th>\n",
       "      <th></th>\n",
       "      <th></th>\n",
       "      <th></th>\n",
       "      <th></th>\n",
       "      <th></th>\n",
       "      <th></th>\n",
       "      <th></th>\n",
       "    </tr>\n",
       "  </thead>\n",
       "  <tbody>\n",
       "    <tr>\n",
       "      <th>77000001548</th>\n",
       "      <td>12.0</td>\n",
       "      <td>21.086667</td>\n",
       "      <td>2.240761</td>\n",
       "      <td>222</td>\n",
       "      <td>2.0</td>\n",
       "      <td>0.0</td>\n",
       "      <td>0.900901</td>\n",
       "      <td>0.000000</td>\n",
       "      <td>1</td>\n",
       "      <td>0</td>\n",
       "      <td>18.0</td>\n",
       "      <td>30.0</td>\n",
       "      <td>2.0</td>\n",
       "      <td>1.0</td>\n",
       "      <td>0</td>\n",
       "      <td>0</td>\n",
       "      <td>0.009009</td>\n",
       "      <td>0.004505</td>\n",
       "      <td>0.666667</td>\n",
       "      <td>0.333333</td>\n",
       "    </tr>\n",
       "    <tr>\n",
       "      <th>77000001680</th>\n",
       "      <td>15.0</td>\n",
       "      <td>16.844156</td>\n",
       "      <td>2.281822</td>\n",
       "      <td>403</td>\n",
       "      <td>1.0</td>\n",
       "      <td>4.0</td>\n",
       "      <td>0.248139</td>\n",
       "      <td>0.992556</td>\n",
       "      <td>1</td>\n",
       "      <td>1</td>\n",
       "      <td>43.0</td>\n",
       "      <td>62.0</td>\n",
       "      <td>1.0</td>\n",
       "      <td>5.0</td>\n",
       "      <td>0</td>\n",
       "      <td>1</td>\n",
       "      <td>0.002481</td>\n",
       "      <td>0.012407</td>\n",
       "      <td>0.166667</td>\n",
       "      <td>0.833333</td>\n",
       "    </tr>\n",
       "    <tr>\n",
       "      <th>77000002166</th>\n",
       "      <td>16.0</td>\n",
       "      <td>19.004329</td>\n",
       "      <td>2.752155</td>\n",
       "      <td>324</td>\n",
       "      <td>3.0</td>\n",
       "      <td>2.0</td>\n",
       "      <td>0.925926</td>\n",
       "      <td>0.617284</td>\n",
       "      <td>1</td>\n",
       "      <td>1</td>\n",
       "      <td>31.0</td>\n",
       "      <td>38.0</td>\n",
       "      <td>1.0</td>\n",
       "      <td>3.0</td>\n",
       "      <td>0</td>\n",
       "      <td>1</td>\n",
       "      <td>0.003086</td>\n",
       "      <td>0.009259</td>\n",
       "      <td>0.250000</td>\n",
       "      <td>0.750000</td>\n",
       "    </tr>\n",
       "    <tr>\n",
       "      <th>77000004744</th>\n",
       "      <td>7.0</td>\n",
       "      <td>11.636364</td>\n",
       "      <td>1.707013</td>\n",
       "      <td>259</td>\n",
       "      <td>1.0</td>\n",
       "      <td>2.0</td>\n",
       "      <td>0.386100</td>\n",
       "      <td>0.772201</td>\n",
       "      <td>1</td>\n",
       "      <td>1</td>\n",
       "      <td>21.0</td>\n",
       "      <td>26.0</td>\n",
       "      <td>1.0</td>\n",
       "      <td>0.0</td>\n",
       "      <td>0</td>\n",
       "      <td>0</td>\n",
       "      <td>0.003861</td>\n",
       "      <td>0.000000</td>\n",
       "      <td>1.000000</td>\n",
       "      <td>0.000000</td>\n",
       "    </tr>\n",
       "    <tr>\n",
       "      <th>77000005496</th>\n",
       "      <td>1.0</td>\n",
       "      <td>23.000000</td>\n",
       "      <td>0.000000</td>\n",
       "      <td>5</td>\n",
       "      <td>0.0</td>\n",
       "      <td>0.0</td>\n",
       "      <td>0.000000</td>\n",
       "      <td>0.000000</td>\n",
       "      <td>0</td>\n",
       "      <td>0</td>\n",
       "      <td>0.0</td>\n",
       "      <td>1.0</td>\n",
       "      <td>0.0</td>\n",
       "      <td>0.0</td>\n",
       "      <td>0</td>\n",
       "      <td>0</td>\n",
       "      <td>0.000000</td>\n",
       "      <td>0.000000</td>\n",
       "      <td>NaN</td>\n",
       "      <td>NaN</td>\n",
       "    </tr>\n",
       "  </tbody>\n",
       "</table>\n",
       "</div>"
      ],
      "text/plain": [
       "             count  hour_mean  hour_var  unit_tot  animal_tot  bebe_tot  \\\n",
       "customer                                                                  \n",
       "77000001548   12.0  21.086667  2.240761       222         2.0       0.0   \n",
       "77000001680   15.0  16.844156  2.281822       403         1.0       4.0   \n",
       "77000002166   16.0  19.004329  2.752155       324         3.0       2.0   \n",
       "77000004744    7.0  11.636364  1.707013       259         1.0       2.0   \n",
       "77000005496    1.0  23.000000  0.000000         5         0.0       0.0   \n",
       "\n",
       "             animal_perc  bebe_perc  animal  bebe  high_tot  low_tot  \\\n",
       "customer                                                               \n",
       "77000001548     0.900901   0.000000       1     0      18.0     30.0   \n",
       "77000001680     0.248139   0.992556       1     1      43.0     62.0   \n",
       "77000002166     0.925926   0.617284       1     1      31.0     38.0   \n",
       "77000004744     0.386100   0.772201       1     1      21.0     26.0   \n",
       "77000005496     0.000000   0.000000       0     0       0.0      1.0   \n",
       "\n",
       "             high_spec  low_spec  premium  cheap  high_spec_perc  \\\n",
       "customer                                                           \n",
       "77000001548        2.0       1.0        0      0        0.009009   \n",
       "77000001680        1.0       5.0        0      1        0.002481   \n",
       "77000002166        1.0       3.0        0      1        0.003086   \n",
       "77000004744        1.0       0.0        0      0        0.003861   \n",
       "77000005496        0.0       0.0        0      0        0.000000   \n",
       "\n",
       "             low_spec_perc  high_spec_perc2  low_spec_perc2  \n",
       "customer                                                     \n",
       "77000001548       0.004505         0.666667        0.333333  \n",
       "77000001680       0.012407         0.166667        0.833333  \n",
       "77000002166       0.009259         0.250000        0.750000  \n",
       "77000004744       0.000000         1.000000        0.000000  \n",
       "77000005496       0.000000              NaN             NaN  "
      ]
     },
     "execution_count": 113,
     "metadata": {},
     "output_type": "execute_result"
    }
   ],
   "source": [
    "df_temp.head()"
   ]
  },
  {
   "cell_type": "markdown",
   "metadata": {},
   "source": [
    "3. Only sub-categories with Carrefour prices\n",
    "\n",
    "In order to be more precise, after different tests, we decided to use Carrefour prices instead of the scraping prices. This way, the linking algorithm does not have top perform as good as a 1 to 1 matching, but it only has to guess the category of the product."
   ]
  },
  {
   "cell_type": "code",
   "execution_count": 114,
   "metadata": {},
   "outputs": [],
   "source": [
    "cols = ['customer', 'desc', 'net_am', 'n_unit', 'FullPath']\n",
    "unique_desc = df[cols].drop_duplicates(subset=['desc']).copy()"
   ]
  },
  {
   "cell_type": "code",
   "execution_count": 115,
   "metadata": {},
   "outputs": [
    {
     "data": {
      "text/html": [
       "<div>\n",
       "<style scoped>\n",
       "    .dataframe tbody tr th:only-of-type {\n",
       "        vertical-align: middle;\n",
       "    }\n",
       "\n",
       "    .dataframe tbody tr th {\n",
       "        vertical-align: top;\n",
       "    }\n",
       "\n",
       "    .dataframe thead th {\n",
       "        text-align: right;\n",
       "    }\n",
       "</style>\n",
       "<table border=\"1\" class=\"dataframe\">\n",
       "  <thead>\n",
       "    <tr style=\"text-align: right;\">\n",
       "      <th></th>\n",
       "      <th>customer</th>\n",
       "      <th>desc</th>\n",
       "      <th>net_am</th>\n",
       "      <th>n_unit</th>\n",
       "      <th>FullPath</th>\n",
       "    </tr>\n",
       "  </thead>\n",
       "  <tbody>\n",
       "    <tr>\n",
       "      <th>0</th>\n",
       "      <td>77021708271</td>\n",
       "      <td>caramelos s/azucar</td>\n",
       "      <td>1.00</td>\n",
       "      <td>1</td>\n",
       "      <td>Inicio/Supermercado/La Despensa/Dulce y Desayu...</td>\n",
       "    </tr>\n",
       "    <tr>\n",
       "      <th>1</th>\n",
       "      <td>77021708271</td>\n",
       "      <td>tosta variada</td>\n",
       "      <td>3.00</td>\n",
       "      <td>1</td>\n",
       "      <td>Inicio/Supermercado/La Despensa/Dulce y Desayu...</td>\n",
       "    </tr>\n",
       "    <tr>\n",
       "      <th>2</th>\n",
       "      <td>77021708271</td>\n",
       "      <td>baguette tortilla</td>\n",
       "      <td>1.00</td>\n",
       "      <td>1</td>\n",
       "      <td>Inicio/Supermercado/El Mercado/Panadería, Boll...</td>\n",
       "    </tr>\n",
       "    <tr>\n",
       "      <th>3</th>\n",
       "      <td>77021708271</td>\n",
       "      <td>queso tierno mezcl</td>\n",
       "      <td>2.83</td>\n",
       "      <td>1</td>\n",
       "      <td>Inicio/Supermercado/El Mercado/Quesos/Todos lo...</td>\n",
       "    </tr>\n",
       "    <tr>\n",
       "      <th>4</th>\n",
       "      <td>77021708271</td>\n",
       "      <td>guisantes muy fino</td>\n",
       "      <td>1.65</td>\n",
       "      <td>1</td>\n",
       "      <td>Inicio/Supermercado/El Mercado/Verduras y hort...</td>\n",
       "    </tr>\n",
       "  </tbody>\n",
       "</table>\n",
       "</div>"
      ],
      "text/plain": [
       "      customer                desc  net_am  n_unit  \\\n",
       "0  77021708271  caramelos s/azucar    1.00       1   \n",
       "1  77021708271       tosta variada    3.00       1   \n",
       "2  77021708271   baguette tortilla    1.00       1   \n",
       "3  77021708271  queso tierno mezcl    2.83       1   \n",
       "4  77021708271  guisantes muy fino    1.65       1   \n",
       "\n",
       "                                            FullPath  \n",
       "0  Inicio/Supermercado/La Despensa/Dulce y Desayu...  \n",
       "1  Inicio/Supermercado/La Despensa/Dulce y Desayu...  \n",
       "2  Inicio/Supermercado/El Mercado/Panadería, Boll...  \n",
       "3  Inicio/Supermercado/El Mercado/Quesos/Todos lo...  \n",
       "4  Inicio/Supermercado/El Mercado/Verduras y hort...  "
      ]
     },
     "execution_count": 115,
     "metadata": {},
     "output_type": "execute_result"
    }
   ],
   "source": [
    "unique_desc.head()"
   ]
  },
  {
   "cell_type": "code",
   "execution_count": 116,
   "metadata": {},
   "outputs": [
    {
     "data": {
      "text/plain": [
       "(51152, 5)"
      ]
     },
     "execution_count": 116,
     "metadata": {},
     "output_type": "execute_result"
    }
   ],
   "source": [
    "unique_desc.shape"
   ]
  },
  {
   "cell_type": "code",
   "execution_count": 117,
   "metadata": {},
   "outputs": [],
   "source": [
    "# Compute price from the Carrefour dataset\n",
    "\n",
    "unique_desc['price'] = unique_desc['net_am']/unique_desc['n_unit']"
   ]
  },
  {
   "cell_type": "code",
   "execution_count": 118,
   "metadata": {},
   "outputs": [],
   "source": [
    "# Get percetiles levels by category\n",
    "\n",
    "df_low_price = unique_desc[['FullPath', 'price']].groupby(by=['FullPath']).quantile(0.2)['price']\n",
    "df_high_price = unique_desc[['FullPath', 'price']].groupby(by=['FullPath']).quantile(0.8)['price']"
   ]
  },
  {
   "cell_type": "code",
   "execution_count": 119,
   "metadata": {},
   "outputs": [],
   "source": [
    "def compare_price(row, l=base_path_list):\n",
    "\n",
    "    category = row['FullPath']\n",
    "    \n",
    "    if category in l:\n",
    "        price = float(\"{:.2f}\".format(row['price']))\n",
    "        low_price = float(\"{:.2f}\".format(df_low_price[df_low_price.index == category].values[0]))\n",
    "        high_price = float(\"{:.2f}\".format(df_high_price[df_high_price.index == category].values[0]))\n",
    "\n",
    "        if price <= low_price:\n",
    "            return 'Low'\n",
    "        if price >= high_price:\n",
    "            return 'High'"
   ]
  },
  {
   "cell_type": "code",
   "execution_count": 120,
   "metadata": {},
   "outputs": [],
   "source": [
    "unique_desc['premium_carr'] = unique_desc.apply(lambda x: compare_price(x), axis=1)"
   ]
  },
  {
   "cell_type": "code",
   "execution_count": 121,
   "metadata": {},
   "outputs": [],
   "source": [
    "unique_desc['low_carr'] = 0\n",
    "unique_desc.loc[unique_desc['premium_carr'] == 'Low', 'low_carr'] = 1\n",
    "\n",
    "unique_desc['high_carr'] = 0\n",
    "unique_desc.loc[unique_desc['premium_carr'] == 'High', 'high_carr'] = 1"
   ]
  },
  {
   "cell_type": "code",
   "execution_count": 122,
   "metadata": {},
   "outputs": [],
   "source": [
    "df_copy = df.copy()"
   ]
  },
  {
   "cell_type": "code",
   "execution_count": 123,
   "metadata": {},
   "outputs": [],
   "source": [
    "cols_drop = ['customer', 'net_am', 'n_unit', 'FullPath']\n",
    "unique_desc.drop(cols_drop, axis=1, inplace=True)\n",
    "df_copy = df_copy.merge(unique_desc, how='left', on='desc')"
   ]
  },
  {
   "cell_type": "code",
   "execution_count": 124,
   "metadata": {},
   "outputs": [
    {
     "data": {
      "text/html": [
       "<div>\n",
       "<style scoped>\n",
       "    .dataframe tbody tr th:only-of-type {\n",
       "        vertical-align: middle;\n",
       "    }\n",
       "\n",
       "    .dataframe tbody tr th {\n",
       "        vertical-align: top;\n",
       "    }\n",
       "\n",
       "    .dataframe thead th {\n",
       "        text-align: right;\n",
       "    }\n",
       "</style>\n",
       "<table border=\"1\" class=\"dataframe\">\n",
       "  <thead>\n",
       "    <tr style=\"text-align: right;\">\n",
       "      <th></th>\n",
       "      <th>_id</th>\n",
       "      <th>mall</th>\n",
       "      <th>date</th>\n",
       "      <th>customer</th>\n",
       "      <th>desc</th>\n",
       "      <th>net_am</th>\n",
       "      <th>n_unit</th>\n",
       "      <th>ProductName</th>\n",
       "      <th>FullPath</th>\n",
       "      <th>BuyboxPricedf_cost_product</th>\n",
       "      <th>low</th>\n",
       "      <th>high</th>\n",
       "      <th>sex</th>\n",
       "      <th>bebe</th>\n",
       "      <th>animal</th>\n",
       "      <th>datetime</th>\n",
       "      <th>hour</th>\n",
       "      <th>price</th>\n",
       "      <th>premium_carr</th>\n",
       "      <th>low_carr</th>\n",
       "      <th>high_carr</th>\n",
       "    </tr>\n",
       "  </thead>\n",
       "  <tbody>\n",
       "    <tr>\n",
       "      <th>0</th>\n",
       "      <td>1001</td>\n",
       "      <td>2</td>\n",
       "      <td>2016-01-14T20:07:00.000+0000</td>\n",
       "      <td>77021708271</td>\n",
       "      <td>caramelos s/azucar</td>\n",
       "      <td>1.00</td>\n",
       "      <td>1</td>\n",
       "      <td>caramelos sabor fresa tic tac 18 g.</td>\n",
       "      <td>Inicio/Supermercado/La Despensa/Dulce y Desayu...</td>\n",
       "      <td>1.06</td>\n",
       "      <td>0.0</td>\n",
       "      <td>0.0</td>\n",
       "      <td>N</td>\n",
       "      <td>False</td>\n",
       "      <td>False</td>\n",
       "      <td>2016-01-14 20:07:00+00:00</td>\n",
       "      <td>20</td>\n",
       "      <td>1.00</td>\n",
       "      <td>None</td>\n",
       "      <td>0</td>\n",
       "      <td>0</td>\n",
       "    </tr>\n",
       "    <tr>\n",
       "      <th>1</th>\n",
       "      <td>1002</td>\n",
       "      <td>1</td>\n",
       "      <td>2016-01-14T15:25:00.000+0000</td>\n",
       "      <td>77021708271</td>\n",
       "      <td>tosta variada</td>\n",
       "      <td>3.00</td>\n",
       "      <td>1</td>\n",
       "      <td>galletas con chocolate blanco y leche tosta ri...</td>\n",
       "      <td>Inicio/Supermercado/La Despensa/Dulce y Desayu...</td>\n",
       "      <td>2.20</td>\n",
       "      <td>0.0</td>\n",
       "      <td>0.0</td>\n",
       "      <td>N</td>\n",
       "      <td>False</td>\n",
       "      <td>False</td>\n",
       "      <td>2016-01-14 15:25:00+00:00</td>\n",
       "      <td>15</td>\n",
       "      <td>3.00</td>\n",
       "      <td>None</td>\n",
       "      <td>0</td>\n",
       "      <td>0</td>\n",
       "    </tr>\n",
       "    <tr>\n",
       "      <th>2</th>\n",
       "      <td>1002</td>\n",
       "      <td>1</td>\n",
       "      <td>2016-01-14T15:25:00.000+0000</td>\n",
       "      <td>77021708271</td>\n",
       "      <td>baguette tortilla</td>\n",
       "      <td>1.00</td>\n",
       "      <td>1</td>\n",
       "      <td>baguette miniviena 4 ud. la boulangere 220 g.</td>\n",
       "      <td>Inicio/Supermercado/El Mercado/Panadería, Boll...</td>\n",
       "      <td>1.79</td>\n",
       "      <td>0.0</td>\n",
       "      <td>0.0</td>\n",
       "      <td>N</td>\n",
       "      <td>False</td>\n",
       "      <td>False</td>\n",
       "      <td>2016-01-14 15:25:00+00:00</td>\n",
       "      <td>15</td>\n",
       "      <td>1.00</td>\n",
       "      <td>None</td>\n",
       "      <td>0</td>\n",
       "      <td>0</td>\n",
       "    </tr>\n",
       "    <tr>\n",
       "      <th>3</th>\n",
       "      <td>1003</td>\n",
       "      <td>2</td>\n",
       "      <td>2016-01-14T20:07:00.000+0000</td>\n",
       "      <td>77021708271</td>\n",
       "      <td>queso tierno mezcl</td>\n",
       "      <td>2.83</td>\n",
       "      <td>1</td>\n",
       "      <td>queso tierno mini el ventero 550 g</td>\n",
       "      <td>Inicio/Supermercado/El Mercado/Quesos/Todos lo...</td>\n",
       "      <td>7.45</td>\n",
       "      <td>0.0</td>\n",
       "      <td>1.0</td>\n",
       "      <td>N</td>\n",
       "      <td>False</td>\n",
       "      <td>False</td>\n",
       "      <td>2016-01-14 20:07:00+00:00</td>\n",
       "      <td>20</td>\n",
       "      <td>2.83</td>\n",
       "      <td>None</td>\n",
       "      <td>0</td>\n",
       "      <td>0</td>\n",
       "    </tr>\n",
       "    <tr>\n",
       "      <th>4</th>\n",
       "      <td>1003</td>\n",
       "      <td>2</td>\n",
       "      <td>2016-01-14T20:07:00.000+0000</td>\n",
       "      <td>77021708271</td>\n",
       "      <td>guisantes muy fino</td>\n",
       "      <td>1.65</td>\n",
       "      <td>1</td>\n",
       "      <td>guisantes muy tiernos carrefour 300 g.</td>\n",
       "      <td>Inicio/Supermercado/El Mercado/Verduras y hort...</td>\n",
       "      <td>0.80</td>\n",
       "      <td>1.0</td>\n",
       "      <td>0.0</td>\n",
       "      <td>N</td>\n",
       "      <td>False</td>\n",
       "      <td>False</td>\n",
       "      <td>2016-01-14 20:07:00+00:00</td>\n",
       "      <td>20</td>\n",
       "      <td>1.65</td>\n",
       "      <td>None</td>\n",
       "      <td>0</td>\n",
       "      <td>0</td>\n",
       "    </tr>\n",
       "  </tbody>\n",
       "</table>\n",
       "</div>"
      ],
      "text/plain": [
       "    _id  mall                          date     customer                desc  \\\n",
       "0  1001     2  2016-01-14T20:07:00.000+0000  77021708271  caramelos s/azucar   \n",
       "1  1002     1  2016-01-14T15:25:00.000+0000  77021708271       tosta variada   \n",
       "2  1002     1  2016-01-14T15:25:00.000+0000  77021708271   baguette tortilla   \n",
       "3  1003     2  2016-01-14T20:07:00.000+0000  77021708271  queso tierno mezcl   \n",
       "4  1003     2  2016-01-14T20:07:00.000+0000  77021708271  guisantes muy fino   \n",
       "\n",
       "   net_am  n_unit                                        ProductName  \\\n",
       "0    1.00       1                caramelos sabor fresa tic tac 18 g.   \n",
       "1    3.00       1  galletas con chocolate blanco y leche tosta ri...   \n",
       "2    1.00       1      baguette miniviena 4 ud. la boulangere 220 g.   \n",
       "3    2.83       1                 queso tierno mini el ventero 550 g   \n",
       "4    1.65       1             guisantes muy tiernos carrefour 300 g.   \n",
       "\n",
       "                                            FullPath  \\\n",
       "0  Inicio/Supermercado/La Despensa/Dulce y Desayu...   \n",
       "1  Inicio/Supermercado/La Despensa/Dulce y Desayu...   \n",
       "2  Inicio/Supermercado/El Mercado/Panadería, Boll...   \n",
       "3  Inicio/Supermercado/El Mercado/Quesos/Todos lo...   \n",
       "4  Inicio/Supermercado/El Mercado/Verduras y hort...   \n",
       "\n",
       "   BuyboxPricedf_cost_product  low  high sex   bebe  animal  \\\n",
       "0                        1.06  0.0   0.0   N  False   False   \n",
       "1                        2.20  0.0   0.0   N  False   False   \n",
       "2                        1.79  0.0   0.0   N  False   False   \n",
       "3                        7.45  0.0   1.0   N  False   False   \n",
       "4                        0.80  1.0   0.0   N  False   False   \n",
       "\n",
       "                   datetime  hour  price premium_carr  low_carr  high_carr  \n",
       "0 2016-01-14 20:07:00+00:00    20   1.00         None         0          0  \n",
       "1 2016-01-14 15:25:00+00:00    15   3.00         None         0          0  \n",
       "2 2016-01-14 15:25:00+00:00    15   1.00         None         0          0  \n",
       "3 2016-01-14 20:07:00+00:00    20   2.83         None         0          0  \n",
       "4 2016-01-14 20:07:00+00:00    20   1.65         None         0          0  "
      ]
     },
     "execution_count": 124,
     "metadata": {},
     "output_type": "execute_result"
    }
   ],
   "source": [
    "df_copy.head()"
   ]
  },
  {
   "cell_type": "code",
   "execution_count": 125,
   "metadata": {},
   "outputs": [],
   "source": [
    "df_temp = df_id.copy()"
   ]
  },
  {
   "cell_type": "code",
   "execution_count": 126,
   "metadata": {},
   "outputs": [],
   "source": [
    "df_temp['high_carr'] = df_copy.groupby(by=['customer']).sum()['high_carr']\n",
    "df_temp['low_carr'] = df_copy.groupby(by=['customer']).sum()['low_carr']"
   ]
  },
  {
   "cell_type": "code",
   "execution_count": 127,
   "metadata": {},
   "outputs": [],
   "source": [
    "thresh = 0.65\n",
    "min_count = 1"
   ]
  },
  {
   "cell_type": "code",
   "execution_count": 128,
   "metadata": {},
   "outputs": [],
   "source": [
    "df_temp['premium'] = 0\n",
    "df_temp.loc[(df_temp.high_carr/(df_temp.high_carr+df_temp.low_carr)>thresh) & (df_temp.high_carr+df_temp.low_carr>min_count), 'premium'] = 1\n",
    "    \n",
    "df_temp['cheap'] = 0\n",
    "df_temp.loc[(df_temp.low_carr/(df_temp.high_carr+df_temp.low_carr)>thresh) & (df_temp.high_carr+df_temp.low_carr>min_count), 'cheap'] = 1    "
   ]
  },
  {
   "cell_type": "code",
   "execution_count": 129,
   "metadata": {},
   "outputs": [
    {
     "data": {
      "text/plain": [
       "<matplotlib.axes._subplots.AxesSubplot at 0x7fc8f608f610>"
      ]
     },
     "execution_count": 129,
     "metadata": {},
     "output_type": "execute_result"
    },
    {
     "data": {
      "image/png": "[encoded data removed]",
      "text/plain": [
       "<Figure size 432x288 with 1 Axes>"
      ]
     },
     "metadata": {
      "needs_background": "light"
     },
     "output_type": "display_data"
    }
   ],
   "source": [
    "sns.scatterplot(data=df_temp, x='high_carr', y='low_carr')"
   ]
  },
  {
   "cell_type": "code",
   "execution_count": 130,
   "metadata": {},
   "outputs": [
    {
     "data": {
      "text/html": [
       "<div>\n",
       "<style scoped>\n",
       "    .dataframe tbody tr th:only-of-type {\n",
       "        vertical-align: middle;\n",
       "    }\n",
       "\n",
       "    .dataframe tbody tr th {\n",
       "        vertical-align: top;\n",
       "    }\n",
       "\n",
       "    .dataframe thead th {\n",
       "        text-align: right;\n",
       "    }\n",
       "</style>\n",
       "<table border=\"1\" class=\"dataframe\">\n",
       "  <thead>\n",
       "    <tr style=\"text-align: right;\">\n",
       "      <th></th>\n",
       "      <th>high_carr</th>\n",
       "      <th>low_carr</th>\n",
       "    </tr>\n",
       "  </thead>\n",
       "  <tbody>\n",
       "    <tr>\n",
       "      <th>high_carr</th>\n",
       "      <td>1.000000</td>\n",
       "      <td>0.290047</td>\n",
       "    </tr>\n",
       "    <tr>\n",
       "      <th>low_carr</th>\n",
       "      <td>0.290047</td>\n",
       "      <td>1.000000</td>\n",
       "    </tr>\n",
       "  </tbody>\n",
       "</table>\n",
       "</div>"
      ],
      "text/plain": [
       "           high_carr  low_carr\n",
       "high_carr   1.000000  0.290047\n",
       "low_carr    0.290047  1.000000"
      ]
     },
     "execution_count": 130,
     "metadata": {},
     "output_type": "execute_result"
    }
   ],
   "source": [
    "df_temp[['high_carr', 'low_carr']].corr()"
   ]
  },
  {
   "cell_type": "code",
   "execution_count": 131,
   "metadata": {},
   "outputs": [],
   "source": [
    "df_temp['high_carr_perc'] = df_temp['high_carr']/df_temp['unit_tot']\n",
    "df_temp['low_carr_perc'] = df_temp['low_carr']/df_temp['unit_tot']"
   ]
  },
  {
   "cell_type": "code",
   "execution_count": 132,
   "metadata": {},
   "outputs": [
    {
     "data": {
      "text/html": [
       "<div>\n",
       "<style scoped>\n",
       "    .dataframe tbody tr th:only-of-type {\n",
       "        vertical-align: middle;\n",
       "    }\n",
       "\n",
       "    .dataframe tbody tr th {\n",
       "        vertical-align: top;\n",
       "    }\n",
       "\n",
       "    .dataframe thead th {\n",
       "        text-align: right;\n",
       "    }\n",
       "</style>\n",
       "<table border=\"1\" class=\"dataframe\">\n",
       "  <thead>\n",
       "    <tr style=\"text-align: right;\">\n",
       "      <th></th>\n",
       "      <th>high_carr_perc</th>\n",
       "      <th>low_carr_perc</th>\n",
       "    </tr>\n",
       "  </thead>\n",
       "  <tbody>\n",
       "    <tr>\n",
       "      <th>high_carr_perc</th>\n",
       "      <td>1.000000</td>\n",
       "      <td>-0.000995</td>\n",
       "    </tr>\n",
       "    <tr>\n",
       "      <th>low_carr_perc</th>\n",
       "      <td>-0.000995</td>\n",
       "      <td>1.000000</td>\n",
       "    </tr>\n",
       "  </tbody>\n",
       "</table>\n",
       "</div>"
      ],
      "text/plain": [
       "                high_carr_perc  low_carr_perc\n",
       "high_carr_perc        1.000000      -0.000995\n",
       "low_carr_perc        -0.000995       1.000000"
      ]
     },
     "execution_count": 132,
     "metadata": {},
     "output_type": "execute_result"
    }
   ],
   "source": [
    "df_temp[['high_carr_perc', 'low_carr_perc']].corr()"
   ]
  },
  {
   "cell_type": "code",
   "execution_count": 133,
   "metadata": {},
   "outputs": [],
   "source": [
    "df_temp['high_carr_perc2'] = df_temp['high_carr']/(df_temp['high_carr'] + df_temp['low_carr'])\n",
    "df_temp['low_carr_perc2'] = df_temp['low_carr']/(df_temp['high_carr'] + df_temp['low_carr'])"
   ]
  },
  {
   "cell_type": "code",
   "execution_count": 134,
   "metadata": {},
   "outputs": [],
   "source": [
    "df_temp['high_carr_perc2'].fillna(df_temp['high_carr_perc2'].mean(), inplace=True)\n",
    "df_temp['low_carr_perc2'].fillna(df_temp['low_carr_perc2'].mean(), inplace=True)"
   ]
  },
  {
   "cell_type": "code",
   "execution_count": 135,
   "metadata": {},
   "outputs": [
    {
     "data": {
      "text/html": [
       "<div>\n",
       "<style scoped>\n",
       "    .dataframe tbody tr th:only-of-type {\n",
       "        vertical-align: middle;\n",
       "    }\n",
       "\n",
       "    .dataframe tbody tr th {\n",
       "        vertical-align: top;\n",
       "    }\n",
       "\n",
       "    .dataframe thead th {\n",
       "        text-align: right;\n",
       "    }\n",
       "</style>\n",
       "<table border=\"1\" class=\"dataframe\">\n",
       "  <thead>\n",
       "    <tr style=\"text-align: right;\">\n",
       "      <th></th>\n",
       "      <th>high_carr_perc2</th>\n",
       "      <th>low_carr_perc2</th>\n",
       "    </tr>\n",
       "  </thead>\n",
       "  <tbody>\n",
       "    <tr>\n",
       "      <th>high_carr_perc2</th>\n",
       "      <td>1.0</td>\n",
       "      <td>-1.0</td>\n",
       "    </tr>\n",
       "    <tr>\n",
       "      <th>low_carr_perc2</th>\n",
       "      <td>-1.0</td>\n",
       "      <td>1.0</td>\n",
       "    </tr>\n",
       "  </tbody>\n",
       "</table>\n",
       "</div>"
      ],
      "text/plain": [
       "                 high_carr_perc2  low_carr_perc2\n",
       "high_carr_perc2              1.0            -1.0\n",
       "low_carr_perc2              -1.0             1.0"
      ]
     },
     "execution_count": 135,
     "metadata": {},
     "output_type": "execute_result"
    }
   ],
   "source": [
    "df_temp[['high_carr_perc2', 'low_carr_perc2']].corr()"
   ]
  },
  {
   "cell_type": "code",
   "execution_count": 136,
   "metadata": {},
   "outputs": [
    {
     "data": {
      "text/plain": [
       "<matplotlib.axes._subplots.AxesSubplot at 0x7fc842b0b130>"
      ]
     },
     "execution_count": 136,
     "metadata": {},
     "output_type": "execute_result"
    },
    {
     "data": {
      "image/png": "[encoded data removed]",
      "text/plain": [
       "<Figure size 432x288 with 1 Axes>"
      ]
     },
     "metadata": {
      "needs_background": "light"
     },
     "output_type": "display_data"
    }
   ],
   "source": [
    "sns.scatterplot(data=df_temp, x='high_carr_perc2', y='low_carr_perc2')"
   ]
  },
  {
   "cell_type": "code",
   "execution_count": 137,
   "metadata": {},
   "outputs": [
    {
     "data": {
      "text/html": [
       "<div>\n",
       "<style scoped>\n",
       "    .dataframe tbody tr th:only-of-type {\n",
       "        vertical-align: middle;\n",
       "    }\n",
       "\n",
       "    .dataframe tbody tr th {\n",
       "        vertical-align: top;\n",
       "    }\n",
       "\n",
       "    .dataframe thead th {\n",
       "        text-align: right;\n",
       "    }\n",
       "</style>\n",
       "<table border=\"1\" class=\"dataframe\">\n",
       "  <thead>\n",
       "    <tr style=\"text-align: right;\">\n",
       "      <th></th>\n",
       "      <th>count</th>\n",
       "      <th>hour_mean</th>\n",
       "      <th>hour_var</th>\n",
       "      <th>unit_tot</th>\n",
       "      <th>animal_tot</th>\n",
       "      <th>bebe_tot</th>\n",
       "      <th>animal_perc</th>\n",
       "      <th>bebe_perc</th>\n",
       "      <th>animal</th>\n",
       "      <th>bebe</th>\n",
       "      <th>high_tot</th>\n",
       "      <th>low_tot</th>\n",
       "      <th>high_carr</th>\n",
       "      <th>low_carr</th>\n",
       "      <th>premium</th>\n",
       "      <th>cheap</th>\n",
       "      <th>high_carr_perc</th>\n",
       "      <th>low_carr_perc</th>\n",
       "      <th>high_carr_perc2</th>\n",
       "      <th>low_carr_perc2</th>\n",
       "    </tr>\n",
       "    <tr>\n",
       "      <th>customer</th>\n",
       "      <th></th>\n",
       "      <th></th>\n",
       "      <th></th>\n",
       "      <th></th>\n",
       "      <th></th>\n",
       "      <th></th>\n",
       "      <th></th>\n",
       "      <th></th>\n",
       "      <th></th>\n",
       "      <th></th>\n",
       "      <th></th>\n",
       "      <th></th>\n",
       "      <th></th>\n",
       "      <th></th>\n",
       "      <th></th>\n",
       "      <th></th>\n",
       "      <th></th>\n",
       "      <th></th>\n",
       "      <th></th>\n",
       "      <th></th>\n",
       "    </tr>\n",
       "  </thead>\n",
       "  <tbody>\n",
       "    <tr>\n",
       "      <th>77000001548</th>\n",
       "      <td>12.0</td>\n",
       "      <td>21.086667</td>\n",
       "      <td>2.240761</td>\n",
       "      <td>222</td>\n",
       "      <td>2.0</td>\n",
       "      <td>0.0</td>\n",
       "      <td>0.900901</td>\n",
       "      <td>0.000000</td>\n",
       "      <td>1</td>\n",
       "      <td>0</td>\n",
       "      <td>18.0</td>\n",
       "      <td>30.0</td>\n",
       "      <td>1</td>\n",
       "      <td>3</td>\n",
       "      <td>0</td>\n",
       "      <td>1</td>\n",
       "      <td>0.004505</td>\n",
       "      <td>0.013514</td>\n",
       "      <td>0.250000</td>\n",
       "      <td>0.750000</td>\n",
       "    </tr>\n",
       "    <tr>\n",
       "      <th>77000001680</th>\n",
       "      <td>15.0</td>\n",
       "      <td>16.844156</td>\n",
       "      <td>2.281822</td>\n",
       "      <td>403</td>\n",
       "      <td>1.0</td>\n",
       "      <td>4.0</td>\n",
       "      <td>0.248139</td>\n",
       "      <td>0.992556</td>\n",
       "      <td>1</td>\n",
       "      <td>1</td>\n",
       "      <td>43.0</td>\n",
       "      <td>62.0</td>\n",
       "      <td>0</td>\n",
       "      <td>5</td>\n",
       "      <td>0</td>\n",
       "      <td>1</td>\n",
       "      <td>0.000000</td>\n",
       "      <td>0.012407</td>\n",
       "      <td>0.000000</td>\n",
       "      <td>1.000000</td>\n",
       "    </tr>\n",
       "    <tr>\n",
       "      <th>77000002166</th>\n",
       "      <td>16.0</td>\n",
       "      <td>19.004329</td>\n",
       "      <td>2.752155</td>\n",
       "      <td>324</td>\n",
       "      <td>3.0</td>\n",
       "      <td>2.0</td>\n",
       "      <td>0.925926</td>\n",
       "      <td>0.617284</td>\n",
       "      <td>1</td>\n",
       "      <td>1</td>\n",
       "      <td>31.0</td>\n",
       "      <td>38.0</td>\n",
       "      <td>0</td>\n",
       "      <td>3</td>\n",
       "      <td>0</td>\n",
       "      <td>1</td>\n",
       "      <td>0.000000</td>\n",
       "      <td>0.009259</td>\n",
       "      <td>0.000000</td>\n",
       "      <td>1.000000</td>\n",
       "    </tr>\n",
       "    <tr>\n",
       "      <th>77000004744</th>\n",
       "      <td>7.0</td>\n",
       "      <td>11.636364</td>\n",
       "      <td>1.707013</td>\n",
       "      <td>259</td>\n",
       "      <td>1.0</td>\n",
       "      <td>2.0</td>\n",
       "      <td>0.386100</td>\n",
       "      <td>0.772201</td>\n",
       "      <td>1</td>\n",
       "      <td>1</td>\n",
       "      <td>21.0</td>\n",
       "      <td>26.0</td>\n",
       "      <td>0</td>\n",
       "      <td>0</td>\n",
       "      <td>0</td>\n",
       "      <td>0</td>\n",
       "      <td>0.000000</td>\n",
       "      <td>0.000000</td>\n",
       "      <td>0.136327</td>\n",
       "      <td>0.863673</td>\n",
       "    </tr>\n",
       "    <tr>\n",
       "      <th>77000005496</th>\n",
       "      <td>1.0</td>\n",
       "      <td>23.000000</td>\n",
       "      <td>0.000000</td>\n",
       "      <td>5</td>\n",
       "      <td>0.0</td>\n",
       "      <td>0.0</td>\n",
       "      <td>0.000000</td>\n",
       "      <td>0.000000</td>\n",
       "      <td>0</td>\n",
       "      <td>0</td>\n",
       "      <td>0.0</td>\n",
       "      <td>1.0</td>\n",
       "      <td>0</td>\n",
       "      <td>0</td>\n",
       "      <td>0</td>\n",
       "      <td>0</td>\n",
       "      <td>0.000000</td>\n",
       "      <td>0.000000</td>\n",
       "      <td>0.136327</td>\n",
       "      <td>0.863673</td>\n",
       "    </tr>\n",
       "  </tbody>\n",
       "</table>\n",
       "</div>"
      ],
      "text/plain": [
       "             count  hour_mean  hour_var  unit_tot  animal_tot  bebe_tot  \\\n",
       "customer                                                                  \n",
       "77000001548   12.0  21.086667  2.240761       222         2.0       0.0   \n",
       "77000001680   15.0  16.844156  2.281822       403         1.0       4.0   \n",
       "77000002166   16.0  19.004329  2.752155       324         3.0       2.0   \n",
       "77000004744    7.0  11.636364  1.707013       259         1.0       2.0   \n",
       "77000005496    1.0  23.000000  0.000000         5         0.0       0.0   \n",
       "\n",
       "             animal_perc  bebe_perc  animal  bebe  high_tot  low_tot  \\\n",
       "customer                                                               \n",
       "77000001548     0.900901   0.000000       1     0      18.0     30.0   \n",
       "77000001680     0.248139   0.992556       1     1      43.0     62.0   \n",
       "77000002166     0.925926   0.617284       1     1      31.0     38.0   \n",
       "77000004744     0.386100   0.772201       1     1      21.0     26.0   \n",
       "77000005496     0.000000   0.000000       0     0       0.0      1.0   \n",
       "\n",
       "             high_carr  low_carr  premium  cheap  high_carr_perc  \\\n",
       "customer                                                           \n",
       "77000001548          1         3        0      1        0.004505   \n",
       "77000001680          0         5        0      1        0.000000   \n",
       "77000002166          0         3        0      1        0.000000   \n",
       "77000004744          0         0        0      0        0.000000   \n",
       "77000005496          0         0        0      0        0.000000   \n",
       "\n",
       "             low_carr_perc  high_carr_perc2  low_carr_perc2  \n",
       "customer                                                     \n",
       "77000001548       0.013514         0.250000        0.750000  \n",
       "77000001680       0.012407         0.000000        1.000000  \n",
       "77000002166       0.009259         0.000000        1.000000  \n",
       "77000004744       0.000000         0.136327        0.863673  \n",
       "77000005496       0.000000         0.136327        0.863673  "
      ]
     },
     "execution_count": 137,
     "metadata": {},
     "output_type": "execute_result"
    }
   ],
   "source": [
    "df_temp.head()"
   ]
  },
  {
   "cell_type": "code",
   "execution_count": 138,
   "metadata": {},
   "outputs": [],
   "source": [
    "cols_drop = ['high_tot', 'low_tot', 'high_carr', 'low_carr', 'high_carr_perc', 'low_carr_perc']\n",
    "df_temp.drop(cols_drop, axis=1, inplace=True)"
   ]
  },
  {
   "cell_type": "code",
   "execution_count": 139,
   "metadata": {},
   "outputs": [],
   "source": [
    "df_id = df_temp.copy()"
   ]
  },
  {
   "cell_type": "code",
   "execution_count": 140,
   "metadata": {},
   "outputs": [
    {
     "data": {
      "text/html": [
       "<div>\n",
       "<style scoped>\n",
       "    .dataframe tbody tr th:only-of-type {\n",
       "        vertical-align: middle;\n",
       "    }\n",
       "\n",
       "    .dataframe tbody tr th {\n",
       "        vertical-align: top;\n",
       "    }\n",
       "\n",
       "    .dataframe thead th {\n",
       "        text-align: right;\n",
       "    }\n",
       "</style>\n",
       "<table border=\"1\" class=\"dataframe\">\n",
       "  <thead>\n",
       "    <tr style=\"text-align: right;\">\n",
       "      <th></th>\n",
       "      <th>count</th>\n",
       "      <th>hour_mean</th>\n",
       "      <th>hour_var</th>\n",
       "      <th>unit_tot</th>\n",
       "      <th>animal_tot</th>\n",
       "      <th>bebe_tot</th>\n",
       "      <th>animal_perc</th>\n",
       "      <th>bebe_perc</th>\n",
       "      <th>animal</th>\n",
       "      <th>bebe</th>\n",
       "      <th>premium</th>\n",
       "      <th>cheap</th>\n",
       "      <th>high_carr_perc2</th>\n",
       "      <th>low_carr_perc2</th>\n",
       "    </tr>\n",
       "    <tr>\n",
       "      <th>customer</th>\n",
       "      <th></th>\n",
       "      <th></th>\n",
       "      <th></th>\n",
       "      <th></th>\n",
       "      <th></th>\n",
       "      <th></th>\n",
       "      <th></th>\n",
       "      <th></th>\n",
       "      <th></th>\n",
       "      <th></th>\n",
       "      <th></th>\n",
       "      <th></th>\n",
       "      <th></th>\n",
       "      <th></th>\n",
       "    </tr>\n",
       "  </thead>\n",
       "  <tbody>\n",
       "    <tr>\n",
       "      <th>77000001548</th>\n",
       "      <td>12.0</td>\n",
       "      <td>21.086667</td>\n",
       "      <td>2.240761</td>\n",
       "      <td>222</td>\n",
       "      <td>2.0</td>\n",
       "      <td>0.0</td>\n",
       "      <td>0.900901</td>\n",
       "      <td>0.000000</td>\n",
       "      <td>1</td>\n",
       "      <td>0</td>\n",
       "      <td>0</td>\n",
       "      <td>1</td>\n",
       "      <td>0.250000</td>\n",
       "      <td>0.750000</td>\n",
       "    </tr>\n",
       "    <tr>\n",
       "      <th>77000001680</th>\n",
       "      <td>15.0</td>\n",
       "      <td>16.844156</td>\n",
       "      <td>2.281822</td>\n",
       "      <td>403</td>\n",
       "      <td>1.0</td>\n",
       "      <td>4.0</td>\n",
       "      <td>0.248139</td>\n",
       "      <td>0.992556</td>\n",
       "      <td>1</td>\n",
       "      <td>1</td>\n",
       "      <td>0</td>\n",
       "      <td>1</td>\n",
       "      <td>0.000000</td>\n",
       "      <td>1.000000</td>\n",
       "    </tr>\n",
       "    <tr>\n",
       "      <th>77000002166</th>\n",
       "      <td>16.0</td>\n",
       "      <td>19.004329</td>\n",
       "      <td>2.752155</td>\n",
       "      <td>324</td>\n",
       "      <td>3.0</td>\n",
       "      <td>2.0</td>\n",
       "      <td>0.925926</td>\n",
       "      <td>0.617284</td>\n",
       "      <td>1</td>\n",
       "      <td>1</td>\n",
       "      <td>0</td>\n",
       "      <td>1</td>\n",
       "      <td>0.000000</td>\n",
       "      <td>1.000000</td>\n",
       "    </tr>\n",
       "    <tr>\n",
       "      <th>77000004744</th>\n",
       "      <td>7.0</td>\n",
       "      <td>11.636364</td>\n",
       "      <td>1.707013</td>\n",
       "      <td>259</td>\n",
       "      <td>1.0</td>\n",
       "      <td>2.0</td>\n",
       "      <td>0.386100</td>\n",
       "      <td>0.772201</td>\n",
       "      <td>1</td>\n",
       "      <td>1</td>\n",
       "      <td>0</td>\n",
       "      <td>0</td>\n",
       "      <td>0.136327</td>\n",
       "      <td>0.863673</td>\n",
       "    </tr>\n",
       "    <tr>\n",
       "      <th>77000005496</th>\n",
       "      <td>1.0</td>\n",
       "      <td>23.000000</td>\n",
       "      <td>0.000000</td>\n",
       "      <td>5</td>\n",
       "      <td>0.0</td>\n",
       "      <td>0.0</td>\n",
       "      <td>0.000000</td>\n",
       "      <td>0.000000</td>\n",
       "      <td>0</td>\n",
       "      <td>0</td>\n",
       "      <td>0</td>\n",
       "      <td>0</td>\n",
       "      <td>0.136327</td>\n",
       "      <td>0.863673</td>\n",
       "    </tr>\n",
       "  </tbody>\n",
       "</table>\n",
       "</div>"
      ],
      "text/plain": [
       "             count  hour_mean  hour_var  unit_tot  animal_tot  bebe_tot  \\\n",
       "customer                                                                  \n",
       "77000001548   12.0  21.086667  2.240761       222         2.0       0.0   \n",
       "77000001680   15.0  16.844156  2.281822       403         1.0       4.0   \n",
       "77000002166   16.0  19.004329  2.752155       324         3.0       2.0   \n",
       "77000004744    7.0  11.636364  1.707013       259         1.0       2.0   \n",
       "77000005496    1.0  23.000000  0.000000         5         0.0       0.0   \n",
       "\n",
       "             animal_perc  bebe_perc  animal  bebe  premium  cheap  \\\n",
       "customer                                                            \n",
       "77000001548     0.900901   0.000000       1     0        0      1   \n",
       "77000001680     0.248139   0.992556       1     1        0      1   \n",
       "77000002166     0.925926   0.617284       1     1        0      1   \n",
       "77000004744     0.386100   0.772201       1     1        0      0   \n",
       "77000005496     0.000000   0.000000       0     0        0      0   \n",
       "\n",
       "             high_carr_perc2  low_carr_perc2  \n",
       "customer                                      \n",
       "77000001548         0.250000        0.750000  \n",
       "77000001680         0.000000        1.000000  \n",
       "77000002166         0.000000        1.000000  \n",
       "77000004744         0.136327        0.863673  \n",
       "77000005496         0.136327        0.863673  "
      ]
     },
     "execution_count": 140,
     "metadata": {},
     "output_type": "execute_result"
    }
   ],
   "source": [
    "df_id.head()"
   ]
  },
  {
   "cell_type": "markdown",
   "metadata": {
    "id": "-BLpaUQ3sPMW"
   },
   "source": [
    "### average number of prodcuts bought"
   ]
  },
  {
   "cell_type": "code",
   "execution_count": 141,
   "metadata": {
    "id": "dtqXE5vlsPMW"
   },
   "outputs": [],
   "source": [
    "# Step 1\n",
    "\n",
    "count_by_shopping = df.groupby(by=['customer','date']).sum()"
   ]
  },
  {
   "cell_type": "code",
   "execution_count": 142,
   "metadata": {
    "colab": {
     "base_uri": "https://localhost:8080/",
     "height": 720
    },
    "id": "ZCulzJX9Xvya",
    "outputId": "0ac2bd35-1d8e-4642-e6d9-5e3acdcc7d0f",
    "scrolled": true
   },
   "outputs": [
    {
     "data": {
      "text/html": [
       "<div>\n",
       "<style scoped>\n",
       "    .dataframe tbody tr th:only-of-type {\n",
       "        vertical-align: middle;\n",
       "    }\n",
       "\n",
       "    .dataframe tbody tr th {\n",
       "        vertical-align: top;\n",
       "    }\n",
       "\n",
       "    .dataframe thead th {\n",
       "        text-align: right;\n",
       "    }\n",
       "</style>\n",
       "<table border=\"1\" class=\"dataframe\">\n",
       "  <thead>\n",
       "    <tr style=\"text-align: right;\">\n",
       "      <th></th>\n",
       "      <th></th>\n",
       "      <th>_id</th>\n",
       "      <th>mall</th>\n",
       "      <th>net_am</th>\n",
       "      <th>n_unit</th>\n",
       "      <th>BuyboxPricedf_cost_product</th>\n",
       "      <th>low</th>\n",
       "      <th>high</th>\n",
       "      <th>bebe</th>\n",
       "      <th>animal</th>\n",
       "      <th>hour</th>\n",
       "    </tr>\n",
       "    <tr>\n",
       "      <th>customer</th>\n",
       "      <th>date</th>\n",
       "      <th></th>\n",
       "      <th></th>\n",
       "      <th></th>\n",
       "      <th></th>\n",
       "      <th></th>\n",
       "      <th></th>\n",
       "      <th></th>\n",
       "      <th></th>\n",
       "      <th></th>\n",
       "      <th></th>\n",
       "    </tr>\n",
       "  </thead>\n",
       "  <tbody>\n",
       "    <tr>\n",
       "      <th rowspan=\"12\" valign=\"top\">77000001548</th>\n",
       "      <th>2016-02-27T19:18:00.000+0000</th>\n",
       "      <td>9389387</td>\n",
       "      <td>48</td>\n",
       "      <td>100.69</td>\n",
       "      <td>41</td>\n",
       "      <td>85.05</td>\n",
       "      <td>8.0</td>\n",
       "      <td>3.0</td>\n",
       "      <td>0.0</td>\n",
       "      <td>0.0</td>\n",
       "      <td>589</td>\n",
       "    </tr>\n",
       "    <tr>\n",
       "      <th>2016-02-27T19:19:00.000+0000</th>\n",
       "      <td>908625</td>\n",
       "      <td>3</td>\n",
       "      <td>7.32</td>\n",
       "      <td>3</td>\n",
       "      <td>11.03</td>\n",
       "      <td>1.0</td>\n",
       "      <td>0.0</td>\n",
       "      <td>0.0</td>\n",
       "      <td>0.0</td>\n",
       "      <td>57</td>\n",
       "    </tr>\n",
       "    <tr>\n",
       "      <th>2016-02-27T20:12:00.000+0000</th>\n",
       "      <td>303872</td>\n",
       "      <td>1</td>\n",
       "      <td>1.00</td>\n",
       "      <td>1</td>\n",
       "      <td>0.65</td>\n",
       "      <td>1.0</td>\n",
       "      <td>0.0</td>\n",
       "      <td>0.0</td>\n",
       "      <td>0.0</td>\n",
       "      <td>20</td>\n",
       "    </tr>\n",
       "    <tr>\n",
       "      <th>2016-02-27T20:16:00.000+0000</th>\n",
       "      <td>605786</td>\n",
       "      <td>4</td>\n",
       "      <td>1.18</td>\n",
       "      <td>2</td>\n",
       "      <td>2.15</td>\n",
       "      <td>0.0</td>\n",
       "      <td>0.0</td>\n",
       "      <td>0.0</td>\n",
       "      <td>0.0</td>\n",
       "      <td>40</td>\n",
       "    </tr>\n",
       "    <tr>\n",
       "      <th>2016-02-27T20:17:00.000+0000</th>\n",
       "      <td>5451992</td>\n",
       "      <td>36</td>\n",
       "      <td>54.79</td>\n",
       "      <td>20</td>\n",
       "      <td>30.28</td>\n",
       "      <td>3.0</td>\n",
       "      <td>3.0</td>\n",
       "      <td>0.0</td>\n",
       "      <td>0.0</td>\n",
       "      <td>360</td>\n",
       "    </tr>\n",
       "    <tr>\n",
       "      <th>2016-02-27T20:18:00.000+0000</th>\n",
       "      <td>1817316</td>\n",
       "      <td>12</td>\n",
       "      <td>14.51</td>\n",
       "      <td>7</td>\n",
       "      <td>13.61</td>\n",
       "      <td>2.0</td>\n",
       "      <td>1.0</td>\n",
       "      <td>0.0</td>\n",
       "      <td>0.0</td>\n",
       "      <td>120</td>\n",
       "    </tr>\n",
       "    <tr>\n",
       "      <th>2016-02-27T21:18:00.000+0000</th>\n",
       "      <td>1514435</td>\n",
       "      <td>5</td>\n",
       "      <td>69.53</td>\n",
       "      <td>6</td>\n",
       "      <td>29.01</td>\n",
       "      <td>0.0</td>\n",
       "      <td>3.0</td>\n",
       "      <td>0.0</td>\n",
       "      <td>2.0</td>\n",
       "      <td>105</td>\n",
       "    </tr>\n",
       "    <tr>\n",
       "      <th>2016-02-27T21:19:00.000+0000</th>\n",
       "      <td>2423032</td>\n",
       "      <td>8</td>\n",
       "      <td>29.48</td>\n",
       "      <td>8</td>\n",
       "      <td>24.49</td>\n",
       "      <td>0.0</td>\n",
       "      <td>1.0</td>\n",
       "      <td>0.0</td>\n",
       "      <td>0.0</td>\n",
       "      <td>168</td>\n",
       "    </tr>\n",
       "    <tr>\n",
       "      <th>2016-02-27T22:17:00.000+0000</th>\n",
       "      <td>11812749</td>\n",
       "      <td>39</td>\n",
       "      <td>130.20</td>\n",
       "      <td>82</td>\n",
       "      <td>79.78</td>\n",
       "      <td>7.0</td>\n",
       "      <td>3.0</td>\n",
       "      <td>0.0</td>\n",
       "      <td>0.0</td>\n",
       "      <td>858</td>\n",
       "    </tr>\n",
       "    <tr>\n",
       "      <th>2016-02-27T22:19:00.000+0000</th>\n",
       "      <td>1514365</td>\n",
       "      <td>10</td>\n",
       "      <td>27.87</td>\n",
       "      <td>5</td>\n",
       "      <td>22.23</td>\n",
       "      <td>1.0</td>\n",
       "      <td>0.0</td>\n",
       "      <td>0.0</td>\n",
       "      <td>0.0</td>\n",
       "      <td>110</td>\n",
       "    </tr>\n",
       "    <tr>\n",
       "      <th>2016-02-27T23:17:00.000+0000</th>\n",
       "      <td>605780</td>\n",
       "      <td>4</td>\n",
       "      <td>2.99</td>\n",
       "      <td>2</td>\n",
       "      <td>3.14</td>\n",
       "      <td>1.0</td>\n",
       "      <td>0.0</td>\n",
       "      <td>0.0</td>\n",
       "      <td>0.0</td>\n",
       "      <td>46</td>\n",
       "    </tr>\n",
       "    <tr>\n",
       "      <th>2016-02-27T23:19:00.000+0000</th>\n",
       "      <td>9086303</td>\n",
       "      <td>49</td>\n",
       "      <td>100.54</td>\n",
       "      <td>45</td>\n",
       "      <td>54.06</td>\n",
       "      <td>6.0</td>\n",
       "      <td>4.0</td>\n",
       "      <td>0.0</td>\n",
       "      <td>0.0</td>\n",
       "      <td>690</td>\n",
       "    </tr>\n",
       "    <tr>\n",
       "      <th rowspan=\"8\" valign=\"top\">77000001680</th>\n",
       "      <th>2016-01-22T15:08:00.000+0000</th>\n",
       "      <td>8667523</td>\n",
       "      <td>41</td>\n",
       "      <td>89.57</td>\n",
       "      <td>44</td>\n",
       "      <td>94.29</td>\n",
       "      <td>11.0</td>\n",
       "      <td>5.0</td>\n",
       "      <td>0.0</td>\n",
       "      <td>1.0</td>\n",
       "      <td>615</td>\n",
       "    </tr>\n",
       "    <tr>\n",
       "      <th>2016-01-22T15:10:00.000+0000</th>\n",
       "      <td>6130503</td>\n",
       "      <td>48</td>\n",
       "      <td>84.11</td>\n",
       "      <td>40</td>\n",
       "      <td>47.90</td>\n",
       "      <td>5.0</td>\n",
       "      <td>4.0</td>\n",
       "      <td>0.0</td>\n",
       "      <td>0.0</td>\n",
       "      <td>435</td>\n",
       "    </tr>\n",
       "    <tr>\n",
       "      <th>2016-01-22T16:04:00.000+0000</th>\n",
       "      <td>422834</td>\n",
       "      <td>4</td>\n",
       "      <td>7.98</td>\n",
       "      <td>2</td>\n",
       "      <td>5.28</td>\n",
       "      <td>1.0</td>\n",
       "      <td>0.0</td>\n",
       "      <td>0.0</td>\n",
       "      <td>0.0</td>\n",
       "      <td>32</td>\n",
       "    </tr>\n",
       "    <tr>\n",
       "      <th>2016-01-22T16:05:00.000+0000</th>\n",
       "      <td>1691320</td>\n",
       "      <td>8</td>\n",
       "      <td>24.88</td>\n",
       "      <td>9</td>\n",
       "      <td>9.49</td>\n",
       "      <td>0.0</td>\n",
       "      <td>1.0</td>\n",
       "      <td>0.0</td>\n",
       "      <td>0.0</td>\n",
       "      <td>128</td>\n",
       "    </tr>\n",
       "    <tr>\n",
       "      <th>2016-01-22T16:06:00.000+0000</th>\n",
       "      <td>5496659</td>\n",
       "      <td>52</td>\n",
       "      <td>144.87</td>\n",
       "      <td>32</td>\n",
       "      <td>292.39</td>\n",
       "      <td>4.0</td>\n",
       "      <td>6.0</td>\n",
       "      <td>0.0</td>\n",
       "      <td>0.0</td>\n",
       "      <td>416</td>\n",
       "    </tr>\n",
       "    <tr>\n",
       "      <th>2016-01-22T16:08:00.000+0000</th>\n",
       "      <td>12472936</td>\n",
       "      <td>59</td>\n",
       "      <td>198.72</td>\n",
       "      <td>92</td>\n",
       "      <td>75.15</td>\n",
       "      <td>16.0</td>\n",
       "      <td>2.0</td>\n",
       "      <td>2.0</td>\n",
       "      <td>0.0</td>\n",
       "      <td>944</td>\n",
       "    </tr>\n",
       "    <tr>\n",
       "      <th>2016-01-22T17:05:00.000+0000</th>\n",
       "      <td>4016847</td>\n",
       "      <td>19</td>\n",
       "      <td>55.10</td>\n",
       "      <td>32</td>\n",
       "      <td>39.92</td>\n",
       "      <td>4.0</td>\n",
       "      <td>3.0</td>\n",
       "      <td>0.0</td>\n",
       "      <td>0.0</td>\n",
       "      <td>323</td>\n",
       "    </tr>\n",
       "    <tr>\n",
       "      <th>2016-01-22T17:09:00.000+0000</th>\n",
       "      <td>1057000</td>\n",
       "      <td>10</td>\n",
       "      <td>3.15</td>\n",
       "      <td>6</td>\n",
       "      <td>8.17</td>\n",
       "      <td>2.0</td>\n",
       "      <td>0.0</td>\n",
       "      <td>0.0</td>\n",
       "      <td>0.0</td>\n",
       "      <td>85</td>\n",
       "    </tr>\n",
       "  </tbody>\n",
       "</table>\n",
       "</div>"
      ],
      "text/plain": [
       "                                               _id  mall  net_am  n_unit  \\\n",
       "customer    date                                                           \n",
       "77000001548 2016-02-27T19:18:00.000+0000   9389387    48  100.69      41   \n",
       "            2016-02-27T19:19:00.000+0000    908625     3    7.32       3   \n",
       "            2016-02-27T20:12:00.000+0000    303872     1    1.00       1   \n",
       "            2016-02-27T20:16:00.000+0000    605786     4    1.18       2   \n",
       "            2016-02-27T20:17:00.000+0000   5451992    36   54.79      20   \n",
       "            2016-02-27T20:18:00.000+0000   1817316    12   14.51       7   \n",
       "            2016-02-27T21:18:00.000+0000   1514435     5   69.53       6   \n",
       "            2016-02-27T21:19:00.000+0000   2423032     8   29.48       8   \n",
       "            2016-02-27T22:17:00.000+0000  11812749    39  130.20      82   \n",
       "            2016-02-27T22:19:00.000+0000   1514365    10   27.87       5   \n",
       "            2016-02-27T23:17:00.000+0000    605780     4    2.99       2   \n",
       "            2016-02-27T23:19:00.000+0000   9086303    49  100.54      45   \n",
       "77000001680 2016-01-22T15:08:00.000+0000   8667523    41   89.57      44   \n",
       "            2016-01-22T15:10:00.000+0000   6130503    48   84.11      40   \n",
       "            2016-01-22T16:04:00.000+0000    422834     4    7.98       2   \n",
       "            2016-01-22T16:05:00.000+0000   1691320     8   24.88       9   \n",
       "            2016-01-22T16:06:00.000+0000   5496659    52  144.87      32   \n",
       "            2016-01-22T16:08:00.000+0000  12472936    59  198.72      92   \n",
       "            2016-01-22T17:05:00.000+0000   4016847    19   55.10      32   \n",
       "            2016-01-22T17:09:00.000+0000   1057000    10    3.15       6   \n",
       "\n",
       "                                          BuyboxPricedf_cost_product   low  \\\n",
       "customer    date                                                             \n",
       "77000001548 2016-02-27T19:18:00.000+0000                       85.05   8.0   \n",
       "            2016-02-27T19:19:00.000+0000                       11.03   1.0   \n",
       "            2016-02-27T20:12:00.000+0000                        0.65   1.0   \n",
       "            2016-02-27T20:16:00.000+0000                        2.15   0.0   \n",
       "            2016-02-27T20:17:00.000+0000                       30.28   3.0   \n",
       "            2016-02-27T20:18:00.000+0000                       13.61   2.0   \n",
       "            2016-02-27T21:18:00.000+0000                       29.01   0.0   \n",
       "            2016-02-27T21:19:00.000+0000                       24.49   0.0   \n",
       "            2016-02-27T22:17:00.000+0000                       79.78   7.0   \n",
       "            2016-02-27T22:19:00.000+0000                       22.23   1.0   \n",
       "            2016-02-27T23:17:00.000+0000                        3.14   1.0   \n",
       "            2016-02-27T23:19:00.000+0000                       54.06   6.0   \n",
       "77000001680 2016-01-22T15:08:00.000+0000                       94.29  11.0   \n",
       "            2016-01-22T15:10:00.000+0000                       47.90   5.0   \n",
       "            2016-01-22T16:04:00.000+0000                        5.28   1.0   \n",
       "            2016-01-22T16:05:00.000+0000                        9.49   0.0   \n",
       "            2016-01-22T16:06:00.000+0000                      292.39   4.0   \n",
       "            2016-01-22T16:08:00.000+0000                       75.15  16.0   \n",
       "            2016-01-22T17:05:00.000+0000                       39.92   4.0   \n",
       "            2016-01-22T17:09:00.000+0000                        8.17   2.0   \n",
       "\n",
       "                                          high  bebe  animal  hour  \n",
       "customer    date                                                    \n",
       "77000001548 2016-02-27T19:18:00.000+0000   3.0   0.0     0.0   589  \n",
       "            2016-02-27T19:19:00.000+0000   0.0   0.0     0.0    57  \n",
       "            2016-02-27T20:12:00.000+0000   0.0   0.0     0.0    20  \n",
       "            2016-02-27T20:16:00.000+0000   0.0   0.0     0.0    40  \n",
       "            2016-02-27T20:17:00.000+0000   3.0   0.0     0.0   360  \n",
       "            2016-02-27T20:18:00.000+0000   1.0   0.0     0.0   120  \n",
       "            2016-02-27T21:18:00.000+0000   3.0   0.0     2.0   105  \n",
       "            2016-02-27T21:19:00.000+0000   1.0   0.0     0.0   168  \n",
       "            2016-02-27T22:17:00.000+0000   3.0   0.0     0.0   858  \n",
       "            2016-02-27T22:19:00.000+0000   0.0   0.0     0.0   110  \n",
       "            2016-02-27T23:17:00.000+0000   0.0   0.0     0.0    46  \n",
       "            2016-02-27T23:19:00.000+0000   4.0   0.0     0.0   690  \n",
       "77000001680 2016-01-22T15:08:00.000+0000   5.0   0.0     1.0   615  \n",
       "            2016-01-22T15:10:00.000+0000   4.0   0.0     0.0   435  \n",
       "            2016-01-22T16:04:00.000+0000   0.0   0.0     0.0    32  \n",
       "            2016-01-22T16:05:00.000+0000   1.0   0.0     0.0   128  \n",
       "            2016-01-22T16:06:00.000+0000   6.0   0.0     0.0   416  \n",
       "            2016-01-22T16:08:00.000+0000   2.0   2.0     0.0   944  \n",
       "            2016-01-22T17:05:00.000+0000   3.0   0.0     0.0   323  \n",
       "            2016-01-22T17:09:00.000+0000   0.0   0.0     0.0    85  "
      ]
     },
     "execution_count": 142,
     "metadata": {},
     "output_type": "execute_result"
    }
   ],
   "source": [
    "count_by_shopping.head(20)"
   ]
  },
  {
   "cell_type": "code",
   "execution_count": 143,
   "metadata": {
    "id": "24BIcplpsPMg"
   },
   "outputs": [],
   "source": [
    "# Step 2\n",
    "\n",
    "df_id['n_unit_shop_mean'] = count_by_shopping.groupby(by=['customer']).mean()['n_unit']"
   ]
  },
  {
   "cell_type": "code",
   "execution_count": 144,
   "metadata": {
    "id": "GKwQgzx0sPMi"
   },
   "outputs": [],
   "source": [
    "df_id['n_unit_shop_var'] = count_by_shopping.groupby(by=['customer']).var()['n_unit']"
   ]
  },
  {
   "cell_type": "code",
   "execution_count": 145,
   "metadata": {
    "colab": {
     "base_uri": "https://localhost:8080/",
     "height": 255
    },
    "id": "0gYdmKSfsPMj",
    "outputId": "ee3c0de4-614f-4ecc-bddc-9e528ed9862a"
   },
   "outputs": [
    {
     "data": {
      "text/html": [
       "<div>\n",
       "<style scoped>\n",
       "    .dataframe tbody tr th:only-of-type {\n",
       "        vertical-align: middle;\n",
       "    }\n",
       "\n",
       "    .dataframe tbody tr th {\n",
       "        vertical-align: top;\n",
       "    }\n",
       "\n",
       "    .dataframe thead th {\n",
       "        text-align: right;\n",
       "    }\n",
       "</style>\n",
       "<table border=\"1\" class=\"dataframe\">\n",
       "  <thead>\n",
       "    <tr style=\"text-align: right;\">\n",
       "      <th></th>\n",
       "      <th>count</th>\n",
       "      <th>hour_mean</th>\n",
       "      <th>hour_var</th>\n",
       "      <th>unit_tot</th>\n",
       "      <th>animal_tot</th>\n",
       "      <th>bebe_tot</th>\n",
       "      <th>animal_perc</th>\n",
       "      <th>bebe_perc</th>\n",
       "      <th>animal</th>\n",
       "      <th>bebe</th>\n",
       "      <th>premium</th>\n",
       "      <th>cheap</th>\n",
       "      <th>high_carr_perc2</th>\n",
       "      <th>low_carr_perc2</th>\n",
       "      <th>n_unit_shop_mean</th>\n",
       "      <th>n_unit_shop_var</th>\n",
       "    </tr>\n",
       "    <tr>\n",
       "      <th>customer</th>\n",
       "      <th></th>\n",
       "      <th></th>\n",
       "      <th></th>\n",
       "      <th></th>\n",
       "      <th></th>\n",
       "      <th></th>\n",
       "      <th></th>\n",
       "      <th></th>\n",
       "      <th></th>\n",
       "      <th></th>\n",
       "      <th></th>\n",
       "      <th></th>\n",
       "      <th></th>\n",
       "      <th></th>\n",
       "      <th></th>\n",
       "      <th></th>\n",
       "    </tr>\n",
       "  </thead>\n",
       "  <tbody>\n",
       "    <tr>\n",
       "      <th>77000001548</th>\n",
       "      <td>12.0</td>\n",
       "      <td>21.086667</td>\n",
       "      <td>2.240761</td>\n",
       "      <td>222</td>\n",
       "      <td>2.0</td>\n",
       "      <td>0.0</td>\n",
       "      <td>0.900901</td>\n",
       "      <td>0.000000</td>\n",
       "      <td>1</td>\n",
       "      <td>0</td>\n",
       "      <td>0</td>\n",
       "      <td>1</td>\n",
       "      <td>0.250000</td>\n",
       "      <td>0.750000</td>\n",
       "      <td>18.500000</td>\n",
       "      <td>628.636364</td>\n",
       "    </tr>\n",
       "    <tr>\n",
       "      <th>77000001680</th>\n",
       "      <td>15.0</td>\n",
       "      <td>16.844156</td>\n",
       "      <td>2.281822</td>\n",
       "      <td>403</td>\n",
       "      <td>1.0</td>\n",
       "      <td>4.0</td>\n",
       "      <td>0.248139</td>\n",
       "      <td>0.992556</td>\n",
       "      <td>1</td>\n",
       "      <td>1</td>\n",
       "      <td>0</td>\n",
       "      <td>1</td>\n",
       "      <td>0.000000</td>\n",
       "      <td>1.000000</td>\n",
       "      <td>26.866667</td>\n",
       "      <td>704.123810</td>\n",
       "    </tr>\n",
       "    <tr>\n",
       "      <th>77000002166</th>\n",
       "      <td>16.0</td>\n",
       "      <td>19.004329</td>\n",
       "      <td>2.752155</td>\n",
       "      <td>324</td>\n",
       "      <td>3.0</td>\n",
       "      <td>2.0</td>\n",
       "      <td>0.925926</td>\n",
       "      <td>0.617284</td>\n",
       "      <td>1</td>\n",
       "      <td>1</td>\n",
       "      <td>0</td>\n",
       "      <td>1</td>\n",
       "      <td>0.000000</td>\n",
       "      <td>1.000000</td>\n",
       "      <td>20.250000</td>\n",
       "      <td>911.000000</td>\n",
       "    </tr>\n",
       "    <tr>\n",
       "      <th>77000004744</th>\n",
       "      <td>7.0</td>\n",
       "      <td>11.636364</td>\n",
       "      <td>1.707013</td>\n",
       "      <td>259</td>\n",
       "      <td>1.0</td>\n",
       "      <td>2.0</td>\n",
       "      <td>0.386100</td>\n",
       "      <td>0.772201</td>\n",
       "      <td>1</td>\n",
       "      <td>1</td>\n",
       "      <td>0</td>\n",
       "      <td>0</td>\n",
       "      <td>0.136327</td>\n",
       "      <td>0.863673</td>\n",
       "      <td>37.000000</td>\n",
       "      <td>1064.000000</td>\n",
       "    </tr>\n",
       "    <tr>\n",
       "      <th>77000005496</th>\n",
       "      <td>1.0</td>\n",
       "      <td>23.000000</td>\n",
       "      <td>0.000000</td>\n",
       "      <td>5</td>\n",
       "      <td>0.0</td>\n",
       "      <td>0.0</td>\n",
       "      <td>0.000000</td>\n",
       "      <td>0.000000</td>\n",
       "      <td>0</td>\n",
       "      <td>0</td>\n",
       "      <td>0</td>\n",
       "      <td>0</td>\n",
       "      <td>0.136327</td>\n",
       "      <td>0.863673</td>\n",
       "      <td>5.000000</td>\n",
       "      <td>NaN</td>\n",
       "    </tr>\n",
       "  </tbody>\n",
       "</table>\n",
       "</div>"
      ],
      "text/plain": [
       "             count  hour_mean  hour_var  unit_tot  animal_tot  bebe_tot  \\\n",
       "customer                                                                  \n",
       "77000001548   12.0  21.086667  2.240761       222         2.0       0.0   \n",
       "77000001680   15.0  16.844156  2.281822       403         1.0       4.0   \n",
       "77000002166   16.0  19.004329  2.752155       324         3.0       2.0   \n",
       "77000004744    7.0  11.636364  1.707013       259         1.0       2.0   \n",
       "77000005496    1.0  23.000000  0.000000         5         0.0       0.0   \n",
       "\n",
       "             animal_perc  bebe_perc  animal  bebe  premium  cheap  \\\n",
       "customer                                                            \n",
       "77000001548     0.900901   0.000000       1     0        0      1   \n",
       "77000001680     0.248139   0.992556       1     1        0      1   \n",
       "77000002166     0.925926   0.617284       1     1        0      1   \n",
       "77000004744     0.386100   0.772201       1     1        0      0   \n",
       "77000005496     0.000000   0.000000       0     0        0      0   \n",
       "\n",
       "             high_carr_perc2  low_carr_perc2  n_unit_shop_mean  \\\n",
       "customer                                                         \n",
       "77000001548         0.250000        0.750000         18.500000   \n",
       "77000001680         0.000000        1.000000         26.866667   \n",
       "77000002166         0.000000        1.000000         20.250000   \n",
       "77000004744         0.136327        0.863673         37.000000   \n",
       "77000005496         0.136327        0.863673          5.000000   \n",
       "\n",
       "             n_unit_shop_var  \n",
       "customer                      \n",
       "77000001548       628.636364  \n",
       "77000001680       704.123810  \n",
       "77000002166       911.000000  \n",
       "77000004744      1064.000000  \n",
       "77000005496              NaN  "
      ]
     },
     "execution_count": 145,
     "metadata": {},
     "output_type": "execute_result"
    }
   ],
   "source": [
    "df_id.head()"
   ]
  },
  {
   "cell_type": "code",
   "execution_count": 146,
   "metadata": {},
   "outputs": [
    {
     "data": {
      "text/plain": [
       "<matplotlib.axes._subplots.AxesSubplot at 0x7fc8015a5910>"
      ]
     },
     "execution_count": 146,
     "metadata": {},
     "output_type": "execute_result"
    },
    {
     "data": {
      "image/png": "[encoded data removed]",
      "text/plain": [
       "<Figure size 432x288 with 1 Axes>"
      ]
     },
     "metadata": {
      "needs_background": "light"
     },
     "output_type": "display_data"
    }
   ],
   "source": [
    "df_id['n_unit_shop_mean'].hist(bins=30)"
   ]
  },
  {
   "cell_type": "code",
   "execution_count": 147,
   "metadata": {},
   "outputs": [
    {
     "data": {
      "text/plain": [
       "<matplotlib.axes._subplots.AxesSubplot at 0x7fc801849850>"
      ]
     },
     "execution_count": 147,
     "metadata": {},
     "output_type": "execute_result"
    },
    {
     "data": {
      "image/png": "[encoded data removed]",
      "text/plain": [
       "<Figure size 432x288 with 1 Axes>"
      ]
     },
     "metadata": {
      "needs_background": "light"
     },
     "output_type": "display_data"
    }
   ],
   "source": [
    "# What about removing one-time purchasers?\n",
    "\n",
    "df_id_multiple = remove_one_time_purchasers(df_id)\n",
    "df_id_multiple['n_unit_shop_mean'].hist(bins=30)"
   ]
  },
  {
   "cell_type": "markdown",
   "metadata": {},
   "source": [
    "### survey data on spending\n",
    "\n"
   ]
  },
  {
   "cell_type": "code",
   "execution_count": 148,
   "metadata": {},
   "outputs": [],
   "source": [
    "df_survey = pd.read_csv('data.nosync/survey_data.csv')\n",
    "df_survey.drop(0, inplace=True)"
   ]
  },
  {
   "cell_type": "code",
   "execution_count": 149,
   "metadata": {},
   "outputs": [
    {
     "data": {
      "text/html": [
       "<div>\n",
       "<style scoped>\n",
       "    .dataframe tbody tr th:only-of-type {\n",
       "        vertical-align: middle;\n",
       "    }\n",
       "\n",
       "    .dataframe tbody tr th {\n",
       "        vertical-align: top;\n",
       "    }\n",
       "\n",
       "    .dataframe thead th {\n",
       "        text-align: right;\n",
       "    }\n",
       "</style>\n",
       "<table border=\"1\" class=\"dataframe\">\n",
       "  <thead>\n",
       "    <tr style=\"text-align: right;\">\n",
       "      <th></th>\n",
       "      <th>StartDate</th>\n",
       "      <th>EndDate</th>\n",
       "      <th>Status</th>\n",
       "      <th>Progress</th>\n",
       "      <th>Duration (in seconds)</th>\n",
       "      <th>Finished</th>\n",
       "      <th>RecordedDate</th>\n",
       "      <th>ResponseId</th>\n",
       "      <th>DistributionChannel</th>\n",
       "      <th>UserLanguage</th>\n",
       "      <th>Q2.1</th>\n",
       "      <th>Q2.3</th>\n",
       "      <th>Q2.4_1</th>\n",
       "      <th>Q2.5</th>\n",
       "      <th>Q2.6_1</th>\n",
       "      <th>Q2.6_2</th>\n",
       "      <th>Q2.6_3</th>\n",
       "      <th>Q2.6_4</th>\n",
       "      <th>Q2.6_5</th>\n",
       "      <th>Q2.7_1</th>\n",
       "      <th>Q2.7_2</th>\n",
       "      <th>Q2.7_3</th>\n",
       "      <th>Q2.7_4</th>\n",
       "      <th>Q2.7_5</th>\n",
       "      <th>Q2.8_1</th>\n",
       "      <th>Q2.8_2</th>\n",
       "      <th>Q2.8_3</th>\n",
       "      <th>Q2.8_4</th>\n",
       "      <th>Q2.8_5</th>\n",
       "      <th>Q2.9</th>\n",
       "      <th>Q2.10</th>\n",
       "      <th>Q2.11</th>\n",
       "      <th>Q2.12</th>\n",
       "      <th>Q2.13</th>\n",
       "      <th>Q2.14</th>\n",
       "      <th>Q3.1</th>\n",
       "      <th>Q3.2</th>\n",
       "      <th>Q3.3_1</th>\n",
       "      <th>Q3.3_2</th>\n",
       "      <th>Q3.3_3</th>\n",
       "      <th>Q3.3_4</th>\n",
       "      <th>Q3.3_5</th>\n",
       "      <th>Q3.3_6</th>\n",
       "      <th>Q3.3_7</th>\n",
       "      <th>Q3.3_8</th>\n",
       "      <th>Q3.3_9</th>\n",
       "      <th>Q3.3_10</th>\n",
       "      <th>Q3.4_1</th>\n",
       "      <th>Q3.4_2</th>\n",
       "      <th>Q3.4_3</th>\n",
       "      <th>Q3.4_4</th>\n",
       "      <th>Q3.5_1</th>\n",
       "      <th>Q3.5_2</th>\n",
       "      <th>Q3.5_3</th>\n",
       "      <th>Q3.5_4</th>\n",
       "      <th>Q3.5_5</th>\n",
       "      <th>Q4.1</th>\n",
       "      <th>Q4.2</th>\n",
       "      <th>Q4.3</th>\n",
       "      <th>Q4.4</th>\n",
       "      <th>Q4.5</th>\n",
       "      <th>Q4.6</th>\n",
       "      <th>Q4.7</th>\n",
       "      <th>Q4.8_1</th>\n",
       "      <th>Q4.9_1</th>\n",
       "      <th>Q4.10</th>\n",
       "      <th>Q4.11</th>\n",
       "      <th>Q4.12</th>\n",
       "      <th>Q4.13</th>\n",
       "    </tr>\n",
       "  </thead>\n",
       "  <tbody>\n",
       "    <tr>\n",
       "      <th>1</th>\n",
       "      <td>11/7/20 8:02</td>\n",
       "      <td>11/7/20 8:07</td>\n",
       "      <td>0</td>\n",
       "      <td>100</td>\n",
       "      <td>325</td>\n",
       "      <td>1</td>\n",
       "      <td>11/7/20 8:07</td>\n",
       "      <td>R_2z864VwvaVuJxcg</td>\n",
       "      <td>anonymous</td>\n",
       "      <td>IT</td>\n",
       "      <td>1</td>\n",
       "      <td>1</td>\n",
       "      <td>400</td>\n",
       "      <td>2</td>\n",
       "      <td>Off</td>\n",
       "      <td>Off</td>\n",
       "      <td>Off</td>\n",
       "      <td>On</td>\n",
       "      <td>Off</td>\n",
       "      <td>Off</td>\n",
       "      <td>Off</td>\n",
       "      <td>On</td>\n",
       "      <td>Off</td>\n",
       "      <td>Off</td>\n",
       "      <td>Off</td>\n",
       "      <td>Off</td>\n",
       "      <td>Off</td>\n",
       "      <td>Off</td>\n",
       "      <td>On</td>\n",
       "      <td>2</td>\n",
       "      <td>2</td>\n",
       "      <td>1</td>\n",
       "      <td>6</td>\n",
       "      <td>1</td>\n",
       "      <td>3</td>\n",
       "      <td>1,7,10</td>\n",
       "      <td>1,2</td>\n",
       "      <td>3</td>\n",
       "      <td>0</td>\n",
       "      <td>2</td>\n",
       "      <td>2</td>\n",
       "      <td>NaN</td>\n",
       "      <td>2</td>\n",
       "      <td>4</td>\n",
       "      <td>1</td>\n",
       "      <td>NaN</td>\n",
       "      <td>NaN</td>\n",
       "      <td>NaN</td>\n",
       "      <td>NaN</td>\n",
       "      <td>NaN</td>\n",
       "      <td>NaN</td>\n",
       "      <td>NaN</td>\n",
       "      <td>5</td>\n",
       "      <td>NaN</td>\n",
       "      <td>NaN</td>\n",
       "      <td>NaN</td>\n",
       "      <td>3</td>\n",
       "      <td>2</td>\n",
       "      <td>2</td>\n",
       "      <td>4</td>\n",
       "      <td>3</td>\n",
       "      <td>4</td>\n",
       "      <td>1</td>\n",
       "      <td>29,492</td>\n",
       "      <td>NaN</td>\n",
       "      <td>2</td>\n",
       "      <td>3</td>\n",
       "      <td>3</td>\n",
       "      <td>5</td>\n",
       "    </tr>\n",
       "    <tr>\n",
       "      <th>2</th>\n",
       "      <td>11/7/20 8:03</td>\n",
       "      <td>11/7/20 8:08</td>\n",
       "      <td>0</td>\n",
       "      <td>100</td>\n",
       "      <td>291</td>\n",
       "      <td>1</td>\n",
       "      <td>11/7/20 8:08</td>\n",
       "      <td>R_2Sc5B14R1xjJSQc</td>\n",
       "      <td>anonymous</td>\n",
       "      <td>IT</td>\n",
       "      <td>1</td>\n",
       "      <td>2</td>\n",
       "      <td>77</td>\n",
       "      <td>2</td>\n",
       "      <td>Off</td>\n",
       "      <td>Off</td>\n",
       "      <td>Off</td>\n",
       "      <td>On</td>\n",
       "      <td>Off</td>\n",
       "      <td>Off</td>\n",
       "      <td>Off</td>\n",
       "      <td>On</td>\n",
       "      <td>Off</td>\n",
       "      <td>Off</td>\n",
       "      <td>Off</td>\n",
       "      <td>Off</td>\n",
       "      <td>On</td>\n",
       "      <td>Off</td>\n",
       "      <td>Off</td>\n",
       "      <td>3</td>\n",
       "      <td>5</td>\n",
       "      <td>1</td>\n",
       "      <td>6</td>\n",
       "      <td>2</td>\n",
       "      <td>NaN</td>\n",
       "      <td>9</td>\n",
       "      <td>1,2</td>\n",
       "      <td>2</td>\n",
       "      <td>2</td>\n",
       "      <td>3</td>\n",
       "      <td>5</td>\n",
       "      <td>5</td>\n",
       "      <td>5</td>\n",
       "      <td>2</td>\n",
       "      <td>3</td>\n",
       "      <td>5</td>\n",
       "      <td>5</td>\n",
       "      <td>NaN</td>\n",
       "      <td>5</td>\n",
       "      <td>5</td>\n",
       "      <td>NaN</td>\n",
       "      <td>5</td>\n",
       "      <td>NaN</td>\n",
       "      <td>NaN</td>\n",
       "      <td>4</td>\n",
       "      <td>NaN</td>\n",
       "      <td>3</td>\n",
       "      <td>2</td>\n",
       "      <td>2</td>\n",
       "      <td>4</td>\n",
       "      <td>3</td>\n",
       "      <td>4</td>\n",
       "      <td>1</td>\n",
       "      <td>22,581</td>\n",
       "      <td>NaN</td>\n",
       "      <td>3</td>\n",
       "      <td>3</td>\n",
       "      <td>3</td>\n",
       "      <td>3</td>\n",
       "    </tr>\n",
       "    <tr>\n",
       "      <th>3</th>\n",
       "      <td>11/7/20 8:03</td>\n",
       "      <td>11/7/20 8:08</td>\n",
       "      <td>0</td>\n",
       "      <td>100</td>\n",
       "      <td>279</td>\n",
       "      <td>1</td>\n",
       "      <td>11/7/20 8:08</td>\n",
       "      <td>R_1kNsg9h1k7x1ZGs</td>\n",
       "      <td>anonymous</td>\n",
       "      <td>IT</td>\n",
       "      <td>2</td>\n",
       "      <td>1</td>\n",
       "      <td>295</td>\n",
       "      <td>2</td>\n",
       "      <td>Off</td>\n",
       "      <td>Off</td>\n",
       "      <td>Off</td>\n",
       "      <td>On</td>\n",
       "      <td>Off</td>\n",
       "      <td>Off</td>\n",
       "      <td>On</td>\n",
       "      <td>Off</td>\n",
       "      <td>Off</td>\n",
       "      <td>Off</td>\n",
       "      <td>On</td>\n",
       "      <td>Off</td>\n",
       "      <td>Off</td>\n",
       "      <td>Off</td>\n",
       "      <td>Off</td>\n",
       "      <td>2</td>\n",
       "      <td>1</td>\n",
       "      <td>2</td>\n",
       "      <td>NaN</td>\n",
       "      <td>1</td>\n",
       "      <td>3</td>\n",
       "      <td>1,4,5,7,9</td>\n",
       "      <td>1</td>\n",
       "      <td>NaN</td>\n",
       "      <td>NaN</td>\n",
       "      <td>NaN</td>\n",
       "      <td>5</td>\n",
       "      <td>5</td>\n",
       "      <td>NaN</td>\n",
       "      <td>NaN</td>\n",
       "      <td>NaN</td>\n",
       "      <td>NaN</td>\n",
       "      <td>NaN</td>\n",
       "      <td>5</td>\n",
       "      <td>NaN</td>\n",
       "      <td>NaN</td>\n",
       "      <td>NaN</td>\n",
       "      <td>NaN</td>\n",
       "      <td>5</td>\n",
       "      <td>NaN</td>\n",
       "      <td>NaN</td>\n",
       "      <td>NaN</td>\n",
       "      <td>3</td>\n",
       "      <td>1</td>\n",
       "      <td>3</td>\n",
       "      <td>4</td>\n",
       "      <td>2</td>\n",
       "      <td>3</td>\n",
       "      <td>2</td>\n",
       "      <td>53,6</td>\n",
       "      <td>33</td>\n",
       "      <td>1</td>\n",
       "      <td>3</td>\n",
       "      <td>3</td>\n",
       "      <td>3</td>\n",
       "    </tr>\n",
       "    <tr>\n",
       "      <th>4</th>\n",
       "      <td>11/7/20 8:02</td>\n",
       "      <td>11/7/20 8:09</td>\n",
       "      <td>0</td>\n",
       "      <td>100</td>\n",
       "      <td>379</td>\n",
       "      <td>1</td>\n",
       "      <td>11/7/20 8:09</td>\n",
       "      <td>R_27WLqDvJV1nWiaX</td>\n",
       "      <td>anonymous</td>\n",
       "      <td>IT</td>\n",
       "      <td>1</td>\n",
       "      <td>1</td>\n",
       "      <td>454</td>\n",
       "      <td>2</td>\n",
       "      <td>Off</td>\n",
       "      <td>Off</td>\n",
       "      <td>On</td>\n",
       "      <td>Off</td>\n",
       "      <td>Off</td>\n",
       "      <td>Off</td>\n",
       "      <td>Off</td>\n",
       "      <td>Off</td>\n",
       "      <td>Off</td>\n",
       "      <td>On</td>\n",
       "      <td>Off</td>\n",
       "      <td>Off</td>\n",
       "      <td>Off</td>\n",
       "      <td>Off</td>\n",
       "      <td>Off</td>\n",
       "      <td>2</td>\n",
       "      <td>3</td>\n",
       "      <td>2</td>\n",
       "      <td>NaN</td>\n",
       "      <td>1</td>\n",
       "      <td>6</td>\n",
       "      <td>4,5,6,9</td>\n",
       "      <td>1,3</td>\n",
       "      <td>1</td>\n",
       "      <td>1</td>\n",
       "      <td>1</td>\n",
       "      <td>1</td>\n",
       "      <td>0</td>\n",
       "      <td>1</td>\n",
       "      <td>5</td>\n",
       "      <td>1</td>\n",
       "      <td>5</td>\n",
       "      <td>NaN</td>\n",
       "      <td>5</td>\n",
       "      <td>NaN</td>\n",
       "      <td>1</td>\n",
       "      <td>NaN</td>\n",
       "      <td>NaN</td>\n",
       "      <td>NaN</td>\n",
       "      <td>5</td>\n",
       "      <td>NaN</td>\n",
       "      <td>5</td>\n",
       "      <td>3</td>\n",
       "      <td>2</td>\n",
       "      <td>5</td>\n",
       "      <td>4</td>\n",
       "      <td>1</td>\n",
       "      <td>1</td>\n",
       "      <td>1</td>\n",
       "      <td>20,339</td>\n",
       "      <td>NaN</td>\n",
       "      <td>1</td>\n",
       "      <td>3</td>\n",
       "      <td>2</td>\n",
       "      <td>3</td>\n",
       "    </tr>\n",
       "    <tr>\n",
       "      <th>5</th>\n",
       "      <td>11/7/20 8:03</td>\n",
       "      <td>11/7/20 8:09</td>\n",
       "      <td>0</td>\n",
       "      <td>100</td>\n",
       "      <td>390</td>\n",
       "      <td>1</td>\n",
       "      <td>11/7/20 8:09</td>\n",
       "      <td>R_2wc2u9s16WhniJz</td>\n",
       "      <td>anonymous</td>\n",
       "      <td>IT</td>\n",
       "      <td>1</td>\n",
       "      <td>1</td>\n",
       "      <td>706</td>\n",
       "      <td>2</td>\n",
       "      <td>Off</td>\n",
       "      <td>On</td>\n",
       "      <td>Off</td>\n",
       "      <td>Off</td>\n",
       "      <td>Off</td>\n",
       "      <td>Off</td>\n",
       "      <td>Off</td>\n",
       "      <td>On</td>\n",
       "      <td>Off</td>\n",
       "      <td>Off</td>\n",
       "      <td>Off</td>\n",
       "      <td>On</td>\n",
       "      <td>Off</td>\n",
       "      <td>Off</td>\n",
       "      <td>Off</td>\n",
       "      <td>2</td>\n",
       "      <td>1</td>\n",
       "      <td>2</td>\n",
       "      <td>NaN</td>\n",
       "      <td>2</td>\n",
       "      <td>NaN</td>\n",
       "      <td>4,9</td>\n",
       "      <td>1,3</td>\n",
       "      <td>5</td>\n",
       "      <td>NaN</td>\n",
       "      <td>5</td>\n",
       "      <td>1</td>\n",
       "      <td>NaN</td>\n",
       "      <td>NaN</td>\n",
       "      <td>NaN</td>\n",
       "      <td>NaN</td>\n",
       "      <td>5</td>\n",
       "      <td>NaN</td>\n",
       "      <td>5</td>\n",
       "      <td>5</td>\n",
       "      <td>5</td>\n",
       "      <td>5</td>\n",
       "      <td>5</td>\n",
       "      <td>5</td>\n",
       "      <td>5</td>\n",
       "      <td>5</td>\n",
       "      <td>5</td>\n",
       "      <td>3</td>\n",
       "      <td>2</td>\n",
       "      <td>2</td>\n",
       "      <td>3</td>\n",
       "      <td>2</td>\n",
       "      <td>3</td>\n",
       "      <td>2</td>\n",
       "      <td>23,022</td>\n",
       "      <td>50</td>\n",
       "      <td>2</td>\n",
       "      <td>3</td>\n",
       "      <td>2</td>\n",
       "      <td>2</td>\n",
       "    </tr>\n",
       "  </tbody>\n",
       "</table>\n",
       "</div>"
      ],
      "text/plain": [
       "      StartDate       EndDate Status Progress Duration (in seconds) Finished  \\\n",
       "1  11/7/20 8:02  11/7/20 8:07      0      100                   325        1   \n",
       "2  11/7/20 8:03  11/7/20 8:08      0      100                   291        1   \n",
       "3  11/7/20 8:03  11/7/20 8:08      0      100                   279        1   \n",
       "4  11/7/20 8:02  11/7/20 8:09      0      100                   379        1   \n",
       "5  11/7/20 8:03  11/7/20 8:09      0      100                   390        1   \n",
       "\n",
       "   RecordedDate         ResponseId DistributionChannel UserLanguage Q2.1 Q2.3  \\\n",
       "1  11/7/20 8:07  R_2z864VwvaVuJxcg           anonymous           IT    1    1   \n",
       "2  11/7/20 8:08  R_2Sc5B14R1xjJSQc           anonymous           IT    1    2   \n",
       "3  11/7/20 8:08  R_1kNsg9h1k7x1ZGs           anonymous           IT    2    1   \n",
       "4  11/7/20 8:09  R_27WLqDvJV1nWiaX           anonymous           IT    1    1   \n",
       "5  11/7/20 8:09  R_2wc2u9s16WhniJz           anonymous           IT    1    1   \n",
       "\n",
       "  Q2.4_1 Q2.5 Q2.6_1 Q2.6_2 Q2.6_3 Q2.6_4 Q2.6_5 Q2.7_1 Q2.7_2 Q2.7_3 Q2.7_4  \\\n",
       "1    400    2    Off    Off    Off     On    Off    Off    Off     On    Off   \n",
       "2     77    2    Off    Off    Off     On    Off    Off    Off     On    Off   \n",
       "3    295    2    Off    Off    Off     On    Off    Off     On    Off    Off   \n",
       "4    454    2    Off    Off     On    Off    Off    Off    Off    Off    Off   \n",
       "5    706    2    Off     On    Off    Off    Off    Off    Off     On    Off   \n",
       "\n",
       "  Q2.7_5 Q2.8_1 Q2.8_2 Q2.8_3 Q2.8_4 Q2.8_5 Q2.9 Q2.10 Q2.11 Q2.12 Q2.13  \\\n",
       "1    Off    Off    Off    Off    Off     On    2     2     1     6     1   \n",
       "2    Off    Off    Off     On    Off    Off    3     5     1     6     2   \n",
       "3    Off     On    Off    Off    Off    Off    2     1     2   NaN     1   \n",
       "4     On    Off    Off    Off    Off    Off    2     3     2   NaN     1   \n",
       "5    Off    Off     On    Off    Off    Off    2     1     2   NaN     2   \n",
       "\n",
       "  Q2.14       Q3.1 Q3.2 Q3.3_1 Q3.3_2 Q3.3_3 Q3.3_4 Q3.3_5 Q3.3_6 Q3.3_7  \\\n",
       "1     3     1,7,10  1,2      3      0      2      2    NaN      2      4   \n",
       "2   NaN          9  1,2      2      2      3      5      5      5      2   \n",
       "3     3  1,4,5,7,9    1    NaN    NaN    NaN      5      5    NaN    NaN   \n",
       "4     6    4,5,6,9  1,3      1      1      1      1      0      1      5   \n",
       "5   NaN        4,9  1,3      5    NaN      5      1    NaN    NaN    NaN   \n",
       "\n",
       "  Q3.3_8 Q3.3_9 Q3.3_10 Q3.4_1 Q3.4_2 Q3.4_3 Q3.4_4 Q3.5_1 Q3.5_2 Q3.5_3  \\\n",
       "1      1    NaN     NaN    NaN    NaN    NaN    NaN    NaN      5    NaN   \n",
       "2      3      5       5    NaN      5      5    NaN      5    NaN    NaN   \n",
       "3    NaN    NaN     NaN      5    NaN    NaN    NaN    NaN      5    NaN   \n",
       "4      1      5     NaN      5    NaN      1    NaN    NaN    NaN      5   \n",
       "5    NaN      5     NaN      5      5      5      5      5      5      5   \n",
       "\n",
       "  Q3.5_4 Q3.5_5 Q4.1 Q4.2 Q4.3 Q4.4 Q4.5 Q4.6 Q4.7  Q4.8_1 Q4.9_1 Q4.10 Q4.11  \\\n",
       "1    NaN    NaN    3    2    2    4    3    4    1  29,492    NaN     2     3   \n",
       "2      4    NaN    3    2    2    4    3    4    1  22,581    NaN     3     3   \n",
       "3    NaN    NaN    3    1    3    4    2    3    2    53,6     33     1     3   \n",
       "4    NaN      5    3    2    5    4    1    1    1  20,339    NaN     1     3   \n",
       "5      5      5    3    2    2    3    2    3    2  23,022     50     2     3   \n",
       "\n",
       "  Q4.12 Q4.13  \n",
       "1     3     5  \n",
       "2     3     3  \n",
       "3     3     3  \n",
       "4     2     3  \n",
       "5     2     2  "
      ]
     },
     "execution_count": 149,
     "metadata": {},
     "output_type": "execute_result"
    }
   ],
   "source": [
    "df_survey.head()"
   ]
  },
  {
   "cell_type": "code",
   "execution_count": 150,
   "metadata": {},
   "outputs": [
    {
     "data": {
      "text/plain": [
       "(451, 69)"
      ]
     },
     "execution_count": 150,
     "metadata": {},
     "output_type": "execute_result"
    }
   ],
   "source": [
    "df_survey.shape"
   ]
  },
  {
   "cell_type": "code",
   "execution_count": 151,
   "metadata": {},
   "outputs": [
    {
     "data": {
      "text/plain": [
       "(308, 69)"
      ]
     },
     "execution_count": 151,
     "metadata": {},
     "output_type": "execute_result"
    }
   ],
   "source": [
    "# Remove all the entries of people who have not completed the survey\n",
    "\n",
    "df_survey['Finished'] = df_survey['Finished'].astype(int)\n",
    "df_survey = df_survey[df_survey['Finished']==1]\n",
    "df_survey.shape"
   ]
  },
  {
   "cell_type": "code",
   "execution_count": 152,
   "metadata": {},
   "outputs": [
    {
     "data": {
      "text/plain": [
       "StartDate                  0\n",
       "EndDate                    0\n",
       "Status                     0\n",
       "Progress                   0\n",
       "Duration (in seconds)      0\n",
       "                        ... \n",
       "Q4.9_1                   228\n",
       "Q4.10                      0\n",
       "Q4.11                      0\n",
       "Q4.12                      0\n",
       "Q4.13                      0\n",
       "Length: 69, dtype: int64"
      ]
     },
     "execution_count": 152,
     "metadata": {},
     "output_type": "execute_result"
    }
   ],
   "source": [
    "df_survey.isnull().apply(lambda x: sum(x), axis=0)"
   ]
  },
  {
   "cell_type": "markdown",
   "metadata": {},
   "source": [
    "We need to create a new column based on survey data to extract:\n",
    "1. Single\n",
    "2. Couple\n",
    "3. Family\n",
    "\n",
    "Based on these labels, we will study how the montly expenses change."
   ]
  },
  {
   "cell_type": "code",
   "execution_count": 153,
   "metadata": {},
   "outputs": [],
   "source": [
    "df_survey['Q4.5'] = df_survey['Q4.5'].astype(int)\n",
    "df_survey['Q4.6'] = df_survey['Q4.6'].astype(int)"
   ]
  },
  {
   "cell_type": "code",
   "execution_count": 154,
   "metadata": {},
   "outputs": [],
   "source": [
    "# TODO: change logic to remove students and include students\n",
    "\n",
    "def assign_label(row):\n",
    "    if row['Q4.5'] == 1:\n",
    "        return 'single'\n",
    "    if row['Q4.5'] == 2 and row['Q4.6'] == 2:\n",
    "        return 'couple'\n",
    "    if row['Q4.6'] > 2:\n",
    "        return 'family'\n",
    "    return 'else'\n",
    "\n",
    "df_survey['label'] = df_survey.apply(lambda x: assign_label(x), axis=1)"
   ]
  },
  {
   "cell_type": "code",
   "execution_count": 155,
   "metadata": {},
   "outputs": [
    {
     "data": {
      "text/plain": [
       "family    202\n",
       "single     56\n",
       "couple     30\n",
       "else       20\n",
       "Name: label, dtype: int64"
      ]
     },
     "execution_count": 155,
     "metadata": {},
     "output_type": "execute_result"
    }
   ],
   "source": [
    "df_survey['label'].value_counts()"
   ]
  },
  {
   "cell_type": "markdown",
   "metadata": {},
   "source": [
    "Now that we created the labels, we can study if the average spending per month depends on the labels.\n",
    "\n",
    "Our goal is to train a multinomial logic so that we can infer the label on the original Carrefour dataset."
   ]
  },
  {
   "cell_type": "code",
   "execution_count": 156,
   "metadata": {},
   "outputs": [],
   "source": [
    "# Q2.4_1 = Please indicate the amount of money that best approximates your actual expense at the supermarket (each month): - €\n",
    "\n",
    "df_survey['Q2.4_1'] = df_survey['Q2.4_1'].astype(int)"
   ]
  },
  {
   "cell_type": "code",
   "execution_count": 157,
   "metadata": {},
   "outputs": [
    {
     "data": {
      "text/plain": [
       "<seaborn.axisgrid.FacetGrid at 0x7fc8019dd2b0>"
      ]
     },
     "execution_count": 157,
     "metadata": {},
     "output_type": "execute_result"
    },
    {
     "data": {
      "image/png": "[encoded data removed]",
      "text/plain": [
       "<Figure size 360x360 with 1 Axes>"
      ]
     },
     "metadata": {
      "needs_background": "light"
     },
     "output_type": "display_data"
    }
   ],
   "source": [
    "# Visualize montly spending by category\n",
    "\n",
    "df_survey = df_survey[df_survey['label'] != 'else']\n",
    "sns.catplot(x=\"label\", y=\"Q2.4_1\", kind=\"box\", dodge=False, data=df_survey)"
   ]
  },
  {
   "cell_type": "code",
   "execution_count": 158,
   "metadata": {},
   "outputs": [],
   "source": [
    "# TODO: more on specification of the model and classification performance\n",
    "\n",
    "from sklearn.linear_model import LogisticRegression"
   ]
  },
  {
   "cell_type": "code",
   "execution_count": 159,
   "metadata": {},
   "outputs": [],
   "source": [
    "X = df_survey['Q2.4_1'].to_numpy().reshape(-1, 1)\n",
    "y = df_survey['label'].to_numpy()\n",
    "\n",
    "clf = LogisticRegression(random_state=0, class_weight='balanced').fit(X, y)"
   ]
  },
  {
   "cell_type": "code",
   "execution_count": 160,
   "metadata": {},
   "outputs": [
    {
     "data": {
      "text/plain": [
       "1      2\n",
       "2      5\n",
       "3      1\n",
       "4      3\n",
       "5      1\n",
       "      ..\n",
       "435    6\n",
       "436    2\n",
       "438    1\n",
       "439    3\n",
       "440    5\n",
       "Name: Q2.10, Length: 288, dtype: object"
      ]
     },
     "execution_count": 160,
     "metadata": {},
     "output_type": "execute_result"
    }
   ],
   "source": [
    "df_survey['Q2.10']"
   ]
  },
  {
   "cell_type": "code",
   "execution_count": 161,
   "metadata": {},
   "outputs": [
    {
     "data": {
      "text/plain": [
       "6.372384937238493"
      ]
     },
     "execution_count": 161,
     "metadata": {},
     "output_type": "execute_result"
    }
   ],
   "source": [
    "# We will need this data to multiply the average spending per shop in our dataset top obtain the average monthly spending\n",
    "\n",
    "# Q2.10 = How often do you go to the supermarket? Please indicate the answer that best approximates your habits.\n",
    "# 1 = every 3 days\n",
    "# 2 = every 5 days\n",
    "# 3 = every 7 days\n",
    "# 4 = every 10 days\n",
    "# 5 = every 14 days\n",
    "# 6 = No regular routine\n",
    "\n",
    "# What is the average?\n",
    "\n",
    "d = {\n",
    "    1:3,\n",
    "    2:5,\n",
    "    3:7,\n",
    "    4:10,\n",
    "    5:14,\n",
    "    6:np.nan\n",
    "}\n",
    "\n",
    "average_frequency = df_survey['Q2.10'].astype(int).map(d).dropna().mean()\n",
    "average_frequency"
   ]
  },
  {
   "cell_type": "code",
   "execution_count": 162,
   "metadata": {},
   "outputs": [
    {
     "data": {
      "text/plain": [
       "4.773199824906983"
      ]
     },
     "execution_count": 162,
     "metadata": {},
     "output_type": "execute_result"
    }
   ],
   "source": [
    "average_shopping_month = 365/12/average_frequency\n",
    "average_shopping_month"
   ]
  },
  {
   "cell_type": "code",
   "execution_count": 163,
   "metadata": {},
   "outputs": [
    {
     "data": {
      "text/plain": [
       "3    91\n",
       "2    56\n",
       "1    54\n",
       "6    49\n",
       "4    22\n",
       "5    16\n",
       "Name: Q2.10, dtype: int64"
      ]
     },
     "execution_count": 163,
     "metadata": {},
     "output_type": "execute_result"
    }
   ],
   "source": [
    "df_survey['Q2.10'].value_counts()"
   ]
  },
  {
   "cell_type": "markdown",
   "metadata": {
    "id": "UVQ6I9ndsPMu"
   },
   "source": [
    "### average spending\n",
    "\n",
    "- per shop \n",
    "- per month\n",
    "- total"
   ]
  },
  {
   "cell_type": "code",
   "execution_count": 164,
   "metadata": {},
   "outputs": [
    {
     "data": {
      "text/html": [
       "<div>\n",
       "<style scoped>\n",
       "    .dataframe tbody tr th:only-of-type {\n",
       "        vertical-align: middle;\n",
       "    }\n",
       "\n",
       "    .dataframe tbody tr th {\n",
       "        vertical-align: top;\n",
       "    }\n",
       "\n",
       "    .dataframe thead th {\n",
       "        text-align: right;\n",
       "    }\n",
       "</style>\n",
       "<table border=\"1\" class=\"dataframe\">\n",
       "  <thead>\n",
       "    <tr style=\"text-align: right;\">\n",
       "      <th></th>\n",
       "      <th>_id</th>\n",
       "      <th>mall</th>\n",
       "      <th>date</th>\n",
       "      <th>customer</th>\n",
       "      <th>desc</th>\n",
       "      <th>net_am</th>\n",
       "      <th>n_unit</th>\n",
       "      <th>ProductName</th>\n",
       "      <th>FullPath</th>\n",
       "      <th>BuyboxPricedf_cost_product</th>\n",
       "      <th>low</th>\n",
       "      <th>high</th>\n",
       "      <th>sex</th>\n",
       "      <th>bebe</th>\n",
       "      <th>animal</th>\n",
       "      <th>datetime</th>\n",
       "      <th>hour</th>\n",
       "    </tr>\n",
       "  </thead>\n",
       "  <tbody>\n",
       "    <tr>\n",
       "      <th>39</th>\n",
       "      <td>1009</td>\n",
       "      <td>2</td>\n",
       "      <td>2016-01-14T22:06:00.000+0000</td>\n",
       "      <td>77021708271</td>\n",
       "      <td>locion corporal</td>\n",
       "      <td>0.0</td>\n",
       "      <td>1</td>\n",
       "      <td>locion corporal hidratacion profunda para piel...</td>\n",
       "      <td>Inicio/Supermercado/Parafarmacia/Cuidado corpo...</td>\n",
       "      <td>17.40</td>\n",
       "      <td>0.0</td>\n",
       "      <td>0.0</td>\n",
       "      <td>N</td>\n",
       "      <td>False</td>\n",
       "      <td>False</td>\n",
       "      <td>2016-01-14 22:06:00+00:00</td>\n",
       "      <td>22</td>\n",
       "    </tr>\n",
       "    <tr>\n",
       "      <th>238</th>\n",
       "      <td>1029</td>\n",
       "      <td>2</td>\n",
       "      <td>2016-01-14T22:00:00.000+0000</td>\n",
       "      <td>77055638528</td>\n",
       "      <td>pizza quatre froma</td>\n",
       "      <td>0.0</td>\n",
       "      <td>1</td>\n",
       "      <td>pizza mediterranea casa tarradellas 425 g.</td>\n",
       "      <td>Inicio/Supermercado/La Despensa/Conservas, Sop...</td>\n",
       "      <td>2.64</td>\n",
       "      <td>0.0</td>\n",
       "      <td>0.0</td>\n",
       "      <td>N</td>\n",
       "      <td>False</td>\n",
       "      <td>False</td>\n",
       "      <td>2016-01-14 22:00:00+00:00</td>\n",
       "      <td>22</td>\n",
       "    </tr>\n",
       "    <tr>\n",
       "      <th>552</th>\n",
       "      <td>1059</td>\n",
       "      <td>2</td>\n",
       "      <td>2016-01-14T17:02:00.000+0000</td>\n",
       "      <td>77018235873</td>\n",
       "      <td>none</td>\n",
       "      <td>0.0</td>\n",
       "      <td>0</td>\n",
       "      <td>NaN</td>\n",
       "      <td></td>\n",
       "      <td>NaN</td>\n",
       "      <td>NaN</td>\n",
       "      <td>NaN</td>\n",
       "      <td>N</td>\n",
       "      <td>False</td>\n",
       "      <td>False</td>\n",
       "      <td>2016-01-14 17:02:00+00:00</td>\n",
       "      <td>17</td>\n",
       "    </tr>\n",
       "    <tr>\n",
       "      <th>573</th>\n",
       "      <td>1060</td>\n",
       "      <td>2</td>\n",
       "      <td>2016-01-14T15:02:00.000+0000</td>\n",
       "      <td>77018235873</td>\n",
       "      <td>vitalinea fondant</td>\n",
       "      <td>0.0</td>\n",
       "      <td>1</td>\n",
       "      <td>copa fondant de chocolate danone - vitalinea p...</td>\n",
       "      <td>Inicio/Supermercado/La Despensa/Yogures y Post...</td>\n",
       "      <td>1.96</td>\n",
       "      <td>0.0</td>\n",
       "      <td>1.0</td>\n",
       "      <td>N</td>\n",
       "      <td>False</td>\n",
       "      <td>False</td>\n",
       "      <td>2016-01-14 15:02:00+00:00</td>\n",
       "      <td>15</td>\n",
       "    </tr>\n",
       "    <tr>\n",
       "      <th>945</th>\n",
       "      <td>1085</td>\n",
       "      <td>1</td>\n",
       "      <td>2016-01-14T18:47:00.000+0000</td>\n",
       "      <td>77049833702</td>\n",
       "      <td>peluche c/cesta 17cm</td>\n",
       "      <td>0.0</td>\n",
       "      <td>0</td>\n",
       "      <td>NaN</td>\n",
       "      <td></td>\n",
       "      <td>NaN</td>\n",
       "      <td>NaN</td>\n",
       "      <td>NaN</td>\n",
       "      <td>N</td>\n",
       "      <td>False</td>\n",
       "      <td>False</td>\n",
       "      <td>2016-01-14 18:47:00+00:00</td>\n",
       "      <td>18</td>\n",
       "    </tr>\n",
       "    <tr>\n",
       "      <th>...</th>\n",
       "      <td>...</td>\n",
       "      <td>...</td>\n",
       "      <td>...</td>\n",
       "      <td>...</td>\n",
       "      <td>...</td>\n",
       "      <td>...</td>\n",
       "      <td>...</td>\n",
       "      <td>...</td>\n",
       "      <td>...</td>\n",
       "      <td>...</td>\n",
       "      <td>...</td>\n",
       "      <td>...</td>\n",
       "      <td>...</td>\n",
       "      <td>...</td>\n",
       "      <td>...</td>\n",
       "      <td>...</td>\n",
       "      <td>...</td>\n",
       "    </tr>\n",
       "    <tr>\n",
       "      <th>5799367</th>\n",
       "      <td>586318</td>\n",
       "      <td>1</td>\n",
       "      <td>2016-04-16T08:20:00.000+0000</td>\n",
       "      <td>77000226331</td>\n",
       "      <td>queso mezcla curado</td>\n",
       "      <td>0.0</td>\n",
       "      <td>1</td>\n",
       "      <td>queso curado mezcla cuna ya cortado garcia baq...</td>\n",
       "      <td>Inicio/Supermercado/El Mercado/Quesos/Todos lo...</td>\n",
       "      <td>4.65</td>\n",
       "      <td>0.0</td>\n",
       "      <td>0.0</td>\n",
       "      <td>N</td>\n",
       "      <td>False</td>\n",
       "      <td>False</td>\n",
       "      <td>2016-04-16 08:20:00+00:00</td>\n",
       "      <td>8</td>\n",
       "    </tr>\n",
       "    <tr>\n",
       "      <th>5799652</th>\n",
       "      <td>586334</td>\n",
       "      <td>1</td>\n",
       "      <td>2016-04-16T08:17:00.000+0000</td>\n",
       "      <td>77000226331</td>\n",
       "      <td>pan pistola/barra</td>\n",
       "      <td>0.0</td>\n",
       "      <td>0</td>\n",
       "      <td>pan rallado panko frumen 150 g.</td>\n",
       "      <td>Inicio/Supermercado/El Mercado/Panadería, Boll...</td>\n",
       "      <td>1.44</td>\n",
       "      <td>0.0</td>\n",
       "      <td>0.0</td>\n",
       "      <td>N</td>\n",
       "      <td>False</td>\n",
       "      <td>False</td>\n",
       "      <td>2016-04-16 08:17:00+00:00</td>\n",
       "      <td>8</td>\n",
       "    </tr>\n",
       "    <tr>\n",
       "      <th>5800143</th>\n",
       "      <td>586379</td>\n",
       "      <td>2</td>\n",
       "      <td>2016-04-16T11:06:00.000+0000</td>\n",
       "      <td>77025689701</td>\n",
       "      <td>bolsa bocadillos</td>\n",
       "      <td>0.0</td>\n",
       "      <td>0</td>\n",
       "      <td>NaN</td>\n",
       "      <td></td>\n",
       "      <td>NaN</td>\n",
       "      <td>NaN</td>\n",
       "      <td>NaN</td>\n",
       "      <td>N</td>\n",
       "      <td>False</td>\n",
       "      <td>False</td>\n",
       "      <td>2016-04-16 11:06:00+00:00</td>\n",
       "      <td>11</td>\n",
       "    </tr>\n",
       "    <tr>\n",
       "      <th>5801046</th>\n",
       "      <td>586452</td>\n",
       "      <td>2</td>\n",
       "      <td>2016-04-16T07:29:00.000+0000</td>\n",
       "      <td>77098881832</td>\n",
       "      <td>chicle hierbabuena</td>\n",
       "      <td>0.0</td>\n",
       "      <td>0</td>\n",
       "      <td>chicle sabor hierbabuena senses trident 3 paqu...</td>\n",
       "      <td>Inicio/Supermercado/La Despensa/Dulce y Desayu...</td>\n",
       "      <td>2.00</td>\n",
       "      <td>0.0</td>\n",
       "      <td>0.0</td>\n",
       "      <td>N</td>\n",
       "      <td>False</td>\n",
       "      <td>False</td>\n",
       "      <td>2016-04-16 07:29:00+00:00</td>\n",
       "      <td>7</td>\n",
       "    </tr>\n",
       "    <tr>\n",
       "      <th>5801136</th>\n",
       "      <td>586466</td>\n",
       "      <td>1</td>\n",
       "      <td>2016-04-16T08:21:00.000+0000</td>\n",
       "      <td>77098881832</td>\n",
       "      <td>none</td>\n",
       "      <td>0.0</td>\n",
       "      <td>0</td>\n",
       "      <td>NaN</td>\n",
       "      <td></td>\n",
       "      <td>NaN</td>\n",
       "      <td>NaN</td>\n",
       "      <td>NaN</td>\n",
       "      <td>N</td>\n",
       "      <td>False</td>\n",
       "      <td>False</td>\n",
       "      <td>2016-04-16 08:21:00+00:00</td>\n",
       "      <td>8</td>\n",
       "    </tr>\n",
       "  </tbody>\n",
       "</table>\n",
       "<p>44423 rows × 17 columns</p>\n",
       "</div>"
      ],
      "text/plain": [
       "            _id  mall                          date     customer  \\\n",
       "39         1009     2  2016-01-14T22:06:00.000+0000  77021708271   \n",
       "238        1029     2  2016-01-14T22:00:00.000+0000  77055638528   \n",
       "552        1059     2  2016-01-14T17:02:00.000+0000  77018235873   \n",
       "573        1060     2  2016-01-14T15:02:00.000+0000  77018235873   \n",
       "945        1085     1  2016-01-14T18:47:00.000+0000  77049833702   \n",
       "...         ...   ...                           ...          ...   \n",
       "5799367  586318     1  2016-04-16T08:20:00.000+0000  77000226331   \n",
       "5799652  586334     1  2016-04-16T08:17:00.000+0000  77000226331   \n",
       "5800143  586379     2  2016-04-16T11:06:00.000+0000  77025689701   \n",
       "5801046  586452     2  2016-04-16T07:29:00.000+0000  77098881832   \n",
       "5801136  586466     1  2016-04-16T08:21:00.000+0000  77098881832   \n",
       "\n",
       "                         desc  net_am  n_unit  \\\n",
       "39            locion corporal     0.0       1   \n",
       "238        pizza quatre froma     0.0       1   \n",
       "552                      none     0.0       0   \n",
       "573         vitalinea fondant     0.0       1   \n",
       "945      peluche c/cesta 17cm     0.0       0   \n",
       "...                       ...     ...     ...   \n",
       "5799367   queso mezcla curado     0.0       1   \n",
       "5799652     pan pistola/barra     0.0       0   \n",
       "5800143      bolsa bocadillos     0.0       0   \n",
       "5801046    chicle hierbabuena     0.0       0   \n",
       "5801136                  none     0.0       0   \n",
       "\n",
       "                                               ProductName  \\\n",
       "39       locion corporal hidratacion profunda para piel...   \n",
       "238             pizza mediterranea casa tarradellas 425 g.   \n",
       "552                                                    NaN   \n",
       "573      copa fondant de chocolate danone - vitalinea p...   \n",
       "945                                                    NaN   \n",
       "...                                                    ...   \n",
       "5799367  queso curado mezcla cuna ya cortado garcia baq...   \n",
       "5799652                    pan rallado panko frumen 150 g.   \n",
       "5800143                                                NaN   \n",
       "5801046  chicle sabor hierbabuena senses trident 3 paqu...   \n",
       "5801136                                                NaN   \n",
       "\n",
       "                                                  FullPath  \\\n",
       "39       Inicio/Supermercado/Parafarmacia/Cuidado corpo...   \n",
       "238      Inicio/Supermercado/La Despensa/Conservas, Sop...   \n",
       "552                                                          \n",
       "573      Inicio/Supermercado/La Despensa/Yogures y Post...   \n",
       "945                                                          \n",
       "...                                                    ...   \n",
       "5799367  Inicio/Supermercado/El Mercado/Quesos/Todos lo...   \n",
       "5799652  Inicio/Supermercado/El Mercado/Panadería, Boll...   \n",
       "5800143                                                      \n",
       "5801046  Inicio/Supermercado/La Despensa/Dulce y Desayu...   \n",
       "5801136                                                      \n",
       "\n",
       "         BuyboxPricedf_cost_product  low  high sex   bebe  animal  \\\n",
       "39                            17.40  0.0   0.0   N  False   False   \n",
       "238                            2.64  0.0   0.0   N  False   False   \n",
       "552                             NaN  NaN   NaN   N  False   False   \n",
       "573                            1.96  0.0   1.0   N  False   False   \n",
       "945                             NaN  NaN   NaN   N  False   False   \n",
       "...                             ...  ...   ...  ..    ...     ...   \n",
       "5799367                        4.65  0.0   0.0   N  False   False   \n",
       "5799652                        1.44  0.0   0.0   N  False   False   \n",
       "5800143                         NaN  NaN   NaN   N  False   False   \n",
       "5801046                        2.00  0.0   0.0   N  False   False   \n",
       "5801136                         NaN  NaN   NaN   N  False   False   \n",
       "\n",
       "                         datetime  hour  \n",
       "39      2016-01-14 22:06:00+00:00    22  \n",
       "238     2016-01-14 22:00:00+00:00    22  \n",
       "552     2016-01-14 17:02:00+00:00    17  \n",
       "573     2016-01-14 15:02:00+00:00    15  \n",
       "945     2016-01-14 18:47:00+00:00    18  \n",
       "...                           ...   ...  \n",
       "5799367 2016-04-16 08:20:00+00:00     8  \n",
       "5799652 2016-04-16 08:17:00+00:00     8  \n",
       "5800143 2016-04-16 11:06:00+00:00    11  \n",
       "5801046 2016-04-16 07:29:00+00:00     7  \n",
       "5801136 2016-04-16 08:21:00+00:00     8  \n",
       "\n",
       "[44423 rows x 17 columns]"
      ]
     },
     "execution_count": 164,
     "metadata": {},
     "output_type": "execute_result"
    }
   ],
   "source": [
    "# IMPORTANT: Note that there are some tickets whose description is 'none'\n",
    "# These products can be found by looking for products with net_am = 0\n",
    "\n",
    "df[df['net_am']==0]"
   ]
  },
  {
   "cell_type": "code",
   "execution_count": 165,
   "metadata": {},
   "outputs": [
    {
     "data": {
      "text/html": [
       "<div>\n",
       "<style scoped>\n",
       "    .dataframe tbody tr th:only-of-type {\n",
       "        vertical-align: middle;\n",
       "    }\n",
       "\n",
       "    .dataframe tbody tr th {\n",
       "        vertical-align: top;\n",
       "    }\n",
       "\n",
       "    .dataframe thead th {\n",
       "        text-align: right;\n",
       "    }\n",
       "</style>\n",
       "<table border=\"1\" class=\"dataframe\">\n",
       "  <thead>\n",
       "    <tr style=\"text-align: right;\">\n",
       "      <th></th>\n",
       "      <th>_id</th>\n",
       "      <th>mall</th>\n",
       "      <th>date</th>\n",
       "      <th>customer</th>\n",
       "      <th>desc</th>\n",
       "      <th>net_am</th>\n",
       "      <th>n_unit</th>\n",
       "      <th>ProductName</th>\n",
       "      <th>FullPath</th>\n",
       "      <th>BuyboxPricedf_cost_product</th>\n",
       "      <th>low</th>\n",
       "      <th>high</th>\n",
       "      <th>sex</th>\n",
       "      <th>bebe</th>\n",
       "      <th>animal</th>\n",
       "      <th>datetime</th>\n",
       "      <th>hour</th>\n",
       "    </tr>\n",
       "  </thead>\n",
       "  <tbody>\n",
       "    <tr>\n",
       "      <th>552</th>\n",
       "      <td>1059</td>\n",
       "      <td>2</td>\n",
       "      <td>2016-01-14T17:02:00.000+0000</td>\n",
       "      <td>77018235873</td>\n",
       "      <td>none</td>\n",
       "      <td>0.0</td>\n",
       "      <td>0</td>\n",
       "      <td>NaN</td>\n",
       "      <td></td>\n",
       "      <td>NaN</td>\n",
       "      <td>NaN</td>\n",
       "      <td>NaN</td>\n",
       "      <td>N</td>\n",
       "      <td>False</td>\n",
       "      <td>False</td>\n",
       "      <td>2016-01-14 17:02:00+00:00</td>\n",
       "      <td>17</td>\n",
       "    </tr>\n",
       "    <tr>\n",
       "      <th>945</th>\n",
       "      <td>1085</td>\n",
       "      <td>1</td>\n",
       "      <td>2016-01-14T18:47:00.000+0000</td>\n",
       "      <td>77049833702</td>\n",
       "      <td>peluche c/cesta 17cm</td>\n",
       "      <td>0.0</td>\n",
       "      <td>0</td>\n",
       "      <td>NaN</td>\n",
       "      <td></td>\n",
       "      <td>NaN</td>\n",
       "      <td>NaN</td>\n",
       "      <td>NaN</td>\n",
       "      <td>N</td>\n",
       "      <td>False</td>\n",
       "      <td>False</td>\n",
       "      <td>2016-01-14 18:47:00+00:00</td>\n",
       "      <td>18</td>\n",
       "    </tr>\n",
       "    <tr>\n",
       "      <th>1157</th>\n",
       "      <td>18</td>\n",
       "      <td>2</td>\n",
       "      <td>2016-01-14T17:12:00.000+0000</td>\n",
       "      <td>77078544262</td>\n",
       "      <td>costilla adobada</td>\n",
       "      <td>0.0</td>\n",
       "      <td>0</td>\n",
       "      <td>costilla de cerdo adobada carrefour 450 g aprox</td>\n",
       "      <td>Inicio/Supermercado/El Mercado/Carnicería/Cerdo</td>\n",
       "      <td>3.78</td>\n",
       "      <td>0.0</td>\n",
       "      <td>0.0</td>\n",
       "      <td>N</td>\n",
       "      <td>False</td>\n",
       "      <td>False</td>\n",
       "      <td>2016-01-14 17:12:00+00:00</td>\n",
       "      <td>17</td>\n",
       "    </tr>\n",
       "    <tr>\n",
       "      <th>1271</th>\n",
       "      <td>1102</td>\n",
       "      <td>2</td>\n",
       "      <td>2016-01-14T15:02:00.000+0000</td>\n",
       "      <td>77050210046</td>\n",
       "      <td>none</td>\n",
       "      <td>0.0</td>\n",
       "      <td>0</td>\n",
       "      <td>NaN</td>\n",
       "      <td></td>\n",
       "      <td>NaN</td>\n",
       "      <td>NaN</td>\n",
       "      <td>NaN</td>\n",
       "      <td>N</td>\n",
       "      <td>False</td>\n",
       "      <td>False</td>\n",
       "      <td>2016-01-14 15:02:00+00:00</td>\n",
       "      <td>15</td>\n",
       "    </tr>\n",
       "    <tr>\n",
       "      <th>1561</th>\n",
       "      <td>1119</td>\n",
       "      <td>2</td>\n",
       "      <td>2016-01-14T14:01:00.000+0000</td>\n",
       "      <td>77050210046</td>\n",
       "      <td>none</td>\n",
       "      <td>0.0</td>\n",
       "      <td>0</td>\n",
       "      <td>NaN</td>\n",
       "      <td></td>\n",
       "      <td>NaN</td>\n",
       "      <td>NaN</td>\n",
       "      <td>NaN</td>\n",
       "      <td>N</td>\n",
       "      <td>False</td>\n",
       "      <td>False</td>\n",
       "      <td>2016-01-14 14:01:00+00:00</td>\n",
       "      <td>14</td>\n",
       "    </tr>\n",
       "    <tr>\n",
       "      <th>...</th>\n",
       "      <td>...</td>\n",
       "      <td>...</td>\n",
       "      <td>...</td>\n",
       "      <td>...</td>\n",
       "      <td>...</td>\n",
       "      <td>...</td>\n",
       "      <td>...</td>\n",
       "      <td>...</td>\n",
       "      <td>...</td>\n",
       "      <td>...</td>\n",
       "      <td>...</td>\n",
       "      <td>...</td>\n",
       "      <td>...</td>\n",
       "      <td>...</td>\n",
       "      <td>...</td>\n",
       "      <td>...</td>\n",
       "      <td>...</td>\n",
       "    </tr>\n",
       "    <tr>\n",
       "      <th>5798728</th>\n",
       "      <td>586260</td>\n",
       "      <td>2</td>\n",
       "      <td>2016-04-16T10:34:00.000+0000</td>\n",
       "      <td>77058873468</td>\n",
       "      <td>cart opm smartphon</td>\n",
       "      <td>0.0</td>\n",
       "      <td>0</td>\n",
       "      <td>NaN</td>\n",
       "      <td></td>\n",
       "      <td>NaN</td>\n",
       "      <td>NaN</td>\n",
       "      <td>NaN</td>\n",
       "      <td>N</td>\n",
       "      <td>False</td>\n",
       "      <td>False</td>\n",
       "      <td>2016-04-16 10:34:00+00:00</td>\n",
       "      <td>10</td>\n",
       "    </tr>\n",
       "    <tr>\n",
       "      <th>5799652</th>\n",
       "      <td>586334</td>\n",
       "      <td>1</td>\n",
       "      <td>2016-04-16T08:17:00.000+0000</td>\n",
       "      <td>77000226331</td>\n",
       "      <td>pan pistola/barra</td>\n",
       "      <td>0.0</td>\n",
       "      <td>0</td>\n",
       "      <td>pan rallado panko frumen 150 g.</td>\n",
       "      <td>Inicio/Supermercado/El Mercado/Panadería, Boll...</td>\n",
       "      <td>1.44</td>\n",
       "      <td>0.0</td>\n",
       "      <td>0.0</td>\n",
       "      <td>N</td>\n",
       "      <td>False</td>\n",
       "      <td>False</td>\n",
       "      <td>2016-04-16 08:17:00+00:00</td>\n",
       "      <td>8</td>\n",
       "    </tr>\n",
       "    <tr>\n",
       "      <th>5800143</th>\n",
       "      <td>586379</td>\n",
       "      <td>2</td>\n",
       "      <td>2016-04-16T11:06:00.000+0000</td>\n",
       "      <td>77025689701</td>\n",
       "      <td>bolsa bocadillos</td>\n",
       "      <td>0.0</td>\n",
       "      <td>0</td>\n",
       "      <td>NaN</td>\n",
       "      <td></td>\n",
       "      <td>NaN</td>\n",
       "      <td>NaN</td>\n",
       "      <td>NaN</td>\n",
       "      <td>N</td>\n",
       "      <td>False</td>\n",
       "      <td>False</td>\n",
       "      <td>2016-04-16 11:06:00+00:00</td>\n",
       "      <td>11</td>\n",
       "    </tr>\n",
       "    <tr>\n",
       "      <th>5801046</th>\n",
       "      <td>586452</td>\n",
       "      <td>2</td>\n",
       "      <td>2016-04-16T07:29:00.000+0000</td>\n",
       "      <td>77098881832</td>\n",
       "      <td>chicle hierbabuena</td>\n",
       "      <td>0.0</td>\n",
       "      <td>0</td>\n",
       "      <td>chicle sabor hierbabuena senses trident 3 paqu...</td>\n",
       "      <td>Inicio/Supermercado/La Despensa/Dulce y Desayu...</td>\n",
       "      <td>2.00</td>\n",
       "      <td>0.0</td>\n",
       "      <td>0.0</td>\n",
       "      <td>N</td>\n",
       "      <td>False</td>\n",
       "      <td>False</td>\n",
       "      <td>2016-04-16 07:29:00+00:00</td>\n",
       "      <td>7</td>\n",
       "    </tr>\n",
       "    <tr>\n",
       "      <th>5801136</th>\n",
       "      <td>586466</td>\n",
       "      <td>1</td>\n",
       "      <td>2016-04-16T08:21:00.000+0000</td>\n",
       "      <td>77098881832</td>\n",
       "      <td>none</td>\n",
       "      <td>0.0</td>\n",
       "      <td>0</td>\n",
       "      <td>NaN</td>\n",
       "      <td></td>\n",
       "      <td>NaN</td>\n",
       "      <td>NaN</td>\n",
       "      <td>NaN</td>\n",
       "      <td>N</td>\n",
       "      <td>False</td>\n",
       "      <td>False</td>\n",
       "      <td>2016-04-16 08:21:00+00:00</td>\n",
       "      <td>8</td>\n",
       "    </tr>\n",
       "  </tbody>\n",
       "</table>\n",
       "<p>17852 rows × 17 columns</p>\n",
       "</div>"
      ],
      "text/plain": [
       "            _id  mall                          date     customer  \\\n",
       "552        1059     2  2016-01-14T17:02:00.000+0000  77018235873   \n",
       "945        1085     1  2016-01-14T18:47:00.000+0000  77049833702   \n",
       "1157         18     2  2016-01-14T17:12:00.000+0000  77078544262   \n",
       "1271       1102     2  2016-01-14T15:02:00.000+0000  77050210046   \n",
       "1561       1119     2  2016-01-14T14:01:00.000+0000  77050210046   \n",
       "...         ...   ...                           ...          ...   \n",
       "5798728  586260     2  2016-04-16T10:34:00.000+0000  77058873468   \n",
       "5799652  586334     1  2016-04-16T08:17:00.000+0000  77000226331   \n",
       "5800143  586379     2  2016-04-16T11:06:00.000+0000  77025689701   \n",
       "5801046  586452     2  2016-04-16T07:29:00.000+0000  77098881832   \n",
       "5801136  586466     1  2016-04-16T08:21:00.000+0000  77098881832   \n",
       "\n",
       "                         desc  net_am  n_unit  \\\n",
       "552                      none     0.0       0   \n",
       "945      peluche c/cesta 17cm     0.0       0   \n",
       "1157         costilla adobada     0.0       0   \n",
       "1271                     none     0.0       0   \n",
       "1561                     none     0.0       0   \n",
       "...                       ...     ...     ...   \n",
       "5798728    cart opm smartphon     0.0       0   \n",
       "5799652     pan pistola/barra     0.0       0   \n",
       "5800143      bolsa bocadillos     0.0       0   \n",
       "5801046    chicle hierbabuena     0.0       0   \n",
       "5801136                  none     0.0       0   \n",
       "\n",
       "                                               ProductName  \\\n",
       "552                                                    NaN   \n",
       "945                                                    NaN   \n",
       "1157       costilla de cerdo adobada carrefour 450 g aprox   \n",
       "1271                                                   NaN   \n",
       "1561                                                   NaN   \n",
       "...                                                    ...   \n",
       "5798728                                                NaN   \n",
       "5799652                    pan rallado panko frumen 150 g.   \n",
       "5800143                                                NaN   \n",
       "5801046  chicle sabor hierbabuena senses trident 3 paqu...   \n",
       "5801136                                                NaN   \n",
       "\n",
       "                                                  FullPath  \\\n",
       "552                                                          \n",
       "945                                                          \n",
       "1157       Inicio/Supermercado/El Mercado/Carnicería/Cerdo   \n",
       "1271                                                         \n",
       "1561                                                         \n",
       "...                                                    ...   \n",
       "5798728                                                      \n",
       "5799652  Inicio/Supermercado/El Mercado/Panadería, Boll...   \n",
       "5800143                                                      \n",
       "5801046  Inicio/Supermercado/La Despensa/Dulce y Desayu...   \n",
       "5801136                                                      \n",
       "\n",
       "         BuyboxPricedf_cost_product  low  high sex   bebe  animal  \\\n",
       "552                             NaN  NaN   NaN   N  False   False   \n",
       "945                             NaN  NaN   NaN   N  False   False   \n",
       "1157                           3.78  0.0   0.0   N  False   False   \n",
       "1271                            NaN  NaN   NaN   N  False   False   \n",
       "1561                            NaN  NaN   NaN   N  False   False   \n",
       "...                             ...  ...   ...  ..    ...     ...   \n",
       "5798728                         NaN  NaN   NaN   N  False   False   \n",
       "5799652                        1.44  0.0   0.0   N  False   False   \n",
       "5800143                         NaN  NaN   NaN   N  False   False   \n",
       "5801046                        2.00  0.0   0.0   N  False   False   \n",
       "5801136                         NaN  NaN   NaN   N  False   False   \n",
       "\n",
       "                         datetime  hour  \n",
       "552     2016-01-14 17:02:00+00:00    17  \n",
       "945     2016-01-14 18:47:00+00:00    18  \n",
       "1157    2016-01-14 17:12:00+00:00    17  \n",
       "1271    2016-01-14 15:02:00+00:00    15  \n",
       "1561    2016-01-14 14:01:00+00:00    14  \n",
       "...                           ...   ...  \n",
       "5798728 2016-04-16 10:34:00+00:00    10  \n",
       "5799652 2016-04-16 08:17:00+00:00     8  \n",
       "5800143 2016-04-16 11:06:00+00:00    11  \n",
       "5801046 2016-04-16 07:29:00+00:00     7  \n",
       "5801136 2016-04-16 08:21:00+00:00     8  \n",
       "\n",
       "[17852 rows x 17 columns]"
      ]
     },
     "execution_count": 165,
     "metadata": {},
     "output_type": "execute_result"
    }
   ],
   "source": [
    "# ... or with n_unit=0\n",
    "\n",
    "df[df['n_unit']==0]"
   ]
  },
  {
   "cell_type": "code",
   "execution_count": 166,
   "metadata": {
    "id": "npZSrNZfcFKF"
   },
   "outputs": [],
   "source": [
    "df['net_am'] = df['net_am'].astype(float)\n",
    "df['n_unit'] = df['n_unit'].astype(float)"
   ]
  },
  {
   "cell_type": "markdown",
   "metadata": {
    "id": "X6E3QaE0q16n"
   },
   "source": [
    "per shop"
   ]
  },
  {
   "cell_type": "code",
   "execution_count": 167,
   "metadata": {},
   "outputs": [],
   "source": [
    "# Step 1\n",
    "\n",
    "sum_by_shopping = df.groupby(by=['customer','date']).sum()\n",
    "\n",
    "# Step 2\n",
    "\n",
    "df_id['spending_shop_mean'] = sum_by_shopping.groupby(by=['customer']).mean()['net_am']\n",
    "df_id['spending_shop_var'] = sum_by_shopping.groupby(by=['customer']).var()['net_am']"
   ]
  },
  {
   "cell_type": "code",
   "execution_count": 168,
   "metadata": {
    "colab": {
     "base_uri": "https://localhost:8080/",
     "height": 255
    },
    "id": "GHVwbVY8dydA",
    "outputId": "8a2de14f-2130-4615-af11-6f7c6aaa1947"
   },
   "outputs": [
    {
     "data": {
      "text/html": [
       "<div>\n",
       "<style scoped>\n",
       "    .dataframe tbody tr th:only-of-type {\n",
       "        vertical-align: middle;\n",
       "    }\n",
       "\n",
       "    .dataframe tbody tr th {\n",
       "        vertical-align: top;\n",
       "    }\n",
       "\n",
       "    .dataframe thead th {\n",
       "        text-align: right;\n",
       "    }\n",
       "</style>\n",
       "<table border=\"1\" class=\"dataframe\">\n",
       "  <thead>\n",
       "    <tr style=\"text-align: right;\">\n",
       "      <th></th>\n",
       "      <th>count</th>\n",
       "      <th>hour_mean</th>\n",
       "      <th>hour_var</th>\n",
       "      <th>unit_tot</th>\n",
       "      <th>animal_tot</th>\n",
       "      <th>bebe_tot</th>\n",
       "      <th>animal_perc</th>\n",
       "      <th>bebe_perc</th>\n",
       "      <th>animal</th>\n",
       "      <th>bebe</th>\n",
       "      <th>premium</th>\n",
       "      <th>cheap</th>\n",
       "      <th>high_carr_perc2</th>\n",
       "      <th>low_carr_perc2</th>\n",
       "      <th>n_unit_shop_mean</th>\n",
       "      <th>n_unit_shop_var</th>\n",
       "      <th>spending_shop_mean</th>\n",
       "      <th>spending_shop_var</th>\n",
       "    </tr>\n",
       "    <tr>\n",
       "      <th>customer</th>\n",
       "      <th></th>\n",
       "      <th></th>\n",
       "      <th></th>\n",
       "      <th></th>\n",
       "      <th></th>\n",
       "      <th></th>\n",
       "      <th></th>\n",
       "      <th></th>\n",
       "      <th></th>\n",
       "      <th></th>\n",
       "      <th></th>\n",
       "      <th></th>\n",
       "      <th></th>\n",
       "      <th></th>\n",
       "      <th></th>\n",
       "      <th></th>\n",
       "      <th></th>\n",
       "      <th></th>\n",
       "    </tr>\n",
       "  </thead>\n",
       "  <tbody>\n",
       "    <tr>\n",
       "      <th>77000001548</th>\n",
       "      <td>12.0</td>\n",
       "      <td>21.086667</td>\n",
       "      <td>2.240761</td>\n",
       "      <td>222</td>\n",
       "      <td>2.0</td>\n",
       "      <td>0.0</td>\n",
       "      <td>0.900901</td>\n",
       "      <td>0.000000</td>\n",
       "      <td>1</td>\n",
       "      <td>0</td>\n",
       "      <td>0</td>\n",
       "      <td>1</td>\n",
       "      <td>0.250000</td>\n",
       "      <td>0.750000</td>\n",
       "      <td>18.500000</td>\n",
       "      <td>628.636364</td>\n",
       "      <td>45.008333</td>\n",
       "      <td>2058.857652</td>\n",
       "    </tr>\n",
       "    <tr>\n",
       "      <th>77000001680</th>\n",
       "      <td>15.0</td>\n",
       "      <td>16.844156</td>\n",
       "      <td>2.281822</td>\n",
       "      <td>403</td>\n",
       "      <td>1.0</td>\n",
       "      <td>4.0</td>\n",
       "      <td>0.248139</td>\n",
       "      <td>0.992556</td>\n",
       "      <td>1</td>\n",
       "      <td>1</td>\n",
       "      <td>0</td>\n",
       "      <td>1</td>\n",
       "      <td>0.000000</td>\n",
       "      <td>1.000000</td>\n",
       "      <td>26.866667</td>\n",
       "      <td>704.123810</td>\n",
       "      <td>74.526000</td>\n",
       "      <td>6517.127069</td>\n",
       "    </tr>\n",
       "    <tr>\n",
       "      <th>77000002166</th>\n",
       "      <td>16.0</td>\n",
       "      <td>19.004329</td>\n",
       "      <td>2.752155</td>\n",
       "      <td>324</td>\n",
       "      <td>3.0</td>\n",
       "      <td>2.0</td>\n",
       "      <td>0.925926</td>\n",
       "      <td>0.617284</td>\n",
       "      <td>1</td>\n",
       "      <td>1</td>\n",
       "      <td>0</td>\n",
       "      <td>1</td>\n",
       "      <td>0.000000</td>\n",
       "      <td>1.000000</td>\n",
       "      <td>20.250000</td>\n",
       "      <td>911.000000</td>\n",
       "      <td>61.297500</td>\n",
       "      <td>9967.298087</td>\n",
       "    </tr>\n",
       "    <tr>\n",
       "      <th>77000004744</th>\n",
       "      <td>7.0</td>\n",
       "      <td>11.636364</td>\n",
       "      <td>1.707013</td>\n",
       "      <td>259</td>\n",
       "      <td>1.0</td>\n",
       "      <td>2.0</td>\n",
       "      <td>0.386100</td>\n",
       "      <td>0.772201</td>\n",
       "      <td>1</td>\n",
       "      <td>1</td>\n",
       "      <td>0</td>\n",
       "      <td>0</td>\n",
       "      <td>0.136327</td>\n",
       "      <td>0.863673</td>\n",
       "      <td>37.000000</td>\n",
       "      <td>1064.000000</td>\n",
       "      <td>78.420000</td>\n",
       "      <td>5588.240100</td>\n",
       "    </tr>\n",
       "    <tr>\n",
       "      <th>77000005496</th>\n",
       "      <td>1.0</td>\n",
       "      <td>23.000000</td>\n",
       "      <td>0.000000</td>\n",
       "      <td>5</td>\n",
       "      <td>0.0</td>\n",
       "      <td>0.0</td>\n",
       "      <td>0.000000</td>\n",
       "      <td>0.000000</td>\n",
       "      <td>0</td>\n",
       "      <td>0</td>\n",
       "      <td>0</td>\n",
       "      <td>0</td>\n",
       "      <td>0.136327</td>\n",
       "      <td>0.863673</td>\n",
       "      <td>5.000000</td>\n",
       "      <td>NaN</td>\n",
       "      <td>12.990000</td>\n",
       "      <td>NaN</td>\n",
       "    </tr>\n",
       "  </tbody>\n",
       "</table>\n",
       "</div>"
      ],
      "text/plain": [
       "             count  hour_mean  hour_var  unit_tot  animal_tot  bebe_tot  \\\n",
       "customer                                                                  \n",
       "77000001548   12.0  21.086667  2.240761       222         2.0       0.0   \n",
       "77000001680   15.0  16.844156  2.281822       403         1.0       4.0   \n",
       "77000002166   16.0  19.004329  2.752155       324         3.0       2.0   \n",
       "77000004744    7.0  11.636364  1.707013       259         1.0       2.0   \n",
       "77000005496    1.0  23.000000  0.000000         5         0.0       0.0   \n",
       "\n",
       "             animal_perc  bebe_perc  animal  bebe  premium  cheap  \\\n",
       "customer                                                            \n",
       "77000001548     0.900901   0.000000       1     0        0      1   \n",
       "77000001680     0.248139   0.992556       1     1        0      1   \n",
       "77000002166     0.925926   0.617284       1     1        0      1   \n",
       "77000004744     0.386100   0.772201       1     1        0      0   \n",
       "77000005496     0.000000   0.000000       0     0        0      0   \n",
       "\n",
       "             high_carr_perc2  low_carr_perc2  n_unit_shop_mean  \\\n",
       "customer                                                         \n",
       "77000001548         0.250000        0.750000         18.500000   \n",
       "77000001680         0.000000        1.000000         26.866667   \n",
       "77000002166         0.000000        1.000000         20.250000   \n",
       "77000004744         0.136327        0.863673         37.000000   \n",
       "77000005496         0.136327        0.863673          5.000000   \n",
       "\n",
       "             n_unit_shop_var  spending_shop_mean  spending_shop_var  \n",
       "customer                                                             \n",
       "77000001548       628.636364           45.008333        2058.857652  \n",
       "77000001680       704.123810           74.526000        6517.127069  \n",
       "77000002166       911.000000           61.297500        9967.298087  \n",
       "77000004744      1064.000000           78.420000        5588.240100  \n",
       "77000005496              NaN           12.990000                NaN  "
      ]
     },
     "execution_count": 168,
     "metadata": {},
     "output_type": "execute_result"
    }
   ],
   "source": [
    "df_id.head()"
   ]
  },
  {
   "cell_type": "code",
   "execution_count": 169,
   "metadata": {},
   "outputs": [
    {
     "data": {
      "text/plain": [
       "<matplotlib.axes._subplots.AxesSubplot at 0x7fc8031f9550>"
      ]
     },
     "execution_count": 169,
     "metadata": {},
     "output_type": "execute_result"
    },
    {
     "data": {
      "image/png": "[encoded data removed]",
      "text/plain": [
       "<Figure size 432x288 with 1 Axes>"
      ]
     },
     "metadata": {
      "needs_background": "light"
     },
     "output_type": "display_data"
    }
   ],
   "source": [
    "df_id['spending_shop_mean'].hist(bins=30)"
   ]
  },
  {
   "cell_type": "code",
   "execution_count": 170,
   "metadata": {},
   "outputs": [
    {
     "data": {
      "text/plain": [
       "<matplotlib.axes._subplots.AxesSubplot at 0x7fc803256160>"
      ]
     },
     "execution_count": 170,
     "metadata": {},
     "output_type": "execute_result"
    },
    {
     "data": {
      "image/png": "[encoded data removed]",
      "text/plain": [
       "<Figure size 432x288 with 1 Axes>"
      ]
     },
     "metadata": {
      "needs_background": "light"
     },
     "output_type": "display_data"
    }
   ],
   "source": [
    "# What about without one-time purchasers?\n",
    "\n",
    "df_id_multiple = remove_one_time_purchasers(df_id)\n",
    "df_id_multiple['spending_shop_mean'].hist(bins=30)"
   ]
  },
  {
   "cell_type": "markdown",
   "metadata": {},
   "source": [
    "per month"
   ]
  },
  {
   "cell_type": "code",
   "execution_count": 171,
   "metadata": {},
   "outputs": [],
   "source": [
    "# We use the average_shopping_month extracted from the survey to get the spending for each month\n",
    "# From this data, we can then extract the 'family type'\n",
    "\n",
    "df_id['spending_month'] = df_id['spending_shop_mean'] * average_shopping_month"
   ]
  },
  {
   "cell_type": "code",
   "execution_count": 172,
   "metadata": {},
   "outputs": [
    {
     "data": {
      "text/plain": [
       "<matplotlib.axes._subplots.AxesSubplot at 0x7fc804f71700>"
      ]
     },
     "execution_count": 172,
     "metadata": {},
     "output_type": "execute_result"
    },
    {
     "data": {
      "image/png": "[encoded data removed]",
      "text/plain": [
       "<Figure size 432x288 with 1 Axes>"
      ]
     },
     "metadata": {
      "needs_background": "light"
     },
     "output_type": "display_data"
    }
   ],
   "source": [
    "sns.distplot(df_id['spending_month'])"
   ]
  },
  {
   "cell_type": "code",
   "execution_count": 173,
   "metadata": {},
   "outputs": [],
   "source": [
    "# We can use our Logistic Regressor classifier to predict the \"family type\" based on the monthly spending.\n",
    "\n",
    "df_id['family_type'] = clf.predict(df_id['spending_month'].to_numpy().reshape(-1,1))"
   ]
  },
  {
   "cell_type": "code",
   "execution_count": 174,
   "metadata": {},
   "outputs": [
    {
     "data": {
      "text/plain": [
       "single    40066\n",
       "family    13421\n",
       "couple    12570\n",
       "Name: family_type, dtype: int64"
      ]
     },
     "execution_count": 174,
     "metadata": {},
     "output_type": "execute_result"
    }
   ],
   "source": [
    "df_id['family_type'].value_counts()"
   ]
  },
  {
   "cell_type": "code",
   "execution_count": 175,
   "metadata": {},
   "outputs": [
    {
     "data": {
      "text/plain": [
       "<matplotlib.axes._subplots.AxesSubplot at 0x7fc803575970>"
      ]
     },
     "execution_count": 175,
     "metadata": {},
     "output_type": "execute_result"
    },
    {
     "data": {
      "image/png": "[encoded data removed]",
      "text/plain": [
       "<Figure size 432x288 with 1 Axes>"
      ]
     },
     "metadata": {
      "needs_background": "light"
     },
     "output_type": "display_data"
    }
   ],
   "source": [
    "# What about without one-time purchasers?\n",
    "\n",
    "df_id_multiple = remove_one_time_purchasers(df_id)\n",
    "sns.distplot(df_id_multiple['spending_month'])"
   ]
  },
  {
   "cell_type": "code",
   "execution_count": 176,
   "metadata": {},
   "outputs": [
    {
     "data": {
      "text/plain": [
       "single    15075\n",
       "couple     8631\n",
       "family     6925\n",
       "Name: family_type, dtype: int64"
      ]
     },
     "execution_count": 176,
     "metadata": {},
     "output_type": "execute_result"
    }
   ],
   "source": [
    "df_id_multiple['family_type'].value_counts()"
   ]
  },
  {
   "cell_type": "code",
   "execution_count": 177,
   "metadata": {},
   "outputs": [],
   "source": [
    "# Better to encode the categorical variable\n",
    "\n",
    "df_id = df_id.join(pd.get_dummies(df_id['family_type']))\n",
    "df_id.drop(['family_type'], axis=1, inplace=True)"
   ]
  },
  {
   "cell_type": "code",
   "execution_count": 178,
   "metadata": {},
   "outputs": [
    {
     "data": {
      "text/html": [
       "<div>\n",
       "<style scoped>\n",
       "    .dataframe tbody tr th:only-of-type {\n",
       "        vertical-align: middle;\n",
       "    }\n",
       "\n",
       "    .dataframe tbody tr th {\n",
       "        vertical-align: top;\n",
       "    }\n",
       "\n",
       "    .dataframe thead th {\n",
       "        text-align: right;\n",
       "    }\n",
       "</style>\n",
       "<table border=\"1\" class=\"dataframe\">\n",
       "  <thead>\n",
       "    <tr style=\"text-align: right;\">\n",
       "      <th></th>\n",
       "      <th>count</th>\n",
       "      <th>hour_mean</th>\n",
       "      <th>hour_var</th>\n",
       "      <th>unit_tot</th>\n",
       "      <th>animal_tot</th>\n",
       "      <th>bebe_tot</th>\n",
       "      <th>animal_perc</th>\n",
       "      <th>bebe_perc</th>\n",
       "      <th>animal</th>\n",
       "      <th>bebe</th>\n",
       "      <th>premium</th>\n",
       "      <th>cheap</th>\n",
       "      <th>high_carr_perc2</th>\n",
       "      <th>low_carr_perc2</th>\n",
       "      <th>n_unit_shop_mean</th>\n",
       "      <th>n_unit_shop_var</th>\n",
       "      <th>spending_shop_mean</th>\n",
       "      <th>spending_shop_var</th>\n",
       "      <th>spending_month</th>\n",
       "      <th>couple</th>\n",
       "      <th>family</th>\n",
       "      <th>single</th>\n",
       "    </tr>\n",
       "    <tr>\n",
       "      <th>customer</th>\n",
       "      <th></th>\n",
       "      <th></th>\n",
       "      <th></th>\n",
       "      <th></th>\n",
       "      <th></th>\n",
       "      <th></th>\n",
       "      <th></th>\n",
       "      <th></th>\n",
       "      <th></th>\n",
       "      <th></th>\n",
       "      <th></th>\n",
       "      <th></th>\n",
       "      <th></th>\n",
       "      <th></th>\n",
       "      <th></th>\n",
       "      <th></th>\n",
       "      <th></th>\n",
       "      <th></th>\n",
       "      <th></th>\n",
       "      <th></th>\n",
       "      <th></th>\n",
       "      <th></th>\n",
       "    </tr>\n",
       "  </thead>\n",
       "  <tbody>\n",
       "    <tr>\n",
       "      <th>77000001548</th>\n",
       "      <td>12.0</td>\n",
       "      <td>21.086667</td>\n",
       "      <td>2.240761</td>\n",
       "      <td>222</td>\n",
       "      <td>2.0</td>\n",
       "      <td>0.0</td>\n",
       "      <td>0.900901</td>\n",
       "      <td>0.000000</td>\n",
       "      <td>1</td>\n",
       "      <td>0</td>\n",
       "      <td>0</td>\n",
       "      <td>1</td>\n",
       "      <td>0.250000</td>\n",
       "      <td>0.750000</td>\n",
       "      <td>18.500000</td>\n",
       "      <td>628.636364</td>\n",
       "      <td>45.008333</td>\n",
       "      <td>2058.857652</td>\n",
       "      <td>214.833769</td>\n",
       "      <td>0</td>\n",
       "      <td>0</td>\n",
       "      <td>1</td>\n",
       "    </tr>\n",
       "    <tr>\n",
       "      <th>77000001680</th>\n",
       "      <td>15.0</td>\n",
       "      <td>16.844156</td>\n",
       "      <td>2.281822</td>\n",
       "      <td>403</td>\n",
       "      <td>1.0</td>\n",
       "      <td>4.0</td>\n",
       "      <td>0.248139</td>\n",
       "      <td>0.992556</td>\n",
       "      <td>1</td>\n",
       "      <td>1</td>\n",
       "      <td>0</td>\n",
       "      <td>1</td>\n",
       "      <td>0.000000</td>\n",
       "      <td>1.000000</td>\n",
       "      <td>26.866667</td>\n",
       "      <td>704.123810</td>\n",
       "      <td>74.526000</td>\n",
       "      <td>6517.127069</td>\n",
       "      <td>355.727490</td>\n",
       "      <td>1</td>\n",
       "      <td>0</td>\n",
       "      <td>0</td>\n",
       "    </tr>\n",
       "    <tr>\n",
       "      <th>77000002166</th>\n",
       "      <td>16.0</td>\n",
       "      <td>19.004329</td>\n",
       "      <td>2.752155</td>\n",
       "      <td>324</td>\n",
       "      <td>3.0</td>\n",
       "      <td>2.0</td>\n",
       "      <td>0.925926</td>\n",
       "      <td>0.617284</td>\n",
       "      <td>1</td>\n",
       "      <td>1</td>\n",
       "      <td>0</td>\n",
       "      <td>1</td>\n",
       "      <td>0.000000</td>\n",
       "      <td>1.000000</td>\n",
       "      <td>20.250000</td>\n",
       "      <td>911.000000</td>\n",
       "      <td>61.297500</td>\n",
       "      <td>9967.298087</td>\n",
       "      <td>292.585216</td>\n",
       "      <td>0</td>\n",
       "      <td>0</td>\n",
       "      <td>1</td>\n",
       "    </tr>\n",
       "    <tr>\n",
       "      <th>77000004744</th>\n",
       "      <td>7.0</td>\n",
       "      <td>11.636364</td>\n",
       "      <td>1.707013</td>\n",
       "      <td>259</td>\n",
       "      <td>1.0</td>\n",
       "      <td>2.0</td>\n",
       "      <td>0.386100</td>\n",
       "      <td>0.772201</td>\n",
       "      <td>1</td>\n",
       "      <td>1</td>\n",
       "      <td>0</td>\n",
       "      <td>0</td>\n",
       "      <td>0.136327</td>\n",
       "      <td>0.863673</td>\n",
       "      <td>37.000000</td>\n",
       "      <td>1064.000000</td>\n",
       "      <td>78.420000</td>\n",
       "      <td>5588.240100</td>\n",
       "      <td>374.314330</td>\n",
       "      <td>1</td>\n",
       "      <td>0</td>\n",
       "      <td>0</td>\n",
       "    </tr>\n",
       "    <tr>\n",
       "      <th>77000005496</th>\n",
       "      <td>1.0</td>\n",
       "      <td>23.000000</td>\n",
       "      <td>0.000000</td>\n",
       "      <td>5</td>\n",
       "      <td>0.0</td>\n",
       "      <td>0.0</td>\n",
       "      <td>0.000000</td>\n",
       "      <td>0.000000</td>\n",
       "      <td>0</td>\n",
       "      <td>0</td>\n",
       "      <td>0</td>\n",
       "      <td>0</td>\n",
       "      <td>0.136327</td>\n",
       "      <td>0.863673</td>\n",
       "      <td>5.000000</td>\n",
       "      <td>NaN</td>\n",
       "      <td>12.990000</td>\n",
       "      <td>NaN</td>\n",
       "      <td>62.003866</td>\n",
       "      <td>0</td>\n",
       "      <td>0</td>\n",
       "      <td>1</td>\n",
       "    </tr>\n",
       "  </tbody>\n",
       "</table>\n",
       "</div>"
      ],
      "text/plain": [
       "             count  hour_mean  hour_var  unit_tot  animal_tot  bebe_tot  \\\n",
       "customer                                                                  \n",
       "77000001548   12.0  21.086667  2.240761       222         2.0       0.0   \n",
       "77000001680   15.0  16.844156  2.281822       403         1.0       4.0   \n",
       "77000002166   16.0  19.004329  2.752155       324         3.0       2.0   \n",
       "77000004744    7.0  11.636364  1.707013       259         1.0       2.0   \n",
       "77000005496    1.0  23.000000  0.000000         5         0.0       0.0   \n",
       "\n",
       "             animal_perc  bebe_perc  animal  bebe  premium  cheap  \\\n",
       "customer                                                            \n",
       "77000001548     0.900901   0.000000       1     0        0      1   \n",
       "77000001680     0.248139   0.992556       1     1        0      1   \n",
       "77000002166     0.925926   0.617284       1     1        0      1   \n",
       "77000004744     0.386100   0.772201       1     1        0      0   \n",
       "77000005496     0.000000   0.000000       0     0        0      0   \n",
       "\n",
       "             high_carr_perc2  low_carr_perc2  n_unit_shop_mean  \\\n",
       "customer                                                         \n",
       "77000001548         0.250000        0.750000         18.500000   \n",
       "77000001680         0.000000        1.000000         26.866667   \n",
       "77000002166         0.000000        1.000000         20.250000   \n",
       "77000004744         0.136327        0.863673         37.000000   \n",
       "77000005496         0.136327        0.863673          5.000000   \n",
       "\n",
       "             n_unit_shop_var  spending_shop_mean  spending_shop_var  \\\n",
       "customer                                                              \n",
       "77000001548       628.636364           45.008333        2058.857652   \n",
       "77000001680       704.123810           74.526000        6517.127069   \n",
       "77000002166       911.000000           61.297500        9967.298087   \n",
       "77000004744      1064.000000           78.420000        5588.240100   \n",
       "77000005496              NaN           12.990000                NaN   \n",
       "\n",
       "             spending_month  couple  family  single  \n",
       "customer                                             \n",
       "77000001548      214.833769       0       0       1  \n",
       "77000001680      355.727490       1       0       0  \n",
       "77000002166      292.585216       0       0       1  \n",
       "77000004744      374.314330       1       0       0  \n",
       "77000005496       62.003866       0       0       1  "
      ]
     },
     "execution_count": 178,
     "metadata": {},
     "output_type": "execute_result"
    }
   ],
   "source": [
    "df_id.head()"
   ]
  },
  {
   "cell_type": "markdown",
   "metadata": {
    "id": "04vrNev8rx5q"
   },
   "source": [
    "total"
   ]
  },
  {
   "cell_type": "code",
   "execution_count": 179,
   "metadata": {},
   "outputs": [],
   "source": [
    "df_id['spending_tot'] = sum_by_shopping.groupby(by=['customer']).sum()['net_am']"
   ]
  },
  {
   "cell_type": "code",
   "execution_count": 180,
   "metadata": {
    "colab": {
     "base_uri": "https://localhost:8080/",
     "height": 255
    },
    "id": "SV2jLILIr2Y5",
    "outputId": "01952dd2-6692-4e7b-a04b-e017811fa44a"
   },
   "outputs": [
    {
     "data": {
      "text/html": [
       "<div>\n",
       "<style scoped>\n",
       "    .dataframe tbody tr th:only-of-type {\n",
       "        vertical-align: middle;\n",
       "    }\n",
       "\n",
       "    .dataframe tbody tr th {\n",
       "        vertical-align: top;\n",
       "    }\n",
       "\n",
       "    .dataframe thead th {\n",
       "        text-align: right;\n",
       "    }\n",
       "</style>\n",
       "<table border=\"1\" class=\"dataframe\">\n",
       "  <thead>\n",
       "    <tr style=\"text-align: right;\">\n",
       "      <th></th>\n",
       "      <th>count</th>\n",
       "      <th>hour_mean</th>\n",
       "      <th>hour_var</th>\n",
       "      <th>unit_tot</th>\n",
       "      <th>animal_tot</th>\n",
       "      <th>bebe_tot</th>\n",
       "      <th>animal_perc</th>\n",
       "      <th>bebe_perc</th>\n",
       "      <th>animal</th>\n",
       "      <th>bebe</th>\n",
       "      <th>premium</th>\n",
       "      <th>cheap</th>\n",
       "      <th>high_carr_perc2</th>\n",
       "      <th>low_carr_perc2</th>\n",
       "      <th>n_unit_shop_mean</th>\n",
       "      <th>n_unit_shop_var</th>\n",
       "      <th>spending_shop_mean</th>\n",
       "      <th>spending_shop_var</th>\n",
       "      <th>spending_month</th>\n",
       "      <th>couple</th>\n",
       "      <th>family</th>\n",
       "      <th>single</th>\n",
       "      <th>spending_tot</th>\n",
       "    </tr>\n",
       "    <tr>\n",
       "      <th>customer</th>\n",
       "      <th></th>\n",
       "      <th></th>\n",
       "      <th></th>\n",
       "      <th></th>\n",
       "      <th></th>\n",
       "      <th></th>\n",
       "      <th></th>\n",
       "      <th></th>\n",
       "      <th></th>\n",
       "      <th></th>\n",
       "      <th></th>\n",
       "      <th></th>\n",
       "      <th></th>\n",
       "      <th></th>\n",
       "      <th></th>\n",
       "      <th></th>\n",
       "      <th></th>\n",
       "      <th></th>\n",
       "      <th></th>\n",
       "      <th></th>\n",
       "      <th></th>\n",
       "      <th></th>\n",
       "      <th></th>\n",
       "    </tr>\n",
       "  </thead>\n",
       "  <tbody>\n",
       "    <tr>\n",
       "      <th>77000001548</th>\n",
       "      <td>12.0</td>\n",
       "      <td>21.086667</td>\n",
       "      <td>2.240761</td>\n",
       "      <td>222</td>\n",
       "      <td>2.0</td>\n",
       "      <td>0.0</td>\n",
       "      <td>0.900901</td>\n",
       "      <td>0.000000</td>\n",
       "      <td>1</td>\n",
       "      <td>0</td>\n",
       "      <td>0</td>\n",
       "      <td>1</td>\n",
       "      <td>0.250000</td>\n",
       "      <td>0.750000</td>\n",
       "      <td>18.500000</td>\n",
       "      <td>628.636364</td>\n",
       "      <td>45.008333</td>\n",
       "      <td>2058.857652</td>\n",
       "      <td>214.833769</td>\n",
       "      <td>0</td>\n",
       "      <td>0</td>\n",
       "      <td>1</td>\n",
       "      <td>540.10</td>\n",
       "    </tr>\n",
       "    <tr>\n",
       "      <th>77000001680</th>\n",
       "      <td>15.0</td>\n",
       "      <td>16.844156</td>\n",
       "      <td>2.281822</td>\n",
       "      <td>403</td>\n",
       "      <td>1.0</td>\n",
       "      <td>4.0</td>\n",
       "      <td>0.248139</td>\n",
       "      <td>0.992556</td>\n",
       "      <td>1</td>\n",
       "      <td>1</td>\n",
       "      <td>0</td>\n",
       "      <td>1</td>\n",
       "      <td>0.000000</td>\n",
       "      <td>1.000000</td>\n",
       "      <td>26.866667</td>\n",
       "      <td>704.123810</td>\n",
       "      <td>74.526000</td>\n",
       "      <td>6517.127069</td>\n",
       "      <td>355.727490</td>\n",
       "      <td>1</td>\n",
       "      <td>0</td>\n",
       "      <td>0</td>\n",
       "      <td>1117.89</td>\n",
       "    </tr>\n",
       "    <tr>\n",
       "      <th>77000002166</th>\n",
       "      <td>16.0</td>\n",
       "      <td>19.004329</td>\n",
       "      <td>2.752155</td>\n",
       "      <td>324</td>\n",
       "      <td>3.0</td>\n",
       "      <td>2.0</td>\n",
       "      <td>0.925926</td>\n",
       "      <td>0.617284</td>\n",
       "      <td>1</td>\n",
       "      <td>1</td>\n",
       "      <td>0</td>\n",
       "      <td>1</td>\n",
       "      <td>0.000000</td>\n",
       "      <td>1.000000</td>\n",
       "      <td>20.250000</td>\n",
       "      <td>911.000000</td>\n",
       "      <td>61.297500</td>\n",
       "      <td>9967.298087</td>\n",
       "      <td>292.585216</td>\n",
       "      <td>0</td>\n",
       "      <td>0</td>\n",
       "      <td>1</td>\n",
       "      <td>980.76</td>\n",
       "    </tr>\n",
       "    <tr>\n",
       "      <th>77000004744</th>\n",
       "      <td>7.0</td>\n",
       "      <td>11.636364</td>\n",
       "      <td>1.707013</td>\n",
       "      <td>259</td>\n",
       "      <td>1.0</td>\n",
       "      <td>2.0</td>\n",
       "      <td>0.386100</td>\n",
       "      <td>0.772201</td>\n",
       "      <td>1</td>\n",
       "      <td>1</td>\n",
       "      <td>0</td>\n",
       "      <td>0</td>\n",
       "      <td>0.136327</td>\n",
       "      <td>0.863673</td>\n",
       "      <td>37.000000</td>\n",
       "      <td>1064.000000</td>\n",
       "      <td>78.420000</td>\n",
       "      <td>5588.240100</td>\n",
       "      <td>374.314330</td>\n",
       "      <td>1</td>\n",
       "      <td>0</td>\n",
       "      <td>0</td>\n",
       "      <td>548.94</td>\n",
       "    </tr>\n",
       "    <tr>\n",
       "      <th>77000005496</th>\n",
       "      <td>1.0</td>\n",
       "      <td>23.000000</td>\n",
       "      <td>0.000000</td>\n",
       "      <td>5</td>\n",
       "      <td>0.0</td>\n",
       "      <td>0.0</td>\n",
       "      <td>0.000000</td>\n",
       "      <td>0.000000</td>\n",
       "      <td>0</td>\n",
       "      <td>0</td>\n",
       "      <td>0</td>\n",
       "      <td>0</td>\n",
       "      <td>0.136327</td>\n",
       "      <td>0.863673</td>\n",
       "      <td>5.000000</td>\n",
       "      <td>NaN</td>\n",
       "      <td>12.990000</td>\n",
       "      <td>NaN</td>\n",
       "      <td>62.003866</td>\n",
       "      <td>0</td>\n",
       "      <td>0</td>\n",
       "      <td>1</td>\n",
       "      <td>12.99</td>\n",
       "    </tr>\n",
       "  </tbody>\n",
       "</table>\n",
       "</div>"
      ],
      "text/plain": [
       "             count  hour_mean  hour_var  unit_tot  animal_tot  bebe_tot  \\\n",
       "customer                                                                  \n",
       "77000001548   12.0  21.086667  2.240761       222         2.0       0.0   \n",
       "77000001680   15.0  16.844156  2.281822       403         1.0       4.0   \n",
       "77000002166   16.0  19.004329  2.752155       324         3.0       2.0   \n",
       "77000004744    7.0  11.636364  1.707013       259         1.0       2.0   \n",
       "77000005496    1.0  23.000000  0.000000         5         0.0       0.0   \n",
       "\n",
       "             animal_perc  bebe_perc  animal  bebe  premium  cheap  \\\n",
       "customer                                                            \n",
       "77000001548     0.900901   0.000000       1     0        0      1   \n",
       "77000001680     0.248139   0.992556       1     1        0      1   \n",
       "77000002166     0.925926   0.617284       1     1        0      1   \n",
       "77000004744     0.386100   0.772201       1     1        0      0   \n",
       "77000005496     0.000000   0.000000       0     0        0      0   \n",
       "\n",
       "             high_carr_perc2  low_carr_perc2  n_unit_shop_mean  \\\n",
       "customer                                                         \n",
       "77000001548         0.250000        0.750000         18.500000   \n",
       "77000001680         0.000000        1.000000         26.866667   \n",
       "77000002166         0.000000        1.000000         20.250000   \n",
       "77000004744         0.136327        0.863673         37.000000   \n",
       "77000005496         0.136327        0.863673          5.000000   \n",
       "\n",
       "             n_unit_shop_var  spending_shop_mean  spending_shop_var  \\\n",
       "customer                                                              \n",
       "77000001548       628.636364           45.008333        2058.857652   \n",
       "77000001680       704.123810           74.526000        6517.127069   \n",
       "77000002166       911.000000           61.297500        9967.298087   \n",
       "77000004744      1064.000000           78.420000        5588.240100   \n",
       "77000005496              NaN           12.990000                NaN   \n",
       "\n",
       "             spending_month  couple  family  single  spending_tot  \n",
       "customer                                                           \n",
       "77000001548      214.833769       0       0       1        540.10  \n",
       "77000001680      355.727490       1       0       0       1117.89  \n",
       "77000002166      292.585216       0       0       1        980.76  \n",
       "77000004744      374.314330       1       0       0        548.94  \n",
       "77000005496       62.003866       0       0       1         12.99  "
      ]
     },
     "execution_count": 180,
     "metadata": {},
     "output_type": "execute_result"
    }
   ],
   "source": [
    "df_id.head()"
   ]
  },
  {
   "cell_type": "markdown",
   "metadata": {
    "id": "Bn93k874sPNo"
   },
   "source": [
    "### 'sex' of product distribution"
   ]
  },
  {
   "cell_type": "code",
   "execution_count": 181,
   "metadata": {
    "colab": {
     "base_uri": "https://localhost:8080/",
     "height": 204
    },
    "id": "J8L68oOiRbTR",
    "outputId": "968be7d9-9b20-4f50-9c87-a497aed612b9"
   },
   "outputs": [
    {
     "data": {
      "text/html": [
       "<div>\n",
       "<style scoped>\n",
       "    .dataframe tbody tr th:only-of-type {\n",
       "        vertical-align: middle;\n",
       "    }\n",
       "\n",
       "    .dataframe tbody tr th {\n",
       "        vertical-align: top;\n",
       "    }\n",
       "\n",
       "    .dataframe thead th {\n",
       "        text-align: right;\n",
       "    }\n",
       "</style>\n",
       "<table border=\"1\" class=\"dataframe\">\n",
       "  <thead>\n",
       "    <tr style=\"text-align: right;\">\n",
       "      <th></th>\n",
       "      <th>customer</th>\n",
       "      <th>_id</th>\n",
       "      <th>sex</th>\n",
       "    </tr>\n",
       "  </thead>\n",
       "  <tbody>\n",
       "    <tr>\n",
       "      <th>0</th>\n",
       "      <td>77021708271</td>\n",
       "      <td>1001</td>\n",
       "      <td>N</td>\n",
       "    </tr>\n",
       "    <tr>\n",
       "      <th>1</th>\n",
       "      <td>77021708271</td>\n",
       "      <td>1002</td>\n",
       "      <td>N</td>\n",
       "    </tr>\n",
       "    <tr>\n",
       "      <th>2</th>\n",
       "      <td>77021708271</td>\n",
       "      <td>1002</td>\n",
       "      <td>N</td>\n",
       "    </tr>\n",
       "    <tr>\n",
       "      <th>3</th>\n",
       "      <td>77021708271</td>\n",
       "      <td>1003</td>\n",
       "      <td>N</td>\n",
       "    </tr>\n",
       "    <tr>\n",
       "      <th>4</th>\n",
       "      <td>77021708271</td>\n",
       "      <td>1003</td>\n",
       "      <td>N</td>\n",
       "    </tr>\n",
       "  </tbody>\n",
       "</table>\n",
       "</div>"
      ],
      "text/plain": [
       "      customer   _id sex\n",
       "0  77021708271  1001   N\n",
       "1  77021708271  1002   N\n",
       "2  77021708271  1002   N\n",
       "3  77021708271  1003   N\n",
       "4  77021708271  1003   N"
      ]
     },
     "execution_count": 181,
     "metadata": {},
     "output_type": "execute_result"
    }
   ],
   "source": [
    "pt = df[['customer', '_id','sex']].copy()\n",
    "pt.head()"
   ]
  },
  {
   "cell_type": "code",
   "execution_count": 182,
   "metadata": {
    "id": "t9_RQYk3sPNp"
   },
   "outputs": [],
   "source": [
    "pt_single_index = pd.pivot_table(pt, index='customer', columns='sex', aggfunc=len, fill_value=0)"
   ]
  },
  {
   "cell_type": "code",
   "execution_count": 183,
   "metadata": {
    "id": "ZwKgaz89TRxV"
   },
   "outputs": [],
   "source": [
    "pt_single_index.reset_index(inplace=True)  "
   ]
  },
  {
   "cell_type": "code",
   "execution_count": 184,
   "metadata": {
    "colab": {
     "base_uri": "https://localhost:8080/"
    },
    "id": "nu1_BF5UTstG",
    "outputId": "761f6b42-f495-4ba0-954e-d2243ae7ec21"
   },
   "outputs": [
    {
     "data": {
      "text/plain": [
       "MultiIndex([('customer',  ''),\n",
       "            (     '_id', 'F'),\n",
       "            (     '_id', 'M'),\n",
       "            (     '_id', 'N')],\n",
       "           names=[None, 'sex'])"
      ]
     },
     "execution_count": 184,
     "metadata": {},
     "output_type": "execute_result"
    }
   ],
   "source": [
    "pt_single_index.columns"
   ]
  },
  {
   "cell_type": "code",
   "execution_count": 185,
   "metadata": {
    "colab": {
     "base_uri": "https://localhost:8080/",
     "height": 450
    },
    "id": "C1T7TlX7TCga",
    "outputId": "faa61dd7-b08c-4d23-cfaf-353a19549f29"
   },
   "outputs": [
    {
     "data": {
      "text/html": [
       "<div>\n",
       "<style scoped>\n",
       "    .dataframe tbody tr th:only-of-type {\n",
       "        vertical-align: middle;\n",
       "    }\n",
       "\n",
       "    .dataframe tbody tr th {\n",
       "        vertical-align: top;\n",
       "    }\n",
       "\n",
       "    .dataframe thead tr th {\n",
       "        text-align: left;\n",
       "    }\n",
       "</style>\n",
       "<table border=\"1\" class=\"dataframe\">\n",
       "  <thead>\n",
       "    <tr>\n",
       "      <th></th>\n",
       "      <th>customer</th>\n",
       "      <th colspan=\"3\" halign=\"left\">_id</th>\n",
       "    </tr>\n",
       "    <tr>\n",
       "      <th>sex</th>\n",
       "      <th></th>\n",
       "      <th>F</th>\n",
       "      <th>M</th>\n",
       "      <th>N</th>\n",
       "    </tr>\n",
       "  </thead>\n",
       "  <tbody>\n",
       "    <tr>\n",
       "      <th>1</th>\n",
       "      <td>77000001680</td>\n",
       "      <td>2</td>\n",
       "      <td>0</td>\n",
       "      <td>306</td>\n",
       "    </tr>\n",
       "    <tr>\n",
       "      <th>2</th>\n",
       "      <td>77000002166</td>\n",
       "      <td>3</td>\n",
       "      <td>0</td>\n",
       "      <td>228</td>\n",
       "    </tr>\n",
       "    <tr>\n",
       "      <th>10</th>\n",
       "      <td>77000018175</td>\n",
       "      <td>2</td>\n",
       "      <td>0</td>\n",
       "      <td>60</td>\n",
       "    </tr>\n",
       "    <tr>\n",
       "      <th>12</th>\n",
       "      <td>77000019784</td>\n",
       "      <td>6</td>\n",
       "      <td>0</td>\n",
       "      <td>243</td>\n",
       "    </tr>\n",
       "    <tr>\n",
       "      <th>13</th>\n",
       "      <td>77000021548</td>\n",
       "      <td>3</td>\n",
       "      <td>0</td>\n",
       "      <td>267</td>\n",
       "    </tr>\n",
       "    <tr>\n",
       "      <th>...</th>\n",
       "      <td>...</td>\n",
       "      <td>...</td>\n",
       "      <td>...</td>\n",
       "      <td>...</td>\n",
       "    </tr>\n",
       "    <tr>\n",
       "      <th>66030</th>\n",
       "      <td>77099969680</td>\n",
       "      <td>1</td>\n",
       "      <td>0</td>\n",
       "      <td>37</td>\n",
       "    </tr>\n",
       "    <tr>\n",
       "      <th>66031</th>\n",
       "      <td>77099970476</td>\n",
       "      <td>2</td>\n",
       "      <td>0</td>\n",
       "      <td>179</td>\n",
       "    </tr>\n",
       "    <tr>\n",
       "      <th>66041</th>\n",
       "      <td>77099982347</td>\n",
       "      <td>1</td>\n",
       "      <td>0</td>\n",
       "      <td>346</td>\n",
       "    </tr>\n",
       "    <tr>\n",
       "      <th>66050</th>\n",
       "      <td>77099989647</td>\n",
       "      <td>2</td>\n",
       "      <td>2</td>\n",
       "      <td>167</td>\n",
       "    </tr>\n",
       "    <tr>\n",
       "      <th>66053</th>\n",
       "      <td>77099995489</td>\n",
       "      <td>2</td>\n",
       "      <td>0</td>\n",
       "      <td>129</td>\n",
       "    </tr>\n",
       "  </tbody>\n",
       "</table>\n",
       "<p>21607 rows × 4 columns</p>\n",
       "</div>"
      ],
      "text/plain": [
       "          customer _id        \n",
       "sex                  F  M    N\n",
       "1      77000001680   2  0  306\n",
       "2      77000002166   3  0  228\n",
       "10     77000018175   2  0   60\n",
       "12     77000019784   6  0  243\n",
       "13     77000021548   3  0  267\n",
       "...            ...  .. ..  ...\n",
       "66030  77099969680   1  0   37\n",
       "66031  77099970476   2  0  179\n",
       "66041  77099982347   1  0  346\n",
       "66050  77099989647   2  2  167\n",
       "66053  77099995489   2  0  129\n",
       "\n",
       "[21607 rows x 4 columns]"
      ]
     },
     "execution_count": 185,
     "metadata": {},
     "output_type": "execute_result"
    }
   ],
   "source": [
    "pt_single_index[pt_single_index['_id']['F']!=0]"
   ]
  },
  {
   "cell_type": "markdown",
   "metadata": {
    "id": "4473yrZ7U-0a"
   },
   "source": [
    "Now let's make a dataframe out of the pivot table for easy manipulation"
   ]
  },
  {
   "cell_type": "code",
   "execution_count": 186,
   "metadata": {
    "id": "kb0mfbD0UzY_"
   },
   "outputs": [],
   "source": [
    "df_sex = pd.DataFrame([pt_single_index.customer, pt_single_index._id.N, pt_single_index._id.M, pt_single_index._id.F]).T"
   ]
  },
  {
   "cell_type": "code",
   "execution_count": 187,
   "metadata": {
    "colab": {
     "base_uri": "https://localhost:8080/",
     "height": 204
    },
    "id": "AxCdEJsAWg6L",
    "outputId": "56b423cd-64c6-4ec1-e9e1-84f9c3b8db7b"
   },
   "outputs": [
    {
     "data": {
      "text/html": [
       "<div>\n",
       "<style scoped>\n",
       "    .dataframe tbody tr th:only-of-type {\n",
       "        vertical-align: middle;\n",
       "    }\n",
       "\n",
       "    .dataframe tbody tr th {\n",
       "        vertical-align: top;\n",
       "    }\n",
       "\n",
       "    .dataframe thead th {\n",
       "        text-align: right;\n",
       "    }\n",
       "</style>\n",
       "<table border=\"1\" class=\"dataframe\">\n",
       "  <thead>\n",
       "    <tr style=\"text-align: right;\">\n",
       "      <th></th>\n",
       "      <th>customer</th>\n",
       "      <th>N</th>\n",
       "      <th>M</th>\n",
       "      <th>F</th>\n",
       "    </tr>\n",
       "  </thead>\n",
       "  <tbody>\n",
       "    <tr>\n",
       "      <th>0</th>\n",
       "      <td>77000001548</td>\n",
       "      <td>150</td>\n",
       "      <td>0</td>\n",
       "      <td>0</td>\n",
       "    </tr>\n",
       "    <tr>\n",
       "      <th>1</th>\n",
       "      <td>77000001680</td>\n",
       "      <td>306</td>\n",
       "      <td>0</td>\n",
       "      <td>2</td>\n",
       "    </tr>\n",
       "    <tr>\n",
       "      <th>2</th>\n",
       "      <td>77000002166</td>\n",
       "      <td>228</td>\n",
       "      <td>0</td>\n",
       "      <td>3</td>\n",
       "    </tr>\n",
       "    <tr>\n",
       "      <th>3</th>\n",
       "      <td>77000004744</td>\n",
       "      <td>176</td>\n",
       "      <td>0</td>\n",
       "      <td>0</td>\n",
       "    </tr>\n",
       "    <tr>\n",
       "      <th>4</th>\n",
       "      <td>77000005496</td>\n",
       "      <td>5</td>\n",
       "      <td>0</td>\n",
       "      <td>0</td>\n",
       "    </tr>\n",
       "  </tbody>\n",
       "</table>\n",
       "</div>"
      ],
      "text/plain": [
       "      customer    N  M  F\n",
       "0  77000001548  150  0  0\n",
       "1  77000001680  306  0  2\n",
       "2  77000002166  228  0  3\n",
       "3  77000004744  176  0  0\n",
       "4  77000005496    5  0  0"
      ]
     },
     "execution_count": 187,
     "metadata": {},
     "output_type": "execute_result"
    }
   ],
   "source": [
    "df_sex.head()"
   ]
  },
  {
   "cell_type": "markdown",
   "metadata": {
    "id": "5xLFyXFbXF0w"
   },
   "source": [
    "Let's merge all together with df_id"
   ]
  },
  {
   "cell_type": "code",
   "execution_count": 188,
   "metadata": {
    "colab": {
     "base_uri": "https://localhost:8080/"
    },
    "id": "AXOwLt88XEp0",
    "outputId": "be7d73e9-7962-45a8-e961-dcfa954cf847"
   },
   "outputs": [
    {
     "data": {
      "text/plain": [
       "(66057, 23)"
      ]
     },
     "execution_count": 188,
     "metadata": {},
     "output_type": "execute_result"
    }
   ],
   "source": [
    "df_id.shape"
   ]
  },
  {
   "cell_type": "code",
   "execution_count": 189,
   "metadata": {
    "colab": {
     "base_uri": "https://localhost:8080/"
    },
    "id": "nUH2Eyc9XWVu",
    "outputId": "71d860ea-e743-4215-c269-63e15ee5f6af"
   },
   "outputs": [
    {
     "data": {
      "text/plain": [
       "(66057, 4)"
      ]
     },
     "execution_count": 189,
     "metadata": {},
     "output_type": "execute_result"
    }
   ],
   "source": [
    "df_sex.shape"
   ]
  },
  {
   "cell_type": "code",
   "execution_count": 190,
   "metadata": {
    "id": "UDxOH3H3Y0To"
   },
   "outputs": [],
   "source": [
    "df_id = df_id.merge(df_sex, on='customer')"
   ]
  },
  {
   "cell_type": "code",
   "execution_count": 191,
   "metadata": {},
   "outputs": [],
   "source": [
    "# We can drop 'N' because we do not need it\n",
    "\n",
    "df_id.drop(['N'], axis=1, inplace=True)"
   ]
  },
  {
   "cell_type": "code",
   "execution_count": 192,
   "metadata": {
    "colab": {
     "base_uri": "https://localhost:8080/"
    },
    "id": "TQ0X-lZ5ZJ8V",
    "outputId": "d7986316-53c3-4eb4-e0a4-f2969f63209b"
   },
   "outputs": [
    {
     "data": {
      "text/plain": [
       "(66057, 26)"
      ]
     },
     "execution_count": 192,
     "metadata": {},
     "output_type": "execute_result"
    }
   ],
   "source": [
    "df_id.shape"
   ]
  },
  {
   "cell_type": "code",
   "execution_count": 193,
   "metadata": {
    "colab": {
     "base_uri": "https://localhost:8080/",
     "height": 224
    },
    "id": "r1RoRJtuZM7F",
    "outputId": "e9b82c14-cd25-4d21-b97f-fcbb0ee1b134"
   },
   "outputs": [
    {
     "data": {
      "text/html": [
       "<div>\n",
       "<style scoped>\n",
       "    .dataframe tbody tr th:only-of-type {\n",
       "        vertical-align: middle;\n",
       "    }\n",
       "\n",
       "    .dataframe tbody tr th {\n",
       "        vertical-align: top;\n",
       "    }\n",
       "\n",
       "    .dataframe thead th {\n",
       "        text-align: right;\n",
       "    }\n",
       "</style>\n",
       "<table border=\"1\" class=\"dataframe\">\n",
       "  <thead>\n",
       "    <tr style=\"text-align: right;\">\n",
       "      <th></th>\n",
       "      <th>customer</th>\n",
       "      <th>count</th>\n",
       "      <th>hour_mean</th>\n",
       "      <th>hour_var</th>\n",
       "      <th>unit_tot</th>\n",
       "      <th>animal_tot</th>\n",
       "      <th>bebe_tot</th>\n",
       "      <th>animal_perc</th>\n",
       "      <th>bebe_perc</th>\n",
       "      <th>animal</th>\n",
       "      <th>bebe</th>\n",
       "      <th>premium</th>\n",
       "      <th>cheap</th>\n",
       "      <th>high_carr_perc2</th>\n",
       "      <th>low_carr_perc2</th>\n",
       "      <th>n_unit_shop_mean</th>\n",
       "      <th>n_unit_shop_var</th>\n",
       "      <th>spending_shop_mean</th>\n",
       "      <th>spending_shop_var</th>\n",
       "      <th>spending_month</th>\n",
       "      <th>couple</th>\n",
       "      <th>family</th>\n",
       "      <th>single</th>\n",
       "      <th>spending_tot</th>\n",
       "      <th>M</th>\n",
       "      <th>F</th>\n",
       "    </tr>\n",
       "  </thead>\n",
       "  <tbody>\n",
       "    <tr>\n",
       "      <th>0</th>\n",
       "      <td>77000001548</td>\n",
       "      <td>12.0</td>\n",
       "      <td>21.086667</td>\n",
       "      <td>2.240761</td>\n",
       "      <td>222</td>\n",
       "      <td>2.0</td>\n",
       "      <td>0.0</td>\n",
       "      <td>0.900901</td>\n",
       "      <td>0.000000</td>\n",
       "      <td>1</td>\n",
       "      <td>0</td>\n",
       "      <td>0</td>\n",
       "      <td>1</td>\n",
       "      <td>0.250000</td>\n",
       "      <td>0.750000</td>\n",
       "      <td>18.500000</td>\n",
       "      <td>628.636364</td>\n",
       "      <td>45.008333</td>\n",
       "      <td>2058.857652</td>\n",
       "      <td>214.833769</td>\n",
       "      <td>0</td>\n",
       "      <td>0</td>\n",
       "      <td>1</td>\n",
       "      <td>540.10</td>\n",
       "      <td>0</td>\n",
       "      <td>0</td>\n",
       "    </tr>\n",
       "    <tr>\n",
       "      <th>1</th>\n",
       "      <td>77000001680</td>\n",
       "      <td>15.0</td>\n",
       "      <td>16.844156</td>\n",
       "      <td>2.281822</td>\n",
       "      <td>403</td>\n",
       "      <td>1.0</td>\n",
       "      <td>4.0</td>\n",
       "      <td>0.248139</td>\n",
       "      <td>0.992556</td>\n",
       "      <td>1</td>\n",
       "      <td>1</td>\n",
       "      <td>0</td>\n",
       "      <td>1</td>\n",
       "      <td>0.000000</td>\n",
       "      <td>1.000000</td>\n",
       "      <td>26.866667</td>\n",
       "      <td>704.123810</td>\n",
       "      <td>74.526000</td>\n",
       "      <td>6517.127069</td>\n",
       "      <td>355.727490</td>\n",
       "      <td>1</td>\n",
       "      <td>0</td>\n",
       "      <td>0</td>\n",
       "      <td>1117.89</td>\n",
       "      <td>0</td>\n",
       "      <td>2</td>\n",
       "    </tr>\n",
       "    <tr>\n",
       "      <th>2</th>\n",
       "      <td>77000002166</td>\n",
       "      <td>16.0</td>\n",
       "      <td>19.004329</td>\n",
       "      <td>2.752155</td>\n",
       "      <td>324</td>\n",
       "      <td>3.0</td>\n",
       "      <td>2.0</td>\n",
       "      <td>0.925926</td>\n",
       "      <td>0.617284</td>\n",
       "      <td>1</td>\n",
       "      <td>1</td>\n",
       "      <td>0</td>\n",
       "      <td>1</td>\n",
       "      <td>0.000000</td>\n",
       "      <td>1.000000</td>\n",
       "      <td>20.250000</td>\n",
       "      <td>911.000000</td>\n",
       "      <td>61.297500</td>\n",
       "      <td>9967.298087</td>\n",
       "      <td>292.585216</td>\n",
       "      <td>0</td>\n",
       "      <td>0</td>\n",
       "      <td>1</td>\n",
       "      <td>980.76</td>\n",
       "      <td>0</td>\n",
       "      <td>3</td>\n",
       "    </tr>\n",
       "    <tr>\n",
       "      <th>3</th>\n",
       "      <td>77000004744</td>\n",
       "      <td>7.0</td>\n",
       "      <td>11.636364</td>\n",
       "      <td>1.707013</td>\n",
       "      <td>259</td>\n",
       "      <td>1.0</td>\n",
       "      <td>2.0</td>\n",
       "      <td>0.386100</td>\n",
       "      <td>0.772201</td>\n",
       "      <td>1</td>\n",
       "      <td>1</td>\n",
       "      <td>0</td>\n",
       "      <td>0</td>\n",
       "      <td>0.136327</td>\n",
       "      <td>0.863673</td>\n",
       "      <td>37.000000</td>\n",
       "      <td>1064.000000</td>\n",
       "      <td>78.420000</td>\n",
       "      <td>5588.240100</td>\n",
       "      <td>374.314330</td>\n",
       "      <td>1</td>\n",
       "      <td>0</td>\n",
       "      <td>0</td>\n",
       "      <td>548.94</td>\n",
       "      <td>0</td>\n",
       "      <td>0</td>\n",
       "    </tr>\n",
       "    <tr>\n",
       "      <th>4</th>\n",
       "      <td>77000005496</td>\n",
       "      <td>1.0</td>\n",
       "      <td>23.000000</td>\n",
       "      <td>0.000000</td>\n",
       "      <td>5</td>\n",
       "      <td>0.0</td>\n",
       "      <td>0.0</td>\n",
       "      <td>0.000000</td>\n",
       "      <td>0.000000</td>\n",
       "      <td>0</td>\n",
       "      <td>0</td>\n",
       "      <td>0</td>\n",
       "      <td>0</td>\n",
       "      <td>0.136327</td>\n",
       "      <td>0.863673</td>\n",
       "      <td>5.000000</td>\n",
       "      <td>NaN</td>\n",
       "      <td>12.990000</td>\n",
       "      <td>NaN</td>\n",
       "      <td>62.003866</td>\n",
       "      <td>0</td>\n",
       "      <td>0</td>\n",
       "      <td>1</td>\n",
       "      <td>12.99</td>\n",
       "      <td>0</td>\n",
       "      <td>0</td>\n",
       "    </tr>\n",
       "  </tbody>\n",
       "</table>\n",
       "</div>"
      ],
      "text/plain": [
       "      customer  count  hour_mean  hour_var  unit_tot  animal_tot  bebe_tot  \\\n",
       "0  77000001548   12.0  21.086667  2.240761       222         2.0       0.0   \n",
       "1  77000001680   15.0  16.844156  2.281822       403         1.0       4.0   \n",
       "2  77000002166   16.0  19.004329  2.752155       324         3.0       2.0   \n",
       "3  77000004744    7.0  11.636364  1.707013       259         1.0       2.0   \n",
       "4  77000005496    1.0  23.000000  0.000000         5         0.0       0.0   \n",
       "\n",
       "   animal_perc  bebe_perc  animal  bebe  premium  cheap  high_carr_perc2  \\\n",
       "0     0.900901   0.000000       1     0        0      1         0.250000   \n",
       "1     0.248139   0.992556       1     1        0      1         0.000000   \n",
       "2     0.925926   0.617284       1     1        0      1         0.000000   \n",
       "3     0.386100   0.772201       1     1        0      0         0.136327   \n",
       "4     0.000000   0.000000       0     0        0      0         0.136327   \n",
       "\n",
       "   low_carr_perc2  n_unit_shop_mean  n_unit_shop_var  spending_shop_mean  \\\n",
       "0        0.750000         18.500000       628.636364           45.008333   \n",
       "1        1.000000         26.866667       704.123810           74.526000   \n",
       "2        1.000000         20.250000       911.000000           61.297500   \n",
       "3        0.863673         37.000000      1064.000000           78.420000   \n",
       "4        0.863673          5.000000              NaN           12.990000   \n",
       "\n",
       "   spending_shop_var  spending_month  couple  family  single  spending_tot  M  \\\n",
       "0        2058.857652      214.833769       0       0       1        540.10  0   \n",
       "1        6517.127069      355.727490       1       0       0       1117.89  0   \n",
       "2        9967.298087      292.585216       0       0       1        980.76  0   \n",
       "3        5588.240100      374.314330       1       0       0        548.94  0   \n",
       "4                NaN       62.003866       0       0       1         12.99  0   \n",
       "\n",
       "   F  \n",
       "0  0  \n",
       "1  2  \n",
       "2  3  \n",
       "3  0  \n",
       "4  0  "
      ]
     },
     "execution_count": 193,
     "metadata": {},
     "output_type": "execute_result"
    }
   ],
   "source": [
    "df_id.head()"
   ]
  },
  {
   "cell_type": "code",
   "execution_count": 194,
   "metadata": {
    "colab": {
     "base_uri": "https://localhost:8080/"
    },
    "id": "3m5xFVFjtI7_",
    "outputId": "e155bef4-90ad-4337-bcf8-a140b10bd0cb"
   },
   "outputs": [
    {
     "data": {
      "text/plain": [
       "(21607, 26)"
      ]
     },
     "execution_count": 194,
     "metadata": {},
     "output_type": "execute_result"
    }
   ],
   "source": [
    "df_id[df_id['F']!=0].shape"
   ]
  },
  {
   "cell_type": "code",
   "execution_count": 195,
   "metadata": {},
   "outputs": [
    {
     "data": {
      "text/plain": [
       "(7579, 26)"
      ]
     },
     "execution_count": 195,
     "metadata": {},
     "output_type": "execute_result"
    }
   ],
   "source": [
    "df_id[df_id['M']!=0].shape"
   ]
  },
  {
   "cell_type": "code",
   "execution_count": 196,
   "metadata": {},
   "outputs": [
    {
     "data": {
      "text/plain": [
       "customer                  0\n",
       "count                     0\n",
       "hour_mean                 0\n",
       "hour_var               3294\n",
       "unit_tot                  0\n",
       "animal_tot                0\n",
       "bebe_tot                  0\n",
       "animal_perc             124\n",
       "bebe_perc               124\n",
       "animal                    0\n",
       "bebe                      0\n",
       "premium                   0\n",
       "cheap                     0\n",
       "high_carr_perc2           0\n",
       "low_carr_perc2            0\n",
       "n_unit_shop_mean          0\n",
       "n_unit_shop_var       35426\n",
       "spending_shop_mean        0\n",
       "spending_shop_var     35426\n",
       "spending_month            0\n",
       "couple                    0\n",
       "family                    0\n",
       "single                    0\n",
       "spending_tot              0\n",
       "M                         0\n",
       "F                         0\n",
       "dtype: int64"
      ]
     },
     "execution_count": 196,
     "metadata": {},
     "output_type": "execute_result"
    }
   ],
   "source": [
    "# There are some null values in the dataset created so far.\n",
    "\n",
    "df_id.isnull().apply(lambda x: sum(x), axis=0)"
   ]
  },
  {
   "cell_type": "code",
   "execution_count": 197,
   "metadata": {},
   "outputs": [
    {
     "data": {
      "text/html": [
       "<div>\n",
       "<style scoped>\n",
       "    .dataframe tbody tr th:only-of-type {\n",
       "        vertical-align: middle;\n",
       "    }\n",
       "\n",
       "    .dataframe tbody tr th {\n",
       "        vertical-align: top;\n",
       "    }\n",
       "\n",
       "    .dataframe thead th {\n",
       "        text-align: right;\n",
       "    }\n",
       "</style>\n",
       "<table border=\"1\" class=\"dataframe\">\n",
       "  <thead>\n",
       "    <tr style=\"text-align: right;\">\n",
       "      <th></th>\n",
       "      <th>customer</th>\n",
       "      <th>count</th>\n",
       "      <th>hour_mean</th>\n",
       "      <th>hour_var</th>\n",
       "      <th>unit_tot</th>\n",
       "      <th>animal_tot</th>\n",
       "      <th>bebe_tot</th>\n",
       "      <th>animal_perc</th>\n",
       "      <th>bebe_perc</th>\n",
       "      <th>animal</th>\n",
       "      <th>bebe</th>\n",
       "      <th>premium</th>\n",
       "      <th>cheap</th>\n",
       "      <th>high_carr_perc2</th>\n",
       "      <th>low_carr_perc2</th>\n",
       "      <th>n_unit_shop_mean</th>\n",
       "      <th>n_unit_shop_var</th>\n",
       "      <th>spending_shop_mean</th>\n",
       "      <th>spending_shop_var</th>\n",
       "      <th>spending_month</th>\n",
       "      <th>couple</th>\n",
       "      <th>family</th>\n",
       "      <th>single</th>\n",
       "      <th>spending_tot</th>\n",
       "      <th>M</th>\n",
       "      <th>F</th>\n",
       "    </tr>\n",
       "  </thead>\n",
       "  <tbody>\n",
       "    <tr>\n",
       "      <th>1390</th>\n",
       "      <td>77001999276</td>\n",
       "      <td>1.0</td>\n",
       "      <td>10.0</td>\n",
       "      <td>NaN</td>\n",
       "      <td>0</td>\n",
       "      <td>0.0</td>\n",
       "      <td>0.0</td>\n",
       "      <td>NaN</td>\n",
       "      <td>NaN</td>\n",
       "      <td>0</td>\n",
       "      <td>0</td>\n",
       "      <td>0</td>\n",
       "      <td>0</td>\n",
       "      <td>0.136327</td>\n",
       "      <td>0.863673</td>\n",
       "      <td>0.0</td>\n",
       "      <td>NaN</td>\n",
       "      <td>0.0</td>\n",
       "      <td>NaN</td>\n",
       "      <td>0.0</td>\n",
       "      <td>0</td>\n",
       "      <td>0</td>\n",
       "      <td>1</td>\n",
       "      <td>0.0</td>\n",
       "      <td>0</td>\n",
       "      <td>0</td>\n",
       "    </tr>\n",
       "    <tr>\n",
       "      <th>1880</th>\n",
       "      <td>77002753608</td>\n",
       "      <td>1.0</td>\n",
       "      <td>19.0</td>\n",
       "      <td>NaN</td>\n",
       "      <td>0</td>\n",
       "      <td>0.0</td>\n",
       "      <td>0.0</td>\n",
       "      <td>NaN</td>\n",
       "      <td>NaN</td>\n",
       "      <td>0</td>\n",
       "      <td>0</td>\n",
       "      <td>0</td>\n",
       "      <td>0</td>\n",
       "      <td>0.136327</td>\n",
       "      <td>0.863673</td>\n",
       "      <td>0.0</td>\n",
       "      <td>NaN</td>\n",
       "      <td>0.0</td>\n",
       "      <td>NaN</td>\n",
       "      <td>0.0</td>\n",
       "      <td>0</td>\n",
       "      <td>0</td>\n",
       "      <td>1</td>\n",
       "      <td>0.0</td>\n",
       "      <td>0</td>\n",
       "      <td>0</td>\n",
       "    </tr>\n",
       "    <tr>\n",
       "      <th>1889</th>\n",
       "      <td>77002762730</td>\n",
       "      <td>1.0</td>\n",
       "      <td>14.0</td>\n",
       "      <td>NaN</td>\n",
       "      <td>0</td>\n",
       "      <td>0.0</td>\n",
       "      <td>0.0</td>\n",
       "      <td>NaN</td>\n",
       "      <td>NaN</td>\n",
       "      <td>0</td>\n",
       "      <td>0</td>\n",
       "      <td>0</td>\n",
       "      <td>0</td>\n",
       "      <td>0.136327</td>\n",
       "      <td>0.863673</td>\n",
       "      <td>0.0</td>\n",
       "      <td>NaN</td>\n",
       "      <td>0.0</td>\n",
       "      <td>NaN</td>\n",
       "      <td>0.0</td>\n",
       "      <td>0</td>\n",
       "      <td>0</td>\n",
       "      <td>1</td>\n",
       "      <td>0.0</td>\n",
       "      <td>0</td>\n",
       "      <td>0</td>\n",
       "    </tr>\n",
       "    <tr>\n",
       "      <th>2656</th>\n",
       "      <td>77003884134</td>\n",
       "      <td>1.0</td>\n",
       "      <td>9.0</td>\n",
       "      <td>NaN</td>\n",
       "      <td>0</td>\n",
       "      <td>0.0</td>\n",
       "      <td>0.0</td>\n",
       "      <td>NaN</td>\n",
       "      <td>NaN</td>\n",
       "      <td>0</td>\n",
       "      <td>0</td>\n",
       "      <td>0</td>\n",
       "      <td>0</td>\n",
       "      <td>0.136327</td>\n",
       "      <td>0.863673</td>\n",
       "      <td>0.0</td>\n",
       "      <td>NaN</td>\n",
       "      <td>0.0</td>\n",
       "      <td>NaN</td>\n",
       "      <td>0.0</td>\n",
       "      <td>0</td>\n",
       "      <td>0</td>\n",
       "      <td>1</td>\n",
       "      <td>0.0</td>\n",
       "      <td>0</td>\n",
       "      <td>0</td>\n",
       "    </tr>\n",
       "    <tr>\n",
       "      <th>2961</th>\n",
       "      <td>77004351998</td>\n",
       "      <td>1.0</td>\n",
       "      <td>12.0</td>\n",
       "      <td>NaN</td>\n",
       "      <td>0</td>\n",
       "      <td>0.0</td>\n",
       "      <td>0.0</td>\n",
       "      <td>NaN</td>\n",
       "      <td>NaN</td>\n",
       "      <td>0</td>\n",
       "      <td>0</td>\n",
       "      <td>0</td>\n",
       "      <td>0</td>\n",
       "      <td>0.136327</td>\n",
       "      <td>0.863673</td>\n",
       "      <td>0.0</td>\n",
       "      <td>NaN</td>\n",
       "      <td>0.0</td>\n",
       "      <td>NaN</td>\n",
       "      <td>0.0</td>\n",
       "      <td>0</td>\n",
       "      <td>0</td>\n",
       "      <td>1</td>\n",
       "      <td>0.0</td>\n",
       "      <td>0</td>\n",
       "      <td>0</td>\n",
       "    </tr>\n",
       "    <tr>\n",
       "      <th>...</th>\n",
       "      <td>...</td>\n",
       "      <td>...</td>\n",
       "      <td>...</td>\n",
       "      <td>...</td>\n",
       "      <td>...</td>\n",
       "      <td>...</td>\n",
       "      <td>...</td>\n",
       "      <td>...</td>\n",
       "      <td>...</td>\n",
       "      <td>...</td>\n",
       "      <td>...</td>\n",
       "      <td>...</td>\n",
       "      <td>...</td>\n",
       "      <td>...</td>\n",
       "      <td>...</td>\n",
       "      <td>...</td>\n",
       "      <td>...</td>\n",
       "      <td>...</td>\n",
       "      <td>...</td>\n",
       "      <td>...</td>\n",
       "      <td>...</td>\n",
       "      <td>...</td>\n",
       "      <td>...</td>\n",
       "      <td>...</td>\n",
       "      <td>...</td>\n",
       "      <td>...</td>\n",
       "    </tr>\n",
       "    <tr>\n",
       "      <th>65009</th>\n",
       "      <td>77098378200</td>\n",
       "      <td>1.0</td>\n",
       "      <td>13.0</td>\n",
       "      <td>NaN</td>\n",
       "      <td>0</td>\n",
       "      <td>0.0</td>\n",
       "      <td>0.0</td>\n",
       "      <td>NaN</td>\n",
       "      <td>NaN</td>\n",
       "      <td>0</td>\n",
       "      <td>0</td>\n",
       "      <td>0</td>\n",
       "      <td>0</td>\n",
       "      <td>0.136327</td>\n",
       "      <td>0.863673</td>\n",
       "      <td>0.0</td>\n",
       "      <td>NaN</td>\n",
       "      <td>0.0</td>\n",
       "      <td>NaN</td>\n",
       "      <td>0.0</td>\n",
       "      <td>0</td>\n",
       "      <td>0</td>\n",
       "      <td>1</td>\n",
       "      <td>0.0</td>\n",
       "      <td>0</td>\n",
       "      <td>0</td>\n",
       "    </tr>\n",
       "    <tr>\n",
       "      <th>65539</th>\n",
       "      <td>77099172206</td>\n",
       "      <td>1.0</td>\n",
       "      <td>12.0</td>\n",
       "      <td>NaN</td>\n",
       "      <td>0</td>\n",
       "      <td>0.0</td>\n",
       "      <td>0.0</td>\n",
       "      <td>NaN</td>\n",
       "      <td>NaN</td>\n",
       "      <td>0</td>\n",
       "      <td>0</td>\n",
       "      <td>0</td>\n",
       "      <td>0</td>\n",
       "      <td>0.136327</td>\n",
       "      <td>0.863673</td>\n",
       "      <td>0.0</td>\n",
       "      <td>NaN</td>\n",
       "      <td>0.0</td>\n",
       "      <td>NaN</td>\n",
       "      <td>0.0</td>\n",
       "      <td>0</td>\n",
       "      <td>0</td>\n",
       "      <td>1</td>\n",
       "      <td>0.0</td>\n",
       "      <td>0</td>\n",
       "      <td>0</td>\n",
       "    </tr>\n",
       "    <tr>\n",
       "      <th>65600</th>\n",
       "      <td>77099284730</td>\n",
       "      <td>1.0</td>\n",
       "      <td>20.0</td>\n",
       "      <td>NaN</td>\n",
       "      <td>0</td>\n",
       "      <td>0.0</td>\n",
       "      <td>0.0</td>\n",
       "      <td>NaN</td>\n",
       "      <td>NaN</td>\n",
       "      <td>0</td>\n",
       "      <td>0</td>\n",
       "      <td>0</td>\n",
       "      <td>0</td>\n",
       "      <td>0.136327</td>\n",
       "      <td>0.863673</td>\n",
       "      <td>0.0</td>\n",
       "      <td>NaN</td>\n",
       "      <td>0.0</td>\n",
       "      <td>NaN</td>\n",
       "      <td>0.0</td>\n",
       "      <td>0</td>\n",
       "      <td>0</td>\n",
       "      <td>1</td>\n",
       "      <td>0.0</td>\n",
       "      <td>0</td>\n",
       "      <td>0</td>\n",
       "    </tr>\n",
       "    <tr>\n",
       "      <th>65675</th>\n",
       "      <td>77099385026</td>\n",
       "      <td>1.0</td>\n",
       "      <td>11.0</td>\n",
       "      <td>NaN</td>\n",
       "      <td>0</td>\n",
       "      <td>0.0</td>\n",
       "      <td>0.0</td>\n",
       "      <td>NaN</td>\n",
       "      <td>NaN</td>\n",
       "      <td>0</td>\n",
       "      <td>0</td>\n",
       "      <td>0</td>\n",
       "      <td>0</td>\n",
       "      <td>0.136327</td>\n",
       "      <td>0.863673</td>\n",
       "      <td>0.0</td>\n",
       "      <td>NaN</td>\n",
       "      <td>0.0</td>\n",
       "      <td>NaN</td>\n",
       "      <td>0.0</td>\n",
       "      <td>0</td>\n",
       "      <td>0</td>\n",
       "      <td>1</td>\n",
       "      <td>0.0</td>\n",
       "      <td>0</td>\n",
       "      <td>0</td>\n",
       "    </tr>\n",
       "    <tr>\n",
       "      <th>65931</th>\n",
       "      <td>77099813420</td>\n",
       "      <td>1.0</td>\n",
       "      <td>11.0</td>\n",
       "      <td>NaN</td>\n",
       "      <td>0</td>\n",
       "      <td>0.0</td>\n",
       "      <td>0.0</td>\n",
       "      <td>NaN</td>\n",
       "      <td>NaN</td>\n",
       "      <td>0</td>\n",
       "      <td>0</td>\n",
       "      <td>0</td>\n",
       "      <td>0</td>\n",
       "      <td>0.136327</td>\n",
       "      <td>0.863673</td>\n",
       "      <td>0.0</td>\n",
       "      <td>NaN</td>\n",
       "      <td>0.0</td>\n",
       "      <td>NaN</td>\n",
       "      <td>0.0</td>\n",
       "      <td>0</td>\n",
       "      <td>0</td>\n",
       "      <td>1</td>\n",
       "      <td>0.0</td>\n",
       "      <td>0</td>\n",
       "      <td>0</td>\n",
       "    </tr>\n",
       "  </tbody>\n",
       "</table>\n",
       "<p>124 rows × 26 columns</p>\n",
       "</div>"
      ],
      "text/plain": [
       "          customer  count  hour_mean  hour_var  unit_tot  animal_tot  \\\n",
       "1390   77001999276    1.0       10.0       NaN         0         0.0   \n",
       "1880   77002753608    1.0       19.0       NaN         0         0.0   \n",
       "1889   77002762730    1.0       14.0       NaN         0         0.0   \n",
       "2656   77003884134    1.0        9.0       NaN         0         0.0   \n",
       "2961   77004351998    1.0       12.0       NaN         0         0.0   \n",
       "...            ...    ...        ...       ...       ...         ...   \n",
       "65009  77098378200    1.0       13.0       NaN         0         0.0   \n",
       "65539  77099172206    1.0       12.0       NaN         0         0.0   \n",
       "65600  77099284730    1.0       20.0       NaN         0         0.0   \n",
       "65675  77099385026    1.0       11.0       NaN         0         0.0   \n",
       "65931  77099813420    1.0       11.0       NaN         0         0.0   \n",
       "\n",
       "       bebe_tot  animal_perc  bebe_perc  animal  bebe  premium  cheap  \\\n",
       "1390        0.0          NaN        NaN       0     0        0      0   \n",
       "1880        0.0          NaN        NaN       0     0        0      0   \n",
       "1889        0.0          NaN        NaN       0     0        0      0   \n",
       "2656        0.0          NaN        NaN       0     0        0      0   \n",
       "2961        0.0          NaN        NaN       0     0        0      0   \n",
       "...         ...          ...        ...     ...   ...      ...    ...   \n",
       "65009       0.0          NaN        NaN       0     0        0      0   \n",
       "65539       0.0          NaN        NaN       0     0        0      0   \n",
       "65600       0.0          NaN        NaN       0     0        0      0   \n",
       "65675       0.0          NaN        NaN       0     0        0      0   \n",
       "65931       0.0          NaN        NaN       0     0        0      0   \n",
       "\n",
       "       high_carr_perc2  low_carr_perc2  n_unit_shop_mean  n_unit_shop_var  \\\n",
       "1390          0.136327        0.863673               0.0              NaN   \n",
       "1880          0.136327        0.863673               0.0              NaN   \n",
       "1889          0.136327        0.863673               0.0              NaN   \n",
       "2656          0.136327        0.863673               0.0              NaN   \n",
       "2961          0.136327        0.863673               0.0              NaN   \n",
       "...                ...             ...               ...              ...   \n",
       "65009         0.136327        0.863673               0.0              NaN   \n",
       "65539         0.136327        0.863673               0.0              NaN   \n",
       "65600         0.136327        0.863673               0.0              NaN   \n",
       "65675         0.136327        0.863673               0.0              NaN   \n",
       "65931         0.136327        0.863673               0.0              NaN   \n",
       "\n",
       "       spending_shop_mean  spending_shop_var  spending_month  couple  family  \\\n",
       "1390                  0.0                NaN             0.0       0       0   \n",
       "1880                  0.0                NaN             0.0       0       0   \n",
       "1889                  0.0                NaN             0.0       0       0   \n",
       "2656                  0.0                NaN             0.0       0       0   \n",
       "2961                  0.0                NaN             0.0       0       0   \n",
       "...                   ...                ...             ...     ...     ...   \n",
       "65009                 0.0                NaN             0.0       0       0   \n",
       "65539                 0.0                NaN             0.0       0       0   \n",
       "65600                 0.0                NaN             0.0       0       0   \n",
       "65675                 0.0                NaN             0.0       0       0   \n",
       "65931                 0.0                NaN             0.0       0       0   \n",
       "\n",
       "       single  spending_tot  M  F  \n",
       "1390        1           0.0  0  0  \n",
       "1880        1           0.0  0  0  \n",
       "1889        1           0.0  0  0  \n",
       "2656        1           0.0  0  0  \n",
       "2961        1           0.0  0  0  \n",
       "...       ...           ... .. ..  \n",
       "65009       1           0.0  0  0  \n",
       "65539       1           0.0  0  0  \n",
       "65600       1           0.0  0  0  \n",
       "65675       1           0.0  0  0  \n",
       "65931       1           0.0  0  0  \n",
       "\n",
       "[124 rows x 26 columns]"
      ]
     },
     "execution_count": 197,
     "metadata": {},
     "output_type": "execute_result"
    }
   ],
   "source": [
    "# For the animal and babe perc features, thete are some products in the original dataset which have total shopping units equal 0\n",
    "# This explains the division by 0 that results in NaN\n",
    "\n",
    "df_id[df_id['animal_perc'].isnull()]"
   ]
  },
  {
   "cell_type": "code",
   "execution_count": 198,
   "metadata": {},
   "outputs": [],
   "source": [
    "df_id.fillna(0, inplace=True)"
   ]
  },
  {
   "cell_type": "markdown",
   "metadata": {},
   "source": [
    "# Clustering"
   ]
  },
  {
   "cell_type": "code",
   "execution_count": 199,
   "metadata": {},
   "outputs": [],
   "source": [
    "from sklearn.cluster import KMeans\n",
    "from sklearn.decomposition import TruncatedSVD\n",
    "from sklearn.preprocessing import Normalizer\n",
    "from sklearn.pipeline import make_pipeline\n",
    "from sklearn.decomposition import LatentDirichletAllocation\n",
    "\n",
    "import matplotlib.pyplot as plt\n",
    "import seaborn as sns\n",
    "from mpl_toolkits.mplot3d import Axes3D"
   ]
  },
  {
   "cell_type": "code",
   "execution_count": 200,
   "metadata": {},
   "outputs": [],
   "source": [
    "# Step 1: remove customer ID\n",
    "\n",
    "df_clustering = df_id.drop(['customer'], axis=1)"
   ]
  },
  {
   "cell_type": "code",
   "execution_count": 201,
   "metadata": {},
   "outputs": [
    {
     "data": {
      "text/plain": [
       "Index(['customer', 'count', 'hour_mean', 'hour_var', 'unit_tot', 'animal_tot',\n",
       "       'bebe_tot', 'animal_perc', 'bebe_perc', 'animal', 'bebe', 'premium',\n",
       "       'cheap', 'high_carr_perc2', 'low_carr_perc2', 'n_unit_shop_mean',\n",
       "       'n_unit_shop_var', 'spending_shop_mean', 'spending_shop_var',\n",
       "       'spending_month', 'couple', 'family', 'single', 'spending_tot', 'M',\n",
       "       'F'],\n",
       "      dtype='object')"
      ]
     },
     "execution_count": 201,
     "metadata": {},
     "output_type": "execute_result"
    }
   ],
   "source": [
    "df_id.columns"
   ]
  },
  {
   "cell_type": "code",
   "execution_count": 202,
   "metadata": {},
   "outputs": [],
   "source": [
    "# Step 2: remove one-time shoppers\n",
    "\n",
    "df_clustering = remove_one_time_purchasers(df_clustering)"
   ]
  },
  {
   "cell_type": "code",
   "execution_count": 203,
   "metadata": {},
   "outputs": [],
   "source": [
    "# Step 3: after different experiment, we decided to keep these columns for the clustering\n",
    "\n",
    "clustering_cols = ['animal_perc', 'high_carr_perc2', 'low_carr_perc2', 'couple', 'family', 'single']\n",
    "df_clustering = df_clustering[clustering_cols]"
   ]
  },
  {
   "cell_type": "code",
   "execution_count": 204,
   "metadata": {},
   "outputs": [
    {
     "data": {
      "text/plain": [
       "(30631, 6)"
      ]
     },
     "execution_count": 204,
     "metadata": {},
     "output_type": "execute_result"
    }
   ],
   "source": [
    "df_clustering.shape"
   ]
  },
  {
   "cell_type": "code",
   "execution_count": 207,
   "metadata": {},
   "outputs": [],
   "source": [
    "from sklearn.preprocessing import StandardScaler\n",
    "\n",
    "# Why StandardScaler?\n",
    "# Because K-means uses distances between data points, \n",
    "# by scaling all the features we give to them the same level of importance\n",
    "\n",
    "scaler = StandardScaler()\n",
    "scaler.fit(df_clustering)\n",
    "df_clustering_scaled = scaler.transform(df_clustering)"
   ]
  },
  {
   "cell_type": "code",
   "execution_count": 208,
   "metadata": {},
   "outputs": [
    {
     "data": {
      "text/plain": [
       "array([[ 0.42302726,  0.50222752, -0.50222752, -0.62635308, -0.5404814 ,\n",
       "         1.0158283 ],\n",
       "       [-0.28926609, -0.61140581,  0.61140581,  1.5965436 , -0.5404814 ,\n",
       "        -0.98441833],\n",
       "       [ 0.45033455, -0.61140581,  0.61140581, -0.62635308, -0.5404814 ,\n",
       "         1.0158283 ],\n",
       "       ...,\n",
       "       [-0.56003513, -0.00413225,  0.00413225, -0.62635308, -0.5404814 ,\n",
       "         1.0158283 ],\n",
       "       [-0.00612688, -0.61140581,  0.61140581,  1.5965436 , -0.5404814 ,\n",
       "        -0.98441833],\n",
       "       [-0.0157961 ,  0.87343863, -0.87343863,  1.5965436 , -0.5404814 ,\n",
       "        -0.98441833]])"
      ]
     },
     "execution_count": 208,
     "metadata": {},
     "output_type": "execute_result"
    }
   ],
   "source": [
    "df_clustering_scaled"
   ]
  },
  {
   "cell_type": "code",
   "execution_count": 209,
   "metadata": {},
   "outputs": [
    {
     "name": "stderr",
     "output_type": "stream",
     "text": [
      "100%|██████████| 29/29 [00:20<00:00,  1.45it/s]\n"
     ]
    }
   ],
   "source": [
    "# TODO: remove uneccessary columns before clustering \n",
    "# What affects clustering?\n",
    "# How to improve clustering results?\n",
    "# Hierachical clustering???\n",
    "\n",
    "sum_of_squared_distances = []\n",
    "\n",
    "for k in tqdm(range(1,30)):\n",
    "    km = KMeans(n_clusters=k)\n",
    "    \n",
    "    km.fit(df_clustering_scaled)\n",
    "    sum_of_squared_distances.append(km.inertia_)"
   ]
  },
  {
   "cell_type": "code",
   "execution_count": 210,
   "metadata": {},
   "outputs": [
    {
     "data": {
      "image/png": "[encoded data removed]",
      "text/plain": [
       "<Figure size 432x288 with 1 Axes>"
      ]
     },
     "metadata": {
      "needs_background": "light"
     },
     "output_type": "display_data"
    }
   ],
   "source": [
    "x = range(1, len(sum_of_squared_distances)+1)\n",
    "plt.plot(x, sum_of_squared_distances, 'bx-')\n",
    "plt.xlabel('x')\n",
    "plt.ylabel('Sum_of_squared_distances')\n",
    "plt.title('Elbow Method For Optimal k')\n",
    "plt.show()"
   ]
  },
  {
   "cell_type": "code",
   "execution_count": 237,
   "metadata": {},
   "outputs": [
    {
     "data": {
      "text/plain": [
       "[183785.99999999948,\n",
       " 132811.1210712488,\n",
       " 91863.22354491797,\n",
       " 55884.073365186516,\n",
       " 45067.79995996613,\n",
       " 39610.41642976644,\n",
       " 34475.57813731641,\n",
       " 30453.60292664538,\n",
       " 25327.018696388994,\n",
       " 21770.945530675715,\n",
       " 19853.754916139962,\n",
       " 18273.679073822732,\n",
       " 15605.073061484667,\n",
       " 13881.055717883897,\n",
       " 12914.985867093948,\n",
       " 11285.23862384021,\n",
       " 10136.050578095157,\n",
       " 9325.365445987372,\n",
       " 8379.360951365872,\n",
       " 7827.84131190049,\n",
       " 7379.897792744193,\n",
       " 7061.1035731315615,\n",
       " 6646.8001826308655,\n",
       " 6384.095691646059,\n",
       " 5982.021251174774,\n",
       " 5690.545684796229,\n",
       " 5372.707569788033,\n",
       " 5089.556646057532,\n",
       " 4822.238849650725]"
      ]
     },
     "execution_count": 237,
     "metadata": {},
     "output_type": "execute_result"
    }
   ],
   "source": [
    "sum_of_squared_distances"
   ]
  },
  {
   "cell_type": "code",
   "execution_count": 211,
   "metadata": {},
   "outputs": [
    {
     "data": {
      "text/plain": [
       "KMeans(n_clusters=4)"
      ]
     },
     "execution_count": 211,
     "metadata": {},
     "output_type": "execute_result"
    }
   ],
   "source": [
    "n_clusters = 4\n",
    "km = KMeans(n_clusters=n_clusters)\n",
    "km.fit(df_clustering_scaled)"
   ]
  },
  {
   "cell_type": "code",
   "execution_count": 212,
   "metadata": {},
   "outputs": [],
   "source": [
    "from sklearn.decomposition import PCA\n",
    "from sklearn.pipeline import make_pipeline"
   ]
  },
  {
   "cell_type": "code",
   "execution_count": 213,
   "metadata": {},
   "outputs": [
    {
     "data": {
      "image/png": "[encoded data removed]",
      "text/plain": [
       "<Figure size 720x720 with 1 Axes>"
      ]
     },
     "metadata": {
      "needs_background": "light"
     },
     "output_type": "display_data"
    }
   ],
   "source": [
    "# TODO: make proper pipeline here\n",
    "\n",
    "SS1 = StandardScaler()\n",
    "SS2 = StandardScaler()\n",
    "pca = PCA(n_components=2)\n",
    "\n",
    "pca = make_pipeline(SS1, pca, SS2)\n",
    "\n",
    "X = df_clustering.copy()\n",
    "\n",
    "\n",
    "pca.fit(X)\n",
    "X_pca = pca.transform(X)\n",
    "\n",
    "fig, ax = plt.subplots(1,1,figsize=(10,10))\n",
    "\n",
    "\n",
    "x_vals_pca = X_pca[:,0]\n",
    "y_vals_pca = X_pca[:,1]\n",
    "\n",
    "ax.set_title('Pricipal Component Analysis')\n",
    "ax.scatter(x_vals_pca, y_vals_pca, c=km.labels_)\n",
    "plt.show()"
   ]
  },
  {
   "cell_type": "code",
   "execution_count": 214,
   "metadata": {},
   "outputs": [],
   "source": [
    "df_clustering_scaled = pd.DataFrame(df_clustering_scaled, columns=df_clustering.columns)"
   ]
  },
  {
   "cell_type": "code",
   "execution_count": 215,
   "metadata": {},
   "outputs": [],
   "source": [
    "df_clustering_scaled['cluster'] = km.labels_"
   ]
  },
  {
   "cell_type": "code",
   "execution_count": 216,
   "metadata": {},
   "outputs": [
    {
     "data": {
      "text/html": [
       "<div>\n",
       "<style scoped>\n",
       "    .dataframe tbody tr th:only-of-type {\n",
       "        vertical-align: middle;\n",
       "    }\n",
       "\n",
       "    .dataframe tbody tr th {\n",
       "        vertical-align: top;\n",
       "    }\n",
       "\n",
       "    .dataframe thead th {\n",
       "        text-align: right;\n",
       "    }\n",
       "</style>\n",
       "<table border=\"1\" class=\"dataframe\">\n",
       "  <thead>\n",
       "    <tr style=\"text-align: right;\">\n",
       "      <th></th>\n",
       "      <th>animal_perc</th>\n",
       "      <th>high_carr_perc2</th>\n",
       "      <th>low_carr_perc2</th>\n",
       "      <th>couple</th>\n",
       "      <th>family</th>\n",
       "      <th>single</th>\n",
       "      <th>cluster</th>\n",
       "    </tr>\n",
       "  </thead>\n",
       "  <tbody>\n",
       "    <tr>\n",
       "      <th>0</th>\n",
       "      <td>0.423027</td>\n",
       "      <td>0.502228</td>\n",
       "      <td>-0.502228</td>\n",
       "      <td>-0.626353</td>\n",
       "      <td>-0.540481</td>\n",
       "      <td>1.015828</td>\n",
       "      <td>0</td>\n",
       "    </tr>\n",
       "    <tr>\n",
       "      <th>1</th>\n",
       "      <td>-0.289266</td>\n",
       "      <td>-0.611406</td>\n",
       "      <td>0.611406</td>\n",
       "      <td>1.596544</td>\n",
       "      <td>-0.540481</td>\n",
       "      <td>-0.984418</td>\n",
       "      <td>1</td>\n",
       "    </tr>\n",
       "    <tr>\n",
       "      <th>2</th>\n",
       "      <td>0.450335</td>\n",
       "      <td>-0.611406</td>\n",
       "      <td>0.611406</td>\n",
       "      <td>-0.626353</td>\n",
       "      <td>-0.540481</td>\n",
       "      <td>1.015828</td>\n",
       "      <td>0</td>\n",
       "    </tr>\n",
       "    <tr>\n",
       "      <th>3</th>\n",
       "      <td>-0.138723</td>\n",
       "      <td>-0.004132</td>\n",
       "      <td>0.004132</td>\n",
       "      <td>1.596544</td>\n",
       "      <td>-0.540481</td>\n",
       "      <td>-0.984418</td>\n",
       "      <td>1</td>\n",
       "    </tr>\n",
       "    <tr>\n",
       "      <th>4</th>\n",
       "      <td>1.021413</td>\n",
       "      <td>-0.004132</td>\n",
       "      <td>0.004132</td>\n",
       "      <td>1.596544</td>\n",
       "      <td>-0.540481</td>\n",
       "      <td>-0.984418</td>\n",
       "      <td>1</td>\n",
       "    </tr>\n",
       "  </tbody>\n",
       "</table>\n",
       "</div>"
      ],
      "text/plain": [
       "   animal_perc  high_carr_perc2  low_carr_perc2    couple    family    single  \\\n",
       "0     0.423027         0.502228       -0.502228 -0.626353 -0.540481  1.015828   \n",
       "1    -0.289266        -0.611406        0.611406  1.596544 -0.540481 -0.984418   \n",
       "2     0.450335        -0.611406        0.611406 -0.626353 -0.540481  1.015828   \n",
       "3    -0.138723        -0.004132        0.004132  1.596544 -0.540481 -0.984418   \n",
       "4     1.021413        -0.004132        0.004132  1.596544 -0.540481 -0.984418   \n",
       "\n",
       "   cluster  \n",
       "0        0  \n",
       "1        1  \n",
       "2        0  \n",
       "3        1  \n",
       "4        1  "
      ]
     },
     "execution_count": 216,
     "metadata": {},
     "output_type": "execute_result"
    }
   ],
   "source": [
    "df_clustering_scaled.head()"
   ]
  },
  {
   "cell_type": "code",
   "execution_count": 219,
   "metadata": {},
   "outputs": [],
   "source": [
    "df_personas = df_clustering_scaled.groupby(by=['cluster']).mean()"
   ]
  },
  {
   "cell_type": "code",
   "execution_count": 220,
   "metadata": {},
   "outputs": [
    {
     "data": {
      "text/plain": [
       "Index(['animal_perc', 'high_carr_perc2', 'low_carr_perc2', 'couple', 'family',\n",
       "       'single'],\n",
       "      dtype='object')"
      ]
     },
     "execution_count": 220,
     "metadata": {},
     "output_type": "execute_result"
    }
   ],
   "source": [
    "df_personas.columns"
   ]
  },
  {
   "cell_type": "code",
   "execution_count": 221,
   "metadata": {},
   "outputs": [
    {
     "data": {
      "text/html": [
       "<div>\n",
       "<style scoped>\n",
       "    .dataframe tbody tr th:only-of-type {\n",
       "        vertical-align: middle;\n",
       "    }\n",
       "\n",
       "    .dataframe tbody tr th {\n",
       "        vertical-align: top;\n",
       "    }\n",
       "\n",
       "    .dataframe thead th {\n",
       "        text-align: right;\n",
       "    }\n",
       "</style>\n",
       "<table border=\"1\" class=\"dataframe\">\n",
       "  <thead>\n",
       "    <tr style=\"text-align: right;\">\n",
       "      <th></th>\n",
       "      <th>animal_perc</th>\n",
       "      <th>high_carr_perc2</th>\n",
       "      <th>low_carr_perc2</th>\n",
       "      <th>couple</th>\n",
       "      <th>family</th>\n",
       "      <th>single</th>\n",
       "    </tr>\n",
       "    <tr>\n",
       "      <th>cluster</th>\n",
       "      <th></th>\n",
       "      <th></th>\n",
       "      <th></th>\n",
       "      <th></th>\n",
       "      <th></th>\n",
       "      <th></th>\n",
       "    </tr>\n",
       "  </thead>\n",
       "  <tbody>\n",
       "    <tr>\n",
       "      <th>0</th>\n",
       "      <td>0.025834</td>\n",
       "      <td>-0.193378</td>\n",
       "      <td>0.193378</td>\n",
       "      <td>-0.626353</td>\n",
       "      <td>-0.540481</td>\n",
       "      <td>1.015828</td>\n",
       "    </tr>\n",
       "    <tr>\n",
       "      <th>1</th>\n",
       "      <td>-0.022377</td>\n",
       "      <td>-0.191949</td>\n",
       "      <td>0.191949</td>\n",
       "      <td>1.596544</td>\n",
       "      <td>-0.540481</td>\n",
       "      <td>-0.984418</td>\n",
       "    </tr>\n",
       "    <tr>\n",
       "      <th>2</th>\n",
       "      <td>-0.017794</td>\n",
       "      <td>3.554431</td>\n",
       "      <td>-3.554431</td>\n",
       "      <td>0.039063</td>\n",
       "      <td>0.037658</td>\n",
       "      <td>-0.066658</td>\n",
       "    </tr>\n",
       "    <tr>\n",
       "      <th>3</th>\n",
       "      <td>-0.024592</td>\n",
       "      <td>-0.166294</td>\n",
       "      <td>0.166294</td>\n",
       "      <td>-0.626353</td>\n",
       "      <td>1.850202</td>\n",
       "      <td>-0.984418</td>\n",
       "    </tr>\n",
       "  </tbody>\n",
       "</table>\n",
       "</div>"
      ],
      "text/plain": [
       "         animal_perc  high_carr_perc2  low_carr_perc2    couple    family  \\\n",
       "cluster                                                                     \n",
       "0           0.025834        -0.193378        0.193378 -0.626353 -0.540481   \n",
       "1          -0.022377        -0.191949        0.191949  1.596544 -0.540481   \n",
       "2          -0.017794         3.554431       -3.554431  0.039063  0.037658   \n",
       "3          -0.024592        -0.166294        0.166294 -0.626353  1.850202   \n",
       "\n",
       "           single  \n",
       "cluster            \n",
       "0        1.015828  \n",
       "1       -0.984418  \n",
       "2       -0.066658  \n",
       "3       -0.984418  "
      ]
     },
     "execution_count": 221,
     "metadata": {},
     "output_type": "execute_result"
    }
   ],
   "source": [
    "df_personas"
   ]
  },
  {
   "cell_type": "markdown",
   "metadata": {},
   "source": [
    "# Cluster-Insurance matching"
   ]
  },
  {
   "cell_type": "code",
   "execution_count": 222,
   "metadata": {},
   "outputs": [],
   "source": [
    "df_personas.columns = ['pets', 'high_income', 'low_income', 'couple', 'family', 'single']"
   ]
  },
  {
   "cell_type": "code",
   "execution_count": 223,
   "metadata": {},
   "outputs": [
    {
     "data": {
      "text/html": [
       "<div>\n",
       "<style scoped>\n",
       "    .dataframe tbody tr th:only-of-type {\n",
       "        vertical-align: middle;\n",
       "    }\n",
       "\n",
       "    .dataframe tbody tr th {\n",
       "        vertical-align: top;\n",
       "    }\n",
       "\n",
       "    .dataframe thead th {\n",
       "        text-align: right;\n",
       "    }\n",
       "</style>\n",
       "<table border=\"1\" class=\"dataframe\">\n",
       "  <thead>\n",
       "    <tr style=\"text-align: right;\">\n",
       "      <th></th>\n",
       "      <th>pets</th>\n",
       "      <th>high_income</th>\n",
       "      <th>low_income</th>\n",
       "      <th>couple</th>\n",
       "      <th>family</th>\n",
       "      <th>single</th>\n",
       "    </tr>\n",
       "    <tr>\n",
       "      <th>cluster</th>\n",
       "      <th></th>\n",
       "      <th></th>\n",
       "      <th></th>\n",
       "      <th></th>\n",
       "      <th></th>\n",
       "      <th></th>\n",
       "    </tr>\n",
       "  </thead>\n",
       "  <tbody>\n",
       "    <tr>\n",
       "      <th>0</th>\n",
       "      <td>0.025834</td>\n",
       "      <td>-0.193378</td>\n",
       "      <td>0.193378</td>\n",
       "      <td>-0.626353</td>\n",
       "      <td>-0.540481</td>\n",
       "      <td>1.015828</td>\n",
       "    </tr>\n",
       "    <tr>\n",
       "      <th>1</th>\n",
       "      <td>-0.022377</td>\n",
       "      <td>-0.191949</td>\n",
       "      <td>0.191949</td>\n",
       "      <td>1.596544</td>\n",
       "      <td>-0.540481</td>\n",
       "      <td>-0.984418</td>\n",
       "    </tr>\n",
       "    <tr>\n",
       "      <th>2</th>\n",
       "      <td>-0.017794</td>\n",
       "      <td>3.554431</td>\n",
       "      <td>-3.554431</td>\n",
       "      <td>0.039063</td>\n",
       "      <td>0.037658</td>\n",
       "      <td>-0.066658</td>\n",
       "    </tr>\n",
       "    <tr>\n",
       "      <th>3</th>\n",
       "      <td>-0.024592</td>\n",
       "      <td>-0.166294</td>\n",
       "      <td>0.166294</td>\n",
       "      <td>-0.626353</td>\n",
       "      <td>1.850202</td>\n",
       "      <td>-0.984418</td>\n",
       "    </tr>\n",
       "  </tbody>\n",
       "</table>\n",
       "</div>"
      ],
      "text/plain": [
       "             pets  high_income  low_income    couple    family    single\n",
       "cluster                                                                 \n",
       "0        0.025834    -0.193378    0.193378 -0.626353 -0.540481  1.015828\n",
       "1       -0.022377    -0.191949    0.191949  1.596544 -0.540481 -0.984418\n",
       "2       -0.017794     3.554431   -3.554431  0.039063  0.037658 -0.066658\n",
       "3       -0.024592    -0.166294    0.166294 -0.626353  1.850202 -0.984418"
      ]
     },
     "execution_count": 223,
     "metadata": {},
     "output_type": "execute_result"
    }
   ],
   "source": [
    "df_personas"
   ]
  },
  {
   "cell_type": "code",
   "execution_count": 236,
   "metadata": {},
   "outputs": [],
   "source": [
    "df_personas.to_csv('clustering.csv')"
   ]
  },
  {
   "cell_type": "code",
   "execution_count": 224,
   "metadata": {},
   "outputs": [],
   "source": [
    "total_insurance = [\n",
    "    'home', \n",
    "    'rent', \n",
    "    'damage', \n",
    "    'life', \n",
    "    'injury', \n",
    "    'self_sufficiency', \n",
    "    'liability', \n",
    "    'pets', \n",
    "    'transport',\n",
    "    'travel',\n",
    "    'loan',\n",
    "    'accumulation_plan',\n",
    "    'pension_fund',\n",
    "    'investment']"
   ]
  },
  {
   "cell_type": "code",
   "execution_count": 225,
   "metadata": {},
   "outputs": [],
   "source": [
    "# This is the result from the label testing resulting from the survey\n",
    "\n",
    "label_matching = {\n",
    "    'single': ['transport', 'pension_fund', 'investment'],\n",
    "    'couple': ['life', 'transport', 'travel', 'loan', 'accumulation_plan', 'pension_fund'],\n",
    "    'family': ['home', 'life', 'transport', 'accumulation_plan', 'pension_fund'],\n",
    "    'high_income': ['investment'],\n",
    "    'low_income': ['life', 'injury', 'transport', 'travel', 'accumulation_plan', 'pension_fund', 'investment'],\n",
    "    'pets': ['home', 'liability', 'pets']\n",
    "}"
   ]
  },
  {
   "cell_type": "code",
   "execution_count": 226,
   "metadata": {},
   "outputs": [],
   "source": [
    "computation_matrix = pd.DataFrame(index=total_insurance)\n",
    "df_cluster_matching = pd.DataFrame(index=total_insurance)"
   ]
  },
  {
   "cell_type": "code",
   "execution_count": 235,
   "metadata": {},
   "outputs": [
    {
     "name": "stdout",
     "output_type": "stream",
     "text": [
      "                     single    couple    family  high_income  low_income  \\\n",
      "home               0.000000  0.000000 -0.540481     0.000000    0.000000   \n",
      "rent               0.000000  0.000000  0.000000     0.000000    0.000000   \n",
      "damage             0.000000  0.000000  0.000000     0.000000    0.000000   \n",
      "life               0.000000 -0.626353 -0.540481     0.000000    0.193378   \n",
      "injury             0.000000  0.000000  0.000000     0.000000    0.193378   \n",
      "self_sufficiency   0.000000  0.000000  0.000000     0.000000    0.000000   \n",
      "liability          0.000000  0.000000  0.000000     0.000000    0.000000   \n",
      "pets               0.000000  0.000000  0.000000     0.000000    0.000000   \n",
      "transport          1.015828 -0.626353 -0.540481     0.000000    0.193378   \n",
      "travel             0.000000 -0.626353  0.000000     0.000000    0.193378   \n",
      "loan               0.000000 -0.626353  0.000000     0.000000    0.000000   \n",
      "accumulation_plan  0.000000 -0.626353 -0.540481     0.000000    0.193378   \n",
      "pension_fund       1.015828 -0.626353 -0.540481     0.000000    0.193378   \n",
      "investment         1.015828  0.000000  0.000000    -0.193378    0.193378   \n",
      "\n",
      "                       pets  \n",
      "home               0.025834  \n",
      "rent               0.000000  \n",
      "damage             0.000000  \n",
      "life               0.000000  \n",
      "injury             0.000000  \n",
      "self_sufficiency   0.000000  \n",
      "liability          0.025834  \n",
      "pets               0.025834  \n",
      "transport          0.000000  \n",
      "travel             0.000000  \n",
      "loan               0.000000  \n",
      "accumulation_plan  0.000000  \n",
      "pension_fund       0.000000  \n",
      "investment         0.000000  \n"
     ]
    }
   ],
   "source": [
    "for cluster in df_personas.index:\n",
    "    \n",
    "    for key in label_matching.keys():\n",
    "        computation_matrix.loc[label_matching[key],key] = df_personas.loc[cluster, key]\n",
    "    \n",
    "    if cluster == 0:\n",
    "        print(computation_matrix)\n",
    "        computation_matrix.to_csv('computational_matrix.csv')\n",
    "        \n",
    "    computation_matrix.fillna(0, inplace=True)\n",
    "    df_cluster_matching[str(cluster)] = computation_matrix.apply(lambda x: sum(x), axis=1)"
   ]
  },
  {
   "cell_type": "code",
   "execution_count": 233,
   "metadata": {},
   "outputs": [
    {
     "data": {
      "text/html": [
       "<div>\n",
       "<style scoped>\n",
       "    .dataframe tbody tr th:only-of-type {\n",
       "        vertical-align: middle;\n",
       "    }\n",
       "\n",
       "    .dataframe tbody tr th {\n",
       "        vertical-align: top;\n",
       "    }\n",
       "\n",
       "    .dataframe thead th {\n",
       "        text-align: right;\n",
       "    }\n",
       "</style>\n",
       "<table border=\"1\" class=\"dataframe\">\n",
       "  <thead>\n",
       "    <tr style=\"text-align: right;\">\n",
       "      <th></th>\n",
       "      <th>0</th>\n",
       "      <th>1</th>\n",
       "      <th>2</th>\n",
       "      <th>3</th>\n",
       "    </tr>\n",
       "  </thead>\n",
       "  <tbody>\n",
       "    <tr>\n",
       "      <th>home</th>\n",
       "      <td>-0.514647</td>\n",
       "      <td>-0.562858</td>\n",
       "      <td>0.019864</td>\n",
       "      <td>1.825610</td>\n",
       "    </tr>\n",
       "    <tr>\n",
       "      <th>rent</th>\n",
       "      <td>0.000000</td>\n",
       "      <td>0.000000</td>\n",
       "      <td>0.000000</td>\n",
       "      <td>0.000000</td>\n",
       "    </tr>\n",
       "    <tr>\n",
       "      <th>damage</th>\n",
       "      <td>0.000000</td>\n",
       "      <td>0.000000</td>\n",
       "      <td>0.000000</td>\n",
       "      <td>0.000000</td>\n",
       "    </tr>\n",
       "    <tr>\n",
       "      <th>life</th>\n",
       "      <td>-0.973456</td>\n",
       "      <td>1.248012</td>\n",
       "      <td>-3.477710</td>\n",
       "      <td>1.390143</td>\n",
       "    </tr>\n",
       "    <tr>\n",
       "      <th>injury</th>\n",
       "      <td>0.193378</td>\n",
       "      <td>0.191949</td>\n",
       "      <td>-3.554431</td>\n",
       "      <td>0.166294</td>\n",
       "    </tr>\n",
       "    <tr>\n",
       "      <th>self_sufficiency</th>\n",
       "      <td>0.000000</td>\n",
       "      <td>0.000000</td>\n",
       "      <td>0.000000</td>\n",
       "      <td>0.000000</td>\n",
       "    </tr>\n",
       "    <tr>\n",
       "      <th>liability</th>\n",
       "      <td>0.025834</td>\n",
       "      <td>-0.022377</td>\n",
       "      <td>-0.017794</td>\n",
       "      <td>-0.024592</td>\n",
       "    </tr>\n",
       "    <tr>\n",
       "      <th>pets</th>\n",
       "      <td>0.025834</td>\n",
       "      <td>-0.022377</td>\n",
       "      <td>-0.017794</td>\n",
       "      <td>-0.024592</td>\n",
       "    </tr>\n",
       "    <tr>\n",
       "      <th>transport</th>\n",
       "      <td>0.042372</td>\n",
       "      <td>0.263593</td>\n",
       "      <td>-3.544368</td>\n",
       "      <td>0.405725</td>\n",
       "    </tr>\n",
       "    <tr>\n",
       "      <th>travel</th>\n",
       "      <td>-0.432975</td>\n",
       "      <td>1.788493</td>\n",
       "      <td>-3.515368</td>\n",
       "      <td>-0.460060</td>\n",
       "    </tr>\n",
       "    <tr>\n",
       "      <th>loan</th>\n",
       "      <td>-0.626353</td>\n",
       "      <td>1.596544</td>\n",
       "      <td>0.039063</td>\n",
       "      <td>-0.626353</td>\n",
       "    </tr>\n",
       "    <tr>\n",
       "      <th>accumulation_plan</th>\n",
       "      <td>-0.973456</td>\n",
       "      <td>1.248012</td>\n",
       "      <td>-3.477710</td>\n",
       "      <td>1.390143</td>\n",
       "    </tr>\n",
       "    <tr>\n",
       "      <th>pension_fund</th>\n",
       "      <td>0.042372</td>\n",
       "      <td>0.263593</td>\n",
       "      <td>-3.544368</td>\n",
       "      <td>0.405725</td>\n",
       "    </tr>\n",
       "    <tr>\n",
       "      <th>investment</th>\n",
       "      <td>1.015828</td>\n",
       "      <td>-0.984418</td>\n",
       "      <td>-0.066658</td>\n",
       "      <td>-0.984418</td>\n",
       "    </tr>\n",
       "  </tbody>\n",
       "</table>\n",
       "</div>"
      ],
      "text/plain": [
       "                          0         1         2         3\n",
       "home              -0.514647 -0.562858  0.019864  1.825610\n",
       "rent               0.000000  0.000000  0.000000  0.000000\n",
       "damage             0.000000  0.000000  0.000000  0.000000\n",
       "life              -0.973456  1.248012 -3.477710  1.390143\n",
       "injury             0.193378  0.191949 -3.554431  0.166294\n",
       "self_sufficiency   0.000000  0.000000  0.000000  0.000000\n",
       "liability          0.025834 -0.022377 -0.017794 -0.024592\n",
       "pets               0.025834 -0.022377 -0.017794 -0.024592\n",
       "transport          0.042372  0.263593 -3.544368  0.405725\n",
       "travel            -0.432975  1.788493 -3.515368 -0.460060\n",
       "loan              -0.626353  1.596544  0.039063 -0.626353\n",
       "accumulation_plan -0.973456  1.248012 -3.477710  1.390143\n",
       "pension_fund       0.042372  0.263593 -3.544368  0.405725\n",
       "investment         1.015828 -0.984418 -0.066658 -0.984418"
      ]
     },
     "execution_count": 233,
     "metadata": {},
     "output_type": "execute_result"
    }
   ],
   "source": [
    "df_cluster_matching"
   ]
  },
  {
   "cell_type": "code",
   "execution_count": 232,
   "metadata": {},
   "outputs": [],
   "source": [
    "df_cluster_matching.to_csv('cluster_matching.csv')"
   ]
  },
  {
   "cell_type": "code",
   "execution_count": null,
   "metadata": {},
   "outputs": [],
   "source": []
  },
  {
   "cell_type": "code",
   "execution_count": null,
   "metadata": {},
   "outputs": [],
   "source": []
  }
 ],
 "metadata": {
  "colab": {
   "collapsed_sections": [
    "CqBt1q2-sPKf",
    "i65pO_issPKh"
   ],
   "name": "label_dataset.ipynb",
   "provenance": []
  },
  "kernelspec": {
   "display_name": "Python 3",
   "language": "python",
   "name": "python3"
  },
  "language_info": {
   "codemirror_mode": {
    "name": "ipython",
    "version": 3
   },
   "file_extension": ".py",
   "mimetype": "text/x-python",
   "name": "python",
   "nbconvert_exporter": "python",
   "pygments_lexer": "ipython3",
   "version": "3.8.3"
  }
 },
 "nbformat": 4,
 "nbformat_minor": 1
}
